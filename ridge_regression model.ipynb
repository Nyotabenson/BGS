{
 "cells": [
  {
   "cell_type": "code",
   "execution_count": 44,
   "id": "2a0dccc4",
   "metadata": {},
   "outputs": [],
   "source": [
    "import numpy as np\n",
    "import pandas as pd\n",
    "import matplotlib.pyplot as plt\n",
    "from sklearn.model_selection import train_test_split\n",
    "\n",
    "#Normalization\n",
    "from sklearn.preprocessing import StandardScaler\n",
    "\n",
    "#Models\n",
    "from sklearn.ensemble import RandomForestRegressor\n",
    "from sklearn.linear_model import Ridge, Lasso\n",
    "from sklearn.tree import DecisionTreeRegressor\n",
    "from sklearn.feature_selection import RFE\n",
    "\n",
    "#evaluation metrics\n",
    "from sklearn.metrics import mean_absolute_error, mean_squared_error, r2_score"
   ]
  },
  {
   "cell_type": "code",
   "execution_count": 6,
   "id": "4c6eae54",
   "metadata": {},
   "outputs": [],
   "source": [
    "import warnings\n",
    "warnings.filterwarnings('ignore')"
   ]
  },
  {
   "cell_type": "code",
   "execution_count": 7,
   "id": "b85f4513",
   "metadata": {},
   "outputs": [],
   "source": [
    "df = pd.read_csv(\"biogasdf_ready.csv\", parse_dates=['date'])\n",
    "df['Month'] = df['date'].dt.month\n",
    "df['Hour'] = pd.to_datetime(df['hour'], format='%H:%M:%S').dt.hour"
   ]
  },
  {
   "cell_type": "code",
   "execution_count": 8,
   "id": "9ff9a4b9",
   "metadata": {},
   "outputs": [],
   "source": [
    "bio1_phase0 = df[(df['bio_id'] == 1) & (df['phase_test'] == 0)].reset_index()\n",
    "bio1_phase1 = df[(df['bio_id'] == 1) & (df['phase_test'] == 1)].reset_index()\n",
    "bio1_phase2 = df[(df['bio_id'] == 1) & (df['phase_test'] == 2)].reset_index()\n",
    "bio1_phase3 = df[(df['bio_id'] == 1) & (df['phase_test'] == 3)].reset_index()\n",
    "bio2_phase0 = df[(df['bio_id'] == 2) & (df['phase_test'] == 0)].reset_index()\n",
    "bio2_phase1 = df[(df['bio_id'] == 2) & (df['phase_test'] == 1)].reset_index()\n",
    "bio2_phase2 = df[(df['bio_id'] == 2) & (df['phase_test'] == 2)].reset_index()\n",
    "bio2_phase3 = df[(df['bio_id'] == 2) & (df['phase_test'] == 3)].reset_index()"
   ]
  },
  {
   "cell_type": "code",
   "execution_count": 9,
   "id": "611bffe1",
   "metadata": {},
   "outputs": [
    {
     "data": {
      "text/plain": [
       "(5109, 14)"
      ]
     },
     "execution_count": 9,
     "metadata": {},
     "output_type": "execute_result"
    }
   ],
   "source": [
    "bio1_phase0.shape"
   ]
  },
  {
   "cell_type": "code",
   "execution_count": 10,
   "id": "44ff7499",
   "metadata": {},
   "outputs": [
    {
     "data": {
      "text/plain": [
       "(0, 14)"
      ]
     },
     "execution_count": 10,
     "metadata": {},
     "output_type": "execute_result"
    }
   ],
   "source": [
    "bio2_phase0.shape"
   ]
  },
  {
   "cell_type": "code",
   "execution_count": 11,
   "id": "b06af3ad",
   "metadata": {},
   "outputs": [
    {
     "data": {
      "text/plain": [
       "(10875, 14)"
      ]
     },
     "execution_count": 11,
     "metadata": {},
     "output_type": "execute_result"
    }
   ],
   "source": [
    "bio1_phase1.shape"
   ]
  },
  {
   "cell_type": "code",
   "execution_count": 12,
   "id": "42e14772",
   "metadata": {},
   "outputs": [
    {
     "data": {
      "text/plain": [
       "(10875, 14)"
      ]
     },
     "execution_count": 12,
     "metadata": {},
     "output_type": "execute_result"
    }
   ],
   "source": [
    "bio2_phase1.shape"
   ]
  },
  {
   "cell_type": "code",
   "execution_count": 13,
   "id": "6708e28a",
   "metadata": {},
   "outputs": [
    {
     "data": {
      "text/plain": [
       "(4919, 14)"
      ]
     },
     "execution_count": 13,
     "metadata": {},
     "output_type": "execute_result"
    }
   ],
   "source": [
    "bio1_phase2.shape"
   ]
  },
  {
   "cell_type": "code",
   "execution_count": 14,
   "id": "1453a7fe",
   "metadata": {},
   "outputs": [
    {
     "data": {
      "text/plain": [
       "(4919, 14)"
      ]
     },
     "execution_count": 14,
     "metadata": {},
     "output_type": "execute_result"
    }
   ],
   "source": [
    "bio2_phase2.shape"
   ]
  },
  {
   "cell_type": "code",
   "execution_count": 15,
   "id": "f7f813dc",
   "metadata": {},
   "outputs": [
    {
     "data": {
      "text/plain": [
       "(3653, 14)"
      ]
     },
     "execution_count": 15,
     "metadata": {},
     "output_type": "execute_result"
    }
   ],
   "source": [
    "bio1_phase3.shape"
   ]
  },
  {
   "cell_type": "code",
   "execution_count": 16,
   "id": "909c920f",
   "metadata": {},
   "outputs": [
    {
     "data": {
      "text/plain": [
       "(3653, 14)"
      ]
     },
     "execution_count": 16,
     "metadata": {},
     "output_type": "execute_result"
    }
   ],
   "source": [
    "bio2_phase3.shape"
   ]
  },
  {
   "cell_type": "code",
   "execution_count": 17,
   "id": "1f7cd9fd",
   "metadata": {},
   "outputs": [],
   "source": [
    "# using bio1_phase1\n",
    "data = bio1_phase1.sort_values(by='date',ascending=True).reset_index()"
   ]
  },
  {
   "cell_type": "code",
   "execution_count": 18,
   "id": "761d854e",
   "metadata": {},
   "outputs": [],
   "source": [
    "data_last_days = data[(data['date'] == '2022-02-28')]"
   ]
  },
  {
   "cell_type": "code",
   "execution_count": 19,
   "id": "5ac3cecf",
   "metadata": {},
   "outputs": [],
   "source": [
    "data_last_days_hour = data.sort_values(by=\"Hour\", ascending=True)"
   ]
  },
  {
   "cell_type": "code",
   "execution_count": 20,
   "id": "268a684d",
   "metadata": {},
   "outputs": [],
   "source": [
    "data_hourly_group = data_last_days_hour.groupby(\"Hour\").mean().reset_index()\n",
    "data_hourly_group = data_hourly_group.drop(columns=[\"level_0\",\"index\",\"bio_id\", \"phase_test\",\"Month\"], axis=1)"
   ]
  },
  {
   "cell_type": "code",
   "execution_count": 21,
   "id": "ac5d9b82",
   "metadata": {},
   "outputs": [
    {
     "data": {
      "text/html": [
       "<div>\n",
       "<style scoped>\n",
       "    .dataframe tbody tr th:only-of-type {\n",
       "        vertical-align: middle;\n",
       "    }\n",
       "\n",
       "    .dataframe tbody tr th {\n",
       "        vertical-align: top;\n",
       "    }\n",
       "\n",
       "    .dataframe thead th {\n",
       "        text-align: right;\n",
       "    }\n",
       "</style>\n",
       "<table border=\"1\" class=\"dataframe\">\n",
       "  <thead>\n",
       "    <tr style=\"text-align: right;\">\n",
       "      <th></th>\n",
       "      <th>Hour</th>\n",
       "      <th>fluid_temp</th>\n",
       "      <th>ground_temp</th>\n",
       "      <th>air_umidity</th>\n",
       "      <th>air_temp</th>\n",
       "      <th>gas_umidity</th>\n",
       "      <th>gas_temp</th>\n",
       "      <th>dm3_gas</th>\n",
       "    </tr>\n",
       "  </thead>\n",
       "  <tbody>\n",
       "    <tr>\n",
       "      <th>15</th>\n",
       "      <td>15</td>\n",
       "      <td>21.709251</td>\n",
       "      <td>13.78591</td>\n",
       "      <td>57.623126</td>\n",
       "      <td>30.607709</td>\n",
       "      <td>81.165745</td>\n",
       "      <td>36.150532</td>\n",
       "      <td>0.000128</td>\n",
       "    </tr>\n",
       "  </tbody>\n",
       "</table>\n",
       "</div>"
      ],
      "text/plain": [
       "    Hour  fluid_temp  ground_temp  air_umidity   air_temp  gas_umidity  \\\n",
       "15    15   21.709251     13.78591    57.623126  30.607709    81.165745   \n",
       "\n",
       "     gas_temp   dm3_gas  \n",
       "15  36.150532  0.000128  "
      ]
     },
     "execution_count": 21,
     "metadata": {},
     "output_type": "execute_result"
    }
   ],
   "source": [
    "data_hourly_group.sample()"
   ]
  },
  {
   "cell_type": "code",
   "execution_count": 22,
   "id": "877a3aea",
   "metadata": {},
   "outputs": [],
   "source": [
    "# creating lags for the last 24hrs\n",
    "data_columns = ['gas_temp', 'gas_umidity',\"air_temp\",\"ground_temp\", \"fluid_temp\"]\n",
    "lags = 24\n",
    "for feature in data_columns:\n",
    "    for lag in range(1, lags + 1):\n",
    "        data_hourly_group[f'{feature}_lag_{lag}'] = data_hourly_group[feature].shift(lag)"
   ]
  },
  {
   "cell_type": "code",
   "execution_count": 23,
   "id": "2649ad45",
   "metadata": {},
   "outputs": [],
   "source": [
    "data_hourly_grouped = data_hourly_group"
   ]
  },
  {
   "cell_type": "code",
   "execution_count": 24,
   "id": "3cebec96",
   "metadata": {},
   "outputs": [],
   "source": [
    "data_hourly_grouped = data_hourly_grouped.fillna(0)"
   ]
  },
  {
   "cell_type": "code",
   "execution_count": 86,
   "id": "9f5e4edc",
   "metadata": {},
   "outputs": [],
   "source": [
    "X = data_hourly_grouped\n",
    "\n",
    "y = data_hourly_group['dm3_gas']"
   ]
  },
  {
   "cell_type": "code",
   "execution_count": 87,
   "id": "d4827714",
   "metadata": {},
   "outputs": [
    {
     "data": {
      "text/plain": [
       "((19, 128), (5, 128), (19,), (5,))"
      ]
     },
     "execution_count": 87,
     "metadata": {},
     "output_type": "execute_result"
    }
   ],
   "source": [
    "X_train, X_test,y_train,  y_test = train_test_split(X, y, test_size=0.2, random_state=42)\n",
    "X_train.shape, X_test.shape,  y_train.shape, y_test.shape"
   ]
  },
  {
   "cell_type": "code",
   "execution_count": 69,
   "id": "3ca1733a",
   "metadata": {},
   "outputs": [],
   "source": [
    "scaler = StandardScaler()\n",
    "X_train_scaled = pd.DataFrame(scaler.fit_transform(X_train))\n",
    "X_test_scaled = pd.DataFrame(scaler.fit_transform(X_test))\n",
    "\n",
    "#filling missing values\n",
    "X_train_scaled_filled = X_train_scaled.fillna(0)\n",
    "X_test_scaled_filled = X_test_scaled.fillna(0)"
   ]
  },
  {
   "cell_type": "markdown",
   "id": "d82f94ab",
   "metadata": {},
   "source": [
    "<h1 style=\"font-size:3rem;color:blue;\">MODELS</h1>"
   ]
  },
  {
   "cell_type": "code",
   "execution_count": 28,
   "id": "71e3f418",
   "metadata": {},
   "outputs": [
    {
     "name": "stdout",
     "output_type": "stream",
     "text": [
      "RandomForestRegressor: 0.6545495338580327\n",
      "DecisionTreeRegressor: 0.2023202929667861\n",
      "Ridge: 0.9462254208143505\n",
      "Lasso: -0.011604796803907913\n"
     ]
    }
   ],
   "source": [
    "# iteratng through several models to get the best performing one.\n",
    "\n",
    "models = {\n",
    "    \"RandomForestRegressor\": RandomForestRegressor(),\n",
    "    \"DecisionTreeRegressor\": DecisionTreeRegressor(max_depth=3, random_state=42),\n",
    "    \"Ridge\": Ridge(alpha=1),\n",
    "    \"Lasso\": Lasso(alpha=1)\n",
    "}\n",
    "\n",
    "for name, model in models.items():\n",
    "    model.fit(X_train_scaled_filled, y_train)\n",
    "    print(f\"{name}: {model.score(X_test_scaled_filled, y_test)}\")"
   ]
  },
  {
   "cell_type": "markdown",
   "id": "4a6b264a",
   "metadata": {},
   "source": [
    "Ridge Regressor performes better"
   ]
  },
  {
   "cell_type": "markdown",
   "id": "f0cc51dd",
   "metadata": {},
   "source": [
    "<h1 style=\"font-size:2rem;color:blue;\">Grid Search</h1>"
   ]
  },
  {
   "cell_type": "markdown",
   "id": "aad0db3a",
   "metadata": {},
   "source": [
    "<h1 style=\"font-size:1.5rem;color:blue;\">1.1 ridge Regression</h1>"
   ]
  },
  {
   "cell_type": "code",
   "execution_count": 29,
   "id": "2ec3c9ac",
   "metadata": {},
   "outputs": [
    {
     "name": "stdout",
     "output_type": "stream",
     "text": [
      "Best model: Ridge(alpha=290, fit_intercept=False, solver='lsqr')\n",
      "Best score: -0.44731017058138733\n",
      "CPU times: total: 219 ms\n",
      "Wall time: 9.53 s\n"
     ]
    }
   ],
   "source": [
    "%%time\n",
    "\n",
    "from sklearn.model_selection import GridSearchCV\n",
    "\n",
    "parameters = {\"alpha\": [1, 10, 100, 290, 500],\n",
    "              \"fit_intercept\": [True, False],\n",
    "              \"solver\": ['svd', 'cholesky', 'lsqr', 'sparse_cg', 'sag', 'saga'], \n",
    "             }\n",
    "\n",
    "grid = GridSearchCV(estimator=Ridge(alpha=1), param_grid = parameters, cv = 2, n_jobs=-1)\n",
    "\n",
    "\n",
    "grid.fit(X_train_scaled_filled, y_train)\n",
    "\n",
    "best_model = grid.best_estimator_\n",
    "print(f\"Best model: {best_model}\")\n",
    "print(f\"Best score: {grid.best_score_}\")\n"
   ]
  },
  {
   "cell_type": "code",
   "execution_count": 30,
   "id": "5714aa4a",
   "metadata": {},
   "outputs": [
    {
     "data": {
      "text/plain": [
       "-0.6971308956875539"
      ]
     },
     "execution_count": 30,
     "metadata": {},
     "output_type": "execute_result"
    }
   ],
   "source": [
    "best_model.fit(X_train_scaled_filled, y_train)\n",
    "best_model.score(X_test_scaled_filled, y_test)"
   ]
  },
  {
   "cell_type": "markdown",
   "id": "425b0859",
   "metadata": {},
   "source": [
    "<h1 style=\"font-size:1.5rem;color:blue;\">2.1 Random forest Regressor</h1>"
   ]
  },
  {
   "cell_type": "code",
   "execution_count": 31,
   "id": "7acc4e4b",
   "metadata": {},
   "outputs": [
    {
     "name": "stdout",
     "output_type": "stream",
     "text": [
      "Best model: RandomForestRegressor(bootstrap=False, max_features='auto', n_estimators=10)\n",
      "Best score: 0.7753969296647641\n"
     ]
    }
   ],
   "source": [
    "para_grids = {\n",
    "            \"n_estimators\" : [10,50,100],\n",
    "            \"max_features\" : [\"auto\", \"log2\", \"sqrt\"],\n",
    "            \"bootstrap\"    : [True, False]\n",
    "        }\n",
    "\n",
    "estimator=RandomForestRegressor()\n",
    "\n",
    "grid = GridSearchCV(estimator, para_grids)\n",
    "\n",
    "\n",
    "grid.fit(X_train_scaled_filled, y_train)\n",
    "\n",
    "best_model = grid.best_estimator_\n",
    "print(f\"Best model: {best_model}\")\n",
    "print(f\"Best score: {grid.best_score_}\")"
   ]
  },
  {
   "cell_type": "markdown",
   "id": "70d6a88b",
   "metadata": {},
   "source": [
    "After gridsearching the model it performs worse"
   ]
  },
  {
   "cell_type": "code",
   "execution_count": null,
   "id": "1409d831",
   "metadata": {},
   "outputs": [],
   "source": []
  },
  {
   "cell_type": "code",
   "execution_count": null,
   "id": "44b22423",
   "metadata": {},
   "outputs": [],
   "source": []
  },
  {
   "cell_type": "code",
   "execution_count": null,
   "id": "1079a789",
   "metadata": {},
   "outputs": [],
   "source": []
  },
  {
   "cell_type": "code",
   "execution_count": null,
   "id": "4e3f1c94",
   "metadata": {},
   "outputs": [],
   "source": []
  },
  {
   "cell_type": "markdown",
   "id": "60d13cce",
   "metadata": {},
   "source": [
    "<h1 style=\"font-size:2.5rem;color:blue;\">RandomForest Regressor</h1>"
   ]
  },
  {
   "cell_type": "code",
   "execution_count": 32,
   "id": "c5f317c1",
   "metadata": {},
   "outputs": [],
   "source": [
    "rfr = RandomForestRegressor()\n",
    "rfr_model = rfr.fit(X_train_scaled_filled, y_train)"
   ]
  },
  {
   "cell_type": "code",
   "execution_count": 33,
   "id": "4973716e",
   "metadata": {},
   "outputs": [
    {
     "data": {
      "text/plain": [
       "0.855098403486349"
      ]
     },
     "execution_count": 33,
     "metadata": {},
     "output_type": "execute_result"
    }
   ],
   "source": [
    "rfr_model.score(X_test_scaled_filled, y_test)"
   ]
  },
  {
   "cell_type": "code",
   "execution_count": 34,
   "id": "1be59f89",
   "metadata": {},
   "outputs": [],
   "source": [
    "preds = rfr_model.predict(X_train_scaled_filled)"
   ]
  },
  {
   "cell_type": "code",
   "execution_count": 35,
   "id": "9a8aee47",
   "metadata": {},
   "outputs": [],
   "source": [
    "modelled = pd.DataFrame({'preds' : preds,\n",
    "                        'Hour' : X_train.Hour,\n",
    "                        'dm3' : y_train.values}\n",
    "                )"
   ]
  },
  {
   "cell_type": "code",
   "execution_count": 36,
   "id": "19bce51a",
   "metadata": {},
   "outputs": [],
   "source": [
    "modelled = modelled.sort_values(by=\"Hour\", ascending=True)"
   ]
  },
  {
   "cell_type": "code",
   "execution_count": 37,
   "id": "64fd6abe",
   "metadata": {},
   "outputs": [
    {
     "data": {
      "image/png": "[encoded data removed]",
      "text/plain": [
       "<Figure size 1200x700 with 1 Axes>"
      ]
     },
     "metadata": {},
     "output_type": "display_data"
    }
   ],
   "source": [
    "#Visualization\n",
    "fig, ax = plt.subplots(figsize=(12,7))\n",
    "\n",
    "ax.plot(modelled.Hour, modelled.preds)\n",
    "ax.plot(modelled.Hour, modelled.dm3)\n",
    "ax.set_xticks(np.arange(0, 24, step=1))\n",
    "plt.show()"
   ]
  },
  {
   "cell_type": "markdown",
   "id": "fa048cb0",
   "metadata": {},
   "source": [
    "The Random Forest doesn't predict quite to be relied on"
   ]
  },
  {
   "cell_type": "markdown",
   "id": "ebdf772f",
   "metadata": {},
   "source": [
    "<h1 style=\"font-size:2.5rem;color:blue;\">Ridge Regression Model</h1>"
   ]
  },
  {
   "cell_type": "code",
   "execution_count": 70,
   "id": "2a2cc44a",
   "metadata": {},
   "outputs": [
    {
     "data": {
      "text/plain": [
       "0.9462254208143505"
      ]
     },
     "execution_count": 70,
     "metadata": {},
     "output_type": "execute_result"
    }
   ],
   "source": [
    "ridge = Ridge(alpha=1)\n",
    "ridge = ridge.fit(X_train_scaled_filled, y_train)\n",
    "ridge.score(X_test_scaled_filled, y_test)"
   ]
  },
  {
   "cell_type": "code",
   "execution_count": 71,
   "id": "dfe6505f",
   "metadata": {},
   "outputs": [],
   "source": [
    "#ridge predictions\n",
    "preds_ridge = ridge.predict(X_train_scaled_filled)"
   ]
  },
  {
   "cell_type": "code",
   "execution_count": 72,
   "id": "b47a6983",
   "metadata": {},
   "outputs": [],
   "source": [
    "modelled_ridge = pd.DataFrame({'preds' : preds_ridge,\n",
    "                        'Hour' : X_train.Hour,\n",
    "                        'dm3' : y_train.values}\n",
    "                )"
   ]
  },
  {
   "cell_type": "code",
   "execution_count": 73,
   "id": "923e69d8",
   "metadata": {},
   "outputs": [],
   "source": [
    "modelled_ridge = modelled_ridge.sort_values(by=\"Hour\", ascending=True)"
   ]
  },
  {
   "cell_type": "code",
   "execution_count": 49,
   "id": "ae9c0b82",
   "metadata": {},
   "outputs": [
    {
     "data": {
      "image/png": "[encoded data removed]",
      "text/plain": [
       "<Figure size 1200x700 with 1 Axes>"
      ]
     },
     "metadata": {},
     "output_type": "display_data"
    }
   ],
   "source": [
    "#Visualization\n",
    "fig, ax = plt.subplots(figsize=(12,7))\n",
    "\n",
    "ax.plot(modelled_ridge.Hour, modelled_ridge.preds, label = \"Predictions\")\n",
    "ax.plot(modelled_ridge.Hour, modelled_ridge.dm3, label = \"Actual Values\")\n",
    "ax.set_xticks(np.arange(0, 24, step=1))\n",
    "ax.set_ylabel(\"gas volume\")\n",
    "ax.set_xlabel(\"Hours\")\n",
    "plt.title(\"Predicted vs Actual gas productions\")\n",
    "plt.legend()\n",
    "plt.show()"
   ]
  },
  {
   "cell_type": "markdown",
   "id": "23c12263",
   "metadata": {},
   "source": [
    "Ridge Model performed quite well"
   ]
  },
  {
   "cell_type": "code",
   "execution_count": null,
   "id": "eb8894b9",
   "metadata": {},
   "outputs": [],
   "source": []
  },
  {
   "cell_type": "markdown",
   "id": "efc80cdd",
   "metadata": {},
   "source": [
    "## Neural Network for Multi-Output Regression"
   ]
  },
  {
   "cell_type": "code",
   "execution_count": 138,
   "id": "2f581aba",
   "metadata": {},
   "outputs": [
    {
     "name": "stdout",
     "output_type": "stream",
     "text": [
      "0.8750513195991516\n"
     ]
    }
   ],
   "source": [
    "# mlp for multi-output regression\n",
    "from numpy import mean\n",
    "from numpy import std\n",
    "from sklearn.datasets import make_regression\n",
    "from sklearn.model_selection import RepeatedKFold\n",
    "from keras.models import Sequential\n",
    "from keras.layers import Dense\n",
    "\n",
    "# get the dataset\n",
    "X = data_hourly_grouped\n",
    "\n",
    "y = data_hourly_group['dm3_gas']\n",
    "\n",
    "model = Sequential()\n",
    "model.add(Dense(20, input_dim=X.shape[1], kernel_initializer='he_uniform', activation='relu'))\n",
    "model.add(Dense(len(y)))\n",
    "\n",
    "\n",
    "model.compile(loss='mae', optimizer='adam')\n",
    "    \n",
    " \n",
    "X_train, X_test,y_train,  y_test = train_test_split(X, y, test_size=0.2, random_state=42)\n",
    "scaler = StandardScaler()\n",
    "X_train_scaled = pd.DataFrame(scaler.fit_transform(X_train))\n",
    "X_test_scaled = pd.DataFrame(scaler.fit_transform(X_test))\n",
    "\n",
    "#filling missing values\n",
    "X_train_scaled_filled = X_train_scaled.fillna(0)\n",
    "X_test_scaled_filled = X_test_scaled.fillna(0)\n",
    "\n",
    "model.fit(X_train, y_train, verbose=0, epochs=100)\n",
    "\n",
    "\n",
    "\n",
    "mae = model.evaluate(X_test, y_test, verbose=0)\n",
    "print(mae)\n"
   ]
  },
  {
   "cell_type": "markdown",
   "id": "02a240a3",
   "metadata": {},
   "source": [
    "Sequential Model had a lower  score that of Ridge Regression model"
   ]
  },
  {
   "cell_type": "markdown",
   "id": "c19df595",
   "metadata": {},
   "source": [
    "<h1 style=\"font-size:2.5rem;color:maroon;\">Hyperparameter Tune Ridge Regression</h1>"
   ]
  },
  {
   "cell_type": "markdown",
   "id": "933471e0",
   "metadata": {},
   "source": [
    "<h1 style=\"font-size:2rem;color:purple;\">1.1 Feature Selection</h1>"
   ]
  },
  {
   "cell_type": "markdown",
   "id": "f2dad603",
   "metadata": {},
   "source": [
    "<h1 style=\"font-size:1.5rem;color:blue;\">1.1.0Recursive Feature Elimination</h1>"
   ]
  },
  {
   "cell_type": "code",
   "execution_count": 91,
   "id": "0355222c",
   "metadata": {},
   "outputs": [
    {
     "data": {
      "text/plain": [
       "Int64Index([0, 1, 2, 3, 4, 5, 6, 7, 8, 9], dtype='int64')"
      ]
     },
     "execution_count": 91,
     "metadata": {},
     "output_type": "execute_result"
    }
   ],
   "source": [
    "selected_features"
   ]
  },
  {
   "cell_type": "code",
   "execution_count": 94,
   "id": "e519ed35",
   "metadata": {},
   "outputs": [],
   "source": [
    "X = data_hourly_grouped\n",
    "\n",
    "y = data_hourly_group['dm3_gas']\n",
    "\n",
    "\n",
    "ridge = Ridge(alpha=1)\n",
    "rfe = RFE(ridge, n_features_to_select= 125)  \n",
    "rfe.fit(X, y)\n",
    "\n",
    "selected_features = X.columns[rfe.support_]\n",
    "rfe_data = X[selected_features]\n",
    "\n",
    "X_train, X_test,y_train,  y_test = train_test_split(rfe_data, y, test_size=0.2, random_state=42)\n",
    "scaler = StandardScaler()\n",
    "X_train_scaled = pd.DataFrame(scaler.fit_transform(X_train))\n",
    "X_test_scaled = pd.DataFrame(scaler.fit_transform(X_test))\n",
    "\n",
    "#filling missing values\n",
    "X_train_scaled_filled = X_train_scaled.fillna(0)\n",
    "X_test_scaled_filled = X_test_scaled.fillna(0)"
   ]
  },
  {
   "cell_type": "code",
   "execution_count": 77,
   "id": "9c74d314",
   "metadata": {},
   "outputs": [],
   "source": [
    "rfe_data = X[selected_features]"
   ]
  },
  {
   "cell_type": "code",
   "execution_count": 93,
   "id": "5a414cfd",
   "metadata": {},
   "outputs": [
    {
     "data": {
      "text/plain": [
       "((19, 125), (5, 125), (19,), (5,))"
      ]
     },
     "execution_count": 93,
     "metadata": {},
     "output_type": "execute_result"
    }
   ],
   "source": [
    "#X_train, X_test,y_train,  y_test = train_test_split(rfe_data, y, test_size=0.2, random_state=42)\n",
    "X_train.shape, X_test.shape,  y_train.shape, y_test.shape"
   ]
  },
  {
   "cell_type": "code",
   "execution_count": 121,
   "id": "112acea9",
   "metadata": {},
   "outputs": [],
   "source": [
    "scaler = StandardScaler()\n",
    "X_train_scaled = pd.DataFrame(scaler.fit_transform(X_train))\n",
    "X_test_scaled = pd.DataFrame(scaler.fit_transform(X_test))\n",
    "\n",
    "#filling missing values\n",
    "X_train_scaled_filled = X_train_scaled.fillna(0)\n",
    "X_test_scaled_filled = X_test_scaled.fillna(0)"
   ]
  },
  {
   "cell_type": "code",
   "execution_count": 95,
   "id": "d638d2f3",
   "metadata": {},
   "outputs": [
    {
     "data": {
      "text/plain": [
       "0.9462254208143506"
      ]
     },
     "execution_count": 95,
     "metadata": {},
     "output_type": "execute_result"
    }
   ],
   "source": [
    "ridge = Ridge(alpha=1)\n",
    "ridge = ridge.fit(X_train_scaled_filled, y_train)\n",
    "ridge.score(X_test_scaled_filled, y_test)"
   ]
  },
  {
   "cell_type": "code",
   "execution_count": 98,
   "id": "78d38f11",
   "metadata": {},
   "outputs": [],
   "source": [
    "#ridge predictions\n",
    "preds_ridge = ridge.predict(X_train_scaled_filled)"
   ]
  },
  {
   "cell_type": "code",
   "execution_count": 99,
   "id": "522db21e",
   "metadata": {},
   "outputs": [],
   "source": [
    "modelled_ridge = pd.DataFrame({'preds' : preds_ridge,\n",
    "                        'Hour' : X_trainn.Hour,\n",
    "                        'dm3' : y_train.values}\n",
    "                )"
   ]
  },
  {
   "cell_type": "code",
   "execution_count": 100,
   "id": "abbd9e03",
   "metadata": {},
   "outputs": [],
   "source": [
    "modelled_ridge = modelled_ridge.sort_values(by=\"Hour\", ascending=True)"
   ]
  },
  {
   "cell_type": "code",
   "execution_count": 101,
   "id": "6c0dfcda",
   "metadata": {},
   "outputs": [
    {
     "data": {
      "image/png": "[encoded data removed]",
      "text/plain": [
       "<Figure size 1200x700 with 1 Axes>"
      ]
     },
     "metadata": {},
     "output_type": "display_data"
    }
   ],
   "source": [
    "#Visualization\n",
    "fig, ax = plt.subplots(figsize=(12,7))\n",
    "\n",
    "ax.plot(modelled_ridge.Hour, modelled_ridge.preds, label = \"Predictions\")\n",
    "ax.plot(modelled_ridge.Hour, modelled_ridge.dm3, label = \"Actual Values\")\n",
    "ax.set_xticks(np.arange(0, 24, step=1))\n",
    "plt.legend()\n",
    "plt.show()"
   ]
  },
  {
   "cell_type": "markdown",
   "id": "e6a06bfe",
   "metadata": {},
   "source": []
  },
  {
   "cell_type": "code",
   "execution_count": null,
   "id": "637da979",
   "metadata": {},
   "outputs": [],
   "source": []
  },
  {
   "cell_type": "code",
   "execution_count": null,
   "id": "5c7bc70b",
   "metadata": {},
   "outputs": [],
   "source": []
  },
  {
   "cell_type": "code",
   "execution_count": null,
   "id": "800ac063",
   "metadata": {},
   "outputs": [],
   "source": []
  },
  {
   "cell_type": "markdown",
   "id": "61c121df",
   "metadata": {},
   "source": [
    "<h1 style=\"font-size:2.5rem;color:maroon;\">Creating  Input values</h1>"
   ]
  },
  {
   "cell_type": "code",
   "execution_count": null,
   "id": "3a82636e",
   "metadata": {},
   "outputs": [],
   "source": []
  },
  {
   "cell_type": "code",
   "execution_count": 118,
   "id": "df68458e",
   "metadata": {},
   "outputs": [
    {
     "name": "stdout",
     "output_type": "stream",
     "text": [
      "Gas Temperatures: 11\n",
      "gas humidity22\n",
      "gair_temp12\n",
      "gground_temp15\n",
      "fluid_temp23\n"
     ]
    }
   ],
   "source": [
    "gas_temp = float(input(\"Gas Temperatures: \"))\n",
    "gas_umidity = float(input(\"gas humidity\"))\n",
    "air_temp = float(input(\"gair_temp\"))\n",
    "ground_temp = float(input(\"gground_temp\"))\n",
    "fluid_temp = float(input(\"fluid_temp\"))"
   ]
  },
  {
   "cell_type": "markdown",
   "id": "4cb892fd",
   "metadata": {
    "scrolled": true
   },
   "source": [
    "# "
   ]
  },
  {
   "cell_type": "code",
   "execution_count": 119,
   "id": "f8469402",
   "metadata": {},
   "outputs": [],
   "source": [
    "inputs = pd.DataFrame({'gas_temp' : [gas_temp], 'gas_umidity' : [gas_umidity],  \"air_temp\"  : [air_temp], \"ground_temp\" : [ground_temp], \"fluid_temp\" : [fluid_temp] })"
   ]
  },
  {
   "cell_type": "code",
   "execution_count": 105,
   "id": "94f9d40c",
   "metadata": {},
   "outputs": [
    {
     "data": {
      "text/html": [
       "<div>\n",
       "<style scoped>\n",
       "    .dataframe tbody tr th:only-of-type {\n",
       "        vertical-align: middle;\n",
       "    }\n",
       "\n",
       "    .dataframe tbody tr th {\n",
       "        vertical-align: top;\n",
       "    }\n",
       "\n",
       "    .dataframe thead th {\n",
       "        text-align: right;\n",
       "    }\n",
       "</style>\n",
       "<table border=\"1\" class=\"dataframe\">\n",
       "  <thead>\n",
       "    <tr style=\"text-align: right;\">\n",
       "      <th></th>\n",
       "      <th>gas_temp</th>\n",
       "      <th>gas_umidity</th>\n",
       "      <th>air_temp</th>\n",
       "      <th>ground_temp</th>\n",
       "      <th>fluid_temp</th>\n",
       "    </tr>\n",
       "  </thead>\n",
       "  <tbody>\n",
       "    <tr>\n",
       "      <th>0</th>\n",
       "      <td>12.0</td>\n",
       "      <td>0.22</td>\n",
       "      <td>0.45</td>\n",
       "      <td>11.0</td>\n",
       "      <td>56.0</td>\n",
       "    </tr>\n",
       "  </tbody>\n",
       "</table>\n",
       "</div>"
      ],
      "text/plain": [
       "   gas_temp  gas_umidity  air_temp  ground_temp  fluid_temp\n",
       "0      12.0         0.22      0.45         11.0        56.0"
      ]
     },
     "execution_count": 105,
     "metadata": {},
     "output_type": "execute_result"
    }
   ],
   "source": [
    "inputs"
   ]
  },
  {
   "cell_type": "code",
   "execution_count": 106,
   "id": "5f91d564",
   "metadata": {},
   "outputs": [],
   "source": [
    "data_columns = ['gas_temp', 'gas_umidity',\"air_temp\",\"ground_temp\", \"fluid_temp\"]\n",
    "lags = 24\n",
    "for feature in data_columns:\n",
    "    for lag in range(1, lags + 1):\n",
    "        inputs[f'{feature}_lag_{lag}'] = inputs[feature].shift(lag)"
   ]
  },
  {
   "cell_type": "code",
   "execution_count": 107,
   "id": "e5307511",
   "metadata": {},
   "outputs": [
    {
     "data": {
      "text/html": [
       "<div>\n",
       "<style scoped>\n",
       "    .dataframe tbody tr th:only-of-type {\n",
       "        vertical-align: middle;\n",
       "    }\n",
       "\n",
       "    .dataframe tbody tr th {\n",
       "        vertical-align: top;\n",
       "    }\n",
       "\n",
       "    .dataframe thead th {\n",
       "        text-align: right;\n",
       "    }\n",
       "</style>\n",
       "<table border=\"1\" class=\"dataframe\">\n",
       "  <thead>\n",
       "    <tr style=\"text-align: right;\">\n",
       "      <th></th>\n",
       "      <th>gas_temp</th>\n",
       "      <th>gas_umidity</th>\n",
       "      <th>air_temp</th>\n",
       "      <th>ground_temp</th>\n",
       "      <th>fluid_temp</th>\n",
       "      <th>gas_temp_lag_1</th>\n",
       "      <th>gas_temp_lag_2</th>\n",
       "      <th>gas_temp_lag_3</th>\n",
       "      <th>gas_temp_lag_4</th>\n",
       "      <th>gas_temp_lag_5</th>\n",
       "      <th>...</th>\n",
       "      <th>fluid_temp_lag_15</th>\n",
       "      <th>fluid_temp_lag_16</th>\n",
       "      <th>fluid_temp_lag_17</th>\n",
       "      <th>fluid_temp_lag_18</th>\n",
       "      <th>fluid_temp_lag_19</th>\n",
       "      <th>fluid_temp_lag_20</th>\n",
       "      <th>fluid_temp_lag_21</th>\n",
       "      <th>fluid_temp_lag_22</th>\n",
       "      <th>fluid_temp_lag_23</th>\n",
       "      <th>fluid_temp_lag_24</th>\n",
       "    </tr>\n",
       "  </thead>\n",
       "  <tbody>\n",
       "    <tr>\n",
       "      <th>0</th>\n",
       "      <td>12.0</td>\n",
       "      <td>0.22</td>\n",
       "      <td>0.45</td>\n",
       "      <td>11.0</td>\n",
       "      <td>56.0</td>\n",
       "      <td>NaN</td>\n",
       "      <td>NaN</td>\n",
       "      <td>NaN</td>\n",
       "      <td>NaN</td>\n",
       "      <td>NaN</td>\n",
       "      <td>...</td>\n",
       "      <td>NaN</td>\n",
       "      <td>NaN</td>\n",
       "      <td>NaN</td>\n",
       "      <td>NaN</td>\n",
       "      <td>NaN</td>\n",
       "      <td>NaN</td>\n",
       "      <td>NaN</td>\n",
       "      <td>NaN</td>\n",
       "      <td>NaN</td>\n",
       "      <td>NaN</td>\n",
       "    </tr>\n",
       "  </tbody>\n",
       "</table>\n",
       "<p>1 rows × 125 columns</p>\n",
       "</div>"
      ],
      "text/plain": [
       "   gas_temp  gas_umidity  air_temp  ground_temp  fluid_temp  gas_temp_lag_1  \\\n",
       "0      12.0         0.22      0.45         11.0        56.0             NaN   \n",
       "\n",
       "   gas_temp_lag_2  gas_temp_lag_3  gas_temp_lag_4  gas_temp_lag_5  ...  \\\n",
       "0             NaN             NaN             NaN             NaN  ...   \n",
       "\n",
       "   fluid_temp_lag_15  fluid_temp_lag_16  fluid_temp_lag_17  fluid_temp_lag_18  \\\n",
       "0                NaN                NaN                NaN                NaN   \n",
       "\n",
       "   fluid_temp_lag_19  fluid_temp_lag_20  fluid_temp_lag_21  fluid_temp_lag_22  \\\n",
       "0                NaN                NaN                NaN                NaN   \n",
       "\n",
       "   fluid_temp_lag_23  fluid_temp_lag_24  \n",
       "0                NaN                NaN  \n",
       "\n",
       "[1 rows x 125 columns]"
      ]
     },
     "execution_count": 107,
     "metadata": {},
     "output_type": "execute_result"
    }
   ],
   "source": [
    "inputs"
   ]
  },
  {
   "cell_type": "code",
   "execution_count": 108,
   "id": "032dff96",
   "metadata": {},
   "outputs": [],
   "source": [
    "inputs = inputs.fillna(0)"
   ]
  },
  {
   "cell_type": "code",
   "execution_count": 109,
   "id": "8b27f10f",
   "metadata": {},
   "outputs": [],
   "source": [
    "inputs_scaled = scaler.fit_transform(inputs)"
   ]
  },
  {
   "cell_type": "code",
   "execution_count": 110,
   "id": "ccf9133e",
   "metadata": {},
   "outputs": [
    {
     "data": {
      "text/plain": [
       "array([[0., 0., 0., 0., 0., 0., 0., 0., 0., 0., 0., 0., 0., 0., 0., 0.,\n",
       "        0., 0., 0., 0., 0., 0., 0., 0., 0., 0., 0., 0., 0., 0., 0., 0.,\n",
       "        0., 0., 0., 0., 0., 0., 0., 0., 0., 0., 0., 0., 0., 0., 0., 0.,\n",
       "        0., 0., 0., 0., 0., 0., 0., 0., 0., 0., 0., 0., 0., 0., 0., 0.,\n",
       "        0., 0., 0., 0., 0., 0., 0., 0., 0., 0., 0., 0., 0., 0., 0., 0.,\n",
       "        0., 0., 0., 0., 0., 0., 0., 0., 0., 0., 0., 0., 0., 0., 0., 0.,\n",
       "        0., 0., 0., 0., 0., 0., 0., 0., 0., 0., 0., 0., 0., 0., 0., 0.,\n",
       "        0., 0., 0., 0., 0., 0., 0., 0., 0., 0., 0., 0., 0.]])"
      ]
     },
     "execution_count": 110,
     "metadata": {},
     "output_type": "execute_result"
    }
   ],
   "source": [
    "inputs_scaled"
   ]
  },
  {
   "cell_type": "code",
   "execution_count": 111,
   "id": "0552e8a8",
   "metadata": {},
   "outputs": [],
   "source": [
    "preed = ridge.predict(inputs_scaled)"
   ]
  },
  {
   "cell_type": "code",
   "execution_count": 112,
   "id": "80c7cab6",
   "metadata": {},
   "outputs": [
    {
     "data": {
      "text/plain": [
       "array([0.0001454])"
      ]
     },
     "execution_count": 112,
     "metadata": {},
     "output_type": "execute_result"
    }
   ],
   "source": [
    "preed"
   ]
  },
  {
   "cell_type": "code",
   "execution_count": 116,
   "id": "cbd925e6",
   "metadata": {},
   "outputs": [],
   "source": [
    "def prediction(inputs):\n",
    "    data_columns = ['gas_temp', 'gas_umidity',\"air_temp\",\"ground_temp\", \"fluid_temp\"]\n",
    "    lags = 24\n",
    "    for feature in data_columns:\n",
    "        for lag in range(1, lags + 1):\n",
    "            inputs[f'{feature}_lag_{lag}'] = inputs[feature].shift(lag)\n",
    "    inputs = inputs.fillna(0)\n",
    "    inputs_scaled = scaler.fit_transform(inputs)\n",
    "    preed = ridge.predict(inputs_scaled)\n",
    "    return preed"
   ]
  },
  {
   "cell_type": "code",
   "execution_count": 117,
   "id": "3edd3663",
   "metadata": {},
   "outputs": [
    {
     "data": {
      "text/plain": [
       "array([0.0001454])"
      ]
     },
     "execution_count": 117,
     "metadata": {},
     "output_type": "execute_result"
    }
   ],
   "source": [
    "preed"
   ]
  },
  {
   "cell_type": "code",
   "execution_count": null,
   "id": "38425ea7",
   "metadata": {},
   "outputs": [],
   "source": []
  }
 ],
 "metadata": {
  "kernelspec": {
   "display_name": "Python 3 (ipykernel)",
   "language": "python",
   "name": "python3"
  },
  "language_info": {
   "codemirror_mode": {
    "name": "ipython",
    "version": 3
   },
   "file_extension": ".py",
   "mimetype": "text/x-python",
   "name": "python",
   "nbconvert_exporter": "python",
   "pygments_lexer": "ipython3",
   "version": "3.11.3"
  }
 },
 "nbformat": 4,
 "nbformat_minor": 5
}
