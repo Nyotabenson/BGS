{
 "cells": [
  {
   "cell_type": "code",
   "execution_count": 43,
   "id": "2da80b23",
   "metadata": {},
   "outputs": [],
   "source": [
    "import pandas as pd\n",
    "import numpy as np\n",
    "import matplotlib.pyplot as plt"
   ]
  },
  {
   "cell_type": "code",
   "execution_count": 3,
   "id": "af13fe48",
   "metadata": {},
   "outputs": [],
   "source": [
    "df = pd.read_csv(\"biogasdf_ready.csv\", parse_dates=['date'])\n",
    "df['Month'] = df['date'].dt.month\n",
    "df['Hour'] = pd.to_datetime(df['hour'], format='%H:%M:%S').dt.hour"
   ]
  },
  {
   "cell_type": "code",
   "execution_count": 5,
   "id": "7930e142",
   "metadata": {},
   "outputs": [],
   "source": [
    "bio1_phase0 = df[(df['bio_id'] == 1) & (df['phase_test'] == 0)].reset_index()\n",
    "bio1_phase1 = df[(df['bio_id'] == 1) & (df['phase_test'] == 1)].reset_index()\n",
    "bio1_phase2 = df[(df['bio_id'] == 1) & (df['phase_test'] == 2)].reset_index()\n",
    "bio1_phase3 = df[(df['bio_id'] == 1) & (df['phase_test'] == 3)].reset_index()\n",
    "bio2_phase0 = df[(df['bio_id'] == 2) & (df['phase_test'] == 0)].reset_index()\n",
    "bio2_phase1 = df[(df['bio_id'] == 2) & (df['phase_test'] == 1)].reset_index()\n",
    "bio2_phase2 = df[(df['bio_id'] == 2) & (df['phase_test'] == 2)].reset_index()\n",
    "bio2_phase3 = df[(df['bio_id'] == 2) & (df['phase_test'] == 3)].reset_index()"
   ]
  },
  {
   "cell_type": "code",
   "execution_count": 23,
   "id": "48e3159e",
   "metadata": {},
   "outputs": [
    {
     "data": {
      "text/plain": [
       "(5109, 14)"
      ]
     },
     "execution_count": 23,
     "metadata": {},
     "output_type": "execute_result"
    }
   ],
   "source": [
    "bio1_phase0.shape"
   ]
  },
  {
   "cell_type": "code",
   "execution_count": 25,
   "id": "18203cd1",
   "metadata": {},
   "outputs": [
    {
     "data": {
      "text/plain": [
       "(10875, 14)"
      ]
     },
     "execution_count": 25,
     "metadata": {},
     "output_type": "execute_result"
    }
   ],
   "source": [
    "bio1_phase1.shape"
   ]
  },
  {
   "cell_type": "code",
   "execution_count": 26,
   "id": "9a89989d",
   "metadata": {},
   "outputs": [
    {
     "data": {
      "text/plain": [
       "(4919, 14)"
      ]
     },
     "execution_count": 26,
     "metadata": {},
     "output_type": "execute_result"
    }
   ],
   "source": [
    "bio1_phase2.shape"
   ]
  },
  {
   "cell_type": "code",
   "execution_count": 27,
   "id": "1d4b637f",
   "metadata": {},
   "outputs": [
    {
     "data": {
      "text/plain": [
       "(3653, 14)"
      ]
     },
     "execution_count": 27,
     "metadata": {},
     "output_type": "execute_result"
    }
   ],
   "source": [
    "bio1_phase3.shape"
   ]
  },
  {
   "cell_type": "code",
   "execution_count": 28,
   "id": "67fa02a2",
   "metadata": {},
   "outputs": [
    {
     "data": {
      "text/plain": [
       "(10875, 14)"
      ]
     },
     "execution_count": 28,
     "metadata": {},
     "output_type": "execute_result"
    }
   ],
   "source": [
    "bio2_phase1.shape"
   ]
  },
  {
   "cell_type": "code",
   "execution_count": 49,
   "id": "ccd34c8c",
   "metadata": {},
   "outputs": [],
   "source": [
    "df11 = bio1_phase1\n",
    "df12 = bio1_phase2\n",
    "df13 = bio1_phase3"
   ]
  },
  {
   "cell_type": "code",
   "execution_count": 50,
   "id": "13726f20",
   "metadata": {},
   "outputs": [
    {
     "data": {
      "text/html": [
       "<div>\n",
       "<style scoped>\n",
       "    .dataframe tbody tr th:only-of-type {\n",
       "        vertical-align: middle;\n",
       "    }\n",
       "\n",
       "    .dataframe tbody tr th {\n",
       "        vertical-align: top;\n",
       "    }\n",
       "\n",
       "    .dataframe thead th {\n",
       "        text-align: right;\n",
       "    }\n",
       "</style>\n",
       "<table border=\"1\" class=\"dataframe\">\n",
       "  <thead>\n",
       "    <tr style=\"text-align: right;\">\n",
       "      <th></th>\n",
       "      <th>index</th>\n",
       "      <th>date</th>\n",
       "      <th>hour</th>\n",
       "      <th>fluid_temp</th>\n",
       "      <th>ground_temp</th>\n",
       "      <th>air_umidity</th>\n",
       "      <th>air_temp</th>\n",
       "      <th>gas_umidity</th>\n",
       "      <th>gas_temp</th>\n",
       "      <th>dm3_gas</th>\n",
       "      <th>bio_id</th>\n",
       "      <th>phase_test</th>\n",
       "      <th>Month</th>\n",
       "      <th>Hour</th>\n",
       "    </tr>\n",
       "  </thead>\n",
       "  <tbody>\n",
       "    <tr>\n",
       "      <th>0</th>\n",
       "      <td>8476</td>\n",
       "      <td>2021-12-01</td>\n",
       "      <td>10:32:59</td>\n",
       "      <td>21.19</td>\n",
       "      <td>21.5</td>\n",
       "      <td>57.3</td>\n",
       "      <td>29.4</td>\n",
       "      <td>85.14</td>\n",
       "      <td>39.80</td>\n",
       "      <td>0.0</td>\n",
       "      <td>1</td>\n",
       "      <td>1</td>\n",
       "      <td>12</td>\n",
       "      <td>10</td>\n",
       "    </tr>\n",
       "    <tr>\n",
       "      <th>1</th>\n",
       "      <td>8477</td>\n",
       "      <td>2021-12-01</td>\n",
       "      <td>10:49:35</td>\n",
       "      <td>21.19</td>\n",
       "      <td>21.5</td>\n",
       "      <td>54.4</td>\n",
       "      <td>30.6</td>\n",
       "      <td>80.21</td>\n",
       "      <td>44.20</td>\n",
       "      <td>0.0</td>\n",
       "      <td>1</td>\n",
       "      <td>1</td>\n",
       "      <td>12</td>\n",
       "      <td>10</td>\n",
       "    </tr>\n",
       "    <tr>\n",
       "      <th>2</th>\n",
       "      <td>8478</td>\n",
       "      <td>2021-12-01</td>\n",
       "      <td>11:04:34</td>\n",
       "      <td>21.19</td>\n",
       "      <td>21.5</td>\n",
       "      <td>53.6</td>\n",
       "      <td>30.5</td>\n",
       "      <td>75.34</td>\n",
       "      <td>43.59</td>\n",
       "      <td>0.0</td>\n",
       "      <td>1</td>\n",
       "      <td>1</td>\n",
       "      <td>12</td>\n",
       "      <td>11</td>\n",
       "    </tr>\n",
       "    <tr>\n",
       "      <th>3</th>\n",
       "      <td>8479</td>\n",
       "      <td>2021-12-01</td>\n",
       "      <td>11:19:34</td>\n",
       "      <td>21.19</td>\n",
       "      <td>21.5</td>\n",
       "      <td>51.6</td>\n",
       "      <td>31.2</td>\n",
       "      <td>74.30</td>\n",
       "      <td>44.64</td>\n",
       "      <td>0.0</td>\n",
       "      <td>1</td>\n",
       "      <td>1</td>\n",
       "      <td>12</td>\n",
       "      <td>11</td>\n",
       "    </tr>\n",
       "    <tr>\n",
       "      <th>4</th>\n",
       "      <td>8480</td>\n",
       "      <td>2021-12-01</td>\n",
       "      <td>11:34:33</td>\n",
       "      <td>21.19</td>\n",
       "      <td>21.5</td>\n",
       "      <td>53.6</td>\n",
       "      <td>30.2</td>\n",
       "      <td>73.66</td>\n",
       "      <td>41.58</td>\n",
       "      <td>0.0</td>\n",
       "      <td>1</td>\n",
       "      <td>1</td>\n",
       "      <td>12</td>\n",
       "      <td>11</td>\n",
       "    </tr>\n",
       "  </tbody>\n",
       "</table>\n",
       "</div>"
      ],
      "text/plain": [
       "   index       date      hour  fluid_temp  ground_temp  air_umidity  air_temp  \\\n",
       "0   8476 2021-12-01  10:32:59       21.19         21.5         57.3      29.4   \n",
       "1   8477 2021-12-01  10:49:35       21.19         21.5         54.4      30.6   \n",
       "2   8478 2021-12-01  11:04:34       21.19         21.5         53.6      30.5   \n",
       "3   8479 2021-12-01  11:19:34       21.19         21.5         51.6      31.2   \n",
       "4   8480 2021-12-01  11:34:33       21.19         21.5         53.6      30.2   \n",
       "\n",
       "   gas_umidity  gas_temp  dm3_gas  bio_id  phase_test  Month  Hour  \n",
       "0        85.14     39.80      0.0       1           1     12    10  \n",
       "1        80.21     44.20      0.0       1           1     12    10  \n",
       "2        75.34     43.59      0.0       1           1     12    11  \n",
       "3        74.30     44.64      0.0       1           1     12    11  \n",
       "4        73.66     41.58      0.0       1           1     12    11  "
      ]
     },
     "execution_count": 50,
     "metadata": {},
     "output_type": "execute_result"
    }
   ],
   "source": [
    "df11.head()"
   ]
  },
  {
   "cell_type": "code",
   "execution_count": 51,
   "id": "57d5bea5",
   "metadata": {},
   "outputs": [
    {
     "data": {
      "text/plain": [
       "index             0\n",
       "date              0\n",
       "hour              0\n",
       "fluid_temp        0\n",
       "ground_temp       0\n",
       "air_umidity       0\n",
       "air_temp          0\n",
       "gas_umidity    6383\n",
       "gas_temp       6370\n",
       "dm3_gas           0\n",
       "bio_id            0\n",
       "phase_test        0\n",
       "Month             0\n",
       "Hour              0\n",
       "dtype: int64"
      ]
     },
     "execution_count": 51,
     "metadata": {},
     "output_type": "execute_result"
    }
   ],
   "source": [
    "df11.isna().sum()"
   ]
  },
  {
   "cell_type": "code",
   "execution_count": 52,
   "id": "77a1a30e",
   "metadata": {},
   "outputs": [
    {
     "data": {
      "text/plain": [
       "index             0\n",
       "date              0\n",
       "hour              0\n",
       "fluid_temp        0\n",
       "ground_temp       0\n",
       "air_umidity       0\n",
       "air_temp          0\n",
       "gas_umidity    6383\n",
       "gas_temp       6370\n",
       "dm3_gas           0\n",
       "bio_id            0\n",
       "phase_test        0\n",
       "Month             0\n",
       "Hour              0\n",
       "dtype: int64"
      ]
     },
     "execution_count": 52,
     "metadata": {},
     "output_type": "execute_result"
    }
   ],
   "source": [
    "df11.isna().sum()"
   ]
  },
  {
   "cell_type": "code",
   "execution_count": 53,
   "id": "8860f3bd",
   "metadata": {},
   "outputs": [
    {
     "data": {
      "text/plain": [
       "0.00    10710\n",
       "0.01      165\n",
       "Name: dm3_gas, dtype: int64"
      ]
     },
     "execution_count": 53,
     "metadata": {},
     "output_type": "execute_result"
    }
   ],
   "source": [
    "df11.dm3_gas.value_counts()"
   ]
  },
  {
   "cell_type": "code",
   "execution_count": 54,
   "id": "b8a804c7",
   "metadata": {},
   "outputs": [
    {
     "data": {
      "text/plain": [
       "<Axes: xlabel='fluid_temp', ylabel='ground_temp'>"
      ]
     },
     "execution_count": 54,
     "metadata": {},
     "output_type": "execute_result"
    },
    {
     "data": {
      "image/png": "[encoded data removed]",
      "text/plain": [
       "<Figure size 640x480 with 1 Axes>"
      ]
     },
     "metadata": {},
     "output_type": "display_data"
    }
   ],
   "source": [
    "import seaborn as sns\n",
    "sns.scatterplot(x='fluid_temp', y='ground_temp', hue='dm3_gas', data=df11)"
   ]
  },
  {
   "cell_type": "code",
   "execution_count": 56,
   "id": "4ac4e648",
   "metadata": {},
   "outputs": [
    {
     "data": {
      "image/png": "[encoded data removed]",
      "text/plain": [
       "<Figure size 800x500 with 1 Axes>"
      ]
     },
     "metadata": {},
     "output_type": "display_data"
    }
   ],
   "source": [
    "slope1, intercept1 = np.polyfit(df11.fluid_temp, df11.ground_temp, 1)\n",
    "\n",
    "#1.2 for the predicted values\n",
    "#slope2, intercept2 = np.polyfit(X_train, y_train, 1)\n",
    "# Create the regression line equations for both actual and predicted values\n",
    "plt.figure(figsize=(8,5))\n",
    "regression_line1 = slope1 * df11.fluid_temp + intercept1\n",
    "#regression_line2 = slope2 * x + intercept2\n",
    "\n",
    "# Plot the data points\n",
    "plt.scatter(df11.fluid_temp, df11.ground_temp, label=\"Actual gas Production\")\n",
    "#plt.scatter(x, y_pred, label=\"Predicted Values\")\n",
    "\n",
    "# Plot the regression line\n",
    "plt.plot(df11.fluid_temp, regression_line1, color='red', label=\"actual Linear Regression Line\")\n",
    "#plt.plot(x, regression_line2, color='green', label=\"predicted Linear Regression Line\")\n",
    "\n",
    "\n",
    "# Title, labels and a legend\n",
    "plt.title(\"title\")\n",
    "plt.xlabel(\"xlabel\")\n",
    "plt.ylabel(\"Bio gas production volumes\")\n",
    "#plt.xticks(np.arange(15,44,3))\n",
    "plt.legend()\n",
    "plt.grid()\n",
    "\n",
    "# Show the plot\n",
    "plt.show()"
   ]
  },
  {
   "cell_type": "code",
   "execution_count": null,
   "id": "34a4d42e",
   "metadata": {},
   "outputs": [],
   "source": []
  }
 ],
 "metadata": {
  "kernelspec": {
   "display_name": "Python 3 (ipykernel)",
   "language": "python",
   "name": "python3"
  },
  "language_info": {
   "codemirror_mode": {
    "name": "ipython",
    "version": 3
   },
   "file_extension": ".py",
   "mimetype": "text/x-python",
   "name": "python",
   "nbconvert_exporter": "python",
   "pygments_lexer": "ipython3",
   "version": "3.11.4"
  }
 },
 "nbformat": 4,
 "nbformat_minor": 5
}
