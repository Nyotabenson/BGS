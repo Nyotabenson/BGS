{
 "cells": [
  {
   "cell_type": "code",
   "execution_count": 26,
   "id": "fc69caae",
   "metadata": {},
   "outputs": [],
   "source": [
    "import numpy as np\n",
    "import pandas as pd\n",
    "import seaborn as sns\n",
    "import matplotlib.pyplot as plt\n",
    "import plotly.express as px"
   ]
  },
  {
   "cell_type": "markdown",
   "id": "654ef7d5",
   "metadata": {},
   "source": [
    "<h1 style=\"font-size:3.5rem;color:blue;\">Dataset Overview</h1>"
   ]
  },
  {
   "cell_type": "code",
   "execution_count": 3,
   "id": "22299c3e",
   "metadata": {},
   "outputs": [],
   "source": [
    "df = pd.read_csv(\"biogasdf_ready.csv\", parse_dates=['date'])"
   ]
  },
  {
   "cell_type": "code",
   "execution_count": 4,
   "id": "29bea7ec",
   "metadata": {},
   "outputs": [
    {
     "data": {
      "text/html": [
       "<div>\n",
       "<style scoped>\n",
       "    .dataframe tbody tr th:only-of-type {\n",
       "        vertical-align: middle;\n",
       "    }\n",
       "\n",
       "    .dataframe tbody tr th {\n",
       "        vertical-align: top;\n",
       "    }\n",
       "\n",
       "    .dataframe thead th {\n",
       "        text-align: right;\n",
       "    }\n",
       "</style>\n",
       "<table border=\"1\" class=\"dataframe\">\n",
       "  <thead>\n",
       "    <tr style=\"text-align: right;\">\n",
       "      <th></th>\n",
       "      <th>date</th>\n",
       "      <th>hour</th>\n",
       "      <th>fluid_temp</th>\n",
       "      <th>ground_temp</th>\n",
       "      <th>air_umidity</th>\n",
       "      <th>air_temp</th>\n",
       "      <th>gas_umidity</th>\n",
       "      <th>gas_temp</th>\n",
       "      <th>dm3_gas</th>\n",
       "      <th>bio_id</th>\n",
       "      <th>phase_test</th>\n",
       "    </tr>\n",
       "  </thead>\n",
       "  <tbody>\n",
       "    <tr>\n",
       "      <th>0</th>\n",
       "      <td>2021-08-10</td>\n",
       "      <td>22:48:53</td>\n",
       "      <td>14.81</td>\n",
       "      <td>14.69</td>\n",
       "      <td>66.7</td>\n",
       "      <td>18.8</td>\n",
       "      <td>84.50</td>\n",
       "      <td>16.93</td>\n",
       "      <td>0.0</td>\n",
       "      <td>1</td>\n",
       "      <td>0</td>\n",
       "    </tr>\n",
       "    <tr>\n",
       "      <th>1</th>\n",
       "      <td>2021-08-10</td>\n",
       "      <td>23:33:53</td>\n",
       "      <td>14.88</td>\n",
       "      <td>14.69</td>\n",
       "      <td>78.3</td>\n",
       "      <td>18.0</td>\n",
       "      <td>84.45</td>\n",
       "      <td>15.83</td>\n",
       "      <td>0.0</td>\n",
       "      <td>1</td>\n",
       "      <td>0</td>\n",
       "    </tr>\n",
       "    <tr>\n",
       "      <th>2</th>\n",
       "      <td>2021-08-11</td>\n",
       "      <td>00:03:55</td>\n",
       "      <td>14.88</td>\n",
       "      <td>14.69</td>\n",
       "      <td>83.2</td>\n",
       "      <td>17.4</td>\n",
       "      <td>84.35</td>\n",
       "      <td>15.22</td>\n",
       "      <td>0.0</td>\n",
       "      <td>1</td>\n",
       "      <td>0</td>\n",
       "    </tr>\n",
       "    <tr>\n",
       "      <th>3</th>\n",
       "      <td>2021-08-11</td>\n",
       "      <td>00:33:55</td>\n",
       "      <td>14.88</td>\n",
       "      <td>14.69</td>\n",
       "      <td>84.8</td>\n",
       "      <td>16.7</td>\n",
       "      <td>84.15</td>\n",
       "      <td>14.58</td>\n",
       "      <td>0.0</td>\n",
       "      <td>1</td>\n",
       "      <td>0</td>\n",
       "    </tr>\n",
       "    <tr>\n",
       "      <th>4</th>\n",
       "      <td>2021-08-11</td>\n",
       "      <td>00:48:54</td>\n",
       "      <td>14.88</td>\n",
       "      <td>14.69</td>\n",
       "      <td>87.4</td>\n",
       "      <td>16.0</td>\n",
       "      <td>84.10</td>\n",
       "      <td>14.18</td>\n",
       "      <td>0.0</td>\n",
       "      <td>1</td>\n",
       "      <td>0</td>\n",
       "    </tr>\n",
       "  </tbody>\n",
       "</table>\n",
       "</div>"
      ],
      "text/plain": [
       "        date      hour  fluid_temp  ground_temp  air_umidity  air_temp  \\\n",
       "0 2021-08-10  22:48:53       14.81        14.69         66.7      18.8   \n",
       "1 2021-08-10  23:33:53       14.88        14.69         78.3      18.0   \n",
       "2 2021-08-11  00:03:55       14.88        14.69         83.2      17.4   \n",
       "3 2021-08-11  00:33:55       14.88        14.69         84.8      16.7   \n",
       "4 2021-08-11  00:48:54       14.88        14.69         87.4      16.0   \n",
       "\n",
       "   gas_umidity  gas_temp  dm3_gas  bio_id  phase_test  \n",
       "0        84.50     16.93      0.0       1           0  \n",
       "1        84.45     15.83      0.0       1           0  \n",
       "2        84.35     15.22      0.0       1           0  \n",
       "3        84.15     14.58      0.0       1           0  \n",
       "4        84.10     14.18      0.0       1           0  "
      ]
     },
     "execution_count": 4,
     "metadata": {},
     "output_type": "execute_result"
    }
   ],
   "source": [
    "df.head()"
   ]
  },
  {
   "cell_type": "code",
   "execution_count": 5,
   "id": "f6490437",
   "metadata": {},
   "outputs": [
    {
     "data": {
      "text/plain": [
       "['date',\n",
       " 'hour',\n",
       " 'fluid_temp',\n",
       " 'ground_temp',\n",
       " 'air_umidity',\n",
       " 'air_temp',\n",
       " 'gas_umidity',\n",
       " 'gas_temp',\n",
       " 'dm3_gas',\n",
       " 'bio_id',\n",
       " 'phase_test']"
      ]
     },
     "execution_count": 5,
     "metadata": {},
     "output_type": "execute_result"
    }
   ],
   "source": [
    "#dataset features\n",
    "list(df.columns)"
   ]
  },
  {
   "cell_type": "code",
   "execution_count": 17,
   "id": "be5fab83",
   "metadata": {},
   "outputs": [
    {
     "name": "stdout",
     "output_type": "stream",
     "text": [
      "Bio 1 : 24556\n",
      "Bio 2 : 19447\n"
     ]
    }
   ],
   "source": [
    "bio1 = df[df['bio_id']==1]\n",
    "bio2 = df[df['bio_id']==2]\n",
    "print(f\"Bio 1 : {bio1.shape[0]}\")\n",
    "print(f\"Bio 2 : {bio2.shape[0]}\")"
   ]
  },
  {
   "cell_type": "code",
   "execution_count": 23,
   "id": "5b5ce5cf",
   "metadata": {},
   "outputs": [
    {
     "name": "stdout",
     "output_type": "stream",
     "text": [
      "PHASE TEST 0 : 5109 Entries\n",
      "PHASE TEST 1 : 21750 Entries\n",
      "PHASE TEST 2 : 9838 Entries\n",
      "PHASE TEST 3 : 7306 Entries\n"
     ]
    }
   ],
   "source": [
    "phase_test0 = df[df['phase_test']==0]\n",
    "phase_test1 = df[df['phase_test']==1]\n",
    "phase_test2 = df[df['phase_test']==2]\n",
    "phase_test3 = df[df['phase_test']==3]\n",
    "print(f\"PHASE TEST 0 : {phase_test0.shape[0]} Entries\")\n",
    "print(f\"PHASE TEST 1 : {phase_test1.shape[0]} Entries\")\n",
    "print(f\"PHASE TEST 2 : {phase_test2.shape[0]} Entries\")\n",
    "print(f\"PHASE TEST 3 : {phase_test3.shape[0]} Entries\")"
   ]
  },
  {
   "cell_type": "code",
   "execution_count": 24,
   "id": "f8255d69",
   "metadata": {},
   "outputs": [
    {
     "data": {
      "text/plain": [
       "0.00    41268\n",
       "0.01     2735\n",
       "Name: dm3_gas, dtype: int64"
      ]
     },
     "execution_count": 24,
     "metadata": {},
     "output_type": "execute_result"
    }
   ],
   "source": [
    "df['dm3_gas'].value_counts()"
   ]
  },
  {
   "cell_type": "code",
   "execution_count": 28,
   "id": "0d1b5fe2",
   "metadata": {},
   "outputs": [
    {
     "data": {
      "text/plain": [
       "<Axes: xlabel='dm3_gas', ylabel='count'>"
      ]
     },
     "execution_count": 28,
     "metadata": {},
     "output_type": "execute_result"
    },
    {
     "data": {
      "image/png": "[encoded data removed]",
      "text/plain": [
       "<Figure size 640x480 with 1 Axes>"
      ]
     },
     "metadata": {},
     "output_type": "display_data"
    }
   ],
   "source": [
    "sns.countplot(x = df['dm3_gas'])"
   ]
  },
  {
   "cell_type": "code",
   "execution_count": 29,
   "id": "d253eca5",
   "metadata": {},
   "outputs": [
    {
     "data": {
      "text/plain": [
       "<Axes: xlabel='phase_test', ylabel='count'>"
      ]
     },
     "execution_count": 29,
     "metadata": {},
     "output_type": "execute_result"
    },
    {
     "data": {
      "image/png": "[encoded data removed]",
      "text/plain": [
       "<Figure size 640x480 with 1 Axes>"
      ]
     },
     "metadata": {},
     "output_type": "display_data"
    }
   ],
   "source": [
    "sns.countplot(x=df['phase_test'])"
   ]
  },
  {
   "cell_type": "code",
   "execution_count": 30,
   "id": "2e2918e1",
   "metadata": {},
   "outputs": [
    {
     "data": {
      "text/plain": [
       "<Axes: xlabel='bio_id', ylabel='count'>"
      ]
     },
     "execution_count": 30,
     "metadata": {},
     "output_type": "execute_result"
    },
    {
     "data": {
      "image/png": "[encoded data removed]",
      "text/plain": [
       "<Figure size 640x480 with 1 Axes>"
      ]
     },
     "metadata": {},
     "output_type": "display_data"
    }
   ],
   "source": [
    "sns.countplot(x=df['bio_id'])"
   ]
  },
  {
   "cell_type": "code",
   "execution_count": 37,
   "id": "b2c325bf",
   "metadata": {},
   "outputs": [
    {
     "data": {
      "text/html": [
       "<div>\n",
       "<style scoped>\n",
       "    .dataframe tbody tr th:only-of-type {\n",
       "        vertical-align: middle;\n",
       "    }\n",
       "\n",
       "    .dataframe tbody tr th {\n",
       "        vertical-align: top;\n",
       "    }\n",
       "\n",
       "    .dataframe thead th {\n",
       "        text-align: right;\n",
       "    }\n",
       "</style>\n",
       "<table border=\"1\" class=\"dataframe\">\n",
       "  <thead>\n",
       "    <tr style=\"text-align: right;\">\n",
       "      <th></th>\n",
       "      <th>date</th>\n",
       "      <th>hour</th>\n",
       "      <th>fluid_temp</th>\n",
       "      <th>ground_temp</th>\n",
       "      <th>air_umidity</th>\n",
       "      <th>air_temp</th>\n",
       "      <th>gas_umidity</th>\n",
       "      <th>gas_temp</th>\n",
       "      <th>dm3_gas</th>\n",
       "      <th>bio_id</th>\n",
       "      <th>phase_test</th>\n",
       "    </tr>\n",
       "  </thead>\n",
       "  <tbody>\n",
       "    <tr>\n",
       "      <th>14088</th>\n",
       "      <td>2022-01-02</td>\n",
       "      <td>21:19:21</td>\n",
       "      <td>21.88</td>\n",
       "      <td>22.38</td>\n",
       "      <td>89.1</td>\n",
       "      <td>22.1</td>\n",
       "      <td>NaN</td>\n",
       "      <td>NaN</td>\n",
       "      <td>0.0</td>\n",
       "      <td>1</td>\n",
       "      <td>1</td>\n",
       "    </tr>\n",
       "  </tbody>\n",
       "</table>\n",
       "</div>"
      ],
      "text/plain": [
       "            date      hour  fluid_temp  ground_temp  air_umidity  air_temp  \\\n",
       "14088 2022-01-02  21:19:21       21.88        22.38         89.1      22.1   \n",
       "\n",
       "       gas_umidity  gas_temp  dm3_gas  bio_id  phase_test  \n",
       "14088          NaN       NaN      0.0       1           1  "
      ]
     },
     "execution_count": 37,
     "metadata": {},
     "output_type": "execute_result"
    }
   ],
   "source": [
    "df.sample()"
   ]
  },
  {
   "cell_type": "markdown",
   "id": "cde818d8",
   "metadata": {},
   "source": [
    "<h1 style=\"font-size:3.5rem;color:blue;\">Features overview</h1>"
   ]
  },
  {
   "cell_type": "code",
   "execution_count": 38,
   "id": "9c3f3800",
   "metadata": {},
   "outputs": [
    {
     "name": "stdout",
     "output_type": "stream",
     "text": [
      "The most effective column for biogas production is '2' with a mean dm3_gas of 0.00.\n"
     ]
    }
   ],
   "source": [
    "# Calculate the mean of dm3_gas for each column\n",
    "mean_dm3_gas = df.groupby('bio_id')['dm3_gas'].mean()\n",
    "\n",
    "# Identify the column with the highest mean dm3_gas\n",
    "most_effective_column = mean_dm3_gas.idxmax()\n",
    "highest_mean_dm3_gas = mean_dm3_gas.max()\n",
    "\n",
    "print(\"The most effective column for biogas production is '{}' with a mean dm3_gas of {:.2f}.\".format(most_effective_column, highest_mean_dm3_gas))\n"
   ]
  },
  {
   "cell_type": "code",
   "execution_count": 39,
   "id": "4f567f4b",
   "metadata": {},
   "outputs": [
    {
     "data": {
      "text/plain": [
       "bio_id\n",
       "1    0.000343\n",
       "2    0.000973\n",
       "Name: dm3_gas, dtype: float64"
      ]
     },
     "execution_count": 39,
     "metadata": {},
     "output_type": "execute_result"
    }
   ],
   "source": [
    "mean_dm3_gas"
   ]
  },
  {
   "cell_type": "code",
   "execution_count": 40,
   "id": "c18c9f1f",
   "metadata": {},
   "outputs": [
    {
     "data": {
      "text/plain": [
       "2"
      ]
     },
     "execution_count": 40,
     "metadata": {},
     "output_type": "execute_result"
    }
   ],
   "source": [
    "most_effective_column"
   ]
  },
  {
   "cell_type": "code",
   "execution_count": 41,
   "id": "7e84678f",
   "metadata": {},
   "outputs": [
    {
     "data": {
      "text/plain": [
       "0.0009734149226101712"
      ]
     },
     "execution_count": 41,
     "metadata": {},
     "output_type": "execute_result"
    }
   ],
   "source": [
    "highest_mean_dm3_gas"
   ]
  },
  {
   "cell_type": "markdown",
   "id": "aa6f0b92",
   "metadata": {},
   "source": [
    "## Peak points"
   ]
  },
  {
   "cell_type": "code",
   "execution_count": 62,
   "id": "02e07ec2",
   "metadata": {},
   "outputs": [
    {
     "name": "stdout",
     "output_type": "stream",
     "text": [
      "Peak Points of Dependent Features in prod0:\n",
      "fluid_temp      24.38\n",
      "ground_temp     24.94\n",
      "air_umidity      99.9\n",
      "air_temp         52.6\n",
      "gas_umidity    113.06\n",
      "gas_temp       120.79\n",
      "dm3_gas           0.0\n",
      "dtype: object\n",
      "Peak Points of Dependent Features in prod1:\n",
      "fluid_temp      24.38\n",
      "ground_temp     24.94\n",
      "air_umidity      99.9\n",
      "air_temp         39.6\n",
      "gas_umidity    110.49\n",
      "gas_temp         71.0\n",
      "dm3_gas          0.01\n",
      "dtype: object\n",
      "low Points of Dependent Features in prod0:\n",
      "fluid_temp    -127.0\n",
      "ground_temp   -127.0\n",
      "air_umidity      0.0\n",
      "air_temp         0.0\n",
      "gas_umidity    31.72\n",
      "gas_temp      -12.62\n",
      "dm3_gas          0.0\n",
      "dtype: object\n",
      "low Points of Dependent Features in prod1:\n",
      "fluid_temp    -127.0\n",
      "ground_temp   -127.0\n",
      "air_umidity      0.0\n",
      "air_temp         0.0\n",
      "gas_umidity    43.31\n",
      "gas_temp        8.67\n",
      "dm3_gas         0.01\n",
      "dtype: object\n"
     ]
    }
   ],
   "source": [
    "# Find peak points for each feature\n",
    "prod0= df[df['dm3_gas']==0]\n",
    "prod1 = df[df['dm3_gas']==0.01]\n",
    "\n",
    "#max\n",
    "peak_points0 = prod0.max()\n",
    "peak_points1 = prod1.max()\n",
    "\n",
    "#min\n",
    "low_points0 = prod0.min()\n",
    "low_points1 = prod1.min()\n",
    "\n",
    "#prod0\n",
    "print(\"Peak Points of Dependent Features in prod0:\")\n",
    "print(peak_points0[['fluid_temp', 'ground_temp', 'air_umidity', 'air_temp', 'gas_umidity', 'gas_temp', 'dm3_gas']])\n",
    "#prod1\n",
    "print(\"Peak Points of Dependent Features in prod1:\")\n",
    "print(peak_points1[['fluid_temp', 'ground_temp', 'air_umidity', 'air_temp', 'gas_umidity', 'gas_temp', 'dm3_gas']])\n",
    "\n",
    "#prod0\n",
    "print(\"low Points of Dependent Features in prod0:\")\n",
    "print(low_points0[['fluid_temp', 'ground_temp', 'air_umidity', 'air_temp', 'gas_umidity', 'gas_temp', 'dm3_gas']])\n",
    "#prod1\n",
    "print(\"low Points of Dependent Features in prod1:\")\n",
    "print(low_points1[['fluid_temp', 'ground_temp', 'air_umidity', 'air_temp', 'gas_umidity', 'gas_temp', 'dm3_gas']])"
   ]
  },
  {
   "cell_type": "code",
   "execution_count": 43,
   "id": "7c97b8f0",
   "metadata": {},
   "outputs": [
    {
     "data": {
      "text/plain": [
       "date           2022-07-10 00:00:00\n",
       "hour                      23:59:39\n",
       "fluid_temp                   24.38\n",
       "ground_temp                  24.94\n",
       "air_umidity                   99.9\n",
       "air_temp                      52.6\n",
       "gas_umidity                 113.06\n",
       "gas_temp                    120.79\n",
       "dm3_gas                       0.01\n",
       "bio_id                           2\n",
       "phase_test                       3\n",
       "dtype: object"
      ]
     },
     "execution_count": 43,
     "metadata": {},
     "output_type": "execute_result"
    }
   ],
   "source": [
    "peak_points"
   ]
  },
  {
   "cell_type": "code",
   "execution_count": 45,
   "id": "15147d6e",
   "metadata": {},
   "outputs": [
    {
     "name": "stdout",
     "output_type": "stream",
     "text": [
      "Phase 0 maintains relatively constant gas production despite temperature changes.\n"
     ]
    }
   ],
   "source": [
    "# Calculate standard deviation of dm3_gas for each phase\n",
    "phase_gas_std = df.groupby('phase_test')['dm3_gas'].std()\n",
    "\n",
    "# Identify the phase with the lowest standard deviation\n",
    "constant_gas_phase = phase_gas_std.idxmin()\n",
    "\n",
    "print(\"Phase\", constant_gas_phase, \"maintains relatively constant gas production despite temperature changes.\")\n"
   ]
  },
  {
   "cell_type": "code",
   "execution_count": null,
   "id": "68a2f45d",
   "metadata": {},
   "outputs": [],
   "source": []
  },
  {
   "cell_type": "code",
   "execution_count": 54,
   "id": "299a5f4a",
   "metadata": {},
   "outputs": [
    {
     "name": "stdout",
     "output_type": "stream",
     "text": [
      "Correlation Coefficients between dm3_gas and other features:\n",
      "         index   dm3_gas\n",
      "0   fluid_temp  0.046961\n",
      "1  ground_temp  0.038212\n",
      "2  air_umidity  0.055639\n",
      "3     air_temp -0.013547\n",
      "4  gas_umidity  0.020523\n",
      "5     gas_temp  0.058657\n"
     ]
    }
   ],
   "source": [
    "# Calculate the correlation coefficients\n",
    "correlation = df[['fluid_temp', 'ground_temp', 'air_umidity', 'air_temp', 'gas_umidity', 'gas_temp', 'dm3_gas']].corr()\n",
    "\n",
    "# Display the correlation coefficients\n",
    "print(\"Correlation Coefficients between dm3_gas and other features:\")\n",
    "cor = (correlation['dm3_gas'].reset_index()).head(6)\n",
    "print(cor)"
   ]
  },
  {
   "cell_type": "code",
   "execution_count": 56,
   "id": "9870ba0d",
   "metadata": {},
   "outputs": [
    {
     "data": {
      "text/plain": [
       "(array([0, 1, 2, 3, 4, 5]),\n",
       " [Text(0, 0, 'fluid_temp'),\n",
       "  Text(1, 0, 'ground_temp'),\n",
       "  Text(2, 0, 'air_umidity'),\n",
       "  Text(3, 0, 'air_temp'),\n",
       "  Text(4, 0, 'gas_umidity'),\n",
       "  Text(5, 0, 'gas_temp')])"
      ]
     },
     "execution_count": 56,
     "metadata": {},
     "output_type": "execute_result"
    },
    {
     "data": {
      "image/png": "[encoded data removed]",
      "text/plain": [
       "<Figure size 640x480 with 1 Axes>"
      ]
     },
     "metadata": {},
     "output_type": "display_data"
    }
   ],
   "source": [
    "sns.barplot(x=cor['index'], y = cor['dm3_gas'])\n",
    "plt.xticks(rotation=90)"
   ]
  },
  {
   "cell_type": "code",
   "execution_count": null,
   "id": "a9fb2de6",
   "metadata": {},
   "outputs": [],
   "source": []
  },
  {
   "cell_type": "code",
   "execution_count": null,
   "id": "00119eaf",
   "metadata": {},
   "outputs": [],
   "source": []
  },
  {
   "cell_type": "code",
   "execution_count": null,
   "id": "fcd149ea",
   "metadata": {},
   "outputs": [],
   "source": []
  },
  {
   "cell_type": "code",
   "execution_count": null,
   "id": "9355ddb4",
   "metadata": {},
   "outputs": [],
   "source": []
  },
  {
   "cell_type": "markdown",
   "id": "de626198",
   "metadata": {},
   "source": [
    "<h1 style=\"font-size:3.5rem;color:blue;\">Features Analysis</h1>"
   ]
  },
  {
   "cell_type": "code",
   "execution_count": null,
   "id": "53c6599a",
   "metadata": {},
   "outputs": [],
   "source": []
  },
  {
   "cell_type": "code",
   "execution_count": null,
   "id": "5d7368f7",
   "metadata": {},
   "outputs": [],
   "source": []
  },
  {
   "cell_type": "code",
   "execution_count": null,
   "id": "a4e79dad",
   "metadata": {},
   "outputs": [],
   "source": []
  },
  {
   "cell_type": "code",
   "execution_count": null,
   "id": "11a13e9d",
   "metadata": {},
   "outputs": [],
   "source": []
  },
  {
   "cell_type": "code",
   "execution_count": null,
   "id": "81575065",
   "metadata": {},
   "outputs": [],
   "source": []
  },
  {
   "cell_type": "markdown",
   "id": "18514550",
   "metadata": {},
   "source": [
    "<h1 style=\"font-size:3.5rem;color:blue;\">Models, Output of the models, Visuals of the predictions </h1>"
   ]
  },
  {
   "cell_type": "code",
   "execution_count": null,
   "id": "3a50069a",
   "metadata": {},
   "outputs": [],
   "source": []
  },
  {
   "cell_type": "code",
   "execution_count": null,
   "id": "c8dbac31",
   "metadata": {},
   "outputs": [],
   "source": []
  },
  {
   "cell_type": "code",
   "execution_count": null,
   "id": "3aa2d428",
   "metadata": {},
   "outputs": [],
   "source": []
  },
  {
   "cell_type": "code",
   "execution_count": null,
   "id": "33bf89ac",
   "metadata": {},
   "outputs": [],
   "source": []
  },
  {
   "cell_type": "code",
   "execution_count": null,
   "id": "2e8ade4d",
   "metadata": {},
   "outputs": [],
   "source": []
  }
 ],
 "metadata": {
  "kernelspec": {
   "display_name": "Python 3 (ipykernel)",
   "language": "python",
   "name": "python3"
  },
  "language_info": {
   "codemirror_mode": {
    "name": "ipython",
    "version": 3
   },
   "file_extension": ".py",
   "mimetype": "text/x-python",
   "name": "python",
   "nbconvert_exporter": "python",
   "pygments_lexer": "ipython3",
   "version": "3.11.4"
  }
 },
 "nbformat": 4,
 "nbformat_minor": 5
}
