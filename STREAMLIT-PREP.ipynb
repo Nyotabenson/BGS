{
 "cells": [
  {
   "cell_type": "code",
   "execution_count": 1,
   "id": "fc69caae",
   "metadata": {},
   "outputs": [],
   "source": [
    "import numpy as np\n",
    "import pandas as pd\n",
    "import seaborn as sns\n",
    "import matplotlib.pyplot as plt\n",
    "import plotly.express as px"
   ]
  },
  {
   "cell_type": "markdown",
   "id": "654ef7d5",
   "metadata": {},
   "source": [
    "<h1 style=\"font-size:3.5rem;color:blue;\">Dataset Overview</h1>"
   ]
  },
  {
   "cell_type": "code",
   "execution_count": 2,
   "id": "22299c3e",
   "metadata": {},
   "outputs": [],
   "source": [
    "df = pd.read_csv(\"biogasdf_ready.csv\", parse_dates=['date'])"
   ]
  },
  {
   "cell_type": "code",
   "execution_count": 3,
   "id": "29bea7ec",
   "metadata": {},
   "outputs": [
    {
     "data": {
      "text/html": [
       "<div>\n",
       "<style scoped>\n",
       "    .dataframe tbody tr th:only-of-type {\n",
       "        vertical-align: middle;\n",
       "    }\n",
       "\n",
       "    .dataframe tbody tr th {\n",
       "        vertical-align: top;\n",
       "    }\n",
       "\n",
       "    .dataframe thead th {\n",
       "        text-align: right;\n",
       "    }\n",
       "</style>\n",
       "<table border=\"1\" class=\"dataframe\">\n",
       "  <thead>\n",
       "    <tr style=\"text-align: right;\">\n",
       "      <th></th>\n",
       "      <th>date</th>\n",
       "      <th>hour</th>\n",
       "      <th>fluid_temp</th>\n",
       "      <th>ground_temp</th>\n",
       "      <th>air_umidity</th>\n",
       "      <th>air_temp</th>\n",
       "      <th>gas_umidity</th>\n",
       "      <th>gas_temp</th>\n",
       "      <th>dm3_gas</th>\n",
       "      <th>bio_id</th>\n",
       "      <th>phase_test</th>\n",
       "    </tr>\n",
       "  </thead>\n",
       "  <tbody>\n",
       "    <tr>\n",
       "      <th>0</th>\n",
       "      <td>2021-08-10</td>\n",
       "      <td>22:48:53</td>\n",
       "      <td>14.81</td>\n",
       "      <td>14.69</td>\n",
       "      <td>66.7</td>\n",
       "      <td>18.8</td>\n",
       "      <td>84.50</td>\n",
       "      <td>16.93</td>\n",
       "      <td>0.0</td>\n",
       "      <td>1</td>\n",
       "      <td>0</td>\n",
       "    </tr>\n",
       "    <tr>\n",
       "      <th>1</th>\n",
       "      <td>2021-08-10</td>\n",
       "      <td>23:33:53</td>\n",
       "      <td>14.88</td>\n",
       "      <td>14.69</td>\n",
       "      <td>78.3</td>\n",
       "      <td>18.0</td>\n",
       "      <td>84.45</td>\n",
       "      <td>15.83</td>\n",
       "      <td>0.0</td>\n",
       "      <td>1</td>\n",
       "      <td>0</td>\n",
       "    </tr>\n",
       "    <tr>\n",
       "      <th>2</th>\n",
       "      <td>2021-08-11</td>\n",
       "      <td>00:03:55</td>\n",
       "      <td>14.88</td>\n",
       "      <td>14.69</td>\n",
       "      <td>83.2</td>\n",
       "      <td>17.4</td>\n",
       "      <td>84.35</td>\n",
       "      <td>15.22</td>\n",
       "      <td>0.0</td>\n",
       "      <td>1</td>\n",
       "      <td>0</td>\n",
       "    </tr>\n",
       "    <tr>\n",
       "      <th>3</th>\n",
       "      <td>2021-08-11</td>\n",
       "      <td>00:33:55</td>\n",
       "      <td>14.88</td>\n",
       "      <td>14.69</td>\n",
       "      <td>84.8</td>\n",
       "      <td>16.7</td>\n",
       "      <td>84.15</td>\n",
       "      <td>14.58</td>\n",
       "      <td>0.0</td>\n",
       "      <td>1</td>\n",
       "      <td>0</td>\n",
       "    </tr>\n",
       "    <tr>\n",
       "      <th>4</th>\n",
       "      <td>2021-08-11</td>\n",
       "      <td>00:48:54</td>\n",
       "      <td>14.88</td>\n",
       "      <td>14.69</td>\n",
       "      <td>87.4</td>\n",
       "      <td>16.0</td>\n",
       "      <td>84.10</td>\n",
       "      <td>14.18</td>\n",
       "      <td>0.0</td>\n",
       "      <td>1</td>\n",
       "      <td>0</td>\n",
       "    </tr>\n",
       "  </tbody>\n",
       "</table>\n",
       "</div>"
      ],
      "text/plain": [
       "        date      hour  fluid_temp  ground_temp  air_umidity  air_temp  \\\n",
       "0 2021-08-10  22:48:53       14.81        14.69         66.7      18.8   \n",
       "1 2021-08-10  23:33:53       14.88        14.69         78.3      18.0   \n",
       "2 2021-08-11  00:03:55       14.88        14.69         83.2      17.4   \n",
       "3 2021-08-11  00:33:55       14.88        14.69         84.8      16.7   \n",
       "4 2021-08-11  00:48:54       14.88        14.69         87.4      16.0   \n",
       "\n",
       "   gas_umidity  gas_temp  dm3_gas  bio_id  phase_test  \n",
       "0        84.50     16.93      0.0       1           0  \n",
       "1        84.45     15.83      0.0       1           0  \n",
       "2        84.35     15.22      0.0       1           0  \n",
       "3        84.15     14.58      0.0       1           0  \n",
       "4        84.10     14.18      0.0       1           0  "
      ]
     },
     "execution_count": 3,
     "metadata": {},
     "output_type": "execute_result"
    }
   ],
   "source": [
    "df.head()"
   ]
  },
  {
   "cell_type": "code",
   "execution_count": 4,
   "id": "f6490437",
   "metadata": {},
   "outputs": [
    {
     "data": {
      "text/plain": [
       "['date',\n",
       " 'hour',\n",
       " 'fluid_temp',\n",
       " 'ground_temp',\n",
       " 'air_umidity',\n",
       " 'air_temp',\n",
       " 'gas_umidity',\n",
       " 'gas_temp',\n",
       " 'dm3_gas',\n",
       " 'bio_id',\n",
       " 'phase_test']"
      ]
     },
     "execution_count": 4,
     "metadata": {},
     "output_type": "execute_result"
    }
   ],
   "source": [
    "#dataset features\n",
    "list(df.columns)"
   ]
  },
  {
   "cell_type": "code",
   "execution_count": 5,
   "id": "be5fab83",
   "metadata": {},
   "outputs": [
    {
     "name": "stdout",
     "output_type": "stream",
     "text": [
      "Bio 1 : 24556\n",
      "Bio 2 : 19447\n"
     ]
    }
   ],
   "source": [
    "bio1 = df[df['bio_id']==1]\n",
    "bio2 = df[df['bio_id']==2]\n",
    "print(f\"Bio 1 : {bio1.shape[0]}\")\n",
    "print(f\"Bio 2 : {bio2.shape[0]}\")"
   ]
  },
  {
   "cell_type": "code",
   "execution_count": 6,
   "id": "5b5ce5cf",
   "metadata": {},
   "outputs": [
    {
     "name": "stdout",
     "output_type": "stream",
     "text": [
      "PHASE TEST 0 : 5109 Entries\n",
      "PHASE TEST 1 : 21750 Entries\n",
      "PHASE TEST 2 : 9838 Entries\n",
      "PHASE TEST 3 : 7306 Entries\n"
     ]
    }
   ],
   "source": [
    "phase_test0 = df[df['phase_test']==0]\n",
    "phase_test1 = df[df['phase_test']==1]\n",
    "phase_test2 = df[df['phase_test']==2]\n",
    "phase_test3 = df[df['phase_test']==3]\n",
    "print(f\"PHASE TEST 0 : {phase_test0.shape[0]} Entries\")\n",
    "print(f\"PHASE TEST 1 : {phase_test1.shape[0]} Entries\")\n",
    "print(f\"PHASE TEST 2 : {phase_test2.shape[0]} Entries\")\n",
    "print(f\"PHASE TEST 3 : {phase_test3.shape[0]} Entries\")"
   ]
  },
  {
   "cell_type": "code",
   "execution_count": 7,
   "id": "f8255d69",
   "metadata": {},
   "outputs": [
    {
     "data": {
      "text/plain": [
       "0.00    41268\n",
       "0.01     2735\n",
       "Name: dm3_gas, dtype: int64"
      ]
     },
     "execution_count": 7,
     "metadata": {},
     "output_type": "execute_result"
    }
   ],
   "source": [
    "df['dm3_gas'].value_counts()"
   ]
  },
  {
   "cell_type": "code",
   "execution_count": 8,
   "id": "0d1b5fe2",
   "metadata": {},
   "outputs": [
    {
     "data": {
      "text/plain": [
       "<Axes: xlabel='dm3_gas', ylabel='count'>"
      ]
     },
     "execution_count": 8,
     "metadata": {},
     "output_type": "execute_result"
    },
    {
     "data": {
      "image/png": "[encoded data removed]",
      "text/plain": [
       "<Figure size 640x480 with 1 Axes>"
      ]
     },
     "metadata": {},
     "output_type": "display_data"
    }
   ],
   "source": [
    "sns.countplot(x = df['dm3_gas'])"
   ]
  },
  {
   "cell_type": "code",
   "execution_count": 9,
   "id": "d253eca5",
   "metadata": {},
   "outputs": [
    {
     "data": {
      "text/plain": [
       "<Axes: xlabel='phase_test', ylabel='count'>"
      ]
     },
     "execution_count": 9,
     "metadata": {},
     "output_type": "execute_result"
    },
    {
     "data": {
      "image/png": "[encoded data removed]",
      "text/plain": [
       "<Figure size 640x480 with 1 Axes>"
      ]
     },
     "metadata": {},
     "output_type": "display_data"
    }
   ],
   "source": [
    "sns.countplot(x=df['phase_test'])"
   ]
  },
  {
   "cell_type": "code",
   "execution_count": 10,
   "id": "2e2918e1",
   "metadata": {},
   "outputs": [
    {
     "data": {
      "text/plain": [
       "<Axes: xlabel='bio_id', ylabel='count'>"
      ]
     },
     "execution_count": 10,
     "metadata": {},
     "output_type": "execute_result"
    },
    {
     "data": {
      "image/png": "[encoded data removed]",
      "text/plain": [
       "<Figure size 640x480 with 1 Axes>"
      ]
     },
     "metadata": {},
     "output_type": "display_data"
    }
   ],
   "source": [
    "sns.countplot(x=df['bio_id'])"
   ]
  },
  {
   "cell_type": "code",
   "execution_count": 11,
   "id": "b2c325bf",
   "metadata": {},
   "outputs": [
    {
     "data": {
      "text/html": [
       "<div>\n",
       "<style scoped>\n",
       "    .dataframe tbody tr th:only-of-type {\n",
       "        vertical-align: middle;\n",
       "    }\n",
       "\n",
       "    .dataframe tbody tr th {\n",
       "        vertical-align: top;\n",
       "    }\n",
       "\n",
       "    .dataframe thead th {\n",
       "        text-align: right;\n",
       "    }\n",
       "</style>\n",
       "<table border=\"1\" class=\"dataframe\">\n",
       "  <thead>\n",
       "    <tr style=\"text-align: right;\">\n",
       "      <th></th>\n",
       "      <th>date</th>\n",
       "      <th>hour</th>\n",
       "      <th>fluid_temp</th>\n",
       "      <th>ground_temp</th>\n",
       "      <th>air_umidity</th>\n",
       "      <th>air_temp</th>\n",
       "      <th>gas_umidity</th>\n",
       "      <th>gas_temp</th>\n",
       "      <th>dm3_gas</th>\n",
       "      <th>bio_id</th>\n",
       "      <th>phase_test</th>\n",
       "    </tr>\n",
       "  </thead>\n",
       "  <tbody>\n",
       "    <tr>\n",
       "      <th>16688</th>\n",
       "      <td>2022-07-03</td>\n",
       "      <td>06:41:14</td>\n",
       "      <td>15.38</td>\n",
       "      <td>15.25</td>\n",
       "      <td>99.7</td>\n",
       "      <td>10.1</td>\n",
       "      <td>NaN</td>\n",
       "      <td>NaN</td>\n",
       "      <td>0.0</td>\n",
       "      <td>1</td>\n",
       "      <td>3</td>\n",
       "    </tr>\n",
       "  </tbody>\n",
       "</table>\n",
       "</div>"
      ],
      "text/plain": [
       "            date      hour  fluid_temp  ground_temp  air_umidity  air_temp  \\\n",
       "16688 2022-07-03  06:41:14       15.38        15.25         99.7      10.1   \n",
       "\n",
       "       gas_umidity  gas_temp  dm3_gas  bio_id  phase_test  \n",
       "16688          NaN       NaN      0.0       1           3  "
      ]
     },
     "execution_count": 11,
     "metadata": {},
     "output_type": "execute_result"
    }
   ],
   "source": [
    "df.sample()"
   ]
  },
  {
   "cell_type": "markdown",
   "id": "cde818d8",
   "metadata": {},
   "source": [
    "<h1 style=\"font-size:3.5rem;color:blue;\">Features overview</h1>"
   ]
  },
  {
   "cell_type": "code",
   "execution_count": 12,
   "id": "9c3f3800",
   "metadata": {},
   "outputs": [
    {
     "name": "stdout",
     "output_type": "stream",
     "text": [
      "The most effective column for biogas production is '2' with a mean dm3_gas of 0.00.\n"
     ]
    }
   ],
   "source": [
    "# Calculate the mean of dm3_gas for each column\n",
    "mean_dm3_gas = df.groupby('bio_id')['dm3_gas'].mean()\n",
    "\n",
    "# Identify the column with the highest mean dm3_gas\n",
    "most_effective_column = mean_dm3_gas.idxmax()\n",
    "highest_mean_dm3_gas = mean_dm3_gas.max()\n",
    "\n",
    "print(\"The most effective column for biogas production is '{}' with a mean dm3_gas of {:.2f}.\".format(most_effective_column, highest_mean_dm3_gas))\n"
   ]
  },
  {
   "cell_type": "code",
   "execution_count": 13,
   "id": "4f567f4b",
   "metadata": {},
   "outputs": [
    {
     "data": {
      "text/plain": [
       "bio_id\n",
       "1    0.000343\n",
       "2    0.000973\n",
       "Name: dm3_gas, dtype: float64"
      ]
     },
     "execution_count": 13,
     "metadata": {},
     "output_type": "execute_result"
    }
   ],
   "source": [
    "mean_dm3_gas"
   ]
  },
  {
   "cell_type": "code",
   "execution_count": 14,
   "id": "c18c9f1f",
   "metadata": {},
   "outputs": [
    {
     "data": {
      "text/plain": [
       "2"
      ]
     },
     "execution_count": 14,
     "metadata": {},
     "output_type": "execute_result"
    }
   ],
   "source": [
    "most_effective_column"
   ]
  },
  {
   "cell_type": "code",
   "execution_count": 15,
   "id": "7e84678f",
   "metadata": {},
   "outputs": [
    {
     "data": {
      "text/plain": [
       "0.0009734149226101712"
      ]
     },
     "execution_count": 15,
     "metadata": {},
     "output_type": "execute_result"
    }
   ],
   "source": [
    "highest_mean_dm3_gas"
   ]
  },
  {
   "cell_type": "markdown",
   "id": "aa6f0b92",
   "metadata": {},
   "source": [
    "## Peak points"
   ]
  },
  {
   "cell_type": "code",
   "execution_count": 16,
   "id": "02e07ec2",
   "metadata": {},
   "outputs": [
    {
     "name": "stdout",
     "output_type": "stream",
     "text": [
      "Peak Points of Dependent Features in prod0:\n",
      "fluid_temp      24.38\n",
      "ground_temp     24.94\n",
      "air_umidity      99.9\n",
      "air_temp         52.6\n",
      "gas_umidity    113.06\n",
      "gas_temp       120.79\n",
      "dm3_gas           0.0\n",
      "dtype: object\n",
      "Peak Points of Dependent Features in prod1:\n",
      "fluid_temp      24.38\n",
      "ground_temp     24.94\n",
      "air_umidity      99.9\n",
      "air_temp         39.6\n",
      "gas_umidity    110.49\n",
      "gas_temp         71.0\n",
      "dm3_gas          0.01\n",
      "dtype: object\n",
      "low Points of Dependent Features in prod0:\n",
      "fluid_temp    -127.0\n",
      "ground_temp   -127.0\n",
      "air_umidity      0.0\n",
      "air_temp         0.0\n",
      "gas_umidity    31.72\n",
      "gas_temp      -12.62\n",
      "dm3_gas          0.0\n",
      "dtype: object\n",
      "low Points of Dependent Features in prod1:\n",
      "fluid_temp    -127.0\n",
      "ground_temp   -127.0\n",
      "air_umidity      0.0\n",
      "air_temp         0.0\n",
      "gas_umidity    43.31\n",
      "gas_temp        8.67\n",
      "dm3_gas         0.01\n",
      "dtype: object\n"
     ]
    }
   ],
   "source": [
    "# Find peak points for each feature\n",
    "prod0= df[df['dm3_gas']==0]\n",
    "prod1 = df[df['dm3_gas']==0.01]\n",
    "\n",
    "#max\n",
    "peak_points0 = prod0.max()\n",
    "peak_points1 = prod1.max()\n",
    "\n",
    "#min\n",
    "low_points0 = prod0.min()\n",
    "low_points1 = prod1.min()\n",
    "\n",
    "#prod0\n",
    "print(\"Peak Points of Dependent Features in prod0:\")\n",
    "print(peak_points0[['fluid_temp', 'ground_temp', 'air_umidity', 'air_temp', 'gas_umidity', 'gas_temp', 'dm3_gas']])\n",
    "#prod1\n",
    "print(\"Peak Points of Dependent Features in prod1:\")\n",
    "print(peak_points1[['fluid_temp', 'ground_temp', 'air_umidity', 'air_temp', 'gas_umidity', 'gas_temp', 'dm3_gas']])\n",
    "\n",
    "#prod0\n",
    "print(\"low Points of Dependent Features in prod0:\")\n",
    "print(low_points0[['fluid_temp', 'ground_temp', 'air_umidity', 'air_temp', 'gas_umidity', 'gas_temp', 'dm3_gas']])\n",
    "#prod1\n",
    "print(\"low Points of Dependent Features in prod1:\")\n",
    "print(low_points1[['fluid_temp', 'ground_temp', 'air_umidity', 'air_temp', 'gas_umidity', 'gas_temp', 'dm3_gas']])"
   ]
  },
  {
   "cell_type": "code",
   "execution_count": null,
   "id": "15147d6e",
   "metadata": {},
   "outputs": [],
   "source": [
    "# Calculate standard deviation of dm3_gas for each phase\n",
    "phase_gas_std = df.groupby('phase_test')['dm3_gas'].std()\n",
    "\n",
    "# Identify the phase with the lowest standard deviation\n",
    "constant_gas_phase = phase_gas_std.idxmin()\n",
    "\n",
    "print(\"Phase\", constant_gas_phase, \"maintains relatively constant gas production despite temperature changes.\")\n"
   ]
  },
  {
   "cell_type": "code",
   "execution_count": null,
   "id": "68a2f45d",
   "metadata": {},
   "outputs": [],
   "source": []
  },
  {
   "cell_type": "code",
   "execution_count": null,
   "id": "299a5f4a",
   "metadata": {},
   "outputs": [],
   "source": [
    "# Calculate the correlation coefficients\n",
    "correlation = df[['fluid_temp', 'ground_temp', 'air_umidity', 'air_temp', 'gas_umidity', 'gas_temp', 'dm3_gas']].corr()\n",
    "\n",
    "# Display the correlation coefficients\n",
    "print(\"Correlation Coefficients between dm3_gas and other features:\")\n",
    "cor = (correlation['dm3_gas'].reset_index()).head(6)\n",
    "print(cor)"
   ]
  },
  {
   "cell_type": "code",
   "execution_count": null,
   "id": "9870ba0d",
   "metadata": {},
   "outputs": [],
   "source": [
    "sns.barplot(x=cor['index'], y = cor['dm3_gas'])\n",
    "plt.xticks(rotation=90)"
   ]
  },
  {
   "cell_type": "code",
   "execution_count": null,
   "id": "a9fb2de6",
   "metadata": {},
   "outputs": [],
   "source": []
  },
  {
   "cell_type": "code",
   "execution_count": null,
   "id": "00119eaf",
   "metadata": {},
   "outputs": [],
   "source": []
  },
  {
   "cell_type": "code",
   "execution_count": null,
   "id": "fcd149ea",
   "metadata": {},
   "outputs": [],
   "source": []
  },
  {
   "cell_type": "code",
   "execution_count": null,
   "id": "9355ddb4",
   "metadata": {},
   "outputs": [],
   "source": []
  },
  {
   "cell_type": "markdown",
   "id": "de626198",
   "metadata": {},
   "source": [
    "<h1 style=\"font-size:3.5rem;color:blue;\">Features Analysis</h1>"
   ]
  },
  {
   "cell_type": "code",
   "execution_count": null,
   "id": "53c6599a",
   "metadata": {},
   "outputs": [],
   "source": []
  },
  {
   "cell_type": "code",
   "execution_count": null,
   "id": "5d7368f7",
   "metadata": {},
   "outputs": [],
   "source": []
  },
  {
   "cell_type": "code",
   "execution_count": null,
   "id": "a4e79dad",
   "metadata": {},
   "outputs": [],
   "source": []
  },
  {
   "cell_type": "code",
   "execution_count": null,
   "id": "11a13e9d",
   "metadata": {},
   "outputs": [],
   "source": []
  },
  {
   "cell_type": "code",
   "execution_count": null,
   "id": "81575065",
   "metadata": {},
   "outputs": [],
   "source": []
  },
  {
   "cell_type": "markdown",
   "id": "18514550",
   "metadata": {},
   "source": [
    "<h1 style=\"font-size:3.5rem;color:blue;\">Models, Output of the models, Visuals of the predictions </h1>"
   ]
  },
  {
   "cell_type": "code",
   "execution_count": 34,
   "id": "3a50069a",
   "metadata": {},
   "outputs": [],
   "source": [
    "df = pd.read_csv(\"biogasdf_ready.csv\", parse_dates=['date'])"
   ]
  },
  {
   "cell_type": "code",
   "execution_count": 35,
   "id": "a1713403",
   "metadata": {},
   "outputs": [
    {
     "data": {
      "text/html": [
       "<div>\n",
       "<style scoped>\n",
       "    .dataframe tbody tr th:only-of-type {\n",
       "        vertical-align: middle;\n",
       "    }\n",
       "\n",
       "    .dataframe tbody tr th {\n",
       "        vertical-align: top;\n",
       "    }\n",
       "\n",
       "    .dataframe thead th {\n",
       "        text-align: right;\n",
       "    }\n",
       "</style>\n",
       "<table border=\"1\" class=\"dataframe\">\n",
       "  <thead>\n",
       "    <tr style=\"text-align: right;\">\n",
       "      <th></th>\n",
       "      <th>date</th>\n",
       "      <th>hour</th>\n",
       "      <th>fluid_temp</th>\n",
       "      <th>ground_temp</th>\n",
       "      <th>air_umidity</th>\n",
       "      <th>air_temp</th>\n",
       "      <th>gas_umidity</th>\n",
       "      <th>gas_temp</th>\n",
       "      <th>dm3_gas</th>\n",
       "      <th>bio_id</th>\n",
       "      <th>phase_test</th>\n",
       "    </tr>\n",
       "  </thead>\n",
       "  <tbody>\n",
       "    <tr>\n",
       "      <th>0</th>\n",
       "      <td>2021-08-10</td>\n",
       "      <td>22:48:53</td>\n",
       "      <td>14.81</td>\n",
       "      <td>14.69</td>\n",
       "      <td>66.7</td>\n",
       "      <td>18.8</td>\n",
       "      <td>84.50</td>\n",
       "      <td>16.93</td>\n",
       "      <td>0.0</td>\n",
       "      <td>1</td>\n",
       "      <td>0</td>\n",
       "    </tr>\n",
       "    <tr>\n",
       "      <th>1</th>\n",
       "      <td>2021-08-10</td>\n",
       "      <td>23:33:53</td>\n",
       "      <td>14.88</td>\n",
       "      <td>14.69</td>\n",
       "      <td>78.3</td>\n",
       "      <td>18.0</td>\n",
       "      <td>84.45</td>\n",
       "      <td>15.83</td>\n",
       "      <td>0.0</td>\n",
       "      <td>1</td>\n",
       "      <td>0</td>\n",
       "    </tr>\n",
       "    <tr>\n",
       "      <th>2</th>\n",
       "      <td>2021-08-11</td>\n",
       "      <td>00:03:55</td>\n",
       "      <td>14.88</td>\n",
       "      <td>14.69</td>\n",
       "      <td>83.2</td>\n",
       "      <td>17.4</td>\n",
       "      <td>84.35</td>\n",
       "      <td>15.22</td>\n",
       "      <td>0.0</td>\n",
       "      <td>1</td>\n",
       "      <td>0</td>\n",
       "    </tr>\n",
       "    <tr>\n",
       "      <th>3</th>\n",
       "      <td>2021-08-11</td>\n",
       "      <td>00:33:55</td>\n",
       "      <td>14.88</td>\n",
       "      <td>14.69</td>\n",
       "      <td>84.8</td>\n",
       "      <td>16.7</td>\n",
       "      <td>84.15</td>\n",
       "      <td>14.58</td>\n",
       "      <td>0.0</td>\n",
       "      <td>1</td>\n",
       "      <td>0</td>\n",
       "    </tr>\n",
       "    <tr>\n",
       "      <th>4</th>\n",
       "      <td>2021-08-11</td>\n",
       "      <td>00:48:54</td>\n",
       "      <td>14.88</td>\n",
       "      <td>14.69</td>\n",
       "      <td>87.4</td>\n",
       "      <td>16.0</td>\n",
       "      <td>84.10</td>\n",
       "      <td>14.18</td>\n",
       "      <td>0.0</td>\n",
       "      <td>1</td>\n",
       "      <td>0</td>\n",
       "    </tr>\n",
       "  </tbody>\n",
       "</table>\n",
       "</div>"
      ],
      "text/plain": [
       "        date      hour  fluid_temp  ground_temp  air_umidity  air_temp  \\\n",
       "0 2021-08-10  22:48:53       14.81        14.69         66.7      18.8   \n",
       "1 2021-08-10  23:33:53       14.88        14.69         78.3      18.0   \n",
       "2 2021-08-11  00:03:55       14.88        14.69         83.2      17.4   \n",
       "3 2021-08-11  00:33:55       14.88        14.69         84.8      16.7   \n",
       "4 2021-08-11  00:48:54       14.88        14.69         87.4      16.0   \n",
       "\n",
       "   gas_umidity  gas_temp  dm3_gas  bio_id  phase_test  \n",
       "0        84.50     16.93      0.0       1           0  \n",
       "1        84.45     15.83      0.0       1           0  \n",
       "2        84.35     15.22      0.0       1           0  \n",
       "3        84.15     14.58      0.0       1           0  \n",
       "4        84.10     14.18      0.0       1           0  "
      ]
     },
     "execution_count": 35,
     "metadata": {},
     "output_type": "execute_result"
    }
   ],
   "source": [
    "df.head()"
   ]
  },
  {
   "cell_type": "code",
   "execution_count": 48,
   "id": "c8dbac31",
   "metadata": {},
   "outputs": [],
   "source": [
    "X = df[[\"fluid_temp\",\"ground_temp\",\"air_umidity\",\"gas_umidity\",\"gas_temp\"]]\n",
    "y = df['dm3_gas']"
   ]
  },
  {
   "cell_type": "code",
   "execution_count": 58,
   "id": "0fa461db",
   "metadata": {},
   "outputs": [],
   "source": [
    "X = X.fillna(0)"
   ]
  },
  {
   "cell_type": "code",
   "execution_count": 59,
   "id": "e56d55df",
   "metadata": {},
   "outputs": [
    {
     "data": {
      "text/plain": [
       "fluid_temp     0\n",
       "ground_temp    0\n",
       "air_umidity    0\n",
       "gas_umidity    0\n",
       "gas_temp       0\n",
       "dtype: int64"
      ]
     },
     "execution_count": 59,
     "metadata": {},
     "output_type": "execute_result"
    }
   ],
   "source": [
    "X.isna().sum()"
   ]
  },
  {
   "cell_type": "code",
   "execution_count": 60,
   "id": "e4f708c9",
   "metadata": {},
   "outputs": [],
   "source": [
    "#replacing the target values with 0 and 1\n",
    "\n",
    "df['dm3_gas'].replace({0.00: 0, 0.01: 1}, inplace=True)"
   ]
  },
  {
   "cell_type": "code",
   "execution_count": 61,
   "id": "3aa2d428",
   "metadata": {},
   "outputs": [
    {
     "data": {
      "text/plain": [
       "((35202, 5), (8801, 5), (35202,), (8801,))"
      ]
     },
     "execution_count": 61,
     "metadata": {},
     "output_type": "execute_result"
    }
   ],
   "source": [
    "from sklearn.model_selection import train_test_split\n",
    "\n",
    "X_train, X_test,y_train,  y_test = train_test_split(X, y, test_size=0.2, random_state=42)\n",
    "X_train.shape, X_test.shape,  y_train.shape, y_test.shape"
   ]
  },
  {
   "cell_type": "code",
   "execution_count": 62,
   "id": "33bf89ac",
   "metadata": {},
   "outputs": [],
   "source": [
    "from sklearn.preprocessing import StandardScaler\n",
    "\n",
    "scaler = StandardScaler()\n",
    "X_train_scaled = pd.DataFrame(scaler.fit_transform(X_train))\n",
    "X_test_scaled = pd.DataFrame(scaler.fit_transform(X_test))"
   ]
  },
  {
   "cell_type": "code",
   "execution_count": 63,
   "id": "2e8ade4d",
   "metadata": {},
   "outputs": [],
   "source": [
    "# Using Random Forest\n",
    "from sklearn.ensemble import RandomForestClassifier\n",
    "rfc = RandomForestClassifier()"
   ]
  },
  {
   "cell_type": "code",
   "execution_count": 64,
   "id": "256c0609",
   "metadata": {},
   "outputs": [],
   "source": [
    "model = rfc.fit(X_train_scaled, y_train)"
   ]
  },
  {
   "cell_type": "code",
   "execution_count": 65,
   "id": "7dd6ddc4",
   "metadata": {},
   "outputs": [
    {
     "data": {
      "text/plain": [
       "0.9738651212999262"
      ]
     },
     "execution_count": 65,
     "metadata": {},
     "output_type": "execute_result"
    }
   ],
   "source": [
    "model.score(X_train_scaled, y_train)"
   ]
  },
  {
   "cell_type": "code",
   "execution_count": 66,
   "id": "b3ba1e0b",
   "metadata": {},
   "outputs": [
    {
     "data": {
      "text/plain": [
       "0.9237586637882059"
      ]
     },
     "execution_count": 66,
     "metadata": {},
     "output_type": "execute_result"
    }
   ],
   "source": [
    "model.score(X_test_scaled, y_test)"
   ]
  },
  {
   "cell_type": "code",
   "execution_count": 67,
   "id": "495e7131",
   "metadata": {},
   "outputs": [],
   "source": [
    "preds = model.predict(X_train_scaled)"
   ]
  },
  {
   "cell_type": "code",
   "execution_count": 47,
   "id": "6ce7ab58",
   "metadata": {},
   "outputs": [
    {
     "data": {
      "text/plain": [
       "['rfc_model1.pkl']"
      ]
     },
     "execution_count": 47,
     "metadata": {},
     "output_type": "execute_result"
    }
   ],
   "source": [
    "\n",
    "import joblib\n",
    "import os\n",
    "# Save the best model to a file\n",
    "joblib.dump(model, \"rfc_model1.pkl\")"
   ]
  },
  {
   "cell_type": "code",
   "execution_count": 92,
   "id": "b8067ac8",
   "metadata": {},
   "outputs": [],
   "source": [
    "import pickle\n",
    "with open('rfc_model1.pkl', 'wb') as f:\n",
    "    pickle.dump(model, f)"
   ]
  },
  {
   "cell_type": "code",
   "execution_count": null,
   "id": "aa179a6a",
   "metadata": {},
   "outputs": [],
   "source": [
    "# df_pred = pd.DataFrame({'preds' : preds,\n",
    "#                         'Hour' : X_train.Hour,\n",
    "#                         'dm3' : y_train.values}\n",
    "#                 )"
   ]
  },
  {
   "cell_type": "code",
   "execution_count": 68,
   "id": "2bd85cf3",
   "metadata": {},
   "outputs": [
    {
     "name": "stdout",
     "output_type": "stream",
     "text": [
      "Gas Temperatures: 22\n",
      "gas humidity22\n",
      "air_humidity45\n",
      "ground_temp67\n",
      "fluid_temp13\n"
     ]
    }
   ],
   "source": [
    "# Key-in the inputs\n",
    "gas_temp = float(input(\"Gas Temperatures: \"))\n",
    "gas_umidity = float(input(\"gas humidity\"))\n",
    "air_umidity = float(input(\"air_humidity\"))\n",
    "ground_temp = float(input(\"ground_temp\"))\n",
    "fluid_temp = float(input(\"fluid_temp\"))"
   ]
  },
  {
   "cell_type": "code",
   "execution_count": 70,
   "id": "977e5c18",
   "metadata": {},
   "outputs": [],
   "source": [
    "inputs = pd.DataFrame({'gas_temp' : [gas_temp], 'gas_umidity' : [gas_umidity],  \"air_umidity\"  : [air_umidity], \"ground_temp\" : [ground_temp], \"fluid_temp\" : [fluid_temp] })"
   ]
  },
  {
   "cell_type": "code",
   "execution_count": 71,
   "id": "8a64e6e2",
   "metadata": {},
   "outputs": [
    {
     "data": {
      "text/html": [
       "<div>\n",
       "<style scoped>\n",
       "    .dataframe tbody tr th:only-of-type {\n",
       "        vertical-align: middle;\n",
       "    }\n",
       "\n",
       "    .dataframe tbody tr th {\n",
       "        vertical-align: top;\n",
       "    }\n",
       "\n",
       "    .dataframe thead th {\n",
       "        text-align: right;\n",
       "    }\n",
       "</style>\n",
       "<table border=\"1\" class=\"dataframe\">\n",
       "  <thead>\n",
       "    <tr style=\"text-align: right;\">\n",
       "      <th></th>\n",
       "      <th>gas_temp</th>\n",
       "      <th>gas_umidity</th>\n",
       "      <th>air_umidity</th>\n",
       "      <th>ground_temp</th>\n",
       "      <th>fluid_temp</th>\n",
       "    </tr>\n",
       "  </thead>\n",
       "  <tbody>\n",
       "    <tr>\n",
       "      <th>0</th>\n",
       "      <td>22.0</td>\n",
       "      <td>22.0</td>\n",
       "      <td>45.0</td>\n",
       "      <td>67.0</td>\n",
       "      <td>13.0</td>\n",
       "    </tr>\n",
       "  </tbody>\n",
       "</table>\n",
       "</div>"
      ],
      "text/plain": [
       "   gas_temp  gas_umidity  air_umidity  ground_temp  fluid_temp\n",
       "0      22.0         22.0         45.0         67.0        13.0"
      ]
     },
     "execution_count": 71,
     "metadata": {},
     "output_type": "execute_result"
    }
   ],
   "source": [
    "inputs"
   ]
  },
  {
   "cell_type": "code",
   "execution_count": 72,
   "id": "3d015af7",
   "metadata": {},
   "outputs": [],
   "source": [
    "scaler = StandardScaler()\n",
    "X_pred_scaled = pd.DataFrame(scaler.fit_transform(inputs))"
   ]
  },
  {
   "cell_type": "code",
   "execution_count": 73,
   "id": "2a92e9c9",
   "metadata": {},
   "outputs": [],
   "source": [
    "preds1 = model.predict(X_pred_scaled)"
   ]
  },
  {
   "cell_type": "code",
   "execution_count": 86,
   "id": "93790832",
   "metadata": {},
   "outputs": [
    {
     "data": {
      "text/plain": [
       "0"
      ]
     },
     "execution_count": 86,
     "metadata": {},
     "output_type": "execute_result"
    }
   ],
   "source": [
    "pred = round(preds1[0])"
   ]
  },
  {
   "cell_type": "code",
   "execution_count": 84,
   "id": "50408026",
   "metadata": {},
   "outputs": [
    {
     "name": "stdout",
     "output_type": "stream",
     "text": [
      "92.0%\n"
     ]
    }
   ],
   "source": [
    "print(f\"{(round(model.score(X_test_scaled, y_test),2))*100}%\")"
   ]
  },
  {
   "cell_type": "code",
   "execution_count": 87,
   "id": "99bdf352",
   "metadata": {},
   "outputs": [],
   "source": [
    "def prediction(inputs):\n",
    "    scaler = StandardScaler()\n",
    "    X_pred_scaled = pd.DataFrame(scaler.fit_transform(inputs))\n",
    "    preds1 = model.predict(X_pred_scaled)\n",
    "    pred1 =round(preds1[0])\n",
    "    return pred1"
   ]
  },
  {
   "cell_type": "code",
   "execution_count": 89,
   "id": "b629dd9c",
   "metadata": {},
   "outputs": [
    {
     "data": {
      "text/plain": [
       "0"
      ]
     },
     "execution_count": 89,
     "metadata": {},
     "output_type": "execute_result"
    }
   ],
   "source": [
    "prediction(inputs)"
   ]
  },
  {
   "cell_type": "code",
   "execution_count": null,
   "id": "5a91c7ce",
   "metadata": {},
   "outputs": [],
   "source": []
  },
  {
   "cell_type": "code",
   "execution_count": null,
   "id": "506fc2be",
   "metadata": {},
   "outputs": [],
   "source": []
  },
  {
   "cell_type": "code",
   "execution_count": null,
   "id": "c52bd4a4",
   "metadata": {},
   "outputs": [],
   "source": []
  }
 ],
 "metadata": {
  "kernelspec": {
   "display_name": "Python 3 (ipykernel)",
   "language": "python",
   "name": "python3"
  },
  "language_info": {
   "codemirror_mode": {
    "name": "ipython",
    "version": 3
   },
   "file_extension": ".py",
   "mimetype": "text/x-python",
   "name": "python",
   "nbconvert_exporter": "python",
   "pygments_lexer": "ipython3",
   "version": "3.11.4"
  }
 },
 "nbformat": 4,
 "nbformat_minor": 5
}
