{
 "cells": [
  {
   "cell_type": "code",
   "execution_count": 1,
   "id": "8a2bc5da",
   "metadata": {},
   "outputs": [],
   "source": [
    "import pandas as pd\n",
    "import numpy as np\n",
    "import matplotlib.pyplot as plt"
   ]
  },
  {
   "cell_type": "markdown",
   "id": "7e687429",
   "metadata": {},
   "source": [
    "## Dataset"
   ]
  },
  {
   "cell_type": "code",
   "execution_count": 2,
   "id": "57ca591d",
   "metadata": {},
   "outputs": [],
   "source": [
    "df = pd.read_csv(\"biogasdf_ready.csv\", parse_dates=['date'])\n",
    "df['Month'] = df['date'].dt.month\n",
    "df['Hour'] = pd.to_datetime(df['hour'], format='%H:%M:%S').dt.hour"
   ]
  },
  {
   "cell_type": "code",
   "execution_count": 3,
   "id": "c1a52051",
   "metadata": {},
   "outputs": [
    {
     "data": {
      "text/html": [
       "<div>\n",
       "<style scoped>\n",
       "    .dataframe tbody tr th:only-of-type {\n",
       "        vertical-align: middle;\n",
       "    }\n",
       "\n",
       "    .dataframe tbody tr th {\n",
       "        vertical-align: top;\n",
       "    }\n",
       "\n",
       "    .dataframe thead th {\n",
       "        text-align: right;\n",
       "    }\n",
       "</style>\n",
       "<table border=\"1\" class=\"dataframe\">\n",
       "  <thead>\n",
       "    <tr style=\"text-align: right;\">\n",
       "      <th></th>\n",
       "      <th>date</th>\n",
       "      <th>hour</th>\n",
       "      <th>fluid_temp</th>\n",
       "      <th>ground_temp</th>\n",
       "      <th>air_umidity</th>\n",
       "      <th>air_temp</th>\n",
       "      <th>gas_umidity</th>\n",
       "      <th>gas_temp</th>\n",
       "      <th>dm3_gas</th>\n",
       "      <th>bio_id</th>\n",
       "      <th>phase_test</th>\n",
       "      <th>Month</th>\n",
       "      <th>Hour</th>\n",
       "    </tr>\n",
       "  </thead>\n",
       "  <tbody>\n",
       "    <tr>\n",
       "      <th>0</th>\n",
       "      <td>2021-08-10</td>\n",
       "      <td>22:48:53</td>\n",
       "      <td>14.81</td>\n",
       "      <td>14.69</td>\n",
       "      <td>66.7</td>\n",
       "      <td>18.8</td>\n",
       "      <td>84.50</td>\n",
       "      <td>16.93</td>\n",
       "      <td>0.0</td>\n",
       "      <td>1</td>\n",
       "      <td>0</td>\n",
       "      <td>8</td>\n",
       "      <td>22</td>\n",
       "    </tr>\n",
       "    <tr>\n",
       "      <th>1</th>\n",
       "      <td>2021-08-10</td>\n",
       "      <td>23:33:53</td>\n",
       "      <td>14.88</td>\n",
       "      <td>14.69</td>\n",
       "      <td>78.3</td>\n",
       "      <td>18.0</td>\n",
       "      <td>84.45</td>\n",
       "      <td>15.83</td>\n",
       "      <td>0.0</td>\n",
       "      <td>1</td>\n",
       "      <td>0</td>\n",
       "      <td>8</td>\n",
       "      <td>23</td>\n",
       "    </tr>\n",
       "    <tr>\n",
       "      <th>2</th>\n",
       "      <td>2021-08-11</td>\n",
       "      <td>00:03:55</td>\n",
       "      <td>14.88</td>\n",
       "      <td>14.69</td>\n",
       "      <td>83.2</td>\n",
       "      <td>17.4</td>\n",
       "      <td>84.35</td>\n",
       "      <td>15.22</td>\n",
       "      <td>0.0</td>\n",
       "      <td>1</td>\n",
       "      <td>0</td>\n",
       "      <td>8</td>\n",
       "      <td>0</td>\n",
       "    </tr>\n",
       "    <tr>\n",
       "      <th>3</th>\n",
       "      <td>2021-08-11</td>\n",
       "      <td>00:33:55</td>\n",
       "      <td>14.88</td>\n",
       "      <td>14.69</td>\n",
       "      <td>84.8</td>\n",
       "      <td>16.7</td>\n",
       "      <td>84.15</td>\n",
       "      <td>14.58</td>\n",
       "      <td>0.0</td>\n",
       "      <td>1</td>\n",
       "      <td>0</td>\n",
       "      <td>8</td>\n",
       "      <td>0</td>\n",
       "    </tr>\n",
       "    <tr>\n",
       "      <th>4</th>\n",
       "      <td>2021-08-11</td>\n",
       "      <td>00:48:54</td>\n",
       "      <td>14.88</td>\n",
       "      <td>14.69</td>\n",
       "      <td>87.4</td>\n",
       "      <td>16.0</td>\n",
       "      <td>84.10</td>\n",
       "      <td>14.18</td>\n",
       "      <td>0.0</td>\n",
       "      <td>1</td>\n",
       "      <td>0</td>\n",
       "      <td>8</td>\n",
       "      <td>0</td>\n",
       "    </tr>\n",
       "  </tbody>\n",
       "</table>\n",
       "</div>"
      ],
      "text/plain": [
       "        date      hour  fluid_temp  ground_temp  air_umidity  air_temp  \\\n",
       "0 2021-08-10  22:48:53       14.81        14.69         66.7      18.8   \n",
       "1 2021-08-10  23:33:53       14.88        14.69         78.3      18.0   \n",
       "2 2021-08-11  00:03:55       14.88        14.69         83.2      17.4   \n",
       "3 2021-08-11  00:33:55       14.88        14.69         84.8      16.7   \n",
       "4 2021-08-11  00:48:54       14.88        14.69         87.4      16.0   \n",
       "\n",
       "   gas_umidity  gas_temp  dm3_gas  bio_id  phase_test  Month  Hour  \n",
       "0        84.50     16.93      0.0       1           0      8    22  \n",
       "1        84.45     15.83      0.0       1           0      8    23  \n",
       "2        84.35     15.22      0.0       1           0      8     0  \n",
       "3        84.15     14.58      0.0       1           0      8     0  \n",
       "4        84.10     14.18      0.0       1           0      8     0  "
      ]
     },
     "execution_count": 3,
     "metadata": {},
     "output_type": "execute_result"
    }
   ],
   "source": [
    "df.head()"
   ]
  },
  {
   "cell_type": "code",
   "execution_count": 4,
   "id": "d8ff3a21",
   "metadata": {},
   "outputs": [
    {
     "name": "stdout",
     "output_type": "stream",
     "text": [
      "<class 'pandas.core.frame.DataFrame'>\n",
      "RangeIndex: 44003 entries, 0 to 44002\n",
      "Data columns (total 13 columns):\n",
      " #   Column       Non-Null Count  Dtype         \n",
      "---  ------       --------------  -----         \n",
      " 0   date         44003 non-null  datetime64[ns]\n",
      " 1   hour         44003 non-null  object        \n",
      " 2   fluid_temp   44003 non-null  float64       \n",
      " 3   ground_temp  44003 non-null  float64       \n",
      " 4   air_umidity  44003 non-null  float64       \n",
      " 5   air_temp     44003 non-null  float64       \n",
      " 6   gas_umidity  16336 non-null  float64       \n",
      " 7   gas_temp     16341 non-null  float64       \n",
      " 8   dm3_gas      44003 non-null  float64       \n",
      " 9   bio_id       44003 non-null  int64         \n",
      " 10  phase_test   44003 non-null  int64         \n",
      " 11  Month        44003 non-null  int64         \n",
      " 12  Hour         44003 non-null  int64         \n",
      "dtypes: datetime64[ns](1), float64(7), int64(4), object(1)\n",
      "memory usage: 4.4+ MB\n"
     ]
    }
   ],
   "source": [
    "df.info()"
   ]
  },
  {
   "cell_type": "code",
   "execution_count": 5,
   "id": "daa46047",
   "metadata": {},
   "outputs": [
    {
     "data": {
      "text/plain": [
       "0.00    41268\n",
       "0.01     2735\n",
       "Name: dm3_gas, dtype: int64"
      ]
     },
     "execution_count": 5,
     "metadata": {},
     "output_type": "execute_result"
    }
   ],
   "source": [
    "df['dm3_gas'].value_counts()"
   ]
  },
  {
   "cell_type": "markdown",
   "id": "a6564849",
   "metadata": {},
   "source": [
    "From the value cout of dm3_gas, its notably that there are two classes of production either any gas was produced or not.\n",
    "\n",
    "Therefore we categorise the two entries"
   ]
  },
  {
   "cell_type": "code",
   "execution_count": 6,
   "id": "b36e0cfa",
   "metadata": {},
   "outputs": [],
   "source": [
    "#replacing the target values with 0 and 1\n",
    "\n",
    "df['dm3_gas'].replace({0.00: 0, 0.01: 1}, inplace=True)"
   ]
  },
  {
   "cell_type": "markdown",
   "id": "18542db8",
   "metadata": {},
   "source": [
    "impute missing values"
   ]
  },
  {
   "cell_type": "code",
   "execution_count": 7,
   "id": "523c55db",
   "metadata": {},
   "outputs": [],
   "source": [
    "df = df.fillna(0)"
   ]
  },
  {
   "cell_type": "code",
   "execution_count": 8,
   "id": "6d9ccd35",
   "metadata": {},
   "outputs": [
    {
     "data": {
      "text/html": [
       "<div>\n",
       "<style scoped>\n",
       "    .dataframe tbody tr th:only-of-type {\n",
       "        vertical-align: middle;\n",
       "    }\n",
       "\n",
       "    .dataframe tbody tr th {\n",
       "        vertical-align: top;\n",
       "    }\n",
       "\n",
       "    .dataframe thead th {\n",
       "        text-align: right;\n",
       "    }\n",
       "</style>\n",
       "<table border=\"1\" class=\"dataframe\">\n",
       "  <thead>\n",
       "    <tr style=\"text-align: right;\">\n",
       "      <th></th>\n",
       "      <th>date</th>\n",
       "      <th>hour</th>\n",
       "      <th>fluid_temp</th>\n",
       "      <th>ground_temp</th>\n",
       "      <th>air_umidity</th>\n",
       "      <th>air_temp</th>\n",
       "      <th>gas_umidity</th>\n",
       "      <th>gas_temp</th>\n",
       "      <th>dm3_gas</th>\n",
       "      <th>bio_id</th>\n",
       "      <th>phase_test</th>\n",
       "      <th>Month</th>\n",
       "      <th>Hour</th>\n",
       "    </tr>\n",
       "  </thead>\n",
       "  <tbody>\n",
       "    <tr>\n",
       "      <th>0</th>\n",
       "      <td>2021-08-10</td>\n",
       "      <td>22:48:53</td>\n",
       "      <td>14.81</td>\n",
       "      <td>14.69</td>\n",
       "      <td>66.7</td>\n",
       "      <td>18.8</td>\n",
       "      <td>84.50</td>\n",
       "      <td>16.93</td>\n",
       "      <td>0.0</td>\n",
       "      <td>1</td>\n",
       "      <td>0</td>\n",
       "      <td>8</td>\n",
       "      <td>22</td>\n",
       "    </tr>\n",
       "    <tr>\n",
       "      <th>1</th>\n",
       "      <td>2021-08-10</td>\n",
       "      <td>23:33:53</td>\n",
       "      <td>14.88</td>\n",
       "      <td>14.69</td>\n",
       "      <td>78.3</td>\n",
       "      <td>18.0</td>\n",
       "      <td>84.45</td>\n",
       "      <td>15.83</td>\n",
       "      <td>0.0</td>\n",
       "      <td>1</td>\n",
       "      <td>0</td>\n",
       "      <td>8</td>\n",
       "      <td>23</td>\n",
       "    </tr>\n",
       "    <tr>\n",
       "      <th>2</th>\n",
       "      <td>2021-08-11</td>\n",
       "      <td>00:03:55</td>\n",
       "      <td>14.88</td>\n",
       "      <td>14.69</td>\n",
       "      <td>83.2</td>\n",
       "      <td>17.4</td>\n",
       "      <td>84.35</td>\n",
       "      <td>15.22</td>\n",
       "      <td>0.0</td>\n",
       "      <td>1</td>\n",
       "      <td>0</td>\n",
       "      <td>8</td>\n",
       "      <td>0</td>\n",
       "    </tr>\n",
       "    <tr>\n",
       "      <th>3</th>\n",
       "      <td>2021-08-11</td>\n",
       "      <td>00:33:55</td>\n",
       "      <td>14.88</td>\n",
       "      <td>14.69</td>\n",
       "      <td>84.8</td>\n",
       "      <td>16.7</td>\n",
       "      <td>84.15</td>\n",
       "      <td>14.58</td>\n",
       "      <td>0.0</td>\n",
       "      <td>1</td>\n",
       "      <td>0</td>\n",
       "      <td>8</td>\n",
       "      <td>0</td>\n",
       "    </tr>\n",
       "    <tr>\n",
       "      <th>4</th>\n",
       "      <td>2021-08-11</td>\n",
       "      <td>00:48:54</td>\n",
       "      <td>14.88</td>\n",
       "      <td>14.69</td>\n",
       "      <td>87.4</td>\n",
       "      <td>16.0</td>\n",
       "      <td>84.10</td>\n",
       "      <td>14.18</td>\n",
       "      <td>0.0</td>\n",
       "      <td>1</td>\n",
       "      <td>0</td>\n",
       "      <td>8</td>\n",
       "      <td>0</td>\n",
       "    </tr>\n",
       "  </tbody>\n",
       "</table>\n",
       "</div>"
      ],
      "text/plain": [
       "        date      hour  fluid_temp  ground_temp  air_umidity  air_temp  \\\n",
       "0 2021-08-10  22:48:53       14.81        14.69         66.7      18.8   \n",
       "1 2021-08-10  23:33:53       14.88        14.69         78.3      18.0   \n",
       "2 2021-08-11  00:03:55       14.88        14.69         83.2      17.4   \n",
       "3 2021-08-11  00:33:55       14.88        14.69         84.8      16.7   \n",
       "4 2021-08-11  00:48:54       14.88        14.69         87.4      16.0   \n",
       "\n",
       "   gas_umidity  gas_temp  dm3_gas  bio_id  phase_test  Month  Hour  \n",
       "0        84.50     16.93      0.0       1           0      8    22  \n",
       "1        84.45     15.83      0.0       1           0      8    23  \n",
       "2        84.35     15.22      0.0       1           0      8     0  \n",
       "3        84.15     14.58      0.0       1           0      8     0  \n",
       "4        84.10     14.18      0.0       1           0      8     0  "
      ]
     },
     "execution_count": 8,
     "metadata": {},
     "output_type": "execute_result"
    }
   ],
   "source": [
    "df.head()"
   ]
  },
  {
   "cell_type": "markdown",
   "id": "e5a88705",
   "metadata": {},
   "source": [
    "Checking for outliers"
   ]
  },
  {
   "cell_type": "code",
   "execution_count": 9,
   "id": "a6433ae9",
   "metadata": {},
   "outputs": [
    {
     "data": {
      "image/png": "[encoded data removed]",
      "text/plain": [
       "<Figure size 750x350 with 1 Axes>"
      ]
     },
     "metadata": {},
     "output_type": "display_data"
    }
   ],
   "source": [
    "# Set the figure size\n",
    "plt.rcParams[\"figure.figsize\"] = [7.50, 3.50]\n",
    "plt.rcParams[\"figure.autolayout\"] = True\n",
    "\n",
    "# Plot the dataframe\n",
    "ax = df[['fluid_temp', 'ground_temp', 'air_umidity', 'air_temp', 'gas_umidity', 'gas_temp']].plot(kind='box', title='boxplot')\n",
    "\n",
    "# Display the plot\n",
    "plt.show()"
   ]
  },
  {
   "cell_type": "markdown",
   "id": "b78a0bb5",
   "metadata": {},
   "source": [
    "## Train Test Split"
   ]
  },
  {
   "cell_type": "code",
   "execution_count": 10,
   "id": "19f6eb68",
   "metadata": {},
   "outputs": [],
   "source": [
    "X = df.drop(columns = [\"dm3_gas\", \"date\", \"hour\"], axis=1)\n",
    "\n",
    "y = df['dm3_gas']"
   ]
  },
  {
   "cell_type": "code",
   "execution_count": 11,
   "id": "61798a6f",
   "metadata": {},
   "outputs": [
    {
     "data": {
      "text/plain": [
       "((35202, 10), (8801, 10), (35202,), (8801,))"
      ]
     },
     "execution_count": 11,
     "metadata": {},
     "output_type": "execute_result"
    }
   ],
   "source": [
    "from sklearn.model_selection import train_test_split\n",
    "\n",
    "X_train, X_test,y_train,  y_test = train_test_split(X, y, test_size=0.2, random_state=42)\n",
    "X_train.shape, X_test.shape,  y_train.shape, y_test.shape"
   ]
  },
  {
   "cell_type": "code",
   "execution_count": 12,
   "id": "673aeefa",
   "metadata": {},
   "outputs": [],
   "source": [
    "from sklearn.preprocessing import StandardScaler\n",
    "\n",
    "scaler = StandardScaler()\n",
    "X_train_scaled = pd.DataFrame(scaler.fit_transform(X_train))\n",
    "X_test_scaled = pd.DataFrame(scaler.fit_transform(X_test))"
   ]
  },
  {
   "cell_type": "code",
   "execution_count": null,
   "id": "558e8c53",
   "metadata": {},
   "outputs": [],
   "source": []
  },
  {
   "cell_type": "code",
   "execution_count": null,
   "id": "7830d51c",
   "metadata": {},
   "outputs": [],
   "source": []
  },
  {
   "cell_type": "markdown",
   "id": "9f1ed93d",
   "metadata": {},
   "source": [
    "## Models"
   ]
  },
  {
   "cell_type": "markdown",
   "id": "da13806a",
   "metadata": {},
   "source": [
    "Fitting in the datset into different models and evaluate which performs better."
   ]
  },
  {
   "cell_type": "code",
   "execution_count": 13,
   "id": "616fdeda",
   "metadata": {
    "scrolled": true
   },
   "outputs": [
    {
     "name": "stdout",
     "output_type": "stream",
     "text": [
      "RandomForestClassifier: 0.9352346324281332\n",
      "LogisticRegression: 0.9352346324281332\n",
      "SVC: 0.9352346324281332\n",
      "DecisionTreeClassifier: 0.9352346324281332\n",
      "GaussianNB: 0.7392341779343257\n",
      "KNeighborsClassifier: 0.9239859106919668\n"
     ]
    }
   ],
   "source": [
    "# Importing Models\n",
    "from sklearn.ensemble import RandomForestClassifier\n",
    "from sklearn.linear_model import LogisticRegression\n",
    "from sklearn.neighbors import KNeighborsClassifier\n",
    "from sklearn.svm import SVC\n",
    "from sklearn.tree import DecisionTreeClassifier\n",
    "from sklearn.naive_bayes import GaussianNB\n",
    "\n",
    "\n",
    "#models\n",
    "models = {\n",
    "    \"RandomForestClassifier\": RandomForestClassifier(n_estimators=100, max_depth=3, random_state=42),\n",
    "    \"LogisticRegression\": LogisticRegression(),\n",
    "    \"SVC\": SVC(kernel='linear', C=1),\n",
    "    \"DecisionTreeClassifier\": DecisionTreeClassifier(max_depth=3, random_state=42),\n",
    "    \"GaussianNB\" : GaussianNB(),\n",
    "    \"KNeighborsClassifier\" : KNeighborsClassifier()\n",
    "}\n",
    "\n",
    "# Fitting and printing the scores\n",
    "for name, model in models.items():\n",
    "    model.fit(X_train_scaled, y_train)\n",
    "    print(f\"{name}: {model.score(X_test_scaled, y_test)}\")"
   ]
  },
  {
   "cell_type": "markdown",
   "id": "4468a2ca",
   "metadata": {},
   "source": [
    "Except for GaussianNB the models performed fairly well for classififcation problem"
   ]
  },
  {
   "cell_type": "markdown",
   "id": "f398cf04",
   "metadata": {},
   "source": [
    "### Grid Search"
   ]
  },
  {
   "cell_type": "code",
   "execution_count": 14,
   "id": "da64ef4b",
   "metadata": {},
   "outputs": [
    {
     "name": "stderr",
     "output_type": "stream",
     "text": [
      "\n",
      "KeyboardInterrupt\n",
      "\n"
     ]
    }
   ],
   "source": [
    "from sklearn.model_selection import GridSearchCV\n",
    "\n",
    "param_grid = {'C': [0.1, 1, 10], 'kernel': ['linear', 'rbf']}\n",
    "\n",
    "grid_search = GridSearchCV(SVC(), param_grid, cv=5)\n",
    "\n",
    "grid_search_model = grid_search.fit(X_train_scaled, y_train)\n",
    "grid_search.best_params_"
   ]
  },
  {
   "cell_type": "code",
   "execution_count": null,
   "id": "cbcba9e6",
   "metadata": {
    "scrolled": true
   },
   "outputs": [],
   "source": [
    "grid_search_model.score(X_test_scaled, y_test)"
   ]
  },
  {
   "cell_type": "code",
   "execution_count": null,
   "id": "19a72b2b",
   "metadata": {},
   "outputs": [],
   "source": []
  },
  {
   "cell_type": "markdown",
   "id": "65c87985",
   "metadata": {},
   "source": [
    "## More Classifiers"
   ]
  },
  {
   "cell_type": "code",
   "execution_count": null,
   "id": "527d6dd0",
   "metadata": {},
   "outputs": [],
   "source": [
    "#Advanced models\n",
    "from sklearn.ensemble import BaggingClassifier\n",
    "from sklearn.ensemble import AdaBoostClassifier\n",
    "from sklearn.ensemble import GradientBoostingClassifier\n",
    "\n",
    "\n",
    "ad_models = {\n",
    "    \"BaggingClassifier\" : BaggingClassifier(),\n",
    "    \"AdaBoostClassifier\" : AdaBoostClassifier(n_estimators=50, learning_rate=1, random_state=42),\n",
    "    \"GradientBoostingClassifier\" : GradientBoostingClassifier(n_estimators=100, learning_rate=0.1, max_depth=3, random_state=42)\n",
    "   \n",
    "    \n",
    "}\n",
    "\n",
    "\n",
    "# Fitting and printing the scores\n",
    "for name, model in ad_models.items():\n",
    "    model.fit(X_train_scaled, y_train)\n",
    "    print(f\"{name}: {model.score(X_test_scaled, y_test)}\")"
   ]
  },
  {
   "cell_type": "code",
   "execution_count": null,
   "id": "e1f53b7e",
   "metadata": {},
   "outputs": [],
   "source": []
  },
  {
   "cell_type": "markdown",
   "id": "ae623825",
   "metadata": {},
   "source": [
    "## Random Forest"
   ]
  },
  {
   "cell_type": "code",
   "execution_count": 15,
   "id": "d2a4bf9a",
   "metadata": {},
   "outputs": [],
   "source": [
    "# Using Random Forest\n",
    "rfc = RandomForestClassifier()"
   ]
  },
  {
   "cell_type": "code",
   "execution_count": 16,
   "id": "60389760",
   "metadata": {},
   "outputs": [],
   "source": [
    "model = rfc.fit(X_train_scaled, y_train)"
   ]
  },
  {
   "cell_type": "code",
   "execution_count": 17,
   "id": "8df83cbc",
   "metadata": {},
   "outputs": [
    {
     "data": {
      "text/plain": [
       "0.9259175093739348"
      ]
     },
     "execution_count": 17,
     "metadata": {},
     "output_type": "execute_result"
    }
   ],
   "source": [
    "model.score(X_test_scaled, y_test)"
   ]
  },
  {
   "cell_type": "code",
   "execution_count": 18,
   "id": "cc896d87",
   "metadata": {},
   "outputs": [],
   "source": [
    "preds = model.predict(X_train_scaled)"
   ]
  },
  {
   "cell_type": "code",
   "execution_count": 19,
   "id": "c553f0c4",
   "metadata": {},
   "outputs": [],
   "source": [
    "df_pred = pd.DataFrame({'preds' : preds,\n",
    "                        'Hour' : X_train.Hour,\n",
    "                        'dm3' : y_train.values}\n",
    "                )"
   ]
  },
  {
   "cell_type": "code",
   "execution_count": null,
   "id": "52401e1f",
   "metadata": {},
   "outputs": [],
   "source": []
  },
  {
   "cell_type": "code",
   "execution_count": 20,
   "id": "30f98248",
   "metadata": {},
   "outputs": [
    {
     "data": {
      "text/plain": [
       "['rfc_model1.pkl']"
      ]
     },
     "execution_count": 20,
     "metadata": {},
     "output_type": "execute_result"
    }
   ],
   "source": [
    "# import joblib\n",
    "# import os\n",
    "# # Save the best model to a file\n",
    "# joblib.dump(model, \"rfc_model1.pkl\")"
   ]
  },
  {
   "cell_type": "code",
   "execution_count": null,
   "id": "b620c141",
   "metadata": {},
   "outputs": [],
   "source": []
  },
  {
   "cell_type": "markdown",
   "id": "3f5801ec",
   "metadata": {},
   "source": [
    "## Feature Importance"
   ]
  },
  {
   "cell_type": "code",
   "execution_count": 24,
   "id": "695453d9",
   "metadata": {},
   "outputs": [
    {
     "data": {
      "text/plain": [
       "((35202, 8), (8801, 8), (35202,), (8801,))"
      ]
     },
     "execution_count": 24,
     "metadata": {},
     "output_type": "execute_result"
    }
   ],
   "source": [
    "# dropping unnecessary features\n",
    "\n",
    "X_feat_import = df.drop(columns = [\"dm3_gas\", \"date\", \"hour\", \"dm3_gas\", \"bio_id\",  \"phase_test\"], axis=1)\n",
    "X_feat_import = X_feat_import.fillna(0)\n",
    "y_feat_import = df['dm3_gas']\n",
    "\n",
    "\n",
    "X_train_feat_import, X_test_feat_import,y_train_feat_import,  y_test_feat_import = train_test_split(X_feat_import, y_feat_import, test_size=0.2, random_state=42)\n",
    "X_train_feat_import.shape, X_test_feat_import.shape,  y_train_feat_import.shape, y_test_feat_import.shape"
   ]
  },
  {
   "cell_type": "code",
   "execution_count": 25,
   "id": "458618c9",
   "metadata": {},
   "outputs": [],
   "source": [
    "from sklearn.preprocessing import MinMaxScaler\n",
    "\n",
    "feat_import_scaler = MinMaxScaler()\n",
    "X_train_scaled_feat_import = pd.DataFrame(feat_import_scaler.fit_transform(X_train_feat_import))\n",
    "X_test_scaled_feat_import = pd.DataFrame(feat_import_scaler.fit_transform(X_test_feat_import))"
   ]
  },
  {
   "cell_type": "markdown",
   "id": "3e242983",
   "metadata": {},
   "source": [
    "\n",
    "### 1.0 Logistic Regression;  feature weights"
   ]
  },
  {
   "cell_type": "code",
   "execution_count": 26,
   "id": "3adad69e",
   "metadata": {},
   "outputs": [
    {
     "name": "stdout",
     "output_type": "stream",
     "text": [
      "Coefficients for Features: [[ 3.57233163  1.33566647  1.38289755 -0.59241841 -1.12949132  3.23235945\n",
      "  -1.1073368   0.02842804]]\n"
     ]
    }
   ],
   "source": [
    "#Logistic Regression\n",
    "\n",
    "lr = LogisticRegression()\n",
    "lr_model = lr.fit(X_train_scaled_feat_import, y_train_feat_import)\n",
    "\n",
    "#feature weights\n",
    "feature_weights = lr_model.coef_\n",
    "\n",
    "#Output\n",
    "print(\"Coefficients for Features:\", feature_weights)"
   ]
  },
  {
   "cell_type": "markdown",
   "id": "45852f03",
   "metadata": {},
   "source": [
    "### 2.0 RandomForestClassifier;  fearture of importance"
   ]
  },
  {
   "cell_type": "code",
   "execution_count": 27,
   "id": "42a24761",
   "metadata": {},
   "outputs": [
    {
     "name": "stdout",
     "output_type": "stream",
     "text": [
      "Coefficients for Features: [0.1315339  0.1144733  0.23912579 0.23696761 0.04701146 0.04621767\n",
      " 0.05275886 0.13191142]\n"
     ]
    }
   ],
   "source": [
    "#RandomForest Classifier\n",
    "rfc = RandomForestClassifier()\n",
    "rfc_model = rfc.fit(X_train_scaled_feat_import, y_train_feat_import)\n",
    "\n",
    "feature_importances = rfc_model.feature_importances_\n",
    "print(\"Coefficients for Features:\", feature_importances)"
   ]
  },
  {
   "cell_type": "code",
   "execution_count": 28,
   "id": "2c7b38a3",
   "metadata": {},
   "outputs": [],
   "source": [
    "ranks = pd.DataFrame({ \"features\" : X_train_feat_import.columns,\n",
    "    \"rfc_features\" : feature_importances,\n",
    "                        \"logist_features\" : feature_weights.flatten()\n",
    "                       })"
   ]
  },
  {
   "cell_type": "code",
   "execution_count": null,
   "id": "dbf1116d",
   "metadata": {},
   "outputs": [],
   "source": []
  },
  {
   "cell_type": "code",
   "execution_count": null,
   "id": "34133168",
   "metadata": {},
   "outputs": [],
   "source": []
  },
  {
   "cell_type": "markdown",
   "id": "61dbc33b",
   "metadata": {},
   "source": [
    "## using lightgbm"
   ]
  },
  {
   "cell_type": "code",
   "execution_count": 29,
   "id": "8da94304",
   "metadata": {},
   "outputs": [
    {
     "name": "stdout",
     "output_type": "stream",
     "text": [
      "[LightGBM] [Info] Number of positive: 2165, number of negative: 33037\n",
      "[LightGBM] [Info] Auto-choosing row-wise multi-threading, the overhead of testing was 0.003111 seconds.\n",
      "You can set `force_row_wise=true` to remove the overhead.\n",
      "And if memory is not enough, you can set `force_col_wise=true`.\n",
      "[LightGBM] [Info] Total Bins 1390\n",
      "[LightGBM] [Info] Number of data points in the train set: 35202, number of used features: 10\n",
      "[LightGBM] [Info] [binary:BoostFromScore]: pavg=0.061502 -> initscore=-2.725208\n",
      "[LightGBM] [Info] Start training from score -2.725208\n"
     ]
    },
    {
     "data": {
      "text/plain": [
       "0.9348937620724918"
      ]
     },
     "execution_count": 29,
     "metadata": {},
     "output_type": "execute_result"
    }
   ],
   "source": [
    "import lightgbm as lgb\n",
    "lgb =lgb.LGBMClassifier()\n",
    "model = lgb.fit(X_train_scaled, y_train)\n",
    "model.score(X_test_scaled, y_test)"
   ]
  },
  {
   "cell_type": "code",
   "execution_count": null,
   "id": "6d9ccf67",
   "metadata": {},
   "outputs": [],
   "source": []
  },
  {
   "cell_type": "code",
   "execution_count": 30,
   "id": "6a6657f0",
   "metadata": {},
   "outputs": [],
   "source": [
    "#pip install lightgbm"
   ]
  },
  {
   "cell_type": "code",
   "execution_count": 31,
   "id": "a2013595",
   "metadata": {},
   "outputs": [],
   "source": [
    "import numpy as np\n",
    "import lightgbm as lgb\n",
    "\n",
    "# Initialize an empty array to hold feature importances\n",
    "feature_importances = np.zeros(X_train_feat_import.shape[1])\n",
    "\n",
    "# Create the model with several hyperparameters\n",
    "model = lgb.LGBMClassifier(objective='binary', boosting_type = 'goss', n_estimators = 10000, class_weight = 'balanced')"
   ]
  },
  {
   "cell_type": "code",
   "execution_count": 32,
   "id": "7e224a05",
   "metadata": {},
   "outputs": [
    {
     "name": "stdout",
     "output_type": "stream",
     "text": [
      "[LightGBM] [Warning] Found boosting=goss. For backwards compatibility reasons, LightGBM interprets this as boosting=gbdt, data_sample_strategy=goss.To suppress this warning, set data_sample_strategy=goss instead.\n",
      "[LightGBM] [Warning] Found boosting=goss. For backwards compatibility reasons, LightGBM interprets this as boosting=gbdt, data_sample_strategy=goss.To suppress this warning, set data_sample_strategy=goss instead.\n",
      "[LightGBM] [Info] Number of positive: 1506, number of negative: 23135\n",
      "[LightGBM] [Info] Auto-choosing col-wise multi-threading, the overhead of testing was 0.003625 seconds.\n",
      "You can set `force_col_wise=true` to remove the overhead.\n",
      "[LightGBM] [Info] Total Bins 1402\n",
      "[LightGBM] [Info] Number of data points in the train set: 24641, number of used features: 8\n",
      "[LightGBM] [Info] Using GOSS\n",
      "[LightGBM] [Warning] Found boosting=goss. For backwards compatibility reasons, LightGBM interprets this as boosting=gbdt, data_sample_strategy=goss.To suppress this warning, set data_sample_strategy=goss instead.\n",
      "[LightGBM] [Info] [binary:BoostFromScore]: pavg=0.500000 -> initscore=-0.000000\n",
      "[LightGBM] [Info] Start training from score -0.000000\n",
      "[LightGBM] [Warning] Found boosting=goss. For backwards compatibility reasons, LightGBM interprets this as boosting=gbdt, data_sample_strategy=goss.To suppress this warning, set data_sample_strategy=goss instead.\n",
      "[LightGBM] [Warning] Found boosting=goss. For backwards compatibility reasons, LightGBM interprets this as boosting=gbdt, data_sample_strategy=goss.To suppress this warning, set data_sample_strategy=goss instead.\n",
      "[LightGBM] [Info] Number of positive: 1497, number of negative: 23144\n",
      "[LightGBM] [Info] Auto-choosing col-wise multi-threading, the overhead of testing was 0.002414 seconds.\n",
      "You can set `force_col_wise=true` to remove the overhead.\n",
      "[LightGBM] [Info] Total Bins 1404\n",
      "[LightGBM] [Info] Number of data points in the train set: 24641, number of used features: 8\n",
      "[LightGBM] [Info] Using GOSS\n",
      "[LightGBM] [Warning] Found boosting=goss. For backwards compatibility reasons, LightGBM interprets this as boosting=gbdt, data_sample_strategy=goss.To suppress this warning, set data_sample_strategy=goss instead.\n",
      "[LightGBM] [Info] [binary:BoostFromScore]: pavg=0.500000 -> initscore=0.000000\n",
      "[LightGBM] [Info] Start training from score 0.000000\n"
     ]
    }
   ],
   "source": [
    "# Fit the model twice to avoid overfitting\n",
    "for i in range(2):\n",
    "    \n",
    "    # Split into training and validation set\n",
    "    train_features, valid_features, train_y, valid_y = train_test_split(X_train_feat_import, y_train_feat_import, test_size = 0.3, random_state = i)\n",
    "    \n",
    "    # Train using early stopping\n",
    "    model.fit(train_features, train_y,  eval_set = [(valid_features, valid_y)], \n",
    "              eval_metric = 'auc')\n",
    "    \n",
    "    # Record the feature importances\n",
    "    feature_importances += model.feature_importances_"
   ]
  },
  {
   "cell_type": "code",
   "execution_count": 33,
   "id": "0eae54c6",
   "metadata": {
    "scrolled": true
   },
   "outputs": [
    {
     "data": {
      "text/html": [
       "<div>\n",
       "<style scoped>\n",
       "    .dataframe tbody tr th:only-of-type {\n",
       "        vertical-align: middle;\n",
       "    }\n",
       "\n",
       "    .dataframe tbody tr th {\n",
       "        vertical-align: top;\n",
       "    }\n",
       "\n",
       "    .dataframe thead th {\n",
       "        text-align: right;\n",
       "    }\n",
       "</style>\n",
       "<table border=\"1\" class=\"dataframe\">\n",
       "  <thead>\n",
       "    <tr style=\"text-align: right;\">\n",
       "      <th></th>\n",
       "      <th>feature</th>\n",
       "      <th>importance</th>\n",
       "    </tr>\n",
       "  </thead>\n",
       "  <tbody>\n",
       "    <tr>\n",
       "      <th>3</th>\n",
       "      <td>air_temp</td>\n",
       "      <td>165326.0</td>\n",
       "    </tr>\n",
       "    <tr>\n",
       "      <th>2</th>\n",
       "      <td>air_umidity</td>\n",
       "      <td>159592.0</td>\n",
       "    </tr>\n",
       "    <tr>\n",
       "      <th>7</th>\n",
       "      <td>Hour</td>\n",
       "      <td>74523.0</td>\n",
       "    </tr>\n",
       "    <tr>\n",
       "      <th>0</th>\n",
       "      <td>fluid_temp</td>\n",
       "      <td>67914.0</td>\n",
       "    </tr>\n",
       "    <tr>\n",
       "      <th>1</th>\n",
       "      <td>ground_temp</td>\n",
       "      <td>63562.0</td>\n",
       "    </tr>\n",
       "  </tbody>\n",
       "</table>\n",
       "</div>"
      ],
      "text/plain": [
       "       feature  importance\n",
       "3     air_temp    165326.0\n",
       "2  air_umidity    159592.0\n",
       "7         Hour     74523.0\n",
       "0   fluid_temp     67914.0\n",
       "1  ground_temp     63562.0"
      ]
     },
     "execution_count": 33,
     "metadata": {},
     "output_type": "execute_result"
    }
   ],
   "source": [
    "x = feature_importances / 2\n",
    "lgb_feature_importances = pd.DataFrame({'feature': list(X_train_feat_import.columns), \n",
    "                                    'importance': feature_importances}).sort_values('importance', ascending = False)\n",
    "\n",
    "lgb_feature_importances.head()"
   ]
  },
  {
   "cell_type": "code",
   "execution_count": null,
   "id": "5de086a3",
   "metadata": {},
   "outputs": [],
   "source": []
  },
  {
   "cell_type": "code",
   "execution_count": null,
   "id": "ddefa03c",
   "metadata": {},
   "outputs": [],
   "source": []
  },
  {
   "cell_type": "markdown",
   "id": "1aeee85c",
   "metadata": {},
   "source": [
    "### Mutual information classifier"
   ]
  },
  {
   "cell_type": "code",
   "execution_count": 34,
   "id": "f53c5fed",
   "metadata": {},
   "outputs": [
    {
     "data": {
      "text/plain": [
       "array([0.02858802, 0.02112903, 0.00865959, 0.00211919, 0.01247002,\n",
       "       0.00729843, 0.03060286, 0.00342759])"
      ]
     },
     "execution_count": 34,
     "metadata": {},
     "output_type": "execute_result"
    }
   ],
   "source": [
    "from sklearn.feature_selection import SelectKBest, mutual_info_classif\n",
    "\n",
    "selector = SelectKBest(mutual_info_classif, k='all')\n",
    "selector.fit(X_train_feat_import, y_train_feat_import)\n",
    "\n",
    "mutual_feature_scores = selector.scores_\n",
    "mutual_feature_scores"
   ]
  },
  {
   "cell_type": "code",
   "execution_count": 35,
   "id": "3441f5c5",
   "metadata": {},
   "outputs": [],
   "source": [
    "mutual_features = pd.DataFrame({ \"features\" : X_train_feat_import.columns,\n",
    "    \"mutual_features\" : mutual_feature_scores,\n",
    "                       \n",
    "                       }).sort_values('mutual_features', ascending = False)"
   ]
  },
  {
   "cell_type": "code",
   "execution_count": null,
   "id": "10784019",
   "metadata": {},
   "outputs": [],
   "source": []
  },
  {
   "cell_type": "code",
   "execution_count": null,
   "id": "0a88e77d",
   "metadata": {},
   "outputs": [],
   "source": []
  },
  {
   "cell_type": "markdown",
   "id": "b263e8c6",
   "metadata": {},
   "source": [
    "### Chi-square"
   ]
  },
  {
   "cell_type": "markdown",
   "id": "4de5b206",
   "metadata": {},
   "source": [
    "For Chi cannot feature entries which negatives another normalizer is used"
   ]
  },
  {
   "cell_type": "code",
   "execution_count": 36,
   "id": "57e895b5",
   "metadata": {},
   "outputs": [],
   "source": [
    "from sklearn.preprocessing import MinMaxScaler\n",
    "\n",
    "mmscaler = MinMaxScaler()\n",
    "X_train_scaledm = pd.DataFrame(mmscaler.fit_transform(X_train))\n",
    "X_test_scaledm = pd.DataFrame(mmscaler.fit_transform(X_test))"
   ]
  },
  {
   "cell_type": "code",
   "execution_count": 37,
   "id": "023ae0d8",
   "metadata": {},
   "outputs": [
    {
     "data": {
      "text/plain": [
       "array([  1.54187281,   0.72478957,   3.82818582,   0.34251763,\n",
       "        90.44145761,   5.07467627, 119.33258845,   0.57301141])"
      ]
     },
     "execution_count": 37,
     "metadata": {},
     "output_type": "execute_result"
    }
   ],
   "source": [
    "#needs non-negative inputs\n",
    "\n",
    "from sklearn.feature_selection import SelectKBest, chi2\n",
    "\n",
    "selector = SelectKBest(chi2, k='all')\n",
    "selector.fit(X_train_scaled_feat_import, y_train_feat_import)\n",
    "\n",
    "chi2_scores = selector.scores_\n",
    "chi2_scores"
   ]
  },
  {
   "cell_type": "code",
   "execution_count": 38,
   "id": "dc85035a",
   "metadata": {},
   "outputs": [],
   "source": [
    "chi_features = pd.DataFrame({ \"features\" : X_train_feat_import.columns,\n",
    "    \"chi_features\" : chi2_scores,\n",
    "                       \n",
    "                       }).sort_values('chi_features', ascending = False)"
   ]
  },
  {
   "cell_type": "markdown",
   "id": "b4413881",
   "metadata": {},
   "source": [
    "## Ploting the different graphs\n",
    "\n",
    "\n",
    "Below are plots for different selected features by different methods and models, They vary based on the criterias."
   ]
  },
  {
   "cell_type": "code",
   "execution_count": 40,
   "id": "4f0ce713",
   "metadata": {},
   "outputs": [
    {
     "data": {
      "image/png": "[encoded data removed]",
      "text/plain": [
       "<Figure size 750x350 with 1 Axes>"
      ]
     },
     "metadata": {},
     "output_type": "display_data"
    },
    {
     "data": {
      "image/png": "[encoded data removed]",
      "text/plain": [
       "<Figure size 750x350 with 1 Axes>"
      ]
     },
     "metadata": {},
     "output_type": "display_data"
    },
    {
     "data": {
      "image/png": "[encoded data removed]",
      "text/plain": [
       "<Figure size 750x350 with 1 Axes>"
      ]
     },
     "metadata": {},
     "output_type": "display_data"
    },
    {
     "data": {
      "image/png": "[encoded data removed]",
      "text/plain": [
       "<Figure size 750x350 with 1 Axes>"
      ]
     },
     "metadata": {},
     "output_type": "display_data"
    }
   ],
   "source": [
    "import matplotlib.pyplot as plt\n",
    "import pandas as pd\n",
    "import seaborn as sns\n",
    "\n",
    "# Create a figure and axis\n",
    "fig, ax = plt.subplots()\n",
    "\n",
    "# Set the width of each bar\n",
    "bar_width = 0.35\n",
    "\n",
    "# Calculate the x positions for the bars\n",
    "x = range(len(ranks['features']))\n",
    "\n",
    "# Plot the bars for RFC features\n",
    "ax.bar(x, ranks['rfc_features'], width=bar_width, label='RFC Features')\n",
    "\n",
    "# Adjust x positions for the bars of Logistic Regression features\n",
    "x = [i + bar_width for i in x]\n",
    "\n",
    "# Plot the bars for Logistic Regression features\n",
    "ax.bar(x, ranks['logist_features'], width=bar_width, label='Logistic Features')\n",
    "\n",
    "# Set x-axis labels\n",
    "ax.set_xticks([i + bar_width / 2 for i in range(len(ranks['features']))])\n",
    "ax.set_xticklabels(ranks['features'], rotation=90)\n",
    "\n",
    "# Add a legend\n",
    "ax.legend()\n",
    "\n",
    "# Add labels and title\n",
    "ax.set_xlabel('Columns')\n",
    "ax.set_ylabel('Feature Values')\n",
    "ax.set_title('Comparison of RFC Features and Logistic Features')\n",
    "\n",
    "# Show the plot\n",
    "plt.tight_layout()\n",
    "plt.show()\n",
    "\n",
    "\n",
    "\n",
    "\n",
    "# lightgbm features weights\n",
    "sns.barplot(x=\"feature\", y=\"importance\", data=lgb_feature_importances)\n",
    "plt.xticks(rotation=90)\n",
    "plt.title(\"lgb feature importance\")\n",
    "plt.show()\n",
    "\n",
    "\n",
    "# mutual features\n",
    "sns.barplot(x=\"features\", y=\"mutual_features\", data=mutual_features)\n",
    "plt.xticks(rotation=90)\n",
    "plt.title(\"Mutual feature importance\")\n",
    "plt.show()\n",
    "\n",
    "\n",
    "# Chi features\n",
    "sns.barplot(x=\"features\", y=\"chi_features\", data=chi_features)\n",
    "plt.xticks(rotation=90)\n",
    "plt.title(\"Chi feature importance\")\n",
    "plt.show()"
   ]
  },
  {
   "cell_type": "markdown",
   "id": "7972b97b",
   "metadata": {},
   "source": [
    "Gas Temperatures seems to have weights in most of the models\n",
    "\n",
    "Considering Logistic regression (since its the most reliable in binary classifcation) selected features its evident that Fluid_temp and gas_temp carries more weight."
   ]
  },
  {
   "cell_type": "code",
   "execution_count": null,
   "id": "81f37c6e",
   "metadata": {},
   "outputs": [],
   "source": []
  },
  {
   "cell_type": "code",
   "execution_count": null,
   "id": "0ce79647",
   "metadata": {},
   "outputs": [],
   "source": [
    "import pandas as pd\n",
    "from sklearn.preprocessing import StandardScaler\n",
    "from sklearn.model_selection import train_test_split"
   ]
  },
  {
   "cell_type": "code",
   "execution_count": null,
   "id": "8fd088da",
   "metadata": {},
   "outputs": [],
   "source": [
    "df = pd.read_csv(\"biogasdf_ready.csv\", parse_dates=['date'])\n",
    "df['Month'] = df['date'].dt.month\n",
    "df['Hour'] = pd.to_datetime(df['hour'], format='%H:%M:%S').dt.hour"
   ]
  },
  {
   "cell_type": "code",
   "execution_count": null,
   "id": "c74e4ea0",
   "metadata": {},
   "outputs": [],
   "source": [
    "bio1_phase0 = df[(df['bio_id'] == 1) & (df['phase_test'] == 0)].reset_index()\n",
    "bio1_phase1 = df[(df['bio_id'] == 1) & (df['phase_test'] == 1)].reset_index()\n",
    "bio1_phase2 = df[(df['bio_id'] == 1) & (df['phase_test'] == 2)].reset_index()\n",
    "bio1_phase3 = df[(df['bio_id'] == 1) & (df['phase_test'] == 3)].reset_index()\n",
    "bio2_phase0 = df[(df['bio_id'] == 2) & (df['phase_test'] == 0)].reset_index()\n",
    "bio2_phase1 = df[(df['bio_id'] == 2) & (df['phase_test'] == 1)].reset_index()\n",
    "bio2_phase2 = df[(df['bio_id'] == 2) & (df['phase_test'] == 2)].reset_index()\n",
    "bio2_phase3 = df[(df['bio_id'] == 2) & (df['phase_test'] == 3)].reset_index()"
   ]
  },
  {
   "cell_type": "markdown",
   "id": "a55ae8a8",
   "metadata": {},
   "source": [
    "Compared to other set of datasets, bio1 phase2 has alittle more balanced"
   ]
  },
  {
   "cell_type": "code",
   "execution_count": null,
   "id": "03c488cc",
   "metadata": {},
   "outputs": [],
   "source": [
    "df12 = bio1_phase2"
   ]
  },
  {
   "cell_type": "code",
   "execution_count": null,
   "id": "b16f2f6b",
   "metadata": {},
   "outputs": [],
   "source": [
    "#replacing the target values with 0 and 1\n",
    "\n",
    "df12['dm3_gas'].replace({0.00: 0, 0.01: 1}, inplace=True)"
   ]
  },
  {
   "cell_type": "code",
   "execution_count": null,
   "id": "129e24d5",
   "metadata": {
    "scrolled": false
   },
   "outputs": [],
   "source": [
    "df12.dm3_gas.value_counts()"
   ]
  },
  {
   "cell_type": "code",
   "execution_count": null,
   "id": "6005bb48",
   "metadata": {},
   "outputs": [],
   "source": [
    "df12 = df12.fillna(0)"
   ]
  },
  {
   "cell_type": "code",
   "execution_count": null,
   "id": "b60a2f7e",
   "metadata": {},
   "outputs": [],
   "source": [
    "df12.isnull().sum()"
   ]
  },
  {
   "cell_type": "code",
   "execution_count": null,
   "id": "f92d4ef9",
   "metadata": {},
   "outputs": [],
   "source": [
    "df12.head(3)"
   ]
  },
  {
   "cell_type": "code",
   "execution_count": null,
   "id": "731ce35d",
   "metadata": {},
   "outputs": [],
   "source": [
    "X_df12 = df12.drop(columns = ['dm3_gas','index', 'date', 'hour' ], axis=1)\n",
    "y_df12 = df12['dm3_gas']"
   ]
  },
  {
   "cell_type": "code",
   "execution_count": null,
   "id": "e287ff89",
   "metadata": {},
   "outputs": [],
   "source": [
    "X_train_df12, X_test_df12, y_train_df12, y_test_df12 = train_test_split(X_df12, y_df12, test_size=0.2, random_state=42)"
   ]
  },
  {
   "cell_type": "code",
   "execution_count": null,
   "id": "3894405c",
   "metadata": {},
   "outputs": [],
   "source": [
    "scaler = StandardScaler()\n",
    "X_train_df12_scaled = scaler.fit_transform(X_train_df12)\n",
    "X_test_df12_scaled = scaler.fit_transform(X_test_df12)"
   ]
  },
  {
   "cell_type": "code",
   "execution_count": null,
   "id": "bea47cbc",
   "metadata": {},
   "outputs": [],
   "source": [
    "#pip install --upgrade scikit-learn imbalanced-learn"
   ]
  },
  {
   "cell_type": "code",
   "execution_count": null,
   "id": "a15738e6",
   "metadata": {},
   "outputs": [],
   "source": [
    "from imblearn.over_sampling import RandomOverSampler\n",
    "ros = RandomOverSampler(sampling_strategy='minority')\n",
    "X_resampled, y_resampled = ros.fit_resample(X_train_df12_scaled, y_train_df12)"
   ]
  },
  {
   "cell_type": "code",
   "execution_count": null,
   "id": "c3772f17",
   "metadata": {},
   "outputs": [],
   "source": [
    "X_resampled.shape, y_resampled.shape"
   ]
  },
  {
   "cell_type": "code",
   "execution_count": null,
   "id": "d0ec58b7",
   "metadata": {},
   "outputs": [],
   "source": [
    "from imblearn.under_sampling import RandomUnderSampler\n",
    "rus = RandomUnderSampler(sampling_strategy='majority')\n",
    "X_resampled, y_resampled = rus.fit_resample(X_train_df12_scaled, y_train_df12)"
   ]
  },
  {
   "cell_type": "code",
   "execution_count": null,
   "id": "f97ba041",
   "metadata": {},
   "outputs": [],
   "source": [
    "# Importing Models\n",
    "from sklearn.ensemble import RandomForestClassifier\n",
    "from sklearn.linear_model import LogisticRegression\n",
    "from sklearn.neighbors import KNeighborsClassifier\n",
    "from sklearn.svm import SVC\n",
    "from sklearn.tree import DecisionTreeClassifier\n",
    "from sklearn.naive_bayes import GaussianNB\n",
    "\n",
    "\n",
    "#models\n",
    "models = {\n",
    "    \"RandomForestClassifier\": RandomForestClassifier(n_estimators=100, max_depth=3, random_state=42),\n",
    "    \"LogisticRegression\": LogisticRegression(),\n",
    "    \"SVC\": SVC(kernel='linear', C=1),\n",
    "    \"DecisionTreeClassifier\": DecisionTreeClassifier(max_depth=3, random_state=42),\n",
    "    \"GaussianNB\" : GaussianNB(),\n",
    "    \"KNeighborsClassifier\" : KNeighborsClassifier()\n",
    "}\n",
    "\n",
    "# Fitting and printing the scores\n",
    "for name, model in models.items():\n",
    "    model.fit(X_train_df12_scaled, y_train_df12)\n",
    "    print(f\"{name}: {model.score(X_test_df12_scaled, y_test_df12)}\")"
   ]
  },
  {
   "cell_type": "markdown",
   "id": "323c4d9e",
   "metadata": {},
   "source": [
    "### In the interest of making actual plot, using the actual data points to the gs production as well as line of best fit."
   ]
  },
  {
   "cell_type": "code",
   "execution_count": null,
   "id": "a9aef503",
   "metadata": {},
   "outputs": [],
   "source": [
    "slope1, intercept1 = np.polyfit(df12.fluid_temp, df12.ground_temp, 1)\n",
    "\n",
    "#1.2 for the predicted values\n",
    "#slope2, intercept2 = np.polyfit(X_train, y_train, 1)\n",
    "# Create the regression line equations for both actual and predicted values\n",
    "plt.figure(figsize=(8,5))\n",
    "regression_line1 = slope1 * df12.fluid_temp + intercept1\n",
    "#regression_line2 = slope2 * x + intercept2\n",
    "\n",
    "# Plot the data points\n",
    "plt.scatter(df12.fluid_temp, df12.ground_temp, c = df12.dm3_gas, label=\"Gas Production\")\n",
    "#plt.scatter(x, y_pred, label=\"Predicted Values\")\n",
    "\n",
    "# Plot the regression line\n",
    "plt.plot(df12.fluid_temp, regression_line1, color='red', label=\"actual Linear Regression Line\")\n",
    "#plt.plot(x, regression_line2, color='green', label=\"predicted Linear Regression Line\")\n",
    "\n",
    "\n",
    "# Title, labels and a legend\n",
    "plt.title(\"Gas production 0 & 1\")\n",
    "plt.xlabel(\"ground_temp\")\n",
    "plt.ylabel(\"fluid_temp\")\n",
    "#plt.xticks(np.arange(15,44,3))\n",
    "plt.legend()\n",
    "plt.grid()\n",
    "\n",
    "# Show the plot\n",
    "plt.show()"
   ]
  },
  {
   "cell_type": "markdown",
   "id": "a5a6f60d",
   "metadata": {},
   "source": [
    "The bright dots shows points where gas production is happening."
   ]
  },
  {
   "cell_type": "code",
   "execution_count": null,
   "id": "c19e60bb",
   "metadata": {},
   "outputs": [],
   "source": []
  },
  {
   "cell_type": "code",
   "execution_count": null,
   "id": "400dbd98",
   "metadata": {},
   "outputs": [],
   "source": [
    "ranks = ranks.sort_values(by=\"logist_features\", ascending=False)\n",
    "plt.bar(ranks.features, ranks.logist_features)\n",
    "plt.xticks(rotation=90)\n",
    "plt.title(\"Logistic Feature importance\")\n",
    "plt.show()"
   ]
  },
  {
   "cell_type": "code",
   "execution_count": null,
   "id": "588c727d",
   "metadata": {},
   "outputs": [],
   "source": [
    "ranks = ranks.sort_values(by=\"rfc_features\", ascending=False)\n",
    "plt.bar(ranks.features, ranks.rfc_features)\n",
    "plt.xticks(rotation=90)\n",
    "plt.title(\"RandomForest Feature importance\")\n",
    "plt.show()"
   ]
  }
 ],
 "metadata": {
  "kernelspec": {
   "display_name": "Python 3 (ipykernel)",
   "language": "python",
   "name": "python3"
  },
  "language_info": {
   "codemirror_mode": {
    "name": "ipython",
    "version": 3
   },
   "file_extension": ".py",
   "mimetype": "text/x-python",
   "name": "python",
   "nbconvert_exporter": "python",
   "pygments_lexer": "ipython3",
   "version": "3.11.4"
  }
 },
 "nbformat": 4,
 "nbformat_minor": 5
}
