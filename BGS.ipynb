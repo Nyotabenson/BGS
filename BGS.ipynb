{
 "cells": [
  {
   "cell_type": "markdown",
   "id": "43742b16",
   "metadata": {},
   "source": [
    "<h1 style=\"font-size:4rem;color:blue;\">BGS Biodigestor experiment production analysis</h1>"
   ]
  },
  {
   "cell_type": "markdown",
   "id": "db7df162",
   "metadata": {},
   "source": [
    "### Libraries"
   ]
  },
  {
   "cell_type": "code",
   "execution_count": 1,
   "id": "fe9d2687",
   "metadata": {},
   "outputs": [],
   "source": [
    "import pandas as pd\n",
    "import numpy as np\n",
    "import matplotlib.pyplot as plt\n",
    "import seaborn as sns\n",
    "import plotly.express as px\n",
    "\n",
    "\n",
    "\n",
    "%matplotlib inline\n",
    "import warnings\n",
    "warnings.filterwarnings('ignore')"
   ]
  },
  {
   "cell_type": "markdown",
   "id": "05d71d79",
   "metadata": {},
   "source": [
    "### Dataset"
   ]
  },
  {
   "cell_type": "code",
   "execution_count": 4,
   "id": "1736dc14",
   "metadata": {},
   "outputs": [],
   "source": [
    "df = pd.read_csv(\"biogasdf_ready.csv\", parse_dates=['date'])"
   ]
  },
  {
   "cell_type": "code",
   "execution_count": 5,
   "id": "06f8872e",
   "metadata": {
    "scrolled": true
   },
   "outputs": [
    {
     "data": {
      "text/html": [
       "<div>\n",
       "<style scoped>\n",
       "    .dataframe tbody tr th:only-of-type {\n",
       "        vertical-align: middle;\n",
       "    }\n",
       "\n",
       "    .dataframe tbody tr th {\n",
       "        vertical-align: top;\n",
       "    }\n",
       "\n",
       "    .dataframe thead th {\n",
       "        text-align: right;\n",
       "    }\n",
       "</style>\n",
       "<table border=\"1\" class=\"dataframe\">\n",
       "  <thead>\n",
       "    <tr style=\"text-align: right;\">\n",
       "      <th></th>\n",
       "      <th>date</th>\n",
       "      <th>hour</th>\n",
       "      <th>fluid_temp</th>\n",
       "      <th>ground_temp</th>\n",
       "      <th>air_umidity</th>\n",
       "      <th>air_temp</th>\n",
       "      <th>gas_umidity</th>\n",
       "      <th>gas_temp</th>\n",
       "      <th>dm3_gas</th>\n",
       "      <th>bio_id</th>\n",
       "      <th>phase_test</th>\n",
       "    </tr>\n",
       "  </thead>\n",
       "  <tbody>\n",
       "    <tr>\n",
       "      <th>0</th>\n",
       "      <td>2021-08-10</td>\n",
       "      <td>22:48:53</td>\n",
       "      <td>14.81</td>\n",
       "      <td>14.69</td>\n",
       "      <td>66.7</td>\n",
       "      <td>18.8</td>\n",
       "      <td>84.50</td>\n",
       "      <td>16.93</td>\n",
       "      <td>0.0</td>\n",
       "      <td>1</td>\n",
       "      <td>0</td>\n",
       "    </tr>\n",
       "    <tr>\n",
       "      <th>1</th>\n",
       "      <td>2021-08-10</td>\n",
       "      <td>23:33:53</td>\n",
       "      <td>14.88</td>\n",
       "      <td>14.69</td>\n",
       "      <td>78.3</td>\n",
       "      <td>18.0</td>\n",
       "      <td>84.45</td>\n",
       "      <td>15.83</td>\n",
       "      <td>0.0</td>\n",
       "      <td>1</td>\n",
       "      <td>0</td>\n",
       "    </tr>\n",
       "    <tr>\n",
       "      <th>2</th>\n",
       "      <td>2021-08-11</td>\n",
       "      <td>00:03:55</td>\n",
       "      <td>14.88</td>\n",
       "      <td>14.69</td>\n",
       "      <td>83.2</td>\n",
       "      <td>17.4</td>\n",
       "      <td>84.35</td>\n",
       "      <td>15.22</td>\n",
       "      <td>0.0</td>\n",
       "      <td>1</td>\n",
       "      <td>0</td>\n",
       "    </tr>\n",
       "    <tr>\n",
       "      <th>3</th>\n",
       "      <td>2021-08-11</td>\n",
       "      <td>00:33:55</td>\n",
       "      <td>14.88</td>\n",
       "      <td>14.69</td>\n",
       "      <td>84.8</td>\n",
       "      <td>16.7</td>\n",
       "      <td>84.15</td>\n",
       "      <td>14.58</td>\n",
       "      <td>0.0</td>\n",
       "      <td>1</td>\n",
       "      <td>0</td>\n",
       "    </tr>\n",
       "    <tr>\n",
       "      <th>4</th>\n",
       "      <td>2021-08-11</td>\n",
       "      <td>00:48:54</td>\n",
       "      <td>14.88</td>\n",
       "      <td>14.69</td>\n",
       "      <td>87.4</td>\n",
       "      <td>16.0</td>\n",
       "      <td>84.10</td>\n",
       "      <td>14.18</td>\n",
       "      <td>0.0</td>\n",
       "      <td>1</td>\n",
       "      <td>0</td>\n",
       "    </tr>\n",
       "  </tbody>\n",
       "</table>\n",
       "</div>"
      ],
      "text/plain": [
       "        date      hour  fluid_temp  ground_temp  air_umidity  air_temp  \\\n",
       "0 2021-08-10  22:48:53       14.81        14.69         66.7      18.8   \n",
       "1 2021-08-10  23:33:53       14.88        14.69         78.3      18.0   \n",
       "2 2021-08-11  00:03:55       14.88        14.69         83.2      17.4   \n",
       "3 2021-08-11  00:33:55       14.88        14.69         84.8      16.7   \n",
       "4 2021-08-11  00:48:54       14.88        14.69         87.4      16.0   \n",
       "\n",
       "   gas_umidity  gas_temp  dm3_gas  bio_id  phase_test  \n",
       "0        84.50     16.93      0.0       1           0  \n",
       "1        84.45     15.83      0.0       1           0  \n",
       "2        84.35     15.22      0.0       1           0  \n",
       "3        84.15     14.58      0.0       1           0  \n",
       "4        84.10     14.18      0.0       1           0  "
      ]
     },
     "execution_count": 5,
     "metadata": {},
     "output_type": "execute_result"
    }
   ],
   "source": [
    "df.head()"
   ]
  },
  {
   "cell_type": "code",
   "execution_count": 6,
   "id": "61f4a13d",
   "metadata": {},
   "outputs": [
    {
     "name": "stdout",
     "output_type": "stream",
     "text": [
      "<class 'pandas.core.frame.DataFrame'>\n",
      "RangeIndex: 44003 entries, 0 to 44002\n",
      "Data columns (total 11 columns):\n",
      " #   Column       Non-Null Count  Dtype         \n",
      "---  ------       --------------  -----         \n",
      " 0   date         44003 non-null  datetime64[ns]\n",
      " 1   hour         44003 non-null  object        \n",
      " 2   fluid_temp   44003 non-null  float64       \n",
      " 3   ground_temp  44003 non-null  float64       \n",
      " 4   air_umidity  44003 non-null  float64       \n",
      " 5   air_temp     44003 non-null  float64       \n",
      " 6   gas_umidity  16336 non-null  float64       \n",
      " 7   gas_temp     16341 non-null  float64       \n",
      " 8   dm3_gas      44003 non-null  float64       \n",
      " 9   bio_id       44003 non-null  int64         \n",
      " 10  phase_test   44003 non-null  int64         \n",
      "dtypes: datetime64[ns](1), float64(7), int64(2), object(1)\n",
      "memory usage: 3.7+ MB\n"
     ]
    }
   ],
   "source": [
    "#overview\n",
    "\n",
    "df.info()"
   ]
  },
  {
   "cell_type": "code",
   "execution_count": null,
   "id": "075d8a74",
   "metadata": {},
   "outputs": [],
   "source": [
    "df.isnull().sum()"
   ]
  },
  {
   "cell_type": "markdown",
   "id": "6a5abc4f",
   "metadata": {},
   "source": [
    "missing values in i.e \"gas_umidity\" & \"gas_temp\"  columns"
   ]
  },
  {
   "cell_type": "code",
   "execution_count": null,
   "id": "24475ada",
   "metadata": {},
   "outputs": [],
   "source": [
    "# missing values percentage-wise\n",
    "\n",
    "round(df[df.columns[df.isnull().any()]].isnull().sum()*100/df.shape[0]).reset_index(name=\"Percentage\")"
   ]
  },
  {
   "cell_type": "code",
   "execution_count": null,
   "id": "e7e288b0",
   "metadata": {},
   "outputs": [],
   "source": [
    "# Imputation\n",
    "df['gas_umidity'] = df['gas_umidity'].fillna(df['gas_umidity'].mean())\n",
    "df['gas_temp'] = df['gas_temp'].fillna(df['gas_umidity'].mean())"
   ]
  },
  {
   "cell_type": "code",
   "execution_count": 9,
   "id": "7c034ae0",
   "metadata": {},
   "outputs": [
    {
     "name": "stdout",
     "output_type": "stream",
     "text": [
      "Start date: 2021-05-01 00:00:00,  End date: 2022-07-10 00:00:00\n"
     ]
    }
   ],
   "source": [
    "# duration of recording the data\n",
    "print(f\"Start date: {df['date'].min()},  End date: {df['date'].max()}\")"
   ]
  },
  {
   "cell_type": "markdown",
   "id": "7126e8c8",
   "metadata": {},
   "source": [
    "The data was recorded between 1st-May-2021 and 10th-July-2022"
   ]
  },
  {
   "cell_type": "markdown",
   "id": "cf794a3c",
   "metadata": {},
   "source": [
    "Roughly 14 months of data collections"
   ]
  },
  {
   "cell_type": "code",
   "execution_count": 7,
   "id": "f150383a",
   "metadata": {},
   "outputs": [
    {
     "data": {
      "text/plain": [
       "1    24556\n",
       "2    19447\n",
       "Name: bio_id, dtype: int64"
      ]
     },
     "execution_count": 7,
     "metadata": {},
     "output_type": "execute_result"
    }
   ],
   "source": [
    "# different biodigesters\n",
    "df['bio_id'].value_counts()"
   ]
  },
  {
   "cell_type": "code",
   "execution_count": 8,
   "id": "e580eab6",
   "metadata": {},
   "outputs": [
    {
     "data": {
      "text/plain": [
       "1    21750\n",
       "2     9838\n",
       "3     7306\n",
       "0     5109\n",
       "Name: phase_test, dtype: int64"
      ]
     },
     "execution_count": 8,
     "metadata": {},
     "output_type": "execute_result"
    }
   ],
   "source": [
    "#phase test variation\n",
    "df['phase_test'].value_counts()"
   ]
  },
  {
   "cell_type": "code",
   "execution_count": null,
   "id": "ad981fc5",
   "metadata": {},
   "outputs": [],
   "source": [
    "# Gas volume overview\n",
    "df['dm3_gas'].unique()"
   ]
  },
  {
   "cell_type": "code",
   "execution_count": 10,
   "id": "15af5216",
   "metadata": {
    "scrolled": true
   },
   "outputs": [
    {
     "name": "stdout",
     "output_type": "stream",
     "text": [
      " fluid_temp  Minimum Value : -127.0,  Maximum Value: 24.38 change_value: 151.38\n",
      " ground_temp  Minimum Value : -127.0,  Maximum Value: 24.94 change_value: 151.94\n",
      " air_umidity  Minimum Value : 0.0,  Maximum Value: 99.9 change_value: 99.9\n",
      " air_temp  Minimum Value : 0.0,  Maximum Value: 52.6 change_value: 52.6\n",
      " gas_umidity  Minimum Value : 31.72,  Maximum Value: 113.06 change_value: 81.34\n",
      " gas_temp  Minimum Value : -12.62,  Maximum Value: 120.79 change_value: 133.41\n"
     ]
    }
   ],
   "source": [
    "# Lets get the range of the each features\n",
    "columns = [\"fluid_temp\", \"ground_temp\", \"air_umidity\", \"air_temp\", \"gas_umidity\", \"gas_temp\"]\n",
    "for col in columns:\n",
    "    print(f\" {col}  Minimum Value : {df[col].min()},  Maximum Value: {df[col].max()} change_value: {df[col].max()-df[col].min()}\")"
   ]
  },
  {
   "cell_type": "markdown",
   "id": "8029ddd0",
   "metadata": {},
   "source": [
    "Fluid Temperatures and Ground temperatures had the greatest variance \n",
    "\n",
    "Air temperature vaiation being the least"
   ]
  },
  {
   "cell_type": "code",
   "execution_count": null,
   "id": "dff9e81d",
   "metadata": {},
   "outputs": [],
   "source": [
    "#Visualizing the correlation between the features \n",
    "plt.figure(figsize=(7,7))\n",
    "sns.heatmap(df.corr(), cmap=\"YlGnBu\", annot=True)"
   ]
  },
  {
   "cell_type": "code",
   "execution_count": null,
   "id": "db2365a8",
   "metadata": {},
   "outputs": [],
   "source": [
    "# Creating month and hour columns\n",
    "df['Month'] = df['date'].dt.month\n",
    "df['Hour'] = pd.to_datetime(df['hour'], format='%H:%M:%S').dt.hour"
   ]
  },
  {
   "cell_type": "markdown",
   "id": "06f7332a",
   "metadata": {},
   "source": [
    "## Effects of air temperature and fluid temperature on biogas production?"
   ]
  },
  {
   "cell_type": "markdown",
   "id": "bd5a2ebf",
   "metadata": {},
   "source": [
    "### Visualizing hourly distribution of various features"
   ]
  },
  {
   "cell_type": "code",
   "execution_count": null,
   "id": "667160c2",
   "metadata": {},
   "outputs": [],
   "source": [
    "hour = df.groupby(\"Hour\").mean().reset_index()"
   ]
  },
  {
   "cell_type": "code",
   "execution_count": null,
   "id": "14b6ec9d",
   "metadata": {},
   "outputs": [],
   "source": [
    "plt.figure(figsize=(12,5))\n",
    "plt.plot(hour.Hour, hour.dm3_gas, color='green', marker='s')\n",
    "plt.xticks(np.arange(0, 24, step=1))\n",
    "plt.title(\"Change in gas_volume per hour\")\n",
    "plt.xlabel('Hours')\n",
    "plt.grid()\n",
    "plt.savefig('dn3_gas_Change.png', dpi=300)\n",
    "plt.show()\n",
    "\n",
    "# Fluid_temperatures and Ground_temperatures\n",
    "fig, ax = plt.subplots(figsize=(12,5))\n",
    "\n",
    "ax.plot(hour['Hour'], hour['fluid_temp'], label='Fluid Temperatures', linestyle='--')\n",
    "ax.plot(hour['Hour'], hour['ground_temp'], label='Ground Temperatures', linestyle='-')\n",
    "\n",
    "# Add title and labels\n",
    "ax.set_title('Change in Fluid and Ground Temperatures')\n",
    "ax.set_xlabel('Hours')\n",
    "ax.set_ylabel(' ')\n",
    "ax.set_xticks(np.arange(0, 24, step=1))\n",
    "ax.grid()\n",
    "ax.legend()\n",
    "\n",
    "# Display the plot\n",
    "plt.savefig('temp.png', dpi=300)\n",
    "plt.show()\n",
    "\n",
    "# Air_Temperature and Air_Humidity\n",
    "# Create a Figure and Axes\n",
    "fig, ax = plt.subplots(figsize=(12,5))\n",
    "\n",
    "# Create line plots with labels for the legend\n",
    "ax.plot(hour['Hour'], hour['air_temp'], label='Air Temperature', linestyle='-.')\n",
    "ax.plot(hour['Hour'], hour['air_umidity'], label='air_Humidity', linestyle='--')\n",
    "\n",
    "\n",
    "# Add title and labels\n",
    "ax.set_title('Change in Air-Temperature/Humidity')\n",
    "ax.set_xlabel('Hours')\n",
    "ax.set_ylabel(' ')\n",
    "ax.set_xticks(np.arange(0, 24, step=1))\n",
    "plt.grid()\n",
    "# Add a legend\n",
    "ax.legend()\n",
    "\n",
    "# Display the plot\n",
    "plt.savefig('temp_&_humidity.png', dpi=300)\n",
    "plt.show()\n"
   ]
  },
  {
   "cell_type": "markdown",
   "id": "193b2948",
   "metadata": {},
   "source": [
    "- Between 4AM to 8AM there is drastic increase in the gas volume, noticably there is also increase in ground temperartures as well as fluid temperatures. \n",
    "- Meaning change in these temperatures during these hours of the day leads to change(increase) in the gas volume. "
   ]
  },
  {
   "cell_type": "code",
   "execution_count": null,
   "id": "e6208e22",
   "metadata": {},
   "outputs": [],
   "source": [
    "# Group the dataset in according to months\n",
    "month = df.groupby(\"Month\").mean().reset_index()"
   ]
  },
  {
   "cell_type": "code",
   "execution_count": null,
   "id": "ee22b028",
   "metadata": {},
   "outputs": [],
   "source": [
    "plt.figure(figsize=(12,5))\n",
    "plt.plot(month.Month, month.dm3_gas)\n",
    "plt.xticks(np.arange(1, 13, step=1))\n",
    "plt.title(\"Change in volume per month\")\n",
    "plt.grid()\n",
    "plt.show()\n",
    "\n",
    "# Create a Figure and Axes\n",
    "fig, ax = plt.subplots(figsize=(12,5))\n",
    "\n",
    "\n",
    "ax.plot(month['Month'], month['fluid_temp'], label='Fluid Temperature')\n",
    "ax.plot(month['Month'], month['ground_temp'], label='Ground Temperature')\n",
    "\n",
    "# Add title and labels\n",
    "ax.set_title('Change in Fluid and Ground Temperatures')\n",
    "ax.set_xlabel('Month')\n",
    "ax.set_ylabel(' ')\n",
    "ax.set_xticks(np.arange(1, 13, step=1))\n",
    "plt.grid()\n",
    "ax.legend()\n",
    "\n",
    "# Display the plot\n",
    "plt.show()\n",
    "\n",
    "\n",
    "# Create a Figure and Axes\n",
    "fig, ax = plt.subplots(figsize=(12,5))\n",
    "\n",
    "# Create line plots with labels for the legend\n",
    "ax.plot(month['Month'], month['air_temp'], label='Air Temperature')\n",
    "ax.plot(month['Month'], month['air_umidity'], label='air_Humidity')\n",
    "\n",
    "\n",
    "# Add title and labels\n",
    "ax.set_title('Change in Air-Temperature/Humidity')\n",
    "ax.set_xlabel('Months')\n",
    "ax.set_ylabel(' ')\n",
    "ax.set_xticks(np.arange(1, 13, step=1))\n",
    "plt.grid()\n",
    "# Add a legend\n",
    "ax.legend()\n",
    "\n",
    "# Display the plot\n",
    "plt.show()\n"
   ]
  },
  {
   "cell_type": "markdown",
   "id": "6ec67b1a",
   "metadata": {},
   "source": [
    "- In the Second month there is increase in gas volume as well as increase in air humidity during te same month\n",
    "- Also persistent change in Air Temperature at the end of the year leds to a chenge in the gas volume\n",
    "_ Also a decrease in Fluid and Ground Tempreratures leads to decrease in the gas volume"
   ]
  },
  {
   "cell_type": "markdown",
   "id": "72b22c4a",
   "metadata": {},
   "source": [
    "### What was the change in bio 1 for phase 2?"
   ]
  },
  {
   "cell_type": "code",
   "execution_count": null,
   "id": "e07f6d3c",
   "metadata": {},
   "outputs": [],
   "source": [
    "#filter out phase 2 entries\n",
    "\n",
    "phase2 = df[df[\"phase_test\"]==2]"
   ]
  },
  {
   "cell_type": "code",
   "execution_count": null,
   "id": "5ed8173b",
   "metadata": {},
   "outputs": [],
   "source": [
    "phase2.head()"
   ]
  },
  {
   "cell_type": "code",
   "execution_count": null,
   "id": "92910e47",
   "metadata": {},
   "outputs": [],
   "source": [
    "plt.figure(figsize=(12,7))\n",
    "sns.histplot(phase2, x='dm3_gas', hue='bio_id')\n",
    "plt.xticks(rotation = 90)\n",
    "plt.show()"
   ]
  },
  {
   "cell_type": "code",
   "execution_count": null,
   "id": "edd88ce0",
   "metadata": {},
   "outputs": [],
   "source": [
    "# Extracting only bio_1 entries from Phase 2 datsaset\n",
    "phase2bio_1 = phase2[phase2['bio_id']==1]\n",
    "phase2bio_1.head()"
   ]
  },
  {
   "cell_type": "markdown",
   "id": "b6777692",
   "metadata": {},
   "source": [
    "#### Variation in features in Bio 2 phase 2"
   ]
  },
  {
   "cell_type": "code",
   "execution_count": null,
   "id": "cd0a5f84",
   "metadata": {},
   "outputs": [],
   "source": [
    "# Extracting only bio_2 entries from Phase 2 datsaset\n",
    "phase2bio_2 = phase2[phase2['bio_id']==2]\n",
    "\n",
    "columns = [\"fluid_temp\", \"ground_temp\", \"air_umidity\", \"air_temp\", \"gas_umidity\", \"gas_temp\"]\n",
    "print(\"Change in Bio 2 phase 2\")\n",
    "print(\" \")\n",
    "for col in columns:\n",
    "    print(\" \")\n",
    "    print(f\" {col}  Minimum Value : {phase2bio_2[col].min()},  Maximum Value: {phase2bio_2[col].max()} change_value: {(phase2bio_2[col].max()-phase2bio_2[col].min())}\")"
   ]
  },
  {
   "cell_type": "markdown",
   "id": "b7ebf1c1",
   "metadata": {},
   "source": [
    "#### Variation in features in Bio 1 phase 2"
   ]
  },
  {
   "cell_type": "code",
   "execution_count": null,
   "id": "36c13fe5",
   "metadata": {},
   "outputs": [],
   "source": [
    "# Lets get the range of the each features for bio 1 in phase 2\n",
    "\n",
    "columns = [\"fluid_temp\", \"ground_temp\", \"air_umidity\", \"air_temp\", \"gas_umidity\", \"gas_temp\"]\n",
    "print(\"Change in Bio 1 phase 2\")\n",
    "print(\" \")\n",
    "for col in columns:\n",
    "    print(\" \")\n",
    "    print(f\" {col}  Minimum Value : {phase2bio_1[col].min()},  Maximum Value: {phase2bio_1[col].max()} change_value: {round(phase2bio_1[col].max()-phase2bio_1[col].min())}\")"
   ]
  },
  {
   "cell_type": "markdown",
   "id": "2b9c9862",
   "metadata": {},
   "source": [
    "Notes:\n",
    "\n",
    "    \n",
    "   In Bio 1 phase 2 \n",
    "   \n",
    "   There was noticable change especially in Gas Humidity and Temeprature.\n",
    "    \n",
    "   Also in Ground Temperatures and Fluid Temperatures there was a variation between the maximum value and the minimum value but   not huge as compared to that of other features.\n",
    "    \n",
    "   These changes in the features were much greater than those in bio 1 phase 2 except for cases like air_humidity and air temperatures.\n",
    "    "
   ]
  },
  {
   "cell_type": "markdown",
   "id": "daf69e47",
   "metadata": {},
   "source": [
    "### Which boosted its production as much as bio 2?\n",
    "\n",
    "#### Visualizing different features to capture their relativity in relation to Bio_1"
   ]
  },
  {
   "cell_type": "code",
   "execution_count": null,
   "id": "bc15881f",
   "metadata": {},
   "outputs": [],
   "source": [
    "#grouping the dataframe\n",
    "phase2bio_2_h_grouped = phase2bio_2.groupby('Hour').mean().reset_index()\n",
    "\n",
    "plt.figure(figsize=(12,5))\n",
    "plt.plot(phase2bio_2_h_grouped.Hour, phase2bio_2_h_grouped.dm3_gas)\n",
    "plt.xticks(np.arange(0, 24, step=1))\n",
    "plt.title(\"Change in gas volume per hour\")\n",
    "plt.grid()\n",
    "plt.show()\n",
    "\n",
    "# Create a Figure and Axes\n",
    "fig, ax = plt.subplots(figsize=(12,5))\n",
    "\n",
    "\n",
    "ax.plot(phase2bio_2_h_grouped['Hour'], phase2bio_2_h_grouped['fluid_temp'], label='Fluid Temperature')\n",
    "ax.plot(phase2bio_2_h_grouped['Hour'], phase2bio_2_h_grouped['ground_temp'], label='Ground Temperature')\n",
    "\n",
    "\n",
    "# Add title and labels\n",
    "ax.set_title('Change in Fluid and Ground Temperatures')\n",
    "ax.set_xlabel('Hours')\n",
    "ax.set_ylabel(' ')\n",
    "ax.set_xticks(np.arange(0, 24, step=1))\n",
    "plt.grid()\n",
    "ax.legend()\n",
    "\n",
    "# Display the plot\n",
    "plt.show()\n",
    "\n",
    "# Air Humidity\n",
    "# Create a Figure and Axes\n",
    "fig, ax = plt.subplots(figsize=(12,5))\n",
    "\n",
    "ax.plot(phase2bio_2_h_grouped['Hour'], phase2bio_2_h_grouped['air_umidity'], label='air_Humidity')\n",
    "ax.plot(phase2bio_2_h_grouped['Hour'], phase2bio_2_h_grouped['air_temp'], label='Air Temperature')\n",
    "\n",
    "# Add title and labels\n",
    "ax.set_title('Change in Air-Temperature/Humidity')\n",
    "ax.set_xlabel('Hours')\n",
    "ax.set_ylabel(' ')\n",
    "ax.set_xticks(np.arange(0, 24, step=1))\n",
    "plt.grid()\n",
    "\n",
    "# Add a legend\n",
    "ax.legend()\n",
    "\n",
    "# Display the plot\n",
    "plt.show()\n"
   ]
  },
  {
   "cell_type": "markdown",
   "id": "db65a3c5",
   "metadata": {},
   "source": [
    " - Change/Decrease in air humidity showed a relative increase in the volume of the gas\n",
    " - Change in air temperature also has an effect on the gas volume generated at that particular period of the day"
   ]
  },
  {
   "cell_type": "markdown",
   "id": "91afbba1",
   "metadata": {},
   "source": [
    "### Is temperature the only change or something else?"
   ]
  },
  {
   "cell_type": "code",
   "execution_count": null,
   "id": "9ba3e0e7",
   "metadata": {
    "scrolled": true
   },
   "outputs": [],
   "source": [
    "# Air Humidity\n",
    "# Create a Figure and Axes\n",
    "fig, ax = plt.subplots(figsize=(12,5))\n",
    "\n",
    "ax.plot(phase2bio_2_h_grouped['Hour'], phase2bio_2_h_grouped['air_umidity'], label='air_Humidity')\n",
    "ax.plot(phase2bio_2_h_grouped['Hour'], phase2bio_2_h_grouped['air_temp'], label='Air Temperature')\n",
    "\n",
    "# Add title and labels\n",
    "ax.set_title('Change in Air-Temperature/Humidity')\n",
    "ax.set_xlabel('Hours')\n",
    "ax.set_ylabel(' ')\n",
    "ax.set_xticks(np.arange(0, 24, step=1))\n",
    "plt.grid()\n",
    "\n",
    "# Add a legend\n",
    "ax.legend()\n",
    "\n",
    "# Display the plot\n",
    "plt.show()\n"
   ]
  },
  {
   "cell_type": "markdown",
   "id": "842fd413",
   "metadata": {},
   "source": [
    "Change in humidity also exhibits impact though a negative correlation"
   ]
  },
  {
   "cell_type": "markdown",
   "id": "5369e281",
   "metadata": {},
   "source": [
    "In Conclusion:\n",
    "    \n",
    "    - Different factors contribute to variation in the Biogas productions affecting also the volume.\n",
    "    - The features analysed have shown different impacts and also exhibited direct or indirect impacts.\n",
    "    - Air Humidity and air Temperature have much impacts.\n",
    "    - Also some seasons (months) have quit low gas volume production which is a point of concern where an investigation can be launched for more information. These months include 8th, 9th and 10th"
   ]
  },
  {
   "cell_type": "code",
   "execution_count": null,
   "id": "de563a3a",
   "metadata": {},
   "outputs": [],
   "source": []
  }
 ],
 "metadata": {
  "kernelspec": {
   "display_name": "Python 3 (ipykernel)",
   "language": "python",
   "name": "python3"
  },
  "language_info": {
   "codemirror_mode": {
    "name": "ipython",
    "version": 3
   },
   "file_extension": ".py",
   "mimetype": "text/x-python",
   "name": "python",
   "nbconvert_exporter": "python",
   "pygments_lexer": "ipython3",
   "version": "3.11.3"
  }
 },
 "nbformat": 4,
 "nbformat_minor": 5
}
