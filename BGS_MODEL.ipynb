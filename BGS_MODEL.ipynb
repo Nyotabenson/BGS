{
 "cells": [
  {
   "cell_type": "markdown",
   "id": "610e56c2",
   "metadata": {},
   "source": [
    "### libraries"
   ]
  },
  {
   "cell_type": "code",
   "execution_count": 581,
   "id": "e14805e4",
   "metadata": {},
   "outputs": [],
   "source": [
    "import numpy as np\n",
    "import pandas as pd\n",
    "import matplotlib.pyplot as plt\n",
    "from sklearn.model_selection import train_test_split\n",
    "from sklearn.preprocessing import StandardScaler\n",
    "from sklearn.ensemble import RandomForestRegressor\n",
    "\n",
    "#Models\n",
    "from sklearn.ensemble import RandomForestRegressor\n",
    "from sklearn.linear_model import Ridge, Lasso\n",
    "from sklearn.tree import DecisionTreeRegressor\n",
    "\n",
    "#evaluation metrics\n",
    "from sklearn.metrics import mean_absolute_error, mean_squared_error, r2_score"
   ]
  },
  {
   "cell_type": "markdown",
   "id": "39f65a38",
   "metadata": {},
   "source": [
    "### Dataset"
   ]
  },
  {
   "cell_type": "code",
   "execution_count": 787,
   "id": "d59539f9",
   "metadata": {},
   "outputs": [],
   "source": [
    "df = pd.read_csv(\"biogasdf_ready.csv\", parse_dates=['date'])\n",
    "df['Month'] = df['date'].dt.month\n",
    "df['Hour'] = pd.to_datetime(df['hour'], format='%H:%M:%S').dt.hour"
   ]
  },
  {
   "cell_type": "code",
   "execution_count": 788,
   "id": "9ae8e419",
   "metadata": {},
   "outputs": [],
   "source": [
    "df_hour = df.groupby('hour').mean().reset_index()"
   ]
  },
  {
   "cell_type": "code",
   "execution_count": 789,
   "id": "a7b00b5c",
   "metadata": {},
   "outputs": [
    {
     "data": {
      "text/html": [
       "<div>\n",
       "<style scoped>\n",
       "    .dataframe tbody tr th:only-of-type {\n",
       "        vertical-align: middle;\n",
       "    }\n",
       "\n",
       "    .dataframe tbody tr th {\n",
       "        vertical-align: top;\n",
       "    }\n",
       "\n",
       "    .dataframe thead th {\n",
       "        text-align: right;\n",
       "    }\n",
       "</style>\n",
       "<table border=\"1\" class=\"dataframe\">\n",
       "  <thead>\n",
       "    <tr style=\"text-align: right;\">\n",
       "      <th></th>\n",
       "      <th>hour</th>\n",
       "      <th>date</th>\n",
       "      <th>fluid_temp</th>\n",
       "      <th>ground_temp</th>\n",
       "      <th>air_umidity</th>\n",
       "      <th>air_temp</th>\n",
       "      <th>gas_umidity</th>\n",
       "      <th>gas_temp</th>\n",
       "      <th>dm3_gas</th>\n",
       "      <th>bio_id</th>\n",
       "      <th>phase_test</th>\n",
       "      <th>Month</th>\n",
       "      <th>Hour</th>\n",
       "    </tr>\n",
       "  </thead>\n",
       "  <tbody>\n",
       "    <tr>\n",
       "      <th>0</th>\n",
       "      <td>00:00:00</td>\n",
       "      <td>2021-11-08 00:00:00</td>\n",
       "      <td>18.942500</td>\n",
       "      <td>-17.657500</td>\n",
       "      <td>94.35</td>\n",
       "      <td>15.300000</td>\n",
       "      <td>90.0925</td>\n",
       "      <td>14.8275</td>\n",
       "      <td>0.000</td>\n",
       "      <td>1.500000</td>\n",
       "      <td>1.000000</td>\n",
       "      <td>11.000000</td>\n",
       "      <td>0.0</td>\n",
       "    </tr>\n",
       "    <tr>\n",
       "      <th>1</th>\n",
       "      <td>00:00:02</td>\n",
       "      <td>2022-05-14 00:00:00</td>\n",
       "      <td>20.090000</td>\n",
       "      <td>18.905000</td>\n",
       "      <td>95.90</td>\n",
       "      <td>14.500000</td>\n",
       "      <td>5.0000</td>\n",
       "      <td>5.0000</td>\n",
       "      <td>0.000</td>\n",
       "      <td>1.500000</td>\n",
       "      <td>3.000000</td>\n",
       "      <td>5.000000</td>\n",
       "      <td>0.0</td>\n",
       "    </tr>\n",
       "    <tr>\n",
       "      <th>2</th>\n",
       "      <td>00:00:03</td>\n",
       "      <td>2022-01-04 08:00:00</td>\n",
       "      <td>21.563333</td>\n",
       "      <td>21.836667</td>\n",
       "      <td>99.50</td>\n",
       "      <td>15.366667</td>\n",
       "      <td>84.5800</td>\n",
       "      <td>16.4700</td>\n",
       "      <td>0.000</td>\n",
       "      <td>1.333333</td>\n",
       "      <td>0.666667</td>\n",
       "      <td>4.666667</td>\n",
       "      <td>0.0</td>\n",
       "    </tr>\n",
       "    <tr>\n",
       "      <th>3</th>\n",
       "      <td>00:00:08</td>\n",
       "      <td>2022-06-26 00:00:00</td>\n",
       "      <td>17.130000</td>\n",
       "      <td>15.785000</td>\n",
       "      <td>93.90</td>\n",
       "      <td>13.500000</td>\n",
       "      <td>5.0000</td>\n",
       "      <td>5.0000</td>\n",
       "      <td>0.005</td>\n",
       "      <td>1.500000</td>\n",
       "      <td>3.000000</td>\n",
       "      <td>6.000000</td>\n",
       "      <td>0.0</td>\n",
       "    </tr>\n",
       "    <tr>\n",
       "      <th>4</th>\n",
       "      <td>00:00:16</td>\n",
       "      <td>2021-12-21 00:00:00</td>\n",
       "      <td>22.440000</td>\n",
       "      <td>22.120000</td>\n",
       "      <td>91.60</td>\n",
       "      <td>17.400000</td>\n",
       "      <td>5.0000</td>\n",
       "      <td>5.0000</td>\n",
       "      <td>0.000</td>\n",
       "      <td>1.500000</td>\n",
       "      <td>1.000000</td>\n",
       "      <td>12.000000</td>\n",
       "      <td>0.0</td>\n",
       "    </tr>\n",
       "  </tbody>\n",
       "</table>\n",
       "</div>"
      ],
      "text/plain": [
       "       hour                date  fluid_temp  ground_temp  air_umidity  \\\n",
       "0  00:00:00 2021-11-08 00:00:00   18.942500   -17.657500        94.35   \n",
       "1  00:00:02 2022-05-14 00:00:00   20.090000    18.905000        95.90   \n",
       "2  00:00:03 2022-01-04 08:00:00   21.563333    21.836667        99.50   \n",
       "3  00:00:08 2022-06-26 00:00:00   17.130000    15.785000        93.90   \n",
       "4  00:00:16 2021-12-21 00:00:00   22.440000    22.120000        91.60   \n",
       "\n",
       "    air_temp  gas_umidity  gas_temp  dm3_gas    bio_id  phase_test      Month  \\\n",
       "0  15.300000      90.0925   14.8275    0.000  1.500000    1.000000  11.000000   \n",
       "1  14.500000       5.0000    5.0000    0.000  1.500000    3.000000   5.000000   \n",
       "2  15.366667      84.5800   16.4700    0.000  1.333333    0.666667   4.666667   \n",
       "3  13.500000       5.0000    5.0000    0.005  1.500000    3.000000   6.000000   \n",
       "4  17.400000       5.0000    5.0000    0.000  1.500000    1.000000  12.000000   \n",
       "\n",
       "   Hour  \n",
       "0   0.0  \n",
       "1   0.0  \n",
       "2   0.0  \n",
       "3   0.0  \n",
       "4   0.0  "
      ]
     },
     "execution_count": 789,
     "metadata": {},
     "output_type": "execute_result"
    }
   ],
   "source": [
    "df_hour = df_hour.fillna(5)\n",
    "df_hour.head()"
   ]
  },
  {
   "cell_type": "code",
   "execution_count": 840,
   "id": "469a1c38",
   "metadata": {},
   "outputs": [
    {
     "name": "stdout",
     "output_type": "stream",
     "text": [
      " fluid_temp  Minimum Value : -53.0,  Maximum Value: 24.215 change_value: 151.215\n",
      " ground_temp  Minimum Value : -54.405,  Maximum Value: 23.97 change_value: 150.97\n",
      " air_umidity  Minimum Value : 13.9,  Maximum Value: 99.90000000000002 change_value: 99.90000000000002\n",
      " air_temp  Minimum Value : 1.3,  Maximum Value: 52.6 change_value: 52.6\n",
      " gas_umidity  Minimum Value : 5.0,  Maximum Value: 110.49 change_value: 78.77\n",
      " gas_temp  Minimum Value : -12.17,  Maximum Value: 120.79 change_value: 133.41\n"
     ]
    }
   ],
   "source": [
    "# Lets get the range of the each features\n",
    "columns = [\"fluid_temp\", \"ground_temp\", \"air_umidity\", \"air_temp\", \"gas_umidity\", \"gas_temp\"]\n",
    "for col in columns:\n",
    "    print(f\" {col}  Minimum Value : {df_hour[col].min()},  Maximum Value: {df_hour[col].max()} change_value: {df_hour[col].max()-df[col].min()}\")"
   ]
  },
  {
   "cell_type": "code",
   "execution_count": null,
   "id": "8b9a1cbd",
   "metadata": {},
   "outputs": [],
   "source": []
  },
  {
   "cell_type": "code",
   "execution_count": 790,
   "id": "480a0260",
   "metadata": {
    "scrolled": true
   },
   "outputs": [
    {
     "data": {
      "text/plain": [
       "dm3_gas\n",
       "0.00     18040\n",
       "5.00      1756\n",
       "2.50       376\n",
       "3.33       149\n",
       "10.00      117\n",
       "1.67        51\n",
       "2.00        30\n",
       "6.67        13\n",
       "4.00         9\n",
       "1.43         7\n",
       "1.25         6\n",
       "7.50         2\n",
       "3.75         1\n",
       "1.11         1\n",
       "1.00         1\n",
       "Name: count, dtype: int64"
      ]
     },
     "execution_count": 790,
     "metadata": {},
     "output_type": "execute_result"
    }
   ],
   "source": [
    "df_hour.dm3_gas = round(df_hour['dm3_gas']*1000, 2)\n",
    "df_hour.dm3_gas.value_counts()"
   ]
  },
  {
   "cell_type": "code",
   "execution_count": 792,
   "id": "11339227",
   "metadata": {},
   "outputs": [],
   "source": [
    "df_hour_max = df_hour[df_hour.dm3_gas==10]"
   ]
  },
  {
   "cell_type": "code",
   "execution_count": 803,
   "id": "2a1f4181",
   "metadata": {},
   "outputs": [
    {
     "data": {
      "text/html": [
       "<div>\n",
       "<style scoped>\n",
       "    .dataframe tbody tr th:only-of-type {\n",
       "        vertical-align: middle;\n",
       "    }\n",
       "\n",
       "    .dataframe tbody tr th {\n",
       "        vertical-align: top;\n",
       "    }\n",
       "\n",
       "    .dataframe thead th {\n",
       "        text-align: right;\n",
       "    }\n",
       "</style>\n",
       "<table border=\"1\" class=\"dataframe\">\n",
       "  <thead>\n",
       "    <tr style=\"text-align: right;\">\n",
       "      <th></th>\n",
       "      <th>hour</th>\n",
       "      <th>date</th>\n",
       "      <th>fluid_temp</th>\n",
       "      <th>ground_temp</th>\n",
       "      <th>air_umidity</th>\n",
       "      <th>air_temp</th>\n",
       "      <th>gas_umidity</th>\n",
       "      <th>gas_temp</th>\n",
       "      <th>dm3_gas</th>\n",
       "      <th>bio_id</th>\n",
       "      <th>phase_test</th>\n",
       "      <th>Month</th>\n",
       "      <th>Hour</th>\n",
       "    </tr>\n",
       "  </thead>\n",
       "  <tbody>\n",
       "    <tr>\n",
       "      <th>0</th>\n",
       "      <td>00:00:00</td>\n",
       "      <td>2021-11-08 00:00:00</td>\n",
       "      <td>18.942500</td>\n",
       "      <td>-17.657500</td>\n",
       "      <td>94.35</td>\n",
       "      <td>15.300000</td>\n",
       "      <td>90.0925</td>\n",
       "      <td>14.8275</td>\n",
       "      <td>0.0</td>\n",
       "      <td>1.500000</td>\n",
       "      <td>1.000000</td>\n",
       "      <td>11.000000</td>\n",
       "      <td>0.0</td>\n",
       "    </tr>\n",
       "    <tr>\n",
       "      <th>1</th>\n",
       "      <td>00:00:02</td>\n",
       "      <td>2022-05-14 00:00:00</td>\n",
       "      <td>20.090000</td>\n",
       "      <td>18.905000</td>\n",
       "      <td>95.90</td>\n",
       "      <td>14.500000</td>\n",
       "      <td>5.0000</td>\n",
       "      <td>5.0000</td>\n",
       "      <td>0.0</td>\n",
       "      <td>1.500000</td>\n",
       "      <td>3.000000</td>\n",
       "      <td>5.000000</td>\n",
       "      <td>0.0</td>\n",
       "    </tr>\n",
       "    <tr>\n",
       "      <th>2</th>\n",
       "      <td>00:00:03</td>\n",
       "      <td>2022-01-04 08:00:00</td>\n",
       "      <td>21.563333</td>\n",
       "      <td>21.836667</td>\n",
       "      <td>99.50</td>\n",
       "      <td>15.366667</td>\n",
       "      <td>84.5800</td>\n",
       "      <td>16.4700</td>\n",
       "      <td>0.0</td>\n",
       "      <td>1.333333</td>\n",
       "      <td>0.666667</td>\n",
       "      <td>4.666667</td>\n",
       "      <td>0.0</td>\n",
       "    </tr>\n",
       "    <tr>\n",
       "      <th>3</th>\n",
       "      <td>00:00:08</td>\n",
       "      <td>2022-06-26 00:00:00</td>\n",
       "      <td>17.130000</td>\n",
       "      <td>15.785000</td>\n",
       "      <td>93.90</td>\n",
       "      <td>13.500000</td>\n",
       "      <td>5.0000</td>\n",
       "      <td>5.0000</td>\n",
       "      <td>5.0</td>\n",
       "      <td>1.500000</td>\n",
       "      <td>3.000000</td>\n",
       "      <td>6.000000</td>\n",
       "      <td>0.0</td>\n",
       "    </tr>\n",
       "    <tr>\n",
       "      <th>4</th>\n",
       "      <td>00:00:16</td>\n",
       "      <td>2021-12-21 00:00:00</td>\n",
       "      <td>22.440000</td>\n",
       "      <td>22.120000</td>\n",
       "      <td>91.60</td>\n",
       "      <td>17.400000</td>\n",
       "      <td>5.0000</td>\n",
       "      <td>5.0000</td>\n",
       "      <td>0.0</td>\n",
       "      <td>1.500000</td>\n",
       "      <td>1.000000</td>\n",
       "      <td>12.000000</td>\n",
       "      <td>0.0</td>\n",
       "    </tr>\n",
       "    <tr>\n",
       "      <th>5</th>\n",
       "      <td>00:00:17</td>\n",
       "      <td>2021-11-23 00:00:00</td>\n",
       "      <td>20.280000</td>\n",
       "      <td>20.160000</td>\n",
       "      <td>91.00</td>\n",
       "      <td>16.800000</td>\n",
       "      <td>79.5600</td>\n",
       "      <td>16.1750</td>\n",
       "      <td>0.0</td>\n",
       "      <td>1.500000</td>\n",
       "      <td>1.000000</td>\n",
       "      <td>11.000000</td>\n",
       "      <td>0.0</td>\n",
       "    </tr>\n",
       "    <tr>\n",
       "      <th>6</th>\n",
       "      <td>00:00:18</td>\n",
       "      <td>2022-04-28 00:00:00</td>\n",
       "      <td>20.975000</td>\n",
       "      <td>19.780000</td>\n",
       "      <td>96.60</td>\n",
       "      <td>17.900000</td>\n",
       "      <td>5.0000</td>\n",
       "      <td>5.0000</td>\n",
       "      <td>0.0</td>\n",
       "      <td>1.500000</td>\n",
       "      <td>2.000000</td>\n",
       "      <td>4.000000</td>\n",
       "      <td>0.0</td>\n",
       "    </tr>\n",
       "    <tr>\n",
       "      <th>7</th>\n",
       "      <td>00:00:20</td>\n",
       "      <td>2022-02-01 00:00:00</td>\n",
       "      <td>20.534000</td>\n",
       "      <td>20.314000</td>\n",
       "      <td>96.60</td>\n",
       "      <td>18.160000</td>\n",
       "      <td>92.4750</td>\n",
       "      <td>16.0750</td>\n",
       "      <td>2.0</td>\n",
       "      <td>1.400000</td>\n",
       "      <td>1.200000</td>\n",
       "      <td>3.800000</td>\n",
       "      <td>0.0</td>\n",
       "    </tr>\n",
       "    <tr>\n",
       "      <th>8</th>\n",
       "      <td>00:00:21</td>\n",
       "      <td>2022-06-19 00:00:00</td>\n",
       "      <td>16.780000</td>\n",
       "      <td>15.530000</td>\n",
       "      <td>94.90</td>\n",
       "      <td>11.200000</td>\n",
       "      <td>61.0500</td>\n",
       "      <td>5.0000</td>\n",
       "      <td>0.0</td>\n",
       "      <td>1.500000</td>\n",
       "      <td>3.000000</td>\n",
       "      <td>6.000000</td>\n",
       "      <td>0.0</td>\n",
       "    </tr>\n",
       "    <tr>\n",
       "      <th>9</th>\n",
       "      <td>00:00:28</td>\n",
       "      <td>2022-04-29 00:00:00</td>\n",
       "      <td>21.035000</td>\n",
       "      <td>19.815000</td>\n",
       "      <td>95.40</td>\n",
       "      <td>19.800000</td>\n",
       "      <td>5.0000</td>\n",
       "      <td>5.0000</td>\n",
       "      <td>5.0</td>\n",
       "      <td>1.500000</td>\n",
       "      <td>2.000000</td>\n",
       "      <td>4.000000</td>\n",
       "      <td>0.0</td>\n",
       "    </tr>\n",
       "  </tbody>\n",
       "</table>\n",
       "</div>"
      ],
      "text/plain": [
       "       hour                date  fluid_temp  ground_temp  air_umidity  \\\n",
       "0  00:00:00 2021-11-08 00:00:00   18.942500   -17.657500        94.35   \n",
       "1  00:00:02 2022-05-14 00:00:00   20.090000    18.905000        95.90   \n",
       "2  00:00:03 2022-01-04 08:00:00   21.563333    21.836667        99.50   \n",
       "3  00:00:08 2022-06-26 00:00:00   17.130000    15.785000        93.90   \n",
       "4  00:00:16 2021-12-21 00:00:00   22.440000    22.120000        91.60   \n",
       "5  00:00:17 2021-11-23 00:00:00   20.280000    20.160000        91.00   \n",
       "6  00:00:18 2022-04-28 00:00:00   20.975000    19.780000        96.60   \n",
       "7  00:00:20 2022-02-01 00:00:00   20.534000    20.314000        96.60   \n",
       "8  00:00:21 2022-06-19 00:00:00   16.780000    15.530000        94.90   \n",
       "9  00:00:28 2022-04-29 00:00:00   21.035000    19.815000        95.40   \n",
       "\n",
       "    air_temp  gas_umidity  gas_temp  dm3_gas    bio_id  phase_test      Month  \\\n",
       "0  15.300000      90.0925   14.8275      0.0  1.500000    1.000000  11.000000   \n",
       "1  14.500000       5.0000    5.0000      0.0  1.500000    3.000000   5.000000   \n",
       "2  15.366667      84.5800   16.4700      0.0  1.333333    0.666667   4.666667   \n",
       "3  13.500000       5.0000    5.0000      5.0  1.500000    3.000000   6.000000   \n",
       "4  17.400000       5.0000    5.0000      0.0  1.500000    1.000000  12.000000   \n",
       "5  16.800000      79.5600   16.1750      0.0  1.500000    1.000000  11.000000   \n",
       "6  17.900000       5.0000    5.0000      0.0  1.500000    2.000000   4.000000   \n",
       "7  18.160000      92.4750   16.0750      2.0  1.400000    1.200000   3.800000   \n",
       "8  11.200000      61.0500    5.0000      0.0  1.500000    3.000000   6.000000   \n",
       "9  19.800000       5.0000    5.0000      5.0  1.500000    2.000000   4.000000   \n",
       "\n",
       "   Hour  \n",
       "0   0.0  \n",
       "1   0.0  \n",
       "2   0.0  \n",
       "3   0.0  \n",
       "4   0.0  \n",
       "5   0.0  \n",
       "6   0.0  \n",
       "7   0.0  \n",
       "8   0.0  \n",
       "9   0.0  "
      ]
     },
     "execution_count": 803,
     "metadata": {},
     "output_type": "execute_result"
    }
   ],
   "source": [
    "df_hour.head(10)"
   ]
  },
  {
   "cell_type": "code",
   "execution_count": 804,
   "id": "2ab24a20",
   "metadata": {},
   "outputs": [
    {
     "data": {
      "text/html": [
       "<div>\n",
       "<style scoped>\n",
       "    .dataframe tbody tr th:only-of-type {\n",
       "        vertical-align: middle;\n",
       "    }\n",
       "\n",
       "    .dataframe tbody tr th {\n",
       "        vertical-align: top;\n",
       "    }\n",
       "\n",
       "    .dataframe thead th {\n",
       "        text-align: right;\n",
       "    }\n",
       "</style>\n",
       "<table border=\"1\" class=\"dataframe\">\n",
       "  <thead>\n",
       "    <tr style=\"text-align: right;\">\n",
       "      <th></th>\n",
       "      <th>hour</th>\n",
       "      <th>date</th>\n",
       "      <th>fluid_temp</th>\n",
       "      <th>ground_temp</th>\n",
       "      <th>air_umidity</th>\n",
       "      <th>air_temp</th>\n",
       "      <th>gas_umidity</th>\n",
       "      <th>gas_temp</th>\n",
       "      <th>dm3_gas</th>\n",
       "      <th>bio_id</th>\n",
       "      <th>phase_test</th>\n",
       "      <th>Month</th>\n",
       "      <th>Hour</th>\n",
       "    </tr>\n",
       "  </thead>\n",
       "  <tbody>\n",
       "    <tr>\n",
       "      <th>982</th>\n",
       "      <td>01:10:26</td>\n",
       "      <td>2022-03-20</td>\n",
       "      <td>23.375</td>\n",
       "      <td>23.220</td>\n",
       "      <td>96.1</td>\n",
       "      <td>17.7</td>\n",
       "      <td>87.48</td>\n",
       "      <td>17.03</td>\n",
       "      <td>10.0</td>\n",
       "      <td>1.5</td>\n",
       "      <td>2.0</td>\n",
       "      <td>3.0</td>\n",
       "      <td>1.0</td>\n",
       "    </tr>\n",
       "    <tr>\n",
       "      <th>1237</th>\n",
       "      <td>01:27:58</td>\n",
       "      <td>2022-03-06</td>\n",
       "      <td>23.845</td>\n",
       "      <td>23.565</td>\n",
       "      <td>96.6</td>\n",
       "      <td>22.9</td>\n",
       "      <td>86.91</td>\n",
       "      <td>21.96</td>\n",
       "      <td>10.0</td>\n",
       "      <td>1.5</td>\n",
       "      <td>2.0</td>\n",
       "      <td>3.0</td>\n",
       "      <td>1.0</td>\n",
       "    </tr>\n",
       "    <tr>\n",
       "      <th>1529</th>\n",
       "      <td>01:48:14</td>\n",
       "      <td>2022-03-19</td>\n",
       "      <td>23.340</td>\n",
       "      <td>23.250</td>\n",
       "      <td>97.6</td>\n",
       "      <td>21.0</td>\n",
       "      <td>86.40</td>\n",
       "      <td>19.99</td>\n",
       "      <td>10.0</td>\n",
       "      <td>1.5</td>\n",
       "      <td>2.0</td>\n",
       "      <td>3.0</td>\n",
       "      <td>1.0</td>\n",
       "    </tr>\n",
       "    <tr>\n",
       "      <th>1848</th>\n",
       "      <td>02:10:28</td>\n",
       "      <td>2022-03-20</td>\n",
       "      <td>23.345</td>\n",
       "      <td>23.220</td>\n",
       "      <td>96.7</td>\n",
       "      <td>18.0</td>\n",
       "      <td>88.60</td>\n",
       "      <td>17.38</td>\n",
       "      <td>10.0</td>\n",
       "      <td>1.5</td>\n",
       "      <td>2.0</td>\n",
       "      <td>3.0</td>\n",
       "      <td>2.0</td>\n",
       "    </tr>\n",
       "    <tr>\n",
       "      <th>3292</th>\n",
       "      <td>03:53:27</td>\n",
       "      <td>2022-03-16</td>\n",
       "      <td>23.660</td>\n",
       "      <td>23.500</td>\n",
       "      <td>98.5</td>\n",
       "      <td>18.9</td>\n",
       "      <td>86.53</td>\n",
       "      <td>18.04</td>\n",
       "      <td>10.0</td>\n",
       "      <td>1.5</td>\n",
       "      <td>2.0</td>\n",
       "      <td>3.0</td>\n",
       "      <td>3.0</td>\n",
       "    </tr>\n",
       "    <tr>\n",
       "      <th>3688</th>\n",
       "      <td>04:22:20</td>\n",
       "      <td>2022-03-09</td>\n",
       "      <td>24.065</td>\n",
       "      <td>23.785</td>\n",
       "      <td>97.2</td>\n",
       "      <td>20.7</td>\n",
       "      <td>86.54</td>\n",
       "      <td>19.65</td>\n",
       "      <td>10.0</td>\n",
       "      <td>1.5</td>\n",
       "      <td>2.0</td>\n",
       "      <td>3.0</td>\n",
       "      <td>4.0</td>\n",
       "    </tr>\n",
       "    <tr>\n",
       "      <th>4066</th>\n",
       "      <td>04:48:13</td>\n",
       "      <td>2022-03-19</td>\n",
       "      <td>23.340</td>\n",
       "      <td>23.250</td>\n",
       "      <td>99.0</td>\n",
       "      <td>21.0</td>\n",
       "      <td>86.89</td>\n",
       "      <td>20.15</td>\n",
       "      <td>10.0</td>\n",
       "      <td>1.5</td>\n",
       "      <td>2.0</td>\n",
       "      <td>3.0</td>\n",
       "      <td>4.0</td>\n",
       "    </tr>\n",
       "    <tr>\n",
       "      <th>4071</th>\n",
       "      <td>04:48:36</td>\n",
       "      <td>2022-03-19</td>\n",
       "      <td>23.340</td>\n",
       "      <td>23.250</td>\n",
       "      <td>99.0</td>\n",
       "      <td>21.0</td>\n",
       "      <td>86.89</td>\n",
       "      <td>20.15</td>\n",
       "      <td>10.0</td>\n",
       "      <td>1.5</td>\n",
       "      <td>2.0</td>\n",
       "      <td>3.0</td>\n",
       "      <td>4.0</td>\n",
       "    </tr>\n",
       "    <tr>\n",
       "      <th>4148</th>\n",
       "      <td>04:53:30</td>\n",
       "      <td>2022-03-16</td>\n",
       "      <td>23.660</td>\n",
       "      <td>23.500</td>\n",
       "      <td>99.2</td>\n",
       "      <td>18.9</td>\n",
       "      <td>86.61</td>\n",
       "      <td>18.15</td>\n",
       "      <td>10.0</td>\n",
       "      <td>1.5</td>\n",
       "      <td>2.0</td>\n",
       "      <td>3.0</td>\n",
       "      <td>4.0</td>\n",
       "    </tr>\n",
       "    <tr>\n",
       "      <th>4388</th>\n",
       "      <td>05:10:34</td>\n",
       "      <td>2022-03-20</td>\n",
       "      <td>23.345</td>\n",
       "      <td>23.185</td>\n",
       "      <td>97.1</td>\n",
       "      <td>17.5</td>\n",
       "      <td>89.68</td>\n",
       "      <td>16.52</td>\n",
       "      <td>10.0</td>\n",
       "      <td>1.5</td>\n",
       "      <td>2.0</td>\n",
       "      <td>3.0</td>\n",
       "      <td>5.0</td>\n",
       "    </tr>\n",
       "  </tbody>\n",
       "</table>\n",
       "</div>"
      ],
      "text/plain": [
       "          hour       date  fluid_temp  ground_temp  air_umidity  air_temp  \\\n",
       "982   01:10:26 2022-03-20      23.375       23.220         96.1      17.7   \n",
       "1237  01:27:58 2022-03-06      23.845       23.565         96.6      22.9   \n",
       "1529  01:48:14 2022-03-19      23.340       23.250         97.6      21.0   \n",
       "1848  02:10:28 2022-03-20      23.345       23.220         96.7      18.0   \n",
       "3292  03:53:27 2022-03-16      23.660       23.500         98.5      18.9   \n",
       "3688  04:22:20 2022-03-09      24.065       23.785         97.2      20.7   \n",
       "4066  04:48:13 2022-03-19      23.340       23.250         99.0      21.0   \n",
       "4071  04:48:36 2022-03-19      23.340       23.250         99.0      21.0   \n",
       "4148  04:53:30 2022-03-16      23.660       23.500         99.2      18.9   \n",
       "4388  05:10:34 2022-03-20      23.345       23.185         97.1      17.5   \n",
       "\n",
       "      gas_umidity  gas_temp  dm3_gas  bio_id  phase_test  Month  Hour  \n",
       "982         87.48     17.03     10.0     1.5         2.0    3.0   1.0  \n",
       "1237        86.91     21.96     10.0     1.5         2.0    3.0   1.0  \n",
       "1529        86.40     19.99     10.0     1.5         2.0    3.0   1.0  \n",
       "1848        88.60     17.38     10.0     1.5         2.0    3.0   2.0  \n",
       "3292        86.53     18.04     10.0     1.5         2.0    3.0   3.0  \n",
       "3688        86.54     19.65     10.0     1.5         2.0    3.0   4.0  \n",
       "4066        86.89     20.15     10.0     1.5         2.0    3.0   4.0  \n",
       "4071        86.89     20.15     10.0     1.5         2.0    3.0   4.0  \n",
       "4148        86.61     18.15     10.0     1.5         2.0    3.0   4.0  \n",
       "4388        89.68     16.52     10.0     1.5         2.0    3.0   5.0  "
      ]
     },
     "execution_count": 804,
     "metadata": {},
     "output_type": "execute_result"
    }
   ],
   "source": [
    "df_hour_max.head(10)"
   ]
  },
  {
   "cell_type": "code",
   "execution_count": 801,
   "id": "b34b8359",
   "metadata": {},
   "outputs": [
    {
     "name": "stdout",
     "output_type": "stream",
     "text": [
      "hour\n",
      "117 distinct values\n",
      "date\n",
      "33 distinct values\n",
      "fluid_temp\n",
      "47 distinct values\n",
      "ground_temp\n",
      "46 distinct values\n",
      "air_umidity\n",
      "88 distinct values\n",
      "air_temp\n",
      "79 distinct values\n",
      "gas_umidity\n",
      "91 distinct values\n",
      "gas_temp\n",
      "90 distinct values\n",
      "dm3_gas\n",
      "1 distinct values\n",
      "bio_id\n",
      "2 distinct values\n",
      "phase_test\n",
      "4 distinct values\n",
      "Month\n",
      "6 distinct values\n",
      "Hour\n",
      "23 distinct values\n"
     ]
    }
   ],
   "source": [
    "for col in df_hour_max.columns:\n",
    "    print(col)\n",
    "    print(f\"{(df_hour_max[col].nunique())} distinct values\")"
   ]
  },
  {
   "cell_type": "code",
   "execution_count": 806,
   "id": "05e8a266",
   "metadata": {},
   "outputs": [
    {
     "name": "stdout",
     "output_type": "stream",
     "text": [
      "hour\n",
      "23:49:46\n",
      "01:10:26\n",
      "date\n",
      "2022-05-07 00:00:00\n",
      "2021-05-03 00:00:00\n",
      "fluid_temp\n",
      "24.155\n",
      "14.38\n",
      "ground_temp\n",
      "23.97\n",
      "15.12\n",
      "air_umidity\n",
      "99.9\n",
      "46.7\n",
      "air_temp\n",
      "37.6\n",
      "9.5\n",
      "gas_umidity\n",
      "91.87\n",
      "5.0\n",
      "gas_temp\n",
      "49.45\n",
      "5.0\n",
      "dm3_gas\n",
      "10.0\n",
      "10.0\n",
      "bio_id\n",
      "1.5\n",
      "1.0\n",
      "phase_test\n",
      "3.0\n",
      "0.0\n",
      "Month\n",
      "12.0\n",
      "1.0\n",
      "Hour\n",
      "23.0\n",
      "1.0\n"
     ]
    }
   ],
   "source": [
    "for col in df_hour_max.columns:\n",
    "    print(col)\n",
    "    print(df_hour_max[col].max())\n",
    "    print(df_hour_max[col].min())"
   ]
  },
  {
   "cell_type": "code",
   "execution_count": 807,
   "id": "f2edae8d",
   "metadata": {},
   "outputs": [
    {
     "name": "stdout",
     "output_type": "stream",
     "text": [
      "hour\n",
      "23:49:46\n",
      "01:10:26\n",
      "date\n",
      "2022-05-07 00:00:00\n",
      "2021-05-03 00:00:00\n",
      "fluid_temp\n",
      "24.155\n",
      "14.38\n",
      "ground_temp\n",
      "23.97\n",
      "15.12\n",
      "air_umidity\n",
      "99.9\n",
      "46.7\n",
      "air_temp\n",
      "37.6\n",
      "9.5\n",
      "gas_umidity\n",
      "91.87\n",
      "5.0\n",
      "gas_temp\n",
      "49.45\n",
      "5.0\n",
      "dm3_gas\n",
      "10.0\n",
      "10.0\n",
      "bio_id\n",
      "1.5\n",
      "1.0\n",
      "phase_test\n",
      "3.0\n",
      "0.0\n",
      "Month\n",
      "12.0\n",
      "1.0\n",
      "Hour\n",
      "23.0\n",
      "1.0\n"
     ]
    }
   ],
   "source": [
    "for col in df_hour.columns:\n",
    "    print(col)\n",
    "    print(df_hour_max[col].max())\n",
    "    print(df_hour_max[col].min())"
   ]
  },
  {
   "cell_type": "code",
   "execution_count": null,
   "id": "0f8e329c",
   "metadata": {},
   "outputs": [],
   "source": [
    "****************************************************"
   ]
  },
  {
   "cell_type": "code",
   "execution_count": 744,
   "id": "5f30c25a",
   "metadata": {},
   "outputs": [],
   "source": [
    "df = pd.read_csv(\"biogasdf_ready.csv\", parse_dates=['date'])\n",
    "df['Month'] = df['date'].dt.month\n",
    "df['Hour'] = pd.to_datetime(df['hour'], format='%H:%M:%S').dt.hour"
   ]
  },
  {
   "cell_type": "code",
   "execution_count": 745,
   "id": "88b629e5",
   "metadata": {},
   "outputs": [],
   "source": [
    "df_hour = df.groupby('hour').mean().reset_index()"
   ]
  },
  {
   "cell_type": "code",
   "execution_count": 746,
   "id": "c00a2efb",
   "metadata": {},
   "outputs": [],
   "source": [
    "bio1_phase0 = df[(df['bio_id'] == 1) & (df['phase_test'] == 0)].reset_index()\n",
    "bio1_phase1 = df[(df['bio_id'] == 1) & (df['phase_test'] == 1)]\n",
    "bio1_phase2 = df[(df['bio_id'] == 1) & (df['phase_test'] == 2)]\n",
    "bio1_phase3 = df[(df['bio_id'] == 1) & (df['phase_test'] == 3)]\n",
    "bio2_phase0 = df[(df['bio_id'] == 2) & (df['phase_test'] == 0)]\n",
    "bio2_phase1 = df[(df['bio_id'] == 2) & (df['phase_test'] == 1)]\n",
    "bio2_phase2 = df[(df['bio_id'] == 2) & (df['phase_test'] == 2)]\n",
    "bio2_phase3 = df[(df['bio_id'] == 2) & (df['phase_test'] == 3)]"
   ]
  },
  {
   "cell_type": "code",
   "execution_count": 747,
   "id": "f68869a9",
   "metadata": {},
   "outputs": [],
   "source": [
    "sections = [bio2_phase3, bio2_phase2, bio2_phase1, bio2_phase0, bio1_phase3, bio1_phase2, bio1_phase1, bio1_phase0]\n",
    "\n",
    "sections_list = [\"bio2_phase3\", \"bio2_phase2\", \"bio2_phase1\", \"bio2_phase0\", \"bio1_phase3\", \"bio1_phase2\", \"bio1_phase1\", \"bio1_phase0\"]"
   ]
  },
  {
   "cell_type": "code",
   "execution_count": 748,
   "id": "d22ad0e2",
   "metadata": {},
   "outputs": [],
   "source": [
    "df_hour = df_hour.drop(columns = [\"date\", \"hour\"], axis=1)"
   ]
  },
  {
   "cell_type": "code",
   "execution_count": 749,
   "id": "11f871cb",
   "metadata": {},
   "outputs": [],
   "source": [
    "for col in df_hour.columns:\n",
    "    df_hour = df_hour.fillna(df_hour[col].mean())"
   ]
  },
  {
   "cell_type": "code",
   "execution_count": null,
   "id": "edd7fb85",
   "metadata": {},
   "outputs": [],
   "source": []
  },
  {
   "cell_type": "code",
   "execution_count": 750,
   "id": "ec7e9a26",
   "metadata": {},
   "outputs": [
    {
     "data": {
      "text/plain": [
       "fluid_temp     0\n",
       "ground_temp    0\n",
       "air_umidity    0\n",
       "air_temp       0\n",
       "gas_umidity    0\n",
       "gas_temp       0\n",
       "dm3_gas        0\n",
       "bio_id         0\n",
       "phase_test     0\n",
       "Month          0\n",
       "Hour           0\n",
       "dtype: int64"
      ]
     },
     "execution_count": 750,
     "metadata": {},
     "output_type": "execute_result"
    }
   ],
   "source": [
    "df_hour.isna().sum()"
   ]
  },
  {
   "cell_type": "code",
   "execution_count": 751,
   "id": "1f69a563",
   "metadata": {},
   "outputs": [
    {
     "data": {
      "text/plain": [
       "Index(['fluid_temp', 'ground_temp', 'air_umidity', 'air_temp', 'gas_umidity',\n",
       "       'gas_temp', 'dm3_gas', 'bio_id', 'phase_test', 'Month', 'Hour'],\n",
       "      dtype='object')"
      ]
     },
     "execution_count": 751,
     "metadata": {},
     "output_type": "execute_result"
    }
   ],
   "source": [
    "df_hour.columns"
   ]
  },
  {
   "cell_type": "code",
   "execution_count": 752,
   "id": "6b71f609",
   "metadata": {},
   "outputs": [],
   "source": [
    "df_hour_pos  = df_hour.loc[df_hour['fluid_temp'] > 0]\n",
    "df_hour_pos  = df_hour_pos.loc[df_hour_pos['ground_temp'] > 0]\n",
    "df_hour_pos  = df_hour_pos.loc[df_hour_pos['gas_temp'] > 0]"
   ]
  },
  {
   "cell_type": "code",
   "execution_count": 753,
   "id": "292326ba",
   "metadata": {
    "scrolled": true
   },
   "outputs": [
    {
     "data": {
      "text/plain": [
       "fluid_temp     0\n",
       "ground_temp    0\n",
       "air_umidity    0\n",
       "air_temp       0\n",
       "gas_umidity    0\n",
       "gas_temp       0\n",
       "dm3_gas        0\n",
       "bio_id         0\n",
       "phase_test     0\n",
       "Month          0\n",
       "Hour           0\n",
       "dtype: int64"
      ]
     },
     "execution_count": 753,
     "metadata": {},
     "output_type": "execute_result"
    }
   ],
   "source": [
    "(df_hour_pos<0).sum()"
   ]
  },
  {
   "cell_type": "markdown",
   "id": "0c872f65",
   "metadata": {},
   "source": [
    "### Plotting the target features"
   ]
  },
  {
   "cell_type": "code",
   "execution_count": 754,
   "id": "175cfb20",
   "metadata": {},
   "outputs": [],
   "source": [
    "# import seaborn as sns\n",
    "# plt.figure(figsize=(12,6))\n",
    "# sns.countplot(x = df_hour_ve.dm3_gas)\n",
    "# plt.xticks(rotation=90)\n",
    "# plt.show()"
   ]
  },
  {
   "cell_type": "code",
   "execution_count": 755,
   "id": "b276c44e",
   "metadata": {},
   "outputs": [],
   "source": [
    "X =df_hour_pos.drop(columns = ['dm3_gas'], axis=1)\n",
    "\n",
    "y = df_hour_pos['dm3_gas']"
   ]
  },
  {
   "cell_type": "code",
   "execution_count": 756,
   "id": "8ddfe706",
   "metadata": {},
   "outputs": [
    {
     "name": "stdout",
     "output_type": "stream",
     "text": [
      "<class 'pandas.core.frame.DataFrame'>\n",
      "RangeIndex: 20559 entries, 0 to 20558\n",
      "Data columns (total 11 columns):\n",
      " #   Column       Non-Null Count  Dtype  \n",
      "---  ------       --------------  -----  \n",
      " 0   fluid_temp   20559 non-null  float64\n",
      " 1   ground_temp  20559 non-null  float64\n",
      " 2   air_umidity  20559 non-null  float64\n",
      " 3   air_temp     20559 non-null  float64\n",
      " 4   gas_umidity  20559 non-null  float64\n",
      " 5   gas_temp     20559 non-null  float64\n",
      " 6   dm3_gas      20559 non-null  float64\n",
      " 7   bio_id       20559 non-null  float64\n",
      " 8   phase_test   20559 non-null  float64\n",
      " 9   Month        20559 non-null  float64\n",
      " 10  Hour         20559 non-null  float64\n",
      "dtypes: float64(11)\n",
      "memory usage: 1.7 MB\n"
     ]
    }
   ],
   "source": [
    "df_hour.info()"
   ]
  },
  {
   "cell_type": "code",
   "execution_count": 757,
   "id": "d268ef1b",
   "metadata": {},
   "outputs": [
    {
     "name": "stdout",
     "output_type": "stream",
     "text": [
      "(19056, 10)\n",
      "fluid_temp     0\n",
      "ground_temp    0\n",
      "air_umidity    0\n",
      "air_temp       0\n",
      "gas_umidity    0\n",
      "gas_temp       0\n",
      "bio_id         0\n",
      "phase_test     0\n",
      "Month          0\n",
      "Hour           0\n",
      "dtype: int64\n"
     ]
    }
   ],
   "source": [
    "print(X.shape)\n",
    "print(X.isna().sum())"
   ]
  },
  {
   "cell_type": "code",
   "execution_count": 758,
   "id": "60945959",
   "metadata": {},
   "outputs": [
    {
     "name": "stderr",
     "output_type": "stream",
     "text": [
      "C:\\Users\\bency\\anaconda3\\Lib\\site-packages\\pandas\\core\\internals\\blocks.py:329: RuntimeWarning: divide by zero encountered in log\n",
      "  result = func(self.values, **kwargs)\n"
     ]
    }
   ],
   "source": [
    "X = np.log(X)"
   ]
  },
  {
   "cell_type": "code",
   "execution_count": 759,
   "id": "dd88f48c",
   "metadata": {},
   "outputs": [
    {
     "data": {
      "text/plain": [
       "((15244, 10), (3812, 10), (15244,), (3812,))"
      ]
     },
     "execution_count": 759,
     "metadata": {},
     "output_type": "execute_result"
    }
   ],
   "source": [
    "X_train, X_test,y_train,  y_test = train_test_split(X, y, test_size=0.2, random_state=42)\n",
    "X_train.shape, X_test.shape,  y_train.shape, y_test.shape"
   ]
  },
  {
   "cell_type": "code",
   "execution_count": 760,
   "id": "df5e55c5",
   "metadata": {},
   "outputs": [
    {
     "data": {
      "text/plain": [
       "fluid_temp     0\n",
       "ground_temp    0\n",
       "air_umidity    0\n",
       "air_temp       0\n",
       "gas_umidity    0\n",
       "gas_temp       0\n",
       "bio_id         0\n",
       "phase_test     0\n",
       "Month          0\n",
       "Hour           0\n",
       "dtype: int64"
      ]
     },
     "execution_count": 760,
     "metadata": {},
     "output_type": "execute_result"
    }
   ],
   "source": [
    "X_train.isna().sum()"
   ]
  },
  {
   "cell_type": "code",
   "execution_count": null,
   "id": "64ff6eb9",
   "metadata": {},
   "outputs": [],
   "source": [
    "scaler = StandardScaler()\n",
    "X_train_log_scaled = pd.DataFrame(scaler.fit_transform(X_train_log))\n",
    "X_test_scaled = pd.DataFrame(scaler.fit_transform(X_test))\n",
    "\n",
    "#filling missing values\n",
    "X_train_scaled_filled = X_train_scaled.fillna(0)\n",
    "X_test_scaled_filled = X_test_scaled.fillna(0)"
   ]
  },
  {
   "cell_type": "code",
   "execution_count": 146,
   "id": "5f631b59",
   "metadata": {},
   "outputs": [
    {
     "data": {
      "text/html": [
       "<div>\n",
       "<style scoped>\n",
       "    .dataframe tbody tr th:only-of-type {\n",
       "        vertical-align: middle;\n",
       "    }\n",
       "\n",
       "    .dataframe tbody tr th {\n",
       "        vertical-align: top;\n",
       "    }\n",
       "\n",
       "    .dataframe thead th {\n",
       "        text-align: right;\n",
       "    }\n",
       "</style>\n",
       "<table border=\"1\" class=\"dataframe\">\n",
       "  <thead>\n",
       "    <tr style=\"text-align: right;\">\n",
       "      <th></th>\n",
       "      <th>0</th>\n",
       "      <th>1</th>\n",
       "      <th>2</th>\n",
       "      <th>3</th>\n",
       "      <th>4</th>\n",
       "      <th>5</th>\n",
       "      <th>6</th>\n",
       "      <th>7</th>\n",
       "      <th>8</th>\n",
       "      <th>9</th>\n",
       "    </tr>\n",
       "  </thead>\n",
       "  <tbody>\n",
       "    <tr>\n",
       "      <th>0</th>\n",
       "      <td>0.429969</td>\n",
       "      <td>0.441301</td>\n",
       "      <td>0.435023</td>\n",
       "      <td>0.315186</td>\n",
       "      <td>-1.132727</td>\n",
       "      <td>-0.938868</td>\n",
       "      <td>0.517213</td>\n",
       "      <td>-0.340158</td>\n",
       "      <td>-1.098393</td>\n",
       "      <td>1.068242</td>\n",
       "    </tr>\n",
       "    <tr>\n",
       "      <th>1</th>\n",
       "      <td>-0.046180</td>\n",
       "      <td>-0.197510</td>\n",
       "      <td>0.586373</td>\n",
       "      <td>-1.142454</td>\n",
       "      <td>-1.132727</td>\n",
       "      <td>-0.938868</td>\n",
       "      <td>0.517213</td>\n",
       "      <td>1.837046</td>\n",
       "      <td>0.042143</td>\n",
       "      <td>-1.228371</td>\n",
       "    </tr>\n",
       "    <tr>\n",
       "      <th>2</th>\n",
       "      <td>0.253223</td>\n",
       "      <td>0.210903</td>\n",
       "      <td>-1.908380</td>\n",
       "      <td>1.230964</td>\n",
       "      <td>0.935739</td>\n",
       "      <td>1.939222</td>\n",
       "      <td>-0.005129</td>\n",
       "      <td>0.313004</td>\n",
       "      <td>-0.699205</td>\n",
       "      <td>0.207012</td>\n",
       "    </tr>\n",
       "    <tr>\n",
       "      <th>3</th>\n",
       "      <td>0.365615</td>\n",
       "      <td>0.348034</td>\n",
       "      <td>0.132323</td>\n",
       "      <td>-0.318571</td>\n",
       "      <td>-1.132727</td>\n",
       "      <td>-0.938868</td>\n",
       "      <td>0.517213</td>\n",
       "      <td>-0.340158</td>\n",
       "      <td>1.752946</td>\n",
       "      <td>1.498856</td>\n",
       "    </tr>\n",
       "    <tr>\n",
       "      <th>4</th>\n",
       "      <td>-0.276019</td>\n",
       "      <td>-0.304404</td>\n",
       "      <td>0.807092</td>\n",
       "      <td>-1.285050</td>\n",
       "      <td>0.863446</td>\n",
       "      <td>-0.114932</td>\n",
       "      <td>-2.094501</td>\n",
       "      <td>-1.428760</td>\n",
       "      <td>0.612411</td>\n",
       "      <td>-0.797756</td>\n",
       "    </tr>\n",
       "    <tr>\n",
       "      <th>...</th>\n",
       "      <td>...</td>\n",
       "      <td>...</td>\n",
       "      <td>...</td>\n",
       "      <td>...</td>\n",
       "      <td>...</td>\n",
       "      <td>...</td>\n",
       "      <td>...</td>\n",
       "      <td>...</td>\n",
       "      <td>...</td>\n",
       "      <td>...</td>\n",
       "    </tr>\n",
       "    <tr>\n",
       "      <th>16442</th>\n",
       "      <td>0.099384</td>\n",
       "      <td>0.049923</td>\n",
       "      <td>-1.343340</td>\n",
       "      <td>1.440103</td>\n",
       "      <td>0.995583</td>\n",
       "      <td>1.827089</td>\n",
       "      <td>0.517213</td>\n",
       "      <td>-0.340158</td>\n",
       "      <td>1.467813</td>\n",
       "      <td>0.207012</td>\n",
       "    </tr>\n",
       "    <tr>\n",
       "      <th>16443</th>\n",
       "      <td>-0.046180</td>\n",
       "      <td>-0.194955</td>\n",
       "      <td>-0.321727</td>\n",
       "      <td>-0.477010</td>\n",
       "      <td>-1.132727</td>\n",
       "      <td>-0.938868</td>\n",
       "      <td>0.517213</td>\n",
       "      <td>1.837046</td>\n",
       "      <td>0.042143</td>\n",
       "      <td>0.350550</td>\n",
       "    </tr>\n",
       "    <tr>\n",
       "      <th>16444</th>\n",
       "      <td>0.401240</td>\n",
       "      <td>0.390196</td>\n",
       "      <td>0.586373</td>\n",
       "      <td>0.061683</td>\n",
       "      <td>-1.132727</td>\n",
       "      <td>-0.938868</td>\n",
       "      <td>0.517213</td>\n",
       "      <td>-0.340158</td>\n",
       "      <td>-1.098393</td>\n",
       "      <td>-0.797756</td>\n",
       "    </tr>\n",
       "    <tr>\n",
       "      <th>16445</th>\n",
       "      <td>0.173699</td>\n",
       "      <td>0.063125</td>\n",
       "      <td>0.718804</td>\n",
       "      <td>-0.904796</td>\n",
       "      <td>-1.132727</td>\n",
       "      <td>-0.938868</td>\n",
       "      <td>0.517213</td>\n",
       "      <td>1.837046</td>\n",
       "      <td>-0.242991</td>\n",
       "      <td>-1.515447</td>\n",
       "    </tr>\n",
       "    <tr>\n",
       "      <th>16446</th>\n",
       "      <td>-0.082955</td>\n",
       "      <td>-0.188850</td>\n",
       "      <td>0.416104</td>\n",
       "      <td>-0.698825</td>\n",
       "      <td>0.734900</td>\n",
       "      <td>-0.040989</td>\n",
       "      <td>-0.353358</td>\n",
       "      <td>0.748444</td>\n",
       "      <td>0.042143</td>\n",
       "      <td>0.924703</td>\n",
       "    </tr>\n",
       "  </tbody>\n",
       "</table>\n",
       "<p>16447 rows × 10 columns</p>\n",
       "</div>"
      ],
      "text/plain": [
       "              0         1         2         3         4         5         6  \\\n",
       "0      0.429969  0.441301  0.435023  0.315186 -1.132727 -0.938868  0.517213   \n",
       "1     -0.046180 -0.197510  0.586373 -1.142454 -1.132727 -0.938868  0.517213   \n",
       "2      0.253223  0.210903 -1.908380  1.230964  0.935739  1.939222 -0.005129   \n",
       "3      0.365615  0.348034  0.132323 -0.318571 -1.132727 -0.938868  0.517213   \n",
       "4     -0.276019 -0.304404  0.807092 -1.285050  0.863446 -0.114932 -2.094501   \n",
       "...         ...       ...       ...       ...       ...       ...       ...   \n",
       "16442  0.099384  0.049923 -1.343340  1.440103  0.995583  1.827089  0.517213   \n",
       "16443 -0.046180 -0.194955 -0.321727 -0.477010 -1.132727 -0.938868  0.517213   \n",
       "16444  0.401240  0.390196  0.586373  0.061683 -1.132727 -0.938868  0.517213   \n",
       "16445  0.173699  0.063125  0.718804 -0.904796 -1.132727 -0.938868  0.517213   \n",
       "16446 -0.082955 -0.188850  0.416104 -0.698825  0.734900 -0.040989 -0.353358   \n",
       "\n",
       "              7         8         9  \n",
       "0     -0.340158 -1.098393  1.068242  \n",
       "1      1.837046  0.042143 -1.228371  \n",
       "2      0.313004 -0.699205  0.207012  \n",
       "3     -0.340158  1.752946  1.498856  \n",
       "4     -1.428760  0.612411 -0.797756  \n",
       "...         ...       ...       ...  \n",
       "16442 -0.340158  1.467813  0.207012  \n",
       "16443  1.837046  0.042143  0.350550  \n",
       "16444 -0.340158 -1.098393 -0.797756  \n",
       "16445  1.837046 -0.242991 -1.515447  \n",
       "16446  0.748444  0.042143  0.924703  \n",
       "\n",
       "[16447 rows x 10 columns]"
      ]
     },
     "execution_count": 146,
     "metadata": {},
     "output_type": "execute_result"
    }
   ],
   "source": [
    "X_train_scaled_filled"
   ]
  },
  {
   "cell_type": "code",
   "execution_count": 583,
   "id": "b9a7b122",
   "metadata": {
    "scrolled": true
   },
   "outputs": [
    {
     "name": "stderr",
     "output_type": "stream",
     "text": [
      "C:\\Users\\bency\\anaconda3\\Lib\\site-packages\\pandas\\core\\internals\\blocks.py:329: RuntimeWarning: divide by zero encountered in log\n",
      "  result = func(self.values, **kwargs)\n"
     ]
    }
   ],
   "source": [
    "# X_train_log = np.log(X_train)\n",
    "# X_test_log = np.log(X_test)"
   ]
  },
  {
   "cell_type": "code",
   "execution_count": 611,
   "id": "005923d2",
   "metadata": {
    "scrolled": true
   },
   "outputs": [
    {
     "data": {
      "text/plain": [
       "fluid_temp     0\n",
       "ground_temp    0\n",
       "air_umidity    0\n",
       "air_temp       0\n",
       "gas_umidity    0\n",
       "gas_temp       0\n",
       "bio_id         0\n",
       "phase_test     0\n",
       "Month          0\n",
       "Hour           0\n",
       "dtype: int64"
      ]
     },
     "execution_count": 611,
     "metadata": {},
     "output_type": "execute_result"
    }
   ],
   "source": [
    "X_train_log.isna().sum()"
   ]
  },
  {
   "cell_type": "code",
   "execution_count": 761,
   "id": "dc6f600c",
   "metadata": {},
   "outputs": [],
   "source": [
    "X_train_log = X_train_log.replace(-np.inf, 0)\n",
    "X_test_log = X_test_log.replace(-np.inf, 0)"
   ]
  },
  {
   "cell_type": "code",
   "execution_count": 762,
   "id": "f074155a",
   "metadata": {
    "scrolled": false
   },
   "outputs": [
    {
     "data": {
      "text/html": [
       "<div>\n",
       "<style scoped>\n",
       "    .dataframe tbody tr th:only-of-type {\n",
       "        vertical-align: middle;\n",
       "    }\n",
       "\n",
       "    .dataframe tbody tr th {\n",
       "        vertical-align: top;\n",
       "    }\n",
       "\n",
       "    .dataframe thead th {\n",
       "        text-align: right;\n",
       "    }\n",
       "</style>\n",
       "<table border=\"1\" class=\"dataframe\">\n",
       "  <thead>\n",
       "    <tr style=\"text-align: right;\">\n",
       "      <th></th>\n",
       "      <th>fluid_temp</th>\n",
       "      <th>ground_temp</th>\n",
       "      <th>air_umidity</th>\n",
       "      <th>air_temp</th>\n",
       "      <th>gas_umidity</th>\n",
       "      <th>gas_temp</th>\n",
       "      <th>bio_id</th>\n",
       "      <th>phase_test</th>\n",
       "      <th>Month</th>\n",
       "      <th>Hour</th>\n",
       "    </tr>\n",
       "  </thead>\n",
       "  <tbody>\n",
       "    <tr>\n",
       "      <th>7343</th>\n",
       "      <td>3.096708</td>\n",
       "      <td>3.091042</td>\n",
       "      <td>4.377014</td>\n",
       "      <td>3.261935</td>\n",
       "      <td>4.481023</td>\n",
       "      <td>3.388281</td>\n",
       "      <td>0.405465</td>\n",
       "      <td>0.000000</td>\n",
       "      <td>0.000000</td>\n",
       "      <td>2.079442</td>\n",
       "    </tr>\n",
       "    <tr>\n",
       "      <th>10483</th>\n",
       "      <td>2.924594</td>\n",
       "      <td>2.933502</td>\n",
       "      <td>3.902646</td>\n",
       "      <td>3.329821</td>\n",
       "      <td>4.378353</td>\n",
       "      <td>3.614066</td>\n",
       "      <td>0.287682</td>\n",
       "      <td>-0.405465</td>\n",
       "      <td>2.268684</td>\n",
       "      <td>2.484907</td>\n",
       "    </tr>\n",
       "    <tr>\n",
       "      <th>660</th>\n",
       "      <td>3.148239</td>\n",
       "      <td>3.144152</td>\n",
       "      <td>4.546481</td>\n",
       "      <td>3.056357</td>\n",
       "      <td>4.463722</td>\n",
       "      <td>3.016515</td>\n",
       "      <td>0.405465</td>\n",
       "      <td>0.405465</td>\n",
       "      <td>0.916291</td>\n",
       "      <td>0.000000</td>\n",
       "    </tr>\n",
       "    <tr>\n",
       "      <th>294</th>\n",
       "      <td>3.040945</td>\n",
       "      <td>3.020425</td>\n",
       "      <td>4.564348</td>\n",
       "      <td>2.803360</td>\n",
       "      <td>2.878393</td>\n",
       "      <td>2.878393</td>\n",
       "      <td>0.405465</td>\n",
       "      <td>0.693147</td>\n",
       "      <td>1.386294</td>\n",
       "      <td>0.000000</td>\n",
       "    </tr>\n",
       "    <tr>\n",
       "      <th>9126</th>\n",
       "      <td>2.947592</td>\n",
       "      <td>2.967333</td>\n",
       "      <td>4.234107</td>\n",
       "      <td>3.182212</td>\n",
       "      <td>4.448633</td>\n",
       "      <td>3.157851</td>\n",
       "      <td>0.000000</td>\n",
       "      <td>0.000000</td>\n",
       "      <td>1.609438</td>\n",
       "      <td>2.302585</td>\n",
       "    </tr>\n",
       "  </tbody>\n",
       "</table>\n",
       "</div>"
      ],
      "text/plain": [
       "       fluid_temp  ground_temp  air_umidity  air_temp  gas_umidity  gas_temp  \\\n",
       "7343     3.096708     3.091042     4.377014  3.261935     4.481023  3.388281   \n",
       "10483    2.924594     2.933502     3.902646  3.329821     4.378353  3.614066   \n",
       "660      3.148239     3.144152     4.546481  3.056357     4.463722  3.016515   \n",
       "294      3.040945     3.020425     4.564348  2.803360     2.878393  2.878393   \n",
       "9126     2.947592     2.967333     4.234107  3.182212     4.448633  3.157851   \n",
       "\n",
       "         bio_id  phase_test     Month      Hour  \n",
       "7343   0.405465    0.000000  0.000000  2.079442  \n",
       "10483  0.287682   -0.405465  2.268684  2.484907  \n",
       "660    0.405465    0.405465  0.916291  0.000000  \n",
       "294    0.405465    0.693147  1.386294  0.000000  \n",
       "9126   0.000000    0.000000  1.609438  2.302585  "
      ]
     },
     "execution_count": 762,
     "metadata": {},
     "output_type": "execute_result"
    }
   ],
   "source": [
    "X_train_log.sample(5)"
   ]
  },
  {
   "cell_type": "markdown",
   "id": "57539576",
   "metadata": {},
   "source": [
    "### Model trials"
   ]
  },
  {
   "cell_type": "code",
   "execution_count": 763,
   "id": "af1732b5",
   "metadata": {},
   "outputs": [
    {
     "name": "stdout",
     "output_type": "stream",
     "text": [
      "RandomForestRegressor: 0.8007294263516522\n",
      "DecisionTreeRegressor: 0.14757913913400011\n",
      "Ridge: 0.11936095946405478\n",
      "Lasso: 0.0\n"
     ]
    }
   ],
   "source": [
    "# iteratng through several models to get the best performing one.\n",
    "\n",
    "models = {\n",
    "    \"RandomForestRegressor\": RandomForestRegressor(),\n",
    "    \"DecisionTreeRegressor\": DecisionTreeRegressor(max_depth=3, random_state=42),\n",
    "    \"Ridge\": Ridge(alpha=1),\n",
    "    \"Lasso\": Lasso(alpha=1)\n",
    "}\n",
    "\n",
    "for name, model in models.items():\n",
    "    model.fit(X_train_log, y_train)\n",
    "    print(f\"{name}: {model.score(X_train_log, y_train)}\")"
   ]
  },
  {
   "cell_type": "code",
   "execution_count": null,
   "id": "4ee90ab5",
   "metadata": {},
   "outputs": [],
   "source": []
  },
  {
   "cell_type": "code",
   "execution_count": null,
   "id": "d2e21ac7",
   "metadata": {},
   "outputs": [],
   "source": []
  },
  {
   "cell_type": "code",
   "execution_count": 764,
   "id": "f61111cd",
   "metadata": {},
   "outputs": [
    {
     "name": "stdout",
     "output_type": "stream",
     "text": [
      "0.00036511963226465633\n"
     ]
    }
   ],
   "source": [
    "rfr = RandomForestRegressor()\n",
    "rfr_model = rfr.fit(X_train_log, y_train)\n",
    "print(mean_absolute_error(rfr_model.predict(X_train_log), y_train))"
   ]
  },
  {
   "cell_type": "code",
   "execution_count": 765,
   "id": "ad6aef42",
   "metadata": {},
   "outputs": [],
   "source": [
    "import pickle\n",
    "with open('rfc_model2.pkl', 'wb') as f:\n",
    "    pickle.dump(rfr_model, f)"
   ]
  },
  {
   "cell_type": "code",
   "execution_count": 766,
   "id": "fdab5949",
   "metadata": {},
   "outputs": [
    {
     "data": {
      "text/plain": [
       "0.8006543933560344"
      ]
     },
     "execution_count": 766,
     "metadata": {},
     "output_type": "execute_result"
    }
   ],
   "source": [
    "rfr_model.score(X_train_log, y_train)"
   ]
  },
  {
   "cell_type": "code",
   "execution_count": 155,
   "id": "7a1ffdd5",
   "metadata": {},
   "outputs": [],
   "source": [
    "#rfr_model.score(rfr_model.predict(X_test_scaled_filled), y_test)"
   ]
  },
  {
   "cell_type": "code",
   "execution_count": null,
   "id": "c72db341",
   "metadata": {},
   "outputs": [],
   "source": []
  },
  {
   "cell_type": "markdown",
   "id": "8612f459",
   "metadata": {},
   "source": [
    "mse of 0.001 is quite good"
   ]
  },
  {
   "cell_type": "code",
   "execution_count": 542,
   "id": "3b36f42b",
   "metadata": {},
   "outputs": [],
   "source": [
    "#predictng on the large dataset \"train dataset\"\n",
    "preds = rfr_model.predict(X_train_log)"
   ]
  },
  {
   "cell_type": "code",
   "execution_count": 543,
   "id": "91b00f50",
   "metadata": {},
   "outputs": [],
   "source": [
    "modelled = pd.DataFrame({'preds' : preds, \n",
    "                        'Hour' : X_train.Hour,\n",
    "                        'dm3' : y_train}\n",
    "                )"
   ]
  },
  {
   "cell_type": "code",
   "execution_count": 784,
   "id": "bd6b6388",
   "metadata": {},
   "outputs": [],
   "source": [
    "modelled_group = modelled.groupby('Hour').mean().reset_index()\n",
    "modelled_group.to_csv(\"modelled_group.csv\", index=False)"
   ]
  },
  {
   "cell_type": "code",
   "execution_count": 821,
   "id": "7555fdbb",
   "metadata": {},
   "outputs": [
    {
     "data": {
      "image/png": "[encoded data removed]",
      "text/plain": [
       "<Figure size 640x480 with 1 Axes>"
      ]
     },
     "metadata": {},
     "output_type": "display_data"
    }
   ],
   "source": [
    "# fitting best fit line\n",
    "slope1, intercept1 = np.polyfit(modelled_group.dm3, modelled_group.preds, 1)\n",
    "regression_line1 = slope1 * modelled_group.dm3 + intercept1\n",
    "\n",
    "\n",
    "plt.scatter(x=modelled_group.dm3, y = modelled_group.preds)\n",
    "plt.plot(modelled_group.dm3, regression_line1, color='red', label=\"actual Linear Regression Line\")\n",
    "plt.title(\"Predicted vs Actual values\")\n",
    "plt.xlabel(\"Actual dm3 values\")\n",
    "plt.ylabel(\"Predicted dm3 values\")\n",
    "plt.grid()\n",
    "plt.legend()\n",
    "plt.show()"
   ]
  },
  {
   "cell_type": "code",
   "execution_count": 159,
   "id": "cf78aa67",
   "metadata": {},
   "outputs": [
    {
     "data": {
      "image/png": "[encoded data removed]",
      "text/plain": [
       "<Figure size 1200x700 with 1 Axes>"
      ]
     },
     "metadata": {},
     "output_type": "display_data"
    }
   ],
   "source": [
    "#Visualization\n",
    "fig, ax = plt.subplots(figsize=(12,7))\n",
    "\n",
    "ax.plot(modelled_group.Hour, modelled_group.preds, label=\"preds\")\n",
    "ax.plot(modelled_group.Hour, modelled_group.dm3, label = \"actual\")\n",
    "ax.set_xticks(np.arange(0, 24, step=1))\n",
    "plt.show()"
   ]
  },
  {
   "cell_type": "code",
   "execution_count": 83,
   "id": "924ac813",
   "metadata": {},
   "outputs": [
    {
     "data": {
      "text/html": [
       "<div>\n",
       "<style scoped>\n",
       "    .dataframe tbody tr th:only-of-type {\n",
       "        vertical-align: middle;\n",
       "    }\n",
       "\n",
       "    .dataframe tbody tr th {\n",
       "        vertical-align: top;\n",
       "    }\n",
       "\n",
       "    .dataframe thead th {\n",
       "        text-align: right;\n",
       "    }\n",
       "</style>\n",
       "<table border=\"1\" class=\"dataframe\">\n",
       "  <thead>\n",
       "    <tr style=\"text-align: right;\">\n",
       "      <th></th>\n",
       "      <th>fluid_temp</th>\n",
       "      <th>ground_temp</th>\n",
       "      <th>air_umidity</th>\n",
       "      <th>air_temp</th>\n",
       "      <th>gas_umidity</th>\n",
       "      <th>gas_temp</th>\n",
       "      <th>bio_id</th>\n",
       "      <th>phase_test</th>\n",
       "      <th>Month</th>\n",
       "      <th>Hour</th>\n",
       "    </tr>\n",
       "  </thead>\n",
       "  <tbody>\n",
       "    <tr>\n",
       "      <th>15544</th>\n",
       "      <td>23.22</td>\n",
       "      <td>22.875</td>\n",
       "      <td>69.2</td>\n",
       "      <td>26.7</td>\n",
       "      <td>0.0</td>\n",
       "      <td>0.0</td>\n",
       "      <td>1.5</td>\n",
       "      <td>1.0</td>\n",
       "      <td>1.0</td>\n",
       "      <td>18.0</td>\n",
       "    </tr>\n",
       "  </tbody>\n",
       "</table>\n",
       "</div>"
      ],
      "text/plain": [
       "       fluid_temp  ground_temp  air_umidity  air_temp  gas_umidity  gas_temp  \\\n",
       "15544       23.22       22.875         69.2      26.7          0.0       0.0   \n",
       "\n",
       "       bio_id  phase_test  Month  Hour  \n",
       "15544     1.5         1.0    1.0  18.0  "
      ]
     },
     "execution_count": 83,
     "metadata": {},
     "output_type": "execute_result"
    }
   ],
   "source": [
    "X.sample()"
   ]
  },
  {
   "cell_type": "code",
   "execution_count": 554,
   "id": "0450c853",
   "metadata": {},
   "outputs": [
    {
     "name": "stdout",
     "output_type": "stream",
     "text": [
      "bio id: 1\n",
      "phase test: 3\n",
      "Month: 8\n",
      "hour: 7\n",
      "Gas Temperatures: 45\n",
      "air humidity67\n",
      "gas humidity39\n",
      "gair_temp65\n",
      "gground_temp72\n",
      "fluid_temp58\n"
     ]
    }
   ],
   "source": [
    "# Key-in the inputs\n",
    "bio_id = float(input(\"bio id: \"))\n",
    "phase_test = float(input(\"phase test: \"))\n",
    "Month = float(input(\"Month: \"))\n",
    "Hour = float(input(\"hour: \"))\n",
    "gas_temp = float(input(\"Gas Temperatures: \"))\n",
    "air_umidity = float(input(\"air humidity\"))\n",
    "gas_umidity = float(input(\"gas humidity\"))\n",
    "air_temp = float(input(\"gair_temp\"))\n",
    "ground_temp = float(input(\"gground_temp\"))\n",
    "fluid_temp = float(input(\"fluid_temp\"))"
   ]
  },
  {
   "cell_type": "code",
   "execution_count": 555,
   "id": "9b268693",
   "metadata": {},
   "outputs": [],
   "source": [
    "inputs = pd.DataFrame({ \"fluid_temp\" : [fluid_temp], \"ground_temp\" : [ground_temp], \"air_umidity\":[air_umidity],  \"air_temp\"  : [air_temp],'gas_umidity' : [gas_umidity],  'gas_temp' : [gas_temp],    \"bio_id\": [bio_id], \"phase_test\": [phase_test] , \"Month\" : [Month], \"Hour\" : [Hour], })"
   ]
  },
  {
   "cell_type": "code",
   "execution_count": 556,
   "id": "d0edc4b6",
   "metadata": {},
   "outputs": [
    {
     "data": {
      "text/html": [
       "<div>\n",
       "<style scoped>\n",
       "    .dataframe tbody tr th:only-of-type {\n",
       "        vertical-align: middle;\n",
       "    }\n",
       "\n",
       "    .dataframe tbody tr th {\n",
       "        vertical-align: top;\n",
       "    }\n",
       "\n",
       "    .dataframe thead th {\n",
       "        text-align: right;\n",
       "    }\n",
       "</style>\n",
       "<table border=\"1\" class=\"dataframe\">\n",
       "  <thead>\n",
       "    <tr style=\"text-align: right;\">\n",
       "      <th></th>\n",
       "      <th>fluid_temp</th>\n",
       "      <th>ground_temp</th>\n",
       "      <th>air_umidity</th>\n",
       "      <th>air_temp</th>\n",
       "      <th>gas_umidity</th>\n",
       "      <th>gas_temp</th>\n",
       "      <th>bio_id</th>\n",
       "      <th>phase_test</th>\n",
       "      <th>Month</th>\n",
       "      <th>Hour</th>\n",
       "    </tr>\n",
       "  </thead>\n",
       "  <tbody>\n",
       "    <tr>\n",
       "      <th>0</th>\n",
       "      <td>58.0</td>\n",
       "      <td>72.0</td>\n",
       "      <td>67.0</td>\n",
       "      <td>65.0</td>\n",
       "      <td>39.0</td>\n",
       "      <td>45.0</td>\n",
       "      <td>1.0</td>\n",
       "      <td>3.0</td>\n",
       "      <td>8.0</td>\n",
       "      <td>7.0</td>\n",
       "    </tr>\n",
       "  </tbody>\n",
       "</table>\n",
       "</div>"
      ],
      "text/plain": [
       "   fluid_temp  ground_temp  air_umidity  air_temp  gas_umidity  gas_temp  \\\n",
       "0        58.0         72.0         67.0      65.0         39.0      45.0   \n",
       "\n",
       "   bio_id  phase_test  Month  Hour  \n",
       "0     1.0         3.0    8.0   7.0  "
      ]
     },
     "execution_count": 556,
     "metadata": {},
     "output_type": "execute_result"
    }
   ],
   "source": [
    "inputs"
   ]
  },
  {
   "cell_type": "code",
   "execution_count": null,
   "id": "a430e7ef",
   "metadata": {},
   "outputs": [],
   "source": []
  },
  {
   "cell_type": "code",
   "execution_count": 557,
   "id": "d97c7f32",
   "metadata": {},
   "outputs": [],
   "source": [
    "inputs_log = np.log(inputs)"
   ]
  },
  {
   "cell_type": "code",
   "execution_count": 558,
   "id": "205708ec",
   "metadata": {},
   "outputs": [
    {
     "data": {
      "text/html": [
       "<div>\n",
       "<style scoped>\n",
       "    .dataframe tbody tr th:only-of-type {\n",
       "        vertical-align: middle;\n",
       "    }\n",
       "\n",
       "    .dataframe tbody tr th {\n",
       "        vertical-align: top;\n",
       "    }\n",
       "\n",
       "    .dataframe thead th {\n",
       "        text-align: right;\n",
       "    }\n",
       "</style>\n",
       "<table border=\"1\" class=\"dataframe\">\n",
       "  <thead>\n",
       "    <tr style=\"text-align: right;\">\n",
       "      <th></th>\n",
       "      <th>fluid_temp</th>\n",
       "      <th>ground_temp</th>\n",
       "      <th>air_umidity</th>\n",
       "      <th>air_temp</th>\n",
       "      <th>gas_umidity</th>\n",
       "      <th>gas_temp</th>\n",
       "      <th>bio_id</th>\n",
       "      <th>phase_test</th>\n",
       "      <th>Month</th>\n",
       "      <th>Hour</th>\n",
       "    </tr>\n",
       "  </thead>\n",
       "  <tbody>\n",
       "    <tr>\n",
       "      <th>0</th>\n",
       "      <td>4.060443</td>\n",
       "      <td>4.276666</td>\n",
       "      <td>4.204693</td>\n",
       "      <td>4.174387</td>\n",
       "      <td>3.663562</td>\n",
       "      <td>3.806662</td>\n",
       "      <td>0.0</td>\n",
       "      <td>1.098612</td>\n",
       "      <td>2.079442</td>\n",
       "      <td>1.94591</td>\n",
       "    </tr>\n",
       "  </tbody>\n",
       "</table>\n",
       "</div>"
      ],
      "text/plain": [
       "   fluid_temp  ground_temp  air_umidity  air_temp  gas_umidity  gas_temp  \\\n",
       "0    4.060443     4.276666     4.204693  4.174387     3.663562  3.806662   \n",
       "\n",
       "   bio_id  phase_test     Month     Hour  \n",
       "0     0.0    1.098612  2.079442  1.94591  "
      ]
     },
     "execution_count": 558,
     "metadata": {},
     "output_type": "execute_result"
    }
   ],
   "source": [
    "inputs_log"
   ]
  },
  {
   "cell_type": "code",
   "execution_count": 559,
   "id": "00e4338f",
   "metadata": {},
   "outputs": [],
   "source": [
    "#predictng on the large dataset \"train dataset\"\n",
    "pred1 = rfr_model.predict(inputs_log)"
   ]
  },
  {
   "cell_type": "code",
   "execution_count": 563,
   "id": "64ba39f9",
   "metadata": {},
   "outputs": [
    {
     "name": "stdout",
     "output_type": "stream",
     "text": [
      "0.00306\n"
     ]
    }
   ],
   "source": [
    "print(round(pred1[0],5))"
   ]
  },
  {
   "cell_type": "code",
   "execution_count": null,
   "id": "14ec15be",
   "metadata": {},
   "outputs": [],
   "source": []
  },
  {
   "cell_type": "code",
   "execution_count": null,
   "id": "30337b65",
   "metadata": {},
   "outputs": [],
   "source": []
  },
  {
   "cell_type": "markdown",
   "id": "0ca6b256",
   "metadata": {},
   "source": [
    "## Model 2"
   ]
  },
  {
   "cell_type": "code",
   "execution_count": 768,
   "id": "89ab29f4",
   "metadata": {},
   "outputs": [],
   "source": [
    "df = pd.read_csv(\"biogasdf_ready.csv\", parse_dates=['date'])\n",
    "df['Month'] = df['date'].dt.month\n",
    "df['Hour'] = pd.to_datetime(df['hour'], format='%H:%M:%S').dt.hour"
   ]
  },
  {
   "cell_type": "code",
   "execution_count": 769,
   "id": "bf4f8cb3",
   "metadata": {},
   "outputs": [],
   "source": [
    "df_hour = df.groupby('hour').mean().reset_index()"
   ]
  },
  {
   "cell_type": "code",
   "execution_count": 770,
   "id": "5ff6aeaf",
   "metadata": {},
   "outputs": [
    {
     "data": {
      "text/html": [
       "<div>\n",
       "<style scoped>\n",
       "    .dataframe tbody tr th:only-of-type {\n",
       "        vertical-align: middle;\n",
       "    }\n",
       "\n",
       "    .dataframe tbody tr th {\n",
       "        vertical-align: top;\n",
       "    }\n",
       "\n",
       "    .dataframe thead th {\n",
       "        text-align: right;\n",
       "    }\n",
       "</style>\n",
       "<table border=\"1\" class=\"dataframe\">\n",
       "  <thead>\n",
       "    <tr style=\"text-align: right;\">\n",
       "      <th></th>\n",
       "      <th>hour</th>\n",
       "      <th>date</th>\n",
       "      <th>fluid_temp</th>\n",
       "      <th>ground_temp</th>\n",
       "      <th>air_umidity</th>\n",
       "      <th>air_temp</th>\n",
       "      <th>gas_umidity</th>\n",
       "      <th>gas_temp</th>\n",
       "      <th>dm3_gas</th>\n",
       "      <th>bio_id</th>\n",
       "      <th>phase_test</th>\n",
       "      <th>Month</th>\n",
       "      <th>Hour</th>\n",
       "    </tr>\n",
       "  </thead>\n",
       "  <tbody>\n",
       "    <tr>\n",
       "      <th>0</th>\n",
       "      <td>00:00:00</td>\n",
       "      <td>2021-11-08 00:00:00</td>\n",
       "      <td>18.942500</td>\n",
       "      <td>-17.657500</td>\n",
       "      <td>94.35</td>\n",
       "      <td>15.300000</td>\n",
       "      <td>90.0925</td>\n",
       "      <td>14.8275</td>\n",
       "      <td>0.000</td>\n",
       "      <td>1.500000</td>\n",
       "      <td>1.000000</td>\n",
       "      <td>11.000000</td>\n",
       "      <td>0.0</td>\n",
       "    </tr>\n",
       "    <tr>\n",
       "      <th>1</th>\n",
       "      <td>00:00:02</td>\n",
       "      <td>2022-05-14 00:00:00</td>\n",
       "      <td>20.090000</td>\n",
       "      <td>18.905000</td>\n",
       "      <td>95.90</td>\n",
       "      <td>14.500000</td>\n",
       "      <td>0.0000</td>\n",
       "      <td>0.0000</td>\n",
       "      <td>0.000</td>\n",
       "      <td>1.500000</td>\n",
       "      <td>3.000000</td>\n",
       "      <td>5.000000</td>\n",
       "      <td>0.0</td>\n",
       "    </tr>\n",
       "    <tr>\n",
       "      <th>2</th>\n",
       "      <td>00:00:03</td>\n",
       "      <td>2022-01-04 08:00:00</td>\n",
       "      <td>21.563333</td>\n",
       "      <td>21.836667</td>\n",
       "      <td>99.50</td>\n",
       "      <td>15.366667</td>\n",
       "      <td>84.5800</td>\n",
       "      <td>16.4700</td>\n",
       "      <td>0.000</td>\n",
       "      <td>1.333333</td>\n",
       "      <td>0.666667</td>\n",
       "      <td>4.666667</td>\n",
       "      <td>0.0</td>\n",
       "    </tr>\n",
       "    <tr>\n",
       "      <th>3</th>\n",
       "      <td>00:00:08</td>\n",
       "      <td>2022-06-26 00:00:00</td>\n",
       "      <td>17.130000</td>\n",
       "      <td>15.785000</td>\n",
       "      <td>93.90</td>\n",
       "      <td>13.500000</td>\n",
       "      <td>0.0000</td>\n",
       "      <td>0.0000</td>\n",
       "      <td>0.005</td>\n",
       "      <td>1.500000</td>\n",
       "      <td>3.000000</td>\n",
       "      <td>6.000000</td>\n",
       "      <td>0.0</td>\n",
       "    </tr>\n",
       "    <tr>\n",
       "      <th>4</th>\n",
       "      <td>00:00:16</td>\n",
       "      <td>2021-12-21 00:00:00</td>\n",
       "      <td>22.440000</td>\n",
       "      <td>22.120000</td>\n",
       "      <td>91.60</td>\n",
       "      <td>17.400000</td>\n",
       "      <td>0.0000</td>\n",
       "      <td>0.0000</td>\n",
       "      <td>0.000</td>\n",
       "      <td>1.500000</td>\n",
       "      <td>1.000000</td>\n",
       "      <td>12.000000</td>\n",
       "      <td>0.0</td>\n",
       "    </tr>\n",
       "  </tbody>\n",
       "</table>\n",
       "</div>"
      ],
      "text/plain": [
       "       hour                date  fluid_temp  ground_temp  air_umidity  \\\n",
       "0  00:00:00 2021-11-08 00:00:00   18.942500   -17.657500        94.35   \n",
       "1  00:00:02 2022-05-14 00:00:00   20.090000    18.905000        95.90   \n",
       "2  00:00:03 2022-01-04 08:00:00   21.563333    21.836667        99.50   \n",
       "3  00:00:08 2022-06-26 00:00:00   17.130000    15.785000        93.90   \n",
       "4  00:00:16 2021-12-21 00:00:00   22.440000    22.120000        91.60   \n",
       "\n",
       "    air_temp  gas_umidity  gas_temp  dm3_gas    bio_id  phase_test      Month  \\\n",
       "0  15.300000      90.0925   14.8275    0.000  1.500000    1.000000  11.000000   \n",
       "1  14.500000       0.0000    0.0000    0.000  1.500000    3.000000   5.000000   \n",
       "2  15.366667      84.5800   16.4700    0.000  1.333333    0.666667   4.666667   \n",
       "3  13.500000       0.0000    0.0000    0.005  1.500000    3.000000   6.000000   \n",
       "4  17.400000       0.0000    0.0000    0.000  1.500000    1.000000  12.000000   \n",
       "\n",
       "   Hour  \n",
       "0   0.0  \n",
       "1   0.0  \n",
       "2   0.0  \n",
       "3   0.0  \n",
       "4   0.0  "
      ]
     },
     "execution_count": 770,
     "metadata": {},
     "output_type": "execute_result"
    }
   ],
   "source": [
    "df_hour = df_hour.fillna(0)\n",
    "df_hour.head()"
   ]
  },
  {
   "cell_type": "code",
   "execution_count": 771,
   "id": "0fe91ed9",
   "metadata": {},
   "outputs": [],
   "source": [
    "X_2 = df_hour[['fluid_temp', 'air_umidity']]\n",
    "y_2  = df_hour['dm3_gas']"
   ]
  },
  {
   "cell_type": "code",
   "execution_count": 772,
   "id": "08a5e4ba",
   "metadata": {},
   "outputs": [
    {
     "name": "stdout",
     "output_type": "stream",
     "text": [
      "(20559, 2)\n"
     ]
    },
    {
     "data": {
      "text/html": [
       "<div>\n",
       "<style scoped>\n",
       "    .dataframe tbody tr th:only-of-type {\n",
       "        vertical-align: middle;\n",
       "    }\n",
       "\n",
       "    .dataframe tbody tr th {\n",
       "        vertical-align: top;\n",
       "    }\n",
       "\n",
       "    .dataframe thead th {\n",
       "        text-align: right;\n",
       "    }\n",
       "</style>\n",
       "<table border=\"1\" class=\"dataframe\">\n",
       "  <thead>\n",
       "    <tr style=\"text-align: right;\">\n",
       "      <th></th>\n",
       "      <th>fluid_temp</th>\n",
       "      <th>air_umidity</th>\n",
       "    </tr>\n",
       "  </thead>\n",
       "  <tbody>\n",
       "    <tr>\n",
       "      <th>0</th>\n",
       "      <td>18.942500</td>\n",
       "      <td>94.35</td>\n",
       "    </tr>\n",
       "    <tr>\n",
       "      <th>1</th>\n",
       "      <td>20.090000</td>\n",
       "      <td>95.90</td>\n",
       "    </tr>\n",
       "    <tr>\n",
       "      <th>2</th>\n",
       "      <td>21.563333</td>\n",
       "      <td>99.50</td>\n",
       "    </tr>\n",
       "  </tbody>\n",
       "</table>\n",
       "</div>"
      ],
      "text/plain": [
       "   fluid_temp  air_umidity\n",
       "0   18.942500        94.35\n",
       "1   20.090000        95.90\n",
       "2   21.563333        99.50"
      ]
     },
     "execution_count": 772,
     "metadata": {},
     "output_type": "execute_result"
    }
   ],
   "source": [
    "print(X_2.shape)\n",
    "X_2.head(3)"
   ]
  },
  {
   "cell_type": "code",
   "execution_count": 773,
   "id": "9d117b91",
   "metadata": {},
   "outputs": [
    {
     "data": {
      "text/plain": [
       "(20559,)"
      ]
     },
     "execution_count": 773,
     "metadata": {},
     "output_type": "execute_result"
    }
   ],
   "source": [
    "y_2.shape"
   ]
  },
  {
   "cell_type": "code",
   "execution_count": 774,
   "id": "4e343556",
   "metadata": {},
   "outputs": [
    {
     "name": "stderr",
     "output_type": "stream",
     "text": [
      "C:\\Users\\bency\\anaconda3\\Lib\\site-packages\\pandas\\core\\internals\\blocks.py:329: RuntimeWarning: invalid value encountered in log\n",
      "  result = func(self.values, **kwargs)\n"
     ]
    }
   ],
   "source": [
    "X_2_log = np.log(X_2)"
   ]
  },
  {
   "cell_type": "code",
   "execution_count": 775,
   "id": "ddf5439c",
   "metadata": {},
   "outputs": [],
   "source": [
    "X_2_log = X_2_log.fillna(0)"
   ]
  },
  {
   "cell_type": "code",
   "execution_count": 776,
   "id": "569b30ab",
   "metadata": {},
   "outputs": [],
   "source": [
    "X_2_log = X_2_log.replace(-np.inf, 0)"
   ]
  },
  {
   "cell_type": "code",
   "execution_count": 777,
   "id": "05c56201",
   "metadata": {},
   "outputs": [
    {
     "name": "stdout",
     "output_type": "stream",
     "text": [
      "(20559, 2)\n"
     ]
    },
    {
     "data": {
      "text/html": [
       "<div>\n",
       "<style scoped>\n",
       "    .dataframe tbody tr th:only-of-type {\n",
       "        vertical-align: middle;\n",
       "    }\n",
       "\n",
       "    .dataframe tbody tr th {\n",
       "        vertical-align: top;\n",
       "    }\n",
       "\n",
       "    .dataframe thead th {\n",
       "        text-align: right;\n",
       "    }\n",
       "</style>\n",
       "<table border=\"1\" class=\"dataframe\">\n",
       "  <thead>\n",
       "    <tr style=\"text-align: right;\">\n",
       "      <th></th>\n",
       "      <th>fluid_temp</th>\n",
       "      <th>air_umidity</th>\n",
       "    </tr>\n",
       "  </thead>\n",
       "  <tbody>\n",
       "    <tr>\n",
       "      <th>0</th>\n",
       "      <td>2.941408</td>\n",
       "      <td>4.547011</td>\n",
       "    </tr>\n",
       "    <tr>\n",
       "      <th>1</th>\n",
       "      <td>3.000222</td>\n",
       "      <td>4.563306</td>\n",
       "    </tr>\n",
       "    <tr>\n",
       "      <th>2</th>\n",
       "      <td>3.070994</td>\n",
       "      <td>4.600158</td>\n",
       "    </tr>\n",
       "  </tbody>\n",
       "</table>\n",
       "</div>"
      ],
      "text/plain": [
       "   fluid_temp  air_umidity\n",
       "0    2.941408     4.547011\n",
       "1    3.000222     4.563306\n",
       "2    3.070994     4.600158"
      ]
     },
     "execution_count": 777,
     "metadata": {},
     "output_type": "execute_result"
    }
   ],
   "source": [
    "print(X_2_log.shape)\n",
    "X_2_log.head(3)"
   ]
  },
  {
   "cell_type": "code",
   "execution_count": 778,
   "id": "20bfad88",
   "metadata": {},
   "outputs": [
    {
     "data": {
      "text/plain": [
       "((14391, 2), (6168, 2), (14391,), (6168,))"
      ]
     },
     "execution_count": 778,
     "metadata": {},
     "output_type": "execute_result"
    }
   ],
   "source": [
    "X_train_2, X_test_2,y_train_2,  y_test_2 = train_test_split(X_2_log, y_2, test_size=0.3, random_state=42)\n",
    "X_train_2.shape, X_test_2.shape,  y_train_2.shape, y_test_2.shape"
   ]
  },
  {
   "cell_type": "code",
   "execution_count": 705,
   "id": "a7c72d61",
   "metadata": {},
   "outputs": [],
   "source": [
    "X_train_2_sc = pd.DataFrame(scaler.fit_transform(X_train_2))"
   ]
  },
  {
   "cell_type": "code",
   "execution_count": 779,
   "id": "db65952e",
   "metadata": {},
   "outputs": [
    {
     "name": "stdout",
     "output_type": "stream",
     "text": [
      "RandomForestRegressor: 0.7126237345079003\n",
      "DecisionTreeRegressor: 0.0726267077497258\n",
      "Ridge: 0.010070531789463266\n",
      "Lasso: 0.0\n"
     ]
    }
   ],
   "source": [
    "# iteratng through several models to get the best performing one.\n",
    "\n",
    "models = {\n",
    "    \"RandomForestRegressor\": RandomForestRegressor(),\n",
    "    \"DecisionTreeRegressor\": DecisionTreeRegressor(max_depth=3, random_state=42),\n",
    "    \"Ridge\": Ridge(alpha=1),\n",
    "    \"Lasso\": Lasso(alpha=1)\n",
    "}\n",
    "\n",
    "for name, model in models.items():\n",
    "    model.fit(X_train_2, y_train_2)\n",
    "    print(f\"{name}: {model.score(X_train_2, y_train_2)}\")"
   ]
  },
  {
   "cell_type": "code",
   "execution_count": 780,
   "id": "02ff519a",
   "metadata": {},
   "outputs": [
    {
     "name": "stdout",
     "output_type": "stream",
     "text": [
      "0.00041117864578541516\n"
     ]
    }
   ],
   "source": [
    "rfr = RandomForestRegressor()\n",
    "rfr_model = rfr.fit(X_train_2, y_train_2)\n",
    "print(mean_absolute_error(rfr_model.predict(X_train_2), y_train_2))"
   ]
  },
  {
   "cell_type": "code",
   "execution_count": 781,
   "id": "24459b5d",
   "metadata": {},
   "outputs": [],
   "source": [
    "import pickle\n",
    "with open('rfc_model3.pkl', 'wb') as f:\n",
    "    pickle.dump(rfr_model, f)"
   ]
  },
  {
   "cell_type": "code",
   "execution_count": 782,
   "id": "1f8beed6",
   "metadata": {},
   "outputs": [],
   "source": [
    "pred2 = rfr_model.predict(X_2_log)"
   ]
  },
  {
   "cell_type": "code",
   "execution_count": 783,
   "id": "b6106542",
   "metadata": {},
   "outputs": [],
   "source": [
    "modelled2 = pd.DataFrame({'pred2' : pred2, \n",
    "                        'Hour' : df_hour.Hour,\n",
    "                        'dm3' : y_2}\n",
    "                )"
   ]
  },
  {
   "cell_type": "code",
   "execution_count": 785,
   "id": "ca6a8ba3",
   "metadata": {},
   "outputs": [],
   "source": [
    "modelled2_group = modelled2.groupby('Hour').mean().reset_index()\n",
    "modelled2_group.to_csv(\"modelled2_group.csv\", index=False)"
   ]
  },
  {
   "cell_type": "code",
   "execution_count": 823,
   "id": "86d5c6bb",
   "metadata": {},
   "outputs": [
    {
     "data": {
      "image/png": "[encoded data removed]",
      "text/plain": [
       "<Figure size 640x480 with 1 Axes>"
      ]
     },
     "metadata": {},
     "output_type": "display_data"
    }
   ],
   "source": [
    "# fitting best fit line\n",
    "slope1, intercept1 = np.polyfit(modelled2_group.dm3, modelled2_group.pred2, 1)\n",
    "regression_line1 = slope1 * modelled2_group.dm3 + intercept1\n",
    "\n",
    "\n",
    "plt.scatter(x=modelled2_group.dm3, y = modelled2_group.pred2)\n",
    "plt.plot(modelled2_group.dm3, regression_line1, color='red', label=\"actual Linear Regression Line\")\n",
    "plt.title(\"Predicted vs Actual values\")\n",
    "plt.xlabel(\"Actual dm3 values\")\n",
    "plt.ylabel(\"Predicted dm3 values\")\n",
    "plt.grid()\n",
    "plt.legend()\n",
    "plt.show()"
   ]
  },
  {
   "cell_type": "code",
   "execution_count": 739,
   "id": "8d956eca",
   "metadata": {},
   "outputs": [
    {
     "data": {
      "image/png": "[encoded data removed]",
      "text/plain": [
       "<Figure size 1200x700 with 1 Axes>"
      ]
     },
     "metadata": {},
     "output_type": "display_data"
    }
   ],
   "source": [
    "#Visualization\n",
    "fig, ax = plt.subplots(figsize=(12,7))\n",
    "\n",
    "ax.plot(modelled2_group.Hour, modelled2_group.pred2, label=\"preds\")\n",
    "ax.plot(modelled2_group.Hour, modelled2_group.dm3, label = \"actual\")\n",
    "ax.set_xticks(np.arange(0, 24, step=1))\n",
    "plt.show()"
   ]
  },
  {
   "cell_type": "code",
   "execution_count": 833,
   "id": "b8efa3a1",
   "metadata": {},
   "outputs": [
    {
     "name": "stdout",
     "output_type": "stream",
     "text": [
      "Fluid_temperature: 67\n",
      "Air_umidity: 43\n"
     ]
    }
   ],
   "source": [
    "fluid_temp = float(input(\"Fluid_temperature: \"))\n",
    "air_umidity = float(input(\"Air_umidity: \"))"
   ]
  },
  {
   "cell_type": "code",
   "execution_count": 834,
   "id": "4dc5e8c0",
   "metadata": {},
   "outputs": [],
   "source": [
    "input2 = pd.DataFrame({\"fluid_temp\" : [fluid_temp], \"air_umidity\" : [air_umidity]})"
   ]
  },
  {
   "cell_type": "code",
   "execution_count": 835,
   "id": "316b6a16",
   "metadata": {},
   "outputs": [
    {
     "data": {
      "text/html": [
       "<div>\n",
       "<style scoped>\n",
       "    .dataframe tbody tr th:only-of-type {\n",
       "        vertical-align: middle;\n",
       "    }\n",
       "\n",
       "    .dataframe tbody tr th {\n",
       "        vertical-align: top;\n",
       "    }\n",
       "\n",
       "    .dataframe thead th {\n",
       "        text-align: right;\n",
       "    }\n",
       "</style>\n",
       "<table border=\"1\" class=\"dataframe\">\n",
       "  <thead>\n",
       "    <tr style=\"text-align: right;\">\n",
       "      <th></th>\n",
       "      <th>fluid_temp</th>\n",
       "      <th>air_umidity</th>\n",
       "    </tr>\n",
       "  </thead>\n",
       "  <tbody>\n",
       "    <tr>\n",
       "      <th>0</th>\n",
       "      <td>67.0</td>\n",
       "      <td>43.0</td>\n",
       "    </tr>\n",
       "  </tbody>\n",
       "</table>\n",
       "</div>"
      ],
      "text/plain": [
       "   fluid_temp  air_umidity\n",
       "0        67.0         43.0"
      ]
     },
     "execution_count": 835,
     "metadata": {},
     "output_type": "execute_result"
    }
   ],
   "source": [
    "input2"
   ]
  },
  {
   "cell_type": "code",
   "execution_count": 836,
   "id": "b185cd63",
   "metadata": {},
   "outputs": [],
   "source": [
    "input2_log = np.log(input2)"
   ]
  },
  {
   "cell_type": "code",
   "execution_count": 837,
   "id": "391fa5b3",
   "metadata": {},
   "outputs": [
    {
     "data": {
      "text/html": [
       "<div>\n",
       "<style scoped>\n",
       "    .dataframe tbody tr th:only-of-type {\n",
       "        vertical-align: middle;\n",
       "    }\n",
       "\n",
       "    .dataframe tbody tr th {\n",
       "        vertical-align: top;\n",
       "    }\n",
       "\n",
       "    .dataframe thead th {\n",
       "        text-align: right;\n",
       "    }\n",
       "</style>\n",
       "<table border=\"1\" class=\"dataframe\">\n",
       "  <thead>\n",
       "    <tr style=\"text-align: right;\">\n",
       "      <th></th>\n",
       "      <th>fluid_temp</th>\n",
       "      <th>air_umidity</th>\n",
       "    </tr>\n",
       "  </thead>\n",
       "  <tbody>\n",
       "    <tr>\n",
       "      <th>0</th>\n",
       "      <td>4.204693</td>\n",
       "      <td>3.7612</td>\n",
       "    </tr>\n",
       "  </tbody>\n",
       "</table>\n",
       "</div>"
      ],
      "text/plain": [
       "   fluid_temp  air_umidity\n",
       "0    4.204693       3.7612"
      ]
     },
     "execution_count": 837,
     "metadata": {},
     "output_type": "execute_result"
    }
   ],
   "source": [
    "input2_log"
   ]
  },
  {
   "cell_type": "code",
   "execution_count": 838,
   "id": "89d7d1e4",
   "metadata": {},
   "outputs": [],
   "source": [
    "sample2 = rfr_model.predict(input2_log)"
   ]
  },
  {
   "cell_type": "code",
   "execution_count": 839,
   "id": "f231ae14",
   "metadata": {},
   "outputs": [
    {
     "data": {
      "text/plain": [
       "0.00377"
      ]
     },
     "execution_count": 839,
     "metadata": {},
     "output_type": "execute_result"
    }
   ],
   "source": [
    "round(sample2[0], 5)"
   ]
  },
  {
   "cell_type": "code",
   "execution_count": null,
   "id": "6c10b73f",
   "metadata": {},
   "outputs": [],
   "source": []
  },
  {
   "cell_type": "code",
   "execution_count": null,
   "id": "6f75d2df",
   "metadata": {},
   "outputs": [],
   "source": []
  },
  {
   "cell_type": "markdown",
   "id": "13fc71af",
   "metadata": {},
   "source": [
    "# ANOVA"
   ]
  },
  {
   "cell_type": "code",
   "execution_count": 282,
   "id": "f5570096",
   "metadata": {},
   "outputs": [],
   "source": [
    "df = pd.read_csv(\"biogasdf_ready.csv\", parse_dates=['date'])\n",
    "df['Month'] = df['date'].dt.month\n",
    "df['Hour'] = pd.to_datetime(df['hour'], format='%H:%M:%S').dt.hour"
   ]
  },
  {
   "cell_type": "code",
   "execution_count": 284,
   "id": "c8d0b613",
   "metadata": {},
   "outputs": [],
   "source": [
    "df = df.drop(columns = [\"date\", \"hour\"])"
   ]
  },
  {
   "cell_type": "code",
   "execution_count": 285,
   "id": "ea0417b1",
   "metadata": {},
   "outputs": [
    {
     "data": {
      "text/html": [
       "<div>\n",
       "<style scoped>\n",
       "    .dataframe tbody tr th:only-of-type {\n",
       "        vertical-align: middle;\n",
       "    }\n",
       "\n",
       "    .dataframe tbody tr th {\n",
       "        vertical-align: top;\n",
       "    }\n",
       "\n",
       "    .dataframe thead th {\n",
       "        text-align: right;\n",
       "    }\n",
       "</style>\n",
       "<table border=\"1\" class=\"dataframe\">\n",
       "  <thead>\n",
       "    <tr style=\"text-align: right;\">\n",
       "      <th></th>\n",
       "      <th>fluid_temp</th>\n",
       "      <th>ground_temp</th>\n",
       "      <th>air_umidity</th>\n",
       "      <th>air_temp</th>\n",
       "      <th>gas_umidity</th>\n",
       "      <th>gas_temp</th>\n",
       "      <th>dm3_gas</th>\n",
       "      <th>bio_id</th>\n",
       "      <th>phase_test</th>\n",
       "      <th>Month</th>\n",
       "      <th>Hour</th>\n",
       "    </tr>\n",
       "  </thead>\n",
       "  <tbody>\n",
       "    <tr>\n",
       "      <th>0</th>\n",
       "      <td>14.81</td>\n",
       "      <td>14.69</td>\n",
       "      <td>66.7</td>\n",
       "      <td>18.8</td>\n",
       "      <td>84.50</td>\n",
       "      <td>16.93</td>\n",
       "      <td>0.0</td>\n",
       "      <td>1</td>\n",
       "      <td>0</td>\n",
       "      <td>8</td>\n",
       "      <td>22</td>\n",
       "    </tr>\n",
       "    <tr>\n",
       "      <th>1</th>\n",
       "      <td>14.88</td>\n",
       "      <td>14.69</td>\n",
       "      <td>78.3</td>\n",
       "      <td>18.0</td>\n",
       "      <td>84.45</td>\n",
       "      <td>15.83</td>\n",
       "      <td>0.0</td>\n",
       "      <td>1</td>\n",
       "      <td>0</td>\n",
       "      <td>8</td>\n",
       "      <td>23</td>\n",
       "    </tr>\n",
       "    <tr>\n",
       "      <th>2</th>\n",
       "      <td>14.88</td>\n",
       "      <td>14.69</td>\n",
       "      <td>83.2</td>\n",
       "      <td>17.4</td>\n",
       "      <td>84.35</td>\n",
       "      <td>15.22</td>\n",
       "      <td>0.0</td>\n",
       "      <td>1</td>\n",
       "      <td>0</td>\n",
       "      <td>8</td>\n",
       "      <td>0</td>\n",
       "    </tr>\n",
       "    <tr>\n",
       "      <th>3</th>\n",
       "      <td>14.88</td>\n",
       "      <td>14.69</td>\n",
       "      <td>84.8</td>\n",
       "      <td>16.7</td>\n",
       "      <td>84.15</td>\n",
       "      <td>14.58</td>\n",
       "      <td>0.0</td>\n",
       "      <td>1</td>\n",
       "      <td>0</td>\n",
       "      <td>8</td>\n",
       "      <td>0</td>\n",
       "    </tr>\n",
       "    <tr>\n",
       "      <th>4</th>\n",
       "      <td>14.88</td>\n",
       "      <td>14.69</td>\n",
       "      <td>87.4</td>\n",
       "      <td>16.0</td>\n",
       "      <td>84.10</td>\n",
       "      <td>14.18</td>\n",
       "      <td>0.0</td>\n",
       "      <td>1</td>\n",
       "      <td>0</td>\n",
       "      <td>8</td>\n",
       "      <td>0</td>\n",
       "    </tr>\n",
       "  </tbody>\n",
       "</table>\n",
       "</div>"
      ],
      "text/plain": [
       "   fluid_temp  ground_temp  air_umidity  air_temp  gas_umidity  gas_temp  \\\n",
       "0       14.81        14.69         66.7      18.8        84.50     16.93   \n",
       "1       14.88        14.69         78.3      18.0        84.45     15.83   \n",
       "2       14.88        14.69         83.2      17.4        84.35     15.22   \n",
       "3       14.88        14.69         84.8      16.7        84.15     14.58   \n",
       "4       14.88        14.69         87.4      16.0        84.10     14.18   \n",
       "\n",
       "   dm3_gas  bio_id  phase_test  Month  Hour  \n",
       "0      0.0       1           0      8    22  \n",
       "1      0.0       1           0      8    23  \n",
       "2      0.0       1           0      8     0  \n",
       "3      0.0       1           0      8     0  \n",
       "4      0.0       1           0      8     0  "
      ]
     },
     "execution_count": 285,
     "metadata": {},
     "output_type": "execute_result"
    }
   ],
   "source": [
    "df.head()"
   ]
  },
  {
   "cell_type": "code",
   "execution_count": 307,
   "id": "24b25c7c",
   "metadata": {
    "scrolled": true
   },
   "outputs": [],
   "source": [
    "import pandas as pd\n",
    "from scipy.stats import f_oneway\n",
    "\n",
    "# Select the columns you want to analyze (e.g., fluid_temp, ground_temp, air_umidity)\n",
    "selected_columns = ['fluid_temp', 'ground_temp', 'air_umidity', \"air_temp\", \"gas_umidity\", \"gas_temp\", \"bio_id\", \"phase_test\", \"Month\",\"Hour\"]\n",
    "\n",
    "anova_results = {'Column': [], 'F-statistic': [], 'p-value': []}\n",
    "\n",
    "# Perform ANOVA for each selected column\n",
    "for col in selected_columns:\n",
    "    groups = []  # List to store the data for each group\n",
    "    categories = df['dm3_gas'].unique()  # Assuming we want to analyze based on 'dm3_gas' for now\n",
    "\n",
    "    for category in categories:\n",
    "        group_data = df[df['dm3_gas'] == category][col]\n",
    "        groups.append(group_data)\n",
    "\n",
    "    # Perform ANOVA\n",
    "    f_statistic, p_value = f_oneway(*groups)\n",
    "    \n",
    "    # Print the results for each column\n",
    "#     print(f\"ANOVA results for '{col}':\")\n",
    "#     print(\"F-statistic:\", f_statistic)\n",
    "#     print(\"p-value:\", p_value)\n",
    "#     print(\"\\n\")\n",
    "\n",
    "    anova_results['Column'].append(col)\n",
    "    anova_results['F-statistic'].append(f_statistic)\n",
    "    anova_results['p-value'].append(p_value)\n",
    "    \n",
    "anova_plain = pd.DataFrame(anova_results)\n",
    "anova_plain =  anova_df.fillna(0)"
   ]
  },
  {
   "cell_type": "code",
   "execution_count": 308,
   "id": "57e5dc2f",
   "metadata": {},
   "outputs": [],
   "source": [
    "anova_plain.to_csv(\"anova_plain.csv\", index=False)"
   ]
  },
  {
   "cell_type": "markdown",
   "id": "dafaa167",
   "metadata": {},
   "source": [
    "### Using hourly grouped values"
   ]
  },
  {
   "cell_type": "code",
   "execution_count": 349,
   "id": "f25e7503",
   "metadata": {},
   "outputs": [],
   "source": [
    "df = pd.read_csv(\"biogasdf_ready.csv\", parse_dates=['date'])\n",
    "df['Month'] = df['date'].dt.month\n",
    "#df['Hour'] = pd.to_datetime(df['hour'], format='%H:%M:%S').dt.hour\n",
    "df_hour = df.groupby('hour').mean().reset_index()"
   ]
  },
  {
   "cell_type": "code",
   "execution_count": 350,
   "id": "f5812f30",
   "metadata": {},
   "outputs": [],
   "source": [
    "df_hour = df_hour.drop(columns = [\"date\", \"hour\"])"
   ]
  },
  {
   "cell_type": "code",
   "execution_count": 351,
   "id": "3e57c08f",
   "metadata": {},
   "outputs": [
    {
     "name": "stdout",
     "output_type": "stream",
     "text": [
      "ANOVA results for 'fluid_temp':\n",
      "F-statistic: 9.620235990117884\n",
      "p-value: 9.670027827669945e-22\n",
      "\n",
      "\n",
      "ANOVA results for 'ground_temp':\n",
      "F-statistic: 9.122320175187872\n",
      "p-value: 2.2602493340110713e-20\n",
      "\n",
      "\n",
      "ANOVA results for 'air_umidity':\n",
      "F-statistic: 8.589242018893147\n",
      "p-value: 6.482801869722251e-19\n",
      "\n",
      "\n",
      "ANOVA results for 'air_temp':\n",
      "F-statistic: 4.535745539675785\n",
      "p-value: 2.9220128498051542e-08\n",
      "\n",
      "\n",
      "ANOVA results for 'gas_umidity':\n",
      "F-statistic: nan\n",
      "p-value: nan\n",
      "\n",
      "\n",
      "ANOVA results for 'gas_temp':\n",
      "F-statistic: nan\n",
      "p-value: nan\n",
      "\n",
      "\n",
      "ANOVA results for 'bio_id':\n",
      "F-statistic: 48.16077373705148\n",
      "p-value: 1.4911457074647116e-132\n",
      "\n",
      "\n",
      "ANOVA results for 'phase_test':\n",
      "F-statistic: 131.77150982658185\n",
      "p-value: 0.0\n",
      "\n",
      "\n",
      "ANOVA results for 'Month':\n",
      "F-statistic: 35.37459581146053\n",
      "p-value: 1.5475459140684477e-95\n",
      "\n",
      "\n"
     ]
    }
   ],
   "source": [
    "import pandas as pd\n",
    "from scipy.stats import f_oneway\n",
    "\n",
    "# Select the columns you want to analyze (e.g., fluid_temp, ground_temp, air_umidity)\n",
    "selected_columns = ['fluid_temp', 'ground_temp', 'air_umidity', \"air_temp\", \"gas_umidity\", \"gas_temp\", \"bio_id\", \"phase_test\", \"Month\"]\n",
    "\n",
    "anova_results = {'Column': [], 'F-statistic': [], 'p-value': []}\n",
    "\n",
    "\n",
    "# Perform ANOVA for each selected column\n",
    "for col in selected_columns:\n",
    "    groups = []  # List to store the data for each group\n",
    "    categories = df_hour['dm3_gas'].unique()  # Assuming we want to analyze based on 'dm3_gas' for now\n",
    "\n",
    "    for category in categories:\n",
    "        group_data = df_hour[df_hour['dm3_gas'] == category][col]\n",
    "        groups.append(group_data)\n",
    "\n",
    "    # Perform ANOVA\n",
    "    f_statistic, p_value = f_oneway(*groups)\n",
    "    \n",
    "    # Print the results for each column\n",
    "    print(f\"ANOVA results for '{col}':\")\n",
    "    print(\"F-statistic:\", f_statistic)\n",
    "    print(\"p-value:\", p_value)\n",
    "    print(\"\\n\")\n",
    "    anova_results['Column'].append(col)\n",
    "    anova_results['F-statistic'].append(f_statistic)\n",
    "    anova_results['p-value'].append(p_value)\n",
    "    \n",
    "anova_hour = pd.DataFrame(anova_results)\n",
    "anova_hour =  anova_df.fillna(0)"
   ]
  },
  {
   "cell_type": "code",
   "execution_count": 352,
   "id": "0a732199",
   "metadata": {},
   "outputs": [],
   "source": [
    "anova_hour.to_csv(\"anova_hour.csv\", index=False)"
   ]
  },
  {
   "cell_type": "code",
   "execution_count": 353,
   "id": "147a3b5f",
   "metadata": {},
   "outputs": [],
   "source": [
    "anova_hour['p-value'] = round(anova_hour['p-value'],5)\n",
    "anova_hour['F-statistic'] = round(anova_hour['F-statistic'],5)"
   ]
  },
  {
   "cell_type": "code",
   "execution_count": 354,
   "id": "3f58a11e",
   "metadata": {},
   "outputs": [
    {
     "data": {
      "text/html": [
       "<div>\n",
       "<style scoped>\n",
       "    .dataframe tbody tr th:only-of-type {\n",
       "        vertical-align: middle;\n",
       "    }\n",
       "\n",
       "    .dataframe tbody tr th {\n",
       "        vertical-align: top;\n",
       "    }\n",
       "\n",
       "    .dataframe thead th {\n",
       "        text-align: right;\n",
       "    }\n",
       "</style>\n",
       "<table border=\"1\" class=\"dataframe\">\n",
       "  <thead>\n",
       "    <tr style=\"text-align: right;\">\n",
       "      <th></th>\n",
       "      <th>Column</th>\n",
       "      <th>F-statistic</th>\n",
       "      <th>p-value</th>\n",
       "    </tr>\n",
       "  </thead>\n",
       "  <tbody>\n",
       "    <tr>\n",
       "      <th>0</th>\n",
       "      <td>fluid_temp</td>\n",
       "      <td>9.62024</td>\n",
       "      <td>0.00000</td>\n",
       "    </tr>\n",
       "    <tr>\n",
       "      <th>1</th>\n",
       "      <td>ground_temp</td>\n",
       "      <td>9.12232</td>\n",
       "      <td>0.00000</td>\n",
       "    </tr>\n",
       "    <tr>\n",
       "      <th>2</th>\n",
       "      <td>air_umidity</td>\n",
       "      <td>8.58924</td>\n",
       "      <td>0.00000</td>\n",
       "    </tr>\n",
       "    <tr>\n",
       "      <th>3</th>\n",
       "      <td>air_temp</td>\n",
       "      <td>4.53575</td>\n",
       "      <td>0.00000</td>\n",
       "    </tr>\n",
       "    <tr>\n",
       "      <th>4</th>\n",
       "      <td>gas_umidity</td>\n",
       "      <td>0.00000</td>\n",
       "      <td>0.00000</td>\n",
       "    </tr>\n",
       "    <tr>\n",
       "      <th>5</th>\n",
       "      <td>gas_temp</td>\n",
       "      <td>0.00000</td>\n",
       "      <td>0.00000</td>\n",
       "    </tr>\n",
       "    <tr>\n",
       "      <th>6</th>\n",
       "      <td>bio_id</td>\n",
       "      <td>48.16077</td>\n",
       "      <td>0.00000</td>\n",
       "    </tr>\n",
       "    <tr>\n",
       "      <th>7</th>\n",
       "      <td>phase_test</td>\n",
       "      <td>131.77151</td>\n",
       "      <td>0.00000</td>\n",
       "    </tr>\n",
       "    <tr>\n",
       "      <th>8</th>\n",
       "      <td>Month</td>\n",
       "      <td>35.37460</td>\n",
       "      <td>0.00000</td>\n",
       "    </tr>\n",
       "    <tr>\n",
       "      <th>9</th>\n",
       "      <td>Hour</td>\n",
       "      <td>1.08293</td>\n",
       "      <td>0.36732</td>\n",
       "    </tr>\n",
       "  </tbody>\n",
       "</table>\n",
       "</div>"
      ],
      "text/plain": [
       "        Column  F-statistic  p-value\n",
       "0   fluid_temp      9.62024  0.00000\n",
       "1  ground_temp      9.12232  0.00000\n",
       "2  air_umidity      8.58924  0.00000\n",
       "3     air_temp      4.53575  0.00000\n",
       "4  gas_umidity      0.00000  0.00000\n",
       "5     gas_temp      0.00000  0.00000\n",
       "6       bio_id     48.16077  0.00000\n",
       "7   phase_test    131.77151  0.00000\n",
       "8        Month     35.37460  0.00000\n",
       "9         Hour      1.08293  0.36732"
      ]
     },
     "execution_count": 354,
     "metadata": {},
     "output_type": "execute_result"
    }
   ],
   "source": [
    "anova_hour"
   ]
  },
  {
   "cell_type": "code",
   "execution_count": null,
   "id": "1ad128d2",
   "metadata": {},
   "outputs": [],
   "source": []
  },
  {
   "cell_type": "code",
   "execution_count": 318,
   "id": "8eed91ba",
   "metadata": {},
   "outputs": [
    {
     "data": {
      "image/png": "[encoded data removed]",
      "text/plain": [
       "<Figure size 1500x700 with 1 Axes>"
      ]
     },
     "metadata": {},
     "output_type": "display_data"
    }
   ],
   "source": [
    "import matplotlib.pyplot as plt\n",
    "import pandas as pd\n",
    "\n",
    "# Create a figure and axis\n",
    "fig, ax = plt.subplots(figsize=(15, 7))\n",
    "\n",
    "# Define the width of each bar\n",
    "bar_width = 0.15  # Adjust the bar width as needed\n",
    "\n",
    "# Create x-values for the bars for the first set of data\n",
    "x1 = range(len(anova_hour.Column))\n",
    "\n",
    "# Create x-values for each set of bars\n",
    "x2_f = [x + bar_width for x in x1]\n",
    "x2_p = [x + 2 * bar_width for x in x1]\n",
    "\n",
    "# Plot the first set of bars\n",
    "ax.bar(x1, anova_hour[\"F-statistic\"], width=bar_width, label='F-statistic')\n",
    "\n",
    "# Plot the second set of bars\n",
    "ax.bar(x2_p, anova_hour[\"p-value\"], width=bar_width, label='p-values')\n",
    "\n",
    "\n",
    "# Set the x-axis labels to be the dates\n",
    "ax.set_xticks([x + 3 * bar_width for x in x1])\n",
    "ax.set_xticklabels(anova_hour.Column, rotation=45, ha='right')\n",
    "\n",
    "# Add a legend\n",
    "ax.legend()\n",
    "\n",
    "# Set labels and title\n",
    "ax.set_xlabel('Date')\n",
    "ax.set_ylabel('Quantity')\n",
    "ax.set_title('Multiple Products Over Time')\n",
    "\n",
    "# Show the plot\n",
    "plt.tight_layout()\n",
    "plt.show()\n"
   ]
  },
  {
   "cell_type": "code",
   "execution_count": 320,
   "id": "46f7360b",
   "metadata": {},
   "outputs": [
    {
     "data": {
      "text/plain": [
       "([0, 1, 2, 3, 4, 5, 6, 7, 8, 9],\n",
       " [Text(0, 0, 'fluid_temp'),\n",
       "  Text(1, 0, 'ground_temp'),\n",
       "  Text(2, 0, 'air_umidity'),\n",
       "  Text(3, 0, 'air_temp'),\n",
       "  Text(4, 0, 'gas_umidity'),\n",
       "  Text(5, 0, 'gas_temp'),\n",
       "  Text(6, 0, 'bio_id'),\n",
       "  Text(7, 0, 'phase_test'),\n",
       "  Text(8, 0, 'Month'),\n",
       "  Text(9, 0, 'Hour')])"
      ]
     },
     "execution_count": 320,
     "metadata": {},
     "output_type": "execute_result"
    },
    {
     "data": {
      "image/png": "[encoded data removed]",
      "text/plain": [
       "<Figure size 640x480 with 1 Axes>"
      ]
     },
     "metadata": {},
     "output_type": "display_data"
    }
   ],
   "source": [
    "plt.bar(anova_hour[\"Column\"], anova_hour[\"F-statistic\"])\n",
    "plt.xticks(rotation=90)"
   ]
  },
  {
   "cell_type": "code",
   "execution_count": 321,
   "id": "c1eaaab8",
   "metadata": {},
   "outputs": [
    {
     "data": {
      "text/plain": [
       "([0, 1, 2, 3, 4, 5, 6, 7, 8, 9],\n",
       " [Text(0, 0, 'fluid_temp'),\n",
       "  Text(1, 0, 'ground_temp'),\n",
       "  Text(2, 0, 'air_umidity'),\n",
       "  Text(3, 0, 'air_temp'),\n",
       "  Text(4, 0, 'gas_umidity'),\n",
       "  Text(5, 0, 'gas_temp'),\n",
       "  Text(6, 0, 'bio_id'),\n",
       "  Text(7, 0, 'phase_test'),\n",
       "  Text(8, 0, 'Month'),\n",
       "  Text(9, 0, 'Hour')])"
      ]
     },
     "execution_count": 321,
     "metadata": {},
     "output_type": "execute_result"
    },
    {
     "data": {
      "image/png": "[encoded data removed]",
      "text/plain": [
       "<Figure size 640x480 with 1 Axes>"
      ]
     },
     "metadata": {},
     "output_type": "display_data"
    }
   ],
   "source": [
    "plt.bar(anova_hour[\"Column\"], anova_hour[\"p-value\"])\n",
    "plt.xticks(rotation=90)"
   ]
  },
  {
   "cell_type": "code",
   "execution_count": null,
   "id": "81f8b78f",
   "metadata": {},
   "outputs": [],
   "source": []
  }
 ],
 "metadata": {
  "kernelspec": {
   "display_name": "Python 3 (ipykernel)",
   "language": "python",
   "name": "python3"
  },
  "language_info": {
   "codemirror_mode": {
    "name": "ipython",
    "version": 3
   },
   "file_extension": ".py",
   "mimetype": "text/x-python",
   "name": "python",
   "nbconvert_exporter": "python",
   "pygments_lexer": "ipython3",
   "version": "3.11.4"
  }
 },
 "nbformat": 4,
 "nbformat_minor": 5
}
