{
 "cells": [
  {
   "cell_type": "markdown",
   "id": "f03fe562",
   "metadata": {},
   "source": [
    "<h1 style=\"font-size:4.5rem;color:blue;\">Bio-gas production Models</h1>"
   ]
  },
  {
   "cell_type": "markdown",
   "id": "610e56c2",
   "metadata": {},
   "source": [
    "### libraries"
   ]
  },
  {
   "cell_type": "code",
   "execution_count": 1,
   "id": "e14805e4",
   "metadata": {},
   "outputs": [],
   "source": [
    "import numpy as np\n",
    "import pandas as pd\n",
    "import matplotlib.pyplot as plt\n",
    "from sklearn.model_selection import train_test_split\n",
    "from sklearn.preprocessing import StandardScaler\n",
    "from sklearn.ensemble import RandomForestRegressor\n",
    "\n",
    "#Models\n",
    "from sklearn.ensemble import RandomForestRegressor\n",
    "from sklearn.linear_model import Ridge, Lasso\n",
    "from sklearn.tree import DecisionTreeRegressor\n",
    "\n",
    "#evaluation metrics\n",
    "from sklearn.metrics import mean_absolute_error, mean_squared_error, r2_score"
   ]
  },
  {
   "cell_type": "markdown",
   "id": "39f65a38",
   "metadata": {},
   "source": [
    "### Dataset"
   ]
  },
  {
   "cell_type": "code",
   "execution_count": 2,
   "id": "d59539f9",
   "metadata": {},
   "outputs": [],
   "source": [
    "df = pd.read_csv(\"biogasdf_ready.csv\", parse_dates=['date'])\n",
    "df['Month'] = df['date'].dt.month\n",
    "df['Hour'] = pd.to_datetime(df['hour'], format='%H:%M:%S').dt.hour"
   ]
  },
  {
   "cell_type": "markdown",
   "id": "35f61bcc",
   "metadata": {},
   "source": [
    "#### Aggregating using group function with respect to hour variable"
   ]
  },
  {
   "cell_type": "code",
   "execution_count": 3,
   "id": "9ae8e419",
   "metadata": {},
   "outputs": [],
   "source": [
    "df_hour = df.groupby('hour').mean().reset_index()"
   ]
  },
  {
   "cell_type": "code",
   "execution_count": 4,
   "id": "a7b00b5c",
   "metadata": {
    "scrolled": true
   },
   "outputs": [
    {
     "data": {
      "text/html": [
       "<div>\n",
       "<style scoped>\n",
       "    .dataframe tbody tr th:only-of-type {\n",
       "        vertical-align: middle;\n",
       "    }\n",
       "\n",
       "    .dataframe tbody tr th {\n",
       "        vertical-align: top;\n",
       "    }\n",
       "\n",
       "    .dataframe thead th {\n",
       "        text-align: right;\n",
       "    }\n",
       "</style>\n",
       "<table border=\"1\" class=\"dataframe\">\n",
       "  <thead>\n",
       "    <tr style=\"text-align: right;\">\n",
       "      <th></th>\n",
       "      <th>hour</th>\n",
       "      <th>date</th>\n",
       "      <th>fluid_temp</th>\n",
       "      <th>ground_temp</th>\n",
       "      <th>air_umidity</th>\n",
       "      <th>air_temp</th>\n",
       "      <th>gas_umidity</th>\n",
       "      <th>gas_temp</th>\n",
       "      <th>dm3_gas</th>\n",
       "      <th>bio_id</th>\n",
       "      <th>phase_test</th>\n",
       "      <th>Month</th>\n",
       "      <th>Hour</th>\n",
       "    </tr>\n",
       "  </thead>\n",
       "  <tbody>\n",
       "    <tr>\n",
       "      <th>0</th>\n",
       "      <td>00:00:00</td>\n",
       "      <td>2021-11-08 00:00:00</td>\n",
       "      <td>18.942500</td>\n",
       "      <td>-17.657500</td>\n",
       "      <td>94.35</td>\n",
       "      <td>15.300000</td>\n",
       "      <td>90.0925</td>\n",
       "      <td>14.8275</td>\n",
       "      <td>0.000</td>\n",
       "      <td>1.500000</td>\n",
       "      <td>1.000000</td>\n",
       "      <td>11.000000</td>\n",
       "      <td>0.0</td>\n",
       "    </tr>\n",
       "    <tr>\n",
       "      <th>1</th>\n",
       "      <td>00:00:02</td>\n",
       "      <td>2022-05-14 00:00:00</td>\n",
       "      <td>20.090000</td>\n",
       "      <td>18.905000</td>\n",
       "      <td>95.90</td>\n",
       "      <td>14.500000</td>\n",
       "      <td>5.0000</td>\n",
       "      <td>5.0000</td>\n",
       "      <td>0.000</td>\n",
       "      <td>1.500000</td>\n",
       "      <td>3.000000</td>\n",
       "      <td>5.000000</td>\n",
       "      <td>0.0</td>\n",
       "    </tr>\n",
       "    <tr>\n",
       "      <th>2</th>\n",
       "      <td>00:00:03</td>\n",
       "      <td>2022-01-04 08:00:00</td>\n",
       "      <td>21.563333</td>\n",
       "      <td>21.836667</td>\n",
       "      <td>99.50</td>\n",
       "      <td>15.366667</td>\n",
       "      <td>84.5800</td>\n",
       "      <td>16.4700</td>\n",
       "      <td>0.000</td>\n",
       "      <td>1.333333</td>\n",
       "      <td>0.666667</td>\n",
       "      <td>4.666667</td>\n",
       "      <td>0.0</td>\n",
       "    </tr>\n",
       "    <tr>\n",
       "      <th>3</th>\n",
       "      <td>00:00:08</td>\n",
       "      <td>2022-06-26 00:00:00</td>\n",
       "      <td>17.130000</td>\n",
       "      <td>15.785000</td>\n",
       "      <td>93.90</td>\n",
       "      <td>13.500000</td>\n",
       "      <td>5.0000</td>\n",
       "      <td>5.0000</td>\n",
       "      <td>0.005</td>\n",
       "      <td>1.500000</td>\n",
       "      <td>3.000000</td>\n",
       "      <td>6.000000</td>\n",
       "      <td>0.0</td>\n",
       "    </tr>\n",
       "    <tr>\n",
       "      <th>4</th>\n",
       "      <td>00:00:16</td>\n",
       "      <td>2021-12-21 00:00:00</td>\n",
       "      <td>22.440000</td>\n",
       "      <td>22.120000</td>\n",
       "      <td>91.60</td>\n",
       "      <td>17.400000</td>\n",
       "      <td>5.0000</td>\n",
       "      <td>5.0000</td>\n",
       "      <td>0.000</td>\n",
       "      <td>1.500000</td>\n",
       "      <td>1.000000</td>\n",
       "      <td>12.000000</td>\n",
       "      <td>0.0</td>\n",
       "    </tr>\n",
       "  </tbody>\n",
       "</table>\n",
       "</div>"
      ],
      "text/plain": [
       "       hour                date  fluid_temp  ground_temp  air_umidity  \\\n",
       "0  00:00:00 2021-11-08 00:00:00   18.942500   -17.657500        94.35   \n",
       "1  00:00:02 2022-05-14 00:00:00   20.090000    18.905000        95.90   \n",
       "2  00:00:03 2022-01-04 08:00:00   21.563333    21.836667        99.50   \n",
       "3  00:00:08 2022-06-26 00:00:00   17.130000    15.785000        93.90   \n",
       "4  00:00:16 2021-12-21 00:00:00   22.440000    22.120000        91.60   \n",
       "\n",
       "    air_temp  gas_umidity  gas_temp  dm3_gas    bio_id  phase_test      Month  \\\n",
       "0  15.300000      90.0925   14.8275    0.000  1.500000    1.000000  11.000000   \n",
       "1  14.500000       5.0000    5.0000    0.000  1.500000    3.000000   5.000000   \n",
       "2  15.366667      84.5800   16.4700    0.000  1.333333    0.666667   4.666667   \n",
       "3  13.500000       5.0000    5.0000    0.005  1.500000    3.000000   6.000000   \n",
       "4  17.400000       5.0000    5.0000    0.000  1.500000    1.000000  12.000000   \n",
       "\n",
       "   Hour  \n",
       "0   0.0  \n",
       "1   0.0  \n",
       "2   0.0  \n",
       "3   0.0  \n",
       "4   0.0  "
      ]
     },
     "execution_count": 4,
     "metadata": {},
     "output_type": "execute_result"
    }
   ],
   "source": [
    "df_hour = df_hour.fillna(5)\n",
    "df_hour.head()"
   ]
  },
  {
   "cell_type": "markdown",
   "id": "24f7e7c6",
   "metadata": {},
   "source": [
    "### Feature Varible"
   ]
  },
  {
   "cell_type": "code",
   "execution_count": 5,
   "id": "469a1c38",
   "metadata": {},
   "outputs": [
    {
     "name": "stdout",
     "output_type": "stream",
     "text": [
      " fluid_temp  Minimum Value : -53.0,  Maximum Value: 24.215 change_value: 151.215\n",
      " ground_temp  Minimum Value : -54.405,  Maximum Value: 23.97 change_value: 150.97\n",
      " air_umidity  Minimum Value : 13.9,  Maximum Value: 99.90000000000002 change_value: 99.90000000000002\n",
      " air_temp  Minimum Value : 1.3,  Maximum Value: 52.6 change_value: 52.6\n",
      " gas_umidity  Minimum Value : 5.0,  Maximum Value: 110.49 change_value: 78.77\n",
      " gas_temp  Minimum Value : -12.17,  Maximum Value: 120.79 change_value: 133.41\n"
     ]
    }
   ],
   "source": [
    "# Lets get the range of the each features\n",
    "columns = [\"fluid_temp\", \"ground_temp\", \"air_umidity\", \"air_temp\", \"gas_umidity\", \"gas_temp\"]\n",
    "for col in columns:\n",
    "    print(f\" {col}  Minimum Value : {df_hour[col].min()},  Maximum Value: {df_hour[col].max()} change_value: {df_hour[col].max()-df[col].min()}\")"
   ]
  },
  {
   "cell_type": "code",
   "execution_count": 6,
   "id": "480a0260",
   "metadata": {
    "scrolled": false
   },
   "outputs": [
    {
     "data": {
      "text/plain": [
       "dm3_gas\n",
       "0.00     18040\n",
       "5.00      1756\n",
       "2.50       376\n",
       "3.33       149\n",
       "10.00      117\n",
       "1.67        51\n",
       "2.00        30\n",
       "6.67        13\n",
       "4.00         9\n",
       "1.43         7\n",
       "1.25         6\n",
       "7.50         2\n",
       "3.75         1\n",
       "1.11         1\n",
       "1.00         1\n",
       "Name: count, dtype: int64"
      ]
     },
     "execution_count": 6,
     "metadata": {},
     "output_type": "execute_result"
    }
   ],
   "source": [
    "df_hour.dm3_gas = round(df_hour['dm3_gas']*1000, 2)\n",
    "df_hour.dm3_gas.value_counts()"
   ]
  },
  {
   "cell_type": "markdown",
   "id": "b3e0991b",
   "metadata": {},
   "source": [
    "#### Extracting variables values that cobntribute to maximum gas production"
   ]
  },
  {
   "cell_type": "code",
   "execution_count": 7,
   "id": "11339227",
   "metadata": {},
   "outputs": [],
   "source": [
    "df_hour_max = df_hour[df_hour.dm3_gas==10]"
   ]
  },
  {
   "cell_type": "code",
   "execution_count": 8,
   "id": "2ab24a20",
   "metadata": {},
   "outputs": [
    {
     "data": {
      "text/html": [
       "<div>\n",
       "<style scoped>\n",
       "    .dataframe tbody tr th:only-of-type {\n",
       "        vertical-align: middle;\n",
       "    }\n",
       "\n",
       "    .dataframe tbody tr th {\n",
       "        vertical-align: top;\n",
       "    }\n",
       "\n",
       "    .dataframe thead th {\n",
       "        text-align: right;\n",
       "    }\n",
       "</style>\n",
       "<table border=\"1\" class=\"dataframe\">\n",
       "  <thead>\n",
       "    <tr style=\"text-align: right;\">\n",
       "      <th></th>\n",
       "      <th>hour</th>\n",
       "      <th>date</th>\n",
       "      <th>fluid_temp</th>\n",
       "      <th>ground_temp</th>\n",
       "      <th>air_umidity</th>\n",
       "      <th>air_temp</th>\n",
       "      <th>gas_umidity</th>\n",
       "      <th>gas_temp</th>\n",
       "      <th>dm3_gas</th>\n",
       "      <th>bio_id</th>\n",
       "      <th>phase_test</th>\n",
       "      <th>Month</th>\n",
       "      <th>Hour</th>\n",
       "    </tr>\n",
       "  </thead>\n",
       "  <tbody>\n",
       "    <tr>\n",
       "      <th>982</th>\n",
       "      <td>01:10:26</td>\n",
       "      <td>2022-03-20</td>\n",
       "      <td>23.375</td>\n",
       "      <td>23.220</td>\n",
       "      <td>96.1</td>\n",
       "      <td>17.7</td>\n",
       "      <td>87.48</td>\n",
       "      <td>17.03</td>\n",
       "      <td>10.0</td>\n",
       "      <td>1.5</td>\n",
       "      <td>2.0</td>\n",
       "      <td>3.0</td>\n",
       "      <td>1.0</td>\n",
       "    </tr>\n",
       "    <tr>\n",
       "      <th>1237</th>\n",
       "      <td>01:27:58</td>\n",
       "      <td>2022-03-06</td>\n",
       "      <td>23.845</td>\n",
       "      <td>23.565</td>\n",
       "      <td>96.6</td>\n",
       "      <td>22.9</td>\n",
       "      <td>86.91</td>\n",
       "      <td>21.96</td>\n",
       "      <td>10.0</td>\n",
       "      <td>1.5</td>\n",
       "      <td>2.0</td>\n",
       "      <td>3.0</td>\n",
       "      <td>1.0</td>\n",
       "    </tr>\n",
       "    <tr>\n",
       "      <th>1529</th>\n",
       "      <td>01:48:14</td>\n",
       "      <td>2022-03-19</td>\n",
       "      <td>23.340</td>\n",
       "      <td>23.250</td>\n",
       "      <td>97.6</td>\n",
       "      <td>21.0</td>\n",
       "      <td>86.40</td>\n",
       "      <td>19.99</td>\n",
       "      <td>10.0</td>\n",
       "      <td>1.5</td>\n",
       "      <td>2.0</td>\n",
       "      <td>3.0</td>\n",
       "      <td>1.0</td>\n",
       "    </tr>\n",
       "    <tr>\n",
       "      <th>1848</th>\n",
       "      <td>02:10:28</td>\n",
       "      <td>2022-03-20</td>\n",
       "      <td>23.345</td>\n",
       "      <td>23.220</td>\n",
       "      <td>96.7</td>\n",
       "      <td>18.0</td>\n",
       "      <td>88.60</td>\n",
       "      <td>17.38</td>\n",
       "      <td>10.0</td>\n",
       "      <td>1.5</td>\n",
       "      <td>2.0</td>\n",
       "      <td>3.0</td>\n",
       "      <td>2.0</td>\n",
       "    </tr>\n",
       "    <tr>\n",
       "      <th>3292</th>\n",
       "      <td>03:53:27</td>\n",
       "      <td>2022-03-16</td>\n",
       "      <td>23.660</td>\n",
       "      <td>23.500</td>\n",
       "      <td>98.5</td>\n",
       "      <td>18.9</td>\n",
       "      <td>86.53</td>\n",
       "      <td>18.04</td>\n",
       "      <td>10.0</td>\n",
       "      <td>1.5</td>\n",
       "      <td>2.0</td>\n",
       "      <td>3.0</td>\n",
       "      <td>3.0</td>\n",
       "    </tr>\n",
       "    <tr>\n",
       "      <th>3688</th>\n",
       "      <td>04:22:20</td>\n",
       "      <td>2022-03-09</td>\n",
       "      <td>24.065</td>\n",
       "      <td>23.785</td>\n",
       "      <td>97.2</td>\n",
       "      <td>20.7</td>\n",
       "      <td>86.54</td>\n",
       "      <td>19.65</td>\n",
       "      <td>10.0</td>\n",
       "      <td>1.5</td>\n",
       "      <td>2.0</td>\n",
       "      <td>3.0</td>\n",
       "      <td>4.0</td>\n",
       "    </tr>\n",
       "    <tr>\n",
       "      <th>4066</th>\n",
       "      <td>04:48:13</td>\n",
       "      <td>2022-03-19</td>\n",
       "      <td>23.340</td>\n",
       "      <td>23.250</td>\n",
       "      <td>99.0</td>\n",
       "      <td>21.0</td>\n",
       "      <td>86.89</td>\n",
       "      <td>20.15</td>\n",
       "      <td>10.0</td>\n",
       "      <td>1.5</td>\n",
       "      <td>2.0</td>\n",
       "      <td>3.0</td>\n",
       "      <td>4.0</td>\n",
       "    </tr>\n",
       "    <tr>\n",
       "      <th>4071</th>\n",
       "      <td>04:48:36</td>\n",
       "      <td>2022-03-19</td>\n",
       "      <td>23.340</td>\n",
       "      <td>23.250</td>\n",
       "      <td>99.0</td>\n",
       "      <td>21.0</td>\n",
       "      <td>86.89</td>\n",
       "      <td>20.15</td>\n",
       "      <td>10.0</td>\n",
       "      <td>1.5</td>\n",
       "      <td>2.0</td>\n",
       "      <td>3.0</td>\n",
       "      <td>4.0</td>\n",
       "    </tr>\n",
       "    <tr>\n",
       "      <th>4148</th>\n",
       "      <td>04:53:30</td>\n",
       "      <td>2022-03-16</td>\n",
       "      <td>23.660</td>\n",
       "      <td>23.500</td>\n",
       "      <td>99.2</td>\n",
       "      <td>18.9</td>\n",
       "      <td>86.61</td>\n",
       "      <td>18.15</td>\n",
       "      <td>10.0</td>\n",
       "      <td>1.5</td>\n",
       "      <td>2.0</td>\n",
       "      <td>3.0</td>\n",
       "      <td>4.0</td>\n",
       "    </tr>\n",
       "    <tr>\n",
       "      <th>4388</th>\n",
       "      <td>05:10:34</td>\n",
       "      <td>2022-03-20</td>\n",
       "      <td>23.345</td>\n",
       "      <td>23.185</td>\n",
       "      <td>97.1</td>\n",
       "      <td>17.5</td>\n",
       "      <td>89.68</td>\n",
       "      <td>16.52</td>\n",
       "      <td>10.0</td>\n",
       "      <td>1.5</td>\n",
       "      <td>2.0</td>\n",
       "      <td>3.0</td>\n",
       "      <td>5.0</td>\n",
       "    </tr>\n",
       "  </tbody>\n",
       "</table>\n",
       "</div>"
      ],
      "text/plain": [
       "          hour       date  fluid_temp  ground_temp  air_umidity  air_temp  \\\n",
       "982   01:10:26 2022-03-20      23.375       23.220         96.1      17.7   \n",
       "1237  01:27:58 2022-03-06      23.845       23.565         96.6      22.9   \n",
       "1529  01:48:14 2022-03-19      23.340       23.250         97.6      21.0   \n",
       "1848  02:10:28 2022-03-20      23.345       23.220         96.7      18.0   \n",
       "3292  03:53:27 2022-03-16      23.660       23.500         98.5      18.9   \n",
       "3688  04:22:20 2022-03-09      24.065       23.785         97.2      20.7   \n",
       "4066  04:48:13 2022-03-19      23.340       23.250         99.0      21.0   \n",
       "4071  04:48:36 2022-03-19      23.340       23.250         99.0      21.0   \n",
       "4148  04:53:30 2022-03-16      23.660       23.500         99.2      18.9   \n",
       "4388  05:10:34 2022-03-20      23.345       23.185         97.1      17.5   \n",
       "\n",
       "      gas_umidity  gas_temp  dm3_gas  bio_id  phase_test  Month  Hour  \n",
       "982         87.48     17.03     10.0     1.5         2.0    3.0   1.0  \n",
       "1237        86.91     21.96     10.0     1.5         2.0    3.0   1.0  \n",
       "1529        86.40     19.99     10.0     1.5         2.0    3.0   1.0  \n",
       "1848        88.60     17.38     10.0     1.5         2.0    3.0   2.0  \n",
       "3292        86.53     18.04     10.0     1.5         2.0    3.0   3.0  \n",
       "3688        86.54     19.65     10.0     1.5         2.0    3.0   4.0  \n",
       "4066        86.89     20.15     10.0     1.5         2.0    3.0   4.0  \n",
       "4071        86.89     20.15     10.0     1.5         2.0    3.0   4.0  \n",
       "4148        86.61     18.15     10.0     1.5         2.0    3.0   4.0  \n",
       "4388        89.68     16.52     10.0     1.5         2.0    3.0   5.0  "
      ]
     },
     "execution_count": 8,
     "metadata": {},
     "output_type": "execute_result"
    }
   ],
   "source": [
    "df_hour_max.head(10)"
   ]
  },
  {
   "cell_type": "code",
   "execution_count": 9,
   "id": "b34b8359",
   "metadata": {},
   "outputs": [
    {
     "name": "stdout",
     "output_type": "stream",
     "text": [
      "hour\n",
      "117 distinct values\n",
      "date\n",
      "33 distinct values\n",
      "fluid_temp\n",
      "47 distinct values\n",
      "ground_temp\n",
      "46 distinct values\n",
      "air_umidity\n",
      "88 distinct values\n",
      "air_temp\n",
      "79 distinct values\n",
      "gas_umidity\n",
      "91 distinct values\n",
      "gas_temp\n",
      "90 distinct values\n",
      "dm3_gas\n",
      "1 distinct values\n",
      "bio_id\n",
      "2 distinct values\n",
      "phase_test\n",
      "4 distinct values\n",
      "Month\n",
      "6 distinct values\n",
      "Hour\n",
      "23 distinct values\n"
     ]
    }
   ],
   "source": [
    "# Distinct Values for each feature\n",
    "for col in df_hour_max.columns:\n",
    "    print(col)\n",
    "    print(f\"{(df_hour_max[col].nunique())} distinct values\")"
   ]
  },
  {
   "cell_type": "code",
   "execution_count": 10,
   "id": "05e8a266",
   "metadata": {},
   "outputs": [
    {
     "name": "stdout",
     "output_type": "stream",
     "text": [
      "hour\n",
      "Maximum Value: 23:49:46\n",
      "Minimum Value: 01:10:26\n",
      " \n",
      "date\n",
      "Maximum Value: 2022-05-07 00:00:00\n",
      "Minimum Value: 2021-05-03 00:00:00\n",
      " \n",
      "fluid_temp\n",
      "Maximum Value: 24.155\n",
      "Minimum Value: 14.38\n",
      " \n",
      "ground_temp\n",
      "Maximum Value: 23.97\n",
      "Minimum Value: 15.12\n",
      " \n",
      "air_umidity\n",
      "Maximum Value: 99.9\n",
      "Minimum Value: 46.7\n",
      " \n",
      "air_temp\n",
      "Maximum Value: 37.6\n",
      "Minimum Value: 9.5\n",
      " \n",
      "gas_umidity\n",
      "Maximum Value: 91.87\n",
      "Minimum Value: 5.0\n",
      " \n",
      "gas_temp\n",
      "Maximum Value: 49.45\n",
      "Minimum Value: 5.0\n",
      " \n",
      "dm3_gas\n",
      "Maximum Value: 10.0\n",
      "Minimum Value: 10.0\n",
      " \n",
      "bio_id\n",
      "Maximum Value: 1.5\n",
      "Minimum Value: 1.0\n",
      " \n",
      "phase_test\n",
      "Maximum Value: 3.0\n",
      "Minimum Value: 0.0\n",
      " \n",
      "Month\n",
      "Maximum Value: 12.0\n",
      "Minimum Value: 1.0\n",
      " \n",
      "Hour\n",
      "Maximum Value: 23.0\n",
      "Minimum Value: 1.0\n",
      " \n"
     ]
    }
   ],
   "source": [
    "for col in df_hour_max.columns:\n",
    "    print(col)\n",
    "    print(f\"Maximum Value: {df_hour_max[col].max()}\")\n",
    "    print(f\"Minimum Value: {df_hour_max[col].min()}\")\n",
    "    print(\" \")"
   ]
  },
  {
   "cell_type": "markdown",
   "id": "23318025",
   "metadata": {},
   "source": [
    "<h1 style=\"font-size:5.5rem;color:red;\">MODELS</h1>\n",
    "\n",
    "<h1 style=\"font-size:3.5rem;color:maroon;\">1.1.0 MODEL USING MOST OF THE FEATURES</h1>"
   ]
  },
  {
   "cell_type": "markdown",
   "id": "af5a25df",
   "metadata": {},
   "source": [
    "## Dataset"
   ]
  },
  {
   "cell_type": "code",
   "execution_count": 11,
   "id": "5f30c25a",
   "metadata": {},
   "outputs": [],
   "source": [
    "df = pd.read_csv(\"biogasdf_ready.csv\", parse_dates=['date'])\n",
    "df['Month'] = df['date'].dt.month\n",
    "df['Hour']= pd.to_datetime(df['hour'], format='%H:%M:%S').dt.hour"
   ]
  },
  {
   "cell_type": "markdown",
   "id": "cf6f49b7",
   "metadata": {},
   "source": [
    "## Data Preparation"
   ]
  },
  {
   "cell_type": "code",
   "execution_count": 12,
   "id": "88b629e5",
   "metadata": {},
   "outputs": [],
   "source": [
    "df_hour = df.groupby('hour').mean().reset_index()"
   ]
  },
  {
   "cell_type": "code",
   "execution_count": 13,
   "id": "65fb9bc1",
   "metadata": {},
   "outputs": [],
   "source": [
    "#df_hour.dm3_gas = round(df_hour['dm3_gas']*1000, 2)"
   ]
  },
  {
   "cell_type": "code",
   "execution_count": 14,
   "id": "d22ad0e2",
   "metadata": {},
   "outputs": [],
   "source": [
    "df_hour = df_hour.drop(columns = [\"date\", \"hour\", 'bio_id', \"phase_test\", \"Month\"], axis=1)"
   ]
  },
  {
   "cell_type": "code",
   "execution_count": 15,
   "id": "11f871cb",
   "metadata": {},
   "outputs": [],
   "source": [
    "# imputing the null values using the mean of each variable to avoid -inf after logging the values \"np.log\"\n",
    "for col in df_hour.columns:\n",
    "    df_hour = df_hour.fillna(df_hour[col].mean())"
   ]
  },
  {
   "cell_type": "code",
   "execution_count": 16,
   "id": "ec7e9a26",
   "metadata": {},
   "outputs": [
    {
     "data": {
      "text/plain": [
       "fluid_temp     0\n",
       "ground_temp    0\n",
       "air_umidity    0\n",
       "air_temp       0\n",
       "gas_umidity    0\n",
       "gas_temp       0\n",
       "dm3_gas        0\n",
       "Hour           0\n",
       "dtype: int64"
      ]
     },
     "execution_count": 16,
     "metadata": {},
     "output_type": "execute_result"
    }
   ],
   "source": [
    "df_hour.isna().sum()"
   ]
  },
  {
   "cell_type": "code",
   "execution_count": 17,
   "id": "1f69a563",
   "metadata": {},
   "outputs": [
    {
     "data": {
      "text/plain": [
       "Index(['fluid_temp', 'ground_temp', 'air_umidity', 'air_temp', 'gas_umidity',\n",
       "       'gas_temp', 'dm3_gas', 'Hour'],\n",
       "      dtype='object')"
      ]
     },
     "execution_count": 17,
     "metadata": {},
     "output_type": "execute_result"
    }
   ],
   "source": [
    "df_hour.columns"
   ]
  },
  {
   "cell_type": "code",
   "execution_count": 18,
   "id": "6b71f609",
   "metadata": {},
   "outputs": [],
   "source": [
    "# get the positive values to avoid \"-inf\"\n",
    "\n",
    "df_hour_pos  = df_hour.loc[df_hour['fluid_temp'] > 0]\n",
    "df_hour_pos  = df_hour_pos.loc[df_hour_pos['ground_temp'] > 0]\n",
    "df_hour_pos  = df_hour_pos.loc[df_hour_pos['gas_temp'] > 0]"
   ]
  },
  {
   "cell_type": "code",
   "execution_count": 19,
   "id": "292326ba",
   "metadata": {
    "scrolled": false
   },
   "outputs": [
    {
     "data": {
      "text/plain": [
       "fluid_temp     0\n",
       "ground_temp    0\n",
       "air_umidity    0\n",
       "air_temp       0\n",
       "gas_umidity    0\n",
       "gas_temp       0\n",
       "dm3_gas        0\n",
       "Hour           0\n",
       "dtype: int64"
      ]
     },
     "execution_count": 19,
     "metadata": {},
     "output_type": "execute_result"
    }
   ],
   "source": [
    "# check for negative values\n",
    "(df_hour_pos<0).sum()"
   ]
  },
  {
   "cell_type": "markdown",
   "id": "dfa9c4ba",
   "metadata": {},
   "source": [
    "## Test Train Split"
   ]
  },
  {
   "cell_type": "code",
   "execution_count": 20,
   "id": "b276c44e",
   "metadata": {},
   "outputs": [],
   "source": [
    "X =df_hour_pos.drop(columns = ['dm3_gas'], axis=1)\n",
    "\n",
    "y = df_hour_pos['dm3_gas']"
   ]
  },
  {
   "cell_type": "code",
   "execution_count": 21,
   "id": "8ddfe706",
   "metadata": {},
   "outputs": [
    {
     "name": "stdout",
     "output_type": "stream",
     "text": [
      "<class 'pandas.core.frame.DataFrame'>\n",
      "RangeIndex: 20559 entries, 0 to 20558\n",
      "Data columns (total 8 columns):\n",
      " #   Column       Non-Null Count  Dtype  \n",
      "---  ------       --------------  -----  \n",
      " 0   fluid_temp   20559 non-null  float64\n",
      " 1   ground_temp  20559 non-null  float64\n",
      " 2   air_umidity  20559 non-null  float64\n",
      " 3   air_temp     20559 non-null  float64\n",
      " 4   gas_umidity  20559 non-null  float64\n",
      " 5   gas_temp     20559 non-null  float64\n",
      " 6   dm3_gas      20559 non-null  float64\n",
      " 7   Hour         20559 non-null  float64\n",
      "dtypes: float64(8)\n",
      "memory usage: 1.3 MB\n"
     ]
    }
   ],
   "source": [
    "df_hour.info()"
   ]
  },
  {
   "cell_type": "code",
   "execution_count": 22,
   "id": "d268ef1b",
   "metadata": {},
   "outputs": [
    {
     "name": "stdout",
     "output_type": "stream",
     "text": [
      "(19056, 7)\n",
      "fluid_temp     0\n",
      "ground_temp    0\n",
      "air_umidity    0\n",
      "air_temp       0\n",
      "gas_umidity    0\n",
      "gas_temp       0\n",
      "Hour           0\n",
      "dtype: int64\n"
     ]
    }
   ],
   "source": [
    "print(X.shape)\n",
    "print(X.isna().sum())"
   ]
  },
  {
   "cell_type": "code",
   "execution_count": 23,
   "id": "dd88f48c",
   "metadata": {},
   "outputs": [
    {
     "data": {
      "text/plain": [
       "((15244, 7), (3812, 7), (15244,), (3812,))"
      ]
     },
     "execution_count": 23,
     "metadata": {},
     "output_type": "execute_result"
    }
   ],
   "source": [
    "X_train, X_test,y_train,  y_test = train_test_split(X, y, test_size=0.2, random_state=42)\n",
    "X_train.shape, X_test.shape,  y_train.shape, y_test.shape"
   ]
  },
  {
   "cell_type": "code",
   "execution_count": 24,
   "id": "df5e55c5",
   "metadata": {},
   "outputs": [
    {
     "data": {
      "text/plain": [
       "fluid_temp     0\n",
       "ground_temp    0\n",
       "air_umidity    0\n",
       "air_temp       0\n",
       "gas_umidity    0\n",
       "gas_temp       0\n",
       "Hour           0\n",
       "dtype: int64"
      ]
     },
     "execution_count": 24,
     "metadata": {},
     "output_type": "execute_result"
    }
   ],
   "source": [
    "X_train.isna().sum()"
   ]
  },
  {
   "cell_type": "markdown",
   "id": "09b6193e",
   "metadata": {},
   "source": [
    "### Variation reduction using log"
   ]
  },
  {
   "cell_type": "code",
   "execution_count": 25,
   "id": "b9a7b122",
   "metadata": {
    "scrolled": true
   },
   "outputs": [
    {
     "name": "stderr",
     "output_type": "stream",
     "text": [
      "C:\\Users\\bency\\anaconda3\\Lib\\site-packages\\pandas\\core\\internals\\blocks.py:329: RuntimeWarning: divide by zero encountered in log\n",
      "  result = func(self.values, **kwargs)\n"
     ]
    }
   ],
   "source": [
    "X_train_log = np.log(X_train)\n",
    "X_test_log = np.log(X_test)"
   ]
  },
  {
   "cell_type": "code",
   "execution_count": 26,
   "id": "005923d2",
   "metadata": {
    "scrolled": true
   },
   "outputs": [
    {
     "data": {
      "text/plain": [
       "fluid_temp     0\n",
       "ground_temp    0\n",
       "air_umidity    0\n",
       "air_temp       0\n",
       "gas_umidity    0\n",
       "gas_temp       0\n",
       "Hour           0\n",
       "dtype: int64"
      ]
     },
     "execution_count": 26,
     "metadata": {},
     "output_type": "execute_result"
    }
   ],
   "source": [
    "X_train_log.isna().sum()"
   ]
  },
  {
   "cell_type": "code",
   "execution_count": 27,
   "id": "dc6f600c",
   "metadata": {},
   "outputs": [],
   "source": [
    "X_train_log = X_train_log.replace(-np.inf, 0)\n",
    "X_test_log = X_test_log.replace(-np.inf, 0)"
   ]
  },
  {
   "cell_type": "code",
   "execution_count": 28,
   "id": "f074155a",
   "metadata": {
    "scrolled": false
   },
   "outputs": [
    {
     "data": {
      "text/html": [
       "<div>\n",
       "<style scoped>\n",
       "    .dataframe tbody tr th:only-of-type {\n",
       "        vertical-align: middle;\n",
       "    }\n",
       "\n",
       "    .dataframe tbody tr th {\n",
       "        vertical-align: top;\n",
       "    }\n",
       "\n",
       "    .dataframe thead th {\n",
       "        text-align: right;\n",
       "    }\n",
       "</style>\n",
       "<table border=\"1\" class=\"dataframe\">\n",
       "  <thead>\n",
       "    <tr style=\"text-align: right;\">\n",
       "      <th></th>\n",
       "      <th>fluid_temp</th>\n",
       "      <th>ground_temp</th>\n",
       "      <th>air_umidity</th>\n",
       "      <th>air_temp</th>\n",
       "      <th>gas_umidity</th>\n",
       "      <th>gas_temp</th>\n",
       "      <th>Hour</th>\n",
       "    </tr>\n",
       "  </thead>\n",
       "  <tbody>\n",
       "    <tr>\n",
       "      <th>5780</th>\n",
       "      <td>3.060115</td>\n",
       "      <td>3.045950</td>\n",
       "      <td>4.570579</td>\n",
       "      <td>2.602690</td>\n",
       "      <td>2.878393</td>\n",
       "      <td>2.878393</td>\n",
       "      <td>1.791759</td>\n",
       "    </tr>\n",
       "    <tr>\n",
       "      <th>6085</th>\n",
       "      <td>2.728506</td>\n",
       "      <td>2.791778</td>\n",
       "      <td>4.579852</td>\n",
       "      <td>2.580217</td>\n",
       "      <td>4.454580</td>\n",
       "      <td>2.475698</td>\n",
       "      <td>1.945910</td>\n",
       "    </tr>\n",
       "    <tr>\n",
       "      <th>5726</th>\n",
       "      <td>2.720637</td>\n",
       "      <td>2.768832</td>\n",
       "      <td>4.552824</td>\n",
       "      <td>1.757858</td>\n",
       "      <td>4.584049</td>\n",
       "      <td>1.490654</td>\n",
       "      <td>1.791759</td>\n",
       "    </tr>\n",
       "    <tr>\n",
       "      <th>17592</th>\n",
       "      <td>2.924415</td>\n",
       "      <td>2.897200</td>\n",
       "      <td>4.529728</td>\n",
       "      <td>2.575154</td>\n",
       "      <td>4.298985</td>\n",
       "      <td>2.635838</td>\n",
       "      <td>2.995732</td>\n",
       "    </tr>\n",
       "    <tr>\n",
       "      <th>15361</th>\n",
       "      <td>3.112181</td>\n",
       "      <td>3.096482</td>\n",
       "      <td>4.028917</td>\n",
       "      <td>3.346389</td>\n",
       "      <td>2.878393</td>\n",
       "      <td>2.878393</td>\n",
       "      <td>2.890372</td>\n",
       "    </tr>\n",
       "  </tbody>\n",
       "</table>\n",
       "</div>"
      ],
      "text/plain": [
       "       fluid_temp  ground_temp  air_umidity  air_temp  gas_umidity  gas_temp  \\\n",
       "5780     3.060115     3.045950     4.570579  2.602690     2.878393  2.878393   \n",
       "6085     2.728506     2.791778     4.579852  2.580217     4.454580  2.475698   \n",
       "5726     2.720637     2.768832     4.552824  1.757858     4.584049  1.490654   \n",
       "17592    2.924415     2.897200     4.529728  2.575154     4.298985  2.635838   \n",
       "15361    3.112181     3.096482     4.028917  3.346389     2.878393  2.878393   \n",
       "\n",
       "           Hour  \n",
       "5780   1.791759  \n",
       "6085   1.945910  \n",
       "5726   1.791759  \n",
       "17592  2.995732  \n",
       "15361  2.890372  "
      ]
     },
     "execution_count": 28,
     "metadata": {},
     "output_type": "execute_result"
    }
   ],
   "source": [
    "X_train_log.sample(5)"
   ]
  },
  {
   "cell_type": "markdown",
   "id": "57539576",
   "metadata": {},
   "source": [
    "## Modelling"
   ]
  },
  {
   "cell_type": "code",
   "execution_count": 29,
   "id": "af1732b5",
   "metadata": {},
   "outputs": [
    {
     "name": "stdout",
     "output_type": "stream",
     "text": [
      "RandomForestRegressor: 0.8003026227904808\n",
      "DecisionTreeRegressor: 0.08162123816927891\n",
      "Ridge: 0.03785150052809072\n",
      "Lasso: 0.0\n"
     ]
    }
   ],
   "source": [
    "# iteratng through several models to get the best performing one.\n",
    "\n",
    "models = {\n",
    "    \"RandomForestRegressor\": RandomForestRegressor(),\n",
    "    \"DecisionTreeRegressor\": DecisionTreeRegressor(max_depth=3, random_state=42),\n",
    "    \"Ridge\": Ridge(alpha=1),\n",
    "    \"Lasso\": Lasso(alpha=1)\n",
    "}\n",
    "\n",
    "for name, model in models.items():\n",
    "    model.fit(X_train_log, y_train)\n",
    "    print(f\"{name}: {model.score(X_train_log, y_train)}\")"
   ]
  },
  {
   "cell_type": "markdown",
   "id": "743c4264",
   "metadata": {},
   "source": [
    "Random forest regressor performed better."
   ]
  },
  {
   "cell_type": "markdown",
   "id": "5611976e",
   "metadata": {},
   "source": [
    "<h2 style=\"font-size:2.5rem;color:maroon;\">Random Forest Regression</h2>\n",
    "\n",
    "\n",
    "<h1 style=\"font-size:1.5rem;color:purple;\">Evaluation Metrics</h1>"
   ]
  },
  {
   "cell_type": "code",
   "execution_count": 30,
   "id": "f61111cd",
   "metadata": {},
   "outputs": [
    {
     "name": "stdout",
     "output_type": "stream",
     "text": [
      "Score : 0.8017737371203052\n",
      "MAE : 0.00037343851286509043\n",
      "MSE : 5.584805227303437e-07\n",
      "R2 : 0.6306586773440153\n"
     ]
    }
   ],
   "source": [
    "rfr = RandomForestRegressor()\n",
    "rfr_model = rfr.fit(X_train_log, y_train)\n",
    "print(f\"Score : {rfr_model.score(X_train_log, y_train)}\")\n",
    "print(f\"MAE : {mean_absolute_error(rfr_model.predict(X_train_log), y_train)}\")\n",
    "print(f\"MSE : {mean_squared_error(rfr_model.predict(X_train_log), y_train)}\")\n",
    "print(f\"R2 : {r2_score(rfr_model.predict(X_train_log), y_train)}\")"
   ]
  },
  {
   "cell_type": "markdown",
   "id": "b39470c9",
   "metadata": {},
   "source": [
    "### Save the model"
   ]
  },
  {
   "cell_type": "code",
   "execution_count": 31,
   "id": "ad6aef42",
   "metadata": {},
   "outputs": [],
   "source": [
    "import pickle\n",
    "with open('rfc_model2.pkl', 'wb') as f:\n",
    "    pickle.dump(rfr_model, f)"
   ]
  },
  {
   "cell_type": "code",
   "execution_count": 32,
   "id": "3b36f42b",
   "metadata": {},
   "outputs": [],
   "source": [
    "#predictng on the large dataset \"train dataset\"\n",
    "preds = rfr_model.predict(X_train_log)"
   ]
  },
  {
   "cell_type": "code",
   "execution_count": 33,
   "id": "91b00f50",
   "metadata": {},
   "outputs": [],
   "source": [
    "modelled = pd.DataFrame({'preds' : preds, \n",
    "                        'Hour' : X_train.Hour,\n",
    "                        'dm3' : y_train}\n",
    "                )"
   ]
  },
  {
   "cell_type": "code",
   "execution_count": 34,
   "id": "bd6b6388",
   "metadata": {},
   "outputs": [],
   "source": [
    "modelled_group = modelled.groupby('Hour').mean().reset_index()\n",
    "modelled_group.to_csv(\"modelled_group.csv\", index=False)"
   ]
  },
  {
   "cell_type": "code",
   "execution_count": 35,
   "id": "7555fdbb",
   "metadata": {},
   "outputs": [
    {
     "data": {
      "image/png": "[encoded data removed]",
      "text/plain": [
       "<Figure size 640x480 with 1 Axes>"
      ]
     },
     "metadata": {},
     "output_type": "display_data"
    }
   ],
   "source": [
    "# fitting best fit line\n",
    "slope1, intercept1 = np.polyfit(modelled_group.dm3, modelled_group.preds, 1)\n",
    "regression_line1 = slope1 * modelled_group.dm3 + intercept1\n",
    "\n",
    "\n",
    "plt.scatter(x=modelled_group.dm3, y = modelled_group.preds)\n",
    "plt.plot(modelled_group.dm3, regression_line1, color='red', label=\"actual Linear Regression Line\")\n",
    "plt.title(\"Predicted vs Actual values\")\n",
    "plt.xlabel(\"Actual dm3 values\")\n",
    "plt.ylabel(\"Predicted dm3 values\")\n",
    "plt.grid()\n",
    "plt.legend()\n",
    "plt.show()"
   ]
  },
  {
   "cell_type": "code",
   "execution_count": 36,
   "id": "cf78aa67",
   "metadata": {},
   "outputs": [
    {
     "data": {
      "image/png": "[encoded data removed]",
      "text/plain": [
       "<Figure size 1200x700 with 1 Axes>"
      ]
     },
     "metadata": {},
     "output_type": "display_data"
    }
   ],
   "source": [
    "#Visualization\n",
    "fig, ax = plt.subplots(figsize=(12,7))\n",
    "\n",
    "ax.plot(modelled_group.Hour, modelled_group.preds, label=\"preds\")\n",
    "ax.plot(modelled_group.Hour, modelled_group.dm3, label = \"actual\")\n",
    "ax.set_xticks(np.arange(0, 24, step=1))\n",
    "plt.show()"
   ]
  },
  {
   "cell_type": "code",
   "execution_count": null,
   "id": "0b793136",
   "metadata": {},
   "outputs": [],
   "source": []
  },
  {
   "cell_type": "markdown",
   "id": "64fabcc7",
   "metadata": {},
   "source": [
    "<h1 style=\"font-size:3.5rem;color:maroon;\">Creating input features</h1>"
   ]
  },
  {
   "cell_type": "code",
   "execution_count": 37,
   "id": "0450c853",
   "metadata": {},
   "outputs": [
    {
     "name": "stdout",
     "output_type": "stream",
     "text": [
      "hour: 45\n",
      "Gas Temperatures: 54\n",
      "air humidity: 23\n",
      "gas humidity: 56\n",
      "gair_temp: 62\n",
      "gground_temp: 52\n",
      "fluid_temp: 33\n"
     ]
    }
   ],
   "source": [
    "Hour = float(input(\"hour: \"))\n",
    "gas_temp = float(input(\"Gas Temperatures: \"))\n",
    "air_umidity = float(input(\"air humidity: \"))\n",
    "gas_umidity = float(input(\"gas humidity: \"))\n",
    "air_temp = float(input(\"gair_temp: \"))\n",
    "ground_temp = float(input(\"gground_temp: \"))\n",
    "fluid_temp = float(input(\"fluid_temp: \"))"
   ]
  },
  {
   "cell_type": "code",
   "execution_count": 38,
   "id": "9b268693",
   "metadata": {},
   "outputs": [],
   "source": [
    "inputs = pd.DataFrame({ \"fluid_temp\" : [fluid_temp], \"ground_temp\" : [ground_temp], \"air_umidity\":[air_umidity],  \"air_temp\"  : [air_temp],'gas_umidity' : [gas_umidity],  'gas_temp' : [gas_temp], \"Hour\" : [Hour], })"
   ]
  },
  {
   "cell_type": "code",
   "execution_count": 39,
   "id": "d0edc4b6",
   "metadata": {},
   "outputs": [
    {
     "data": {
      "text/html": [
       "<div>\n",
       "<style scoped>\n",
       "    .dataframe tbody tr th:only-of-type {\n",
       "        vertical-align: middle;\n",
       "    }\n",
       "\n",
       "    .dataframe tbody tr th {\n",
       "        vertical-align: top;\n",
       "    }\n",
       "\n",
       "    .dataframe thead th {\n",
       "        text-align: right;\n",
       "    }\n",
       "</style>\n",
       "<table border=\"1\" class=\"dataframe\">\n",
       "  <thead>\n",
       "    <tr style=\"text-align: right;\">\n",
       "      <th></th>\n",
       "      <th>fluid_temp</th>\n",
       "      <th>ground_temp</th>\n",
       "      <th>air_umidity</th>\n",
       "      <th>air_temp</th>\n",
       "      <th>gas_umidity</th>\n",
       "      <th>gas_temp</th>\n",
       "      <th>Hour</th>\n",
       "    </tr>\n",
       "  </thead>\n",
       "  <tbody>\n",
       "    <tr>\n",
       "      <th>0</th>\n",
       "      <td>33.0</td>\n",
       "      <td>52.0</td>\n",
       "      <td>23.0</td>\n",
       "      <td>62.0</td>\n",
       "      <td>56.0</td>\n",
       "      <td>54.0</td>\n",
       "      <td>45.0</td>\n",
       "    </tr>\n",
       "  </tbody>\n",
       "</table>\n",
       "</div>"
      ],
      "text/plain": [
       "   fluid_temp  ground_temp  air_umidity  air_temp  gas_umidity  gas_temp  Hour\n",
       "0        33.0         52.0         23.0      62.0         56.0      54.0  45.0"
      ]
     },
     "execution_count": 39,
     "metadata": {},
     "output_type": "execute_result"
    }
   ],
   "source": [
    "inputs"
   ]
  },
  {
   "cell_type": "code",
   "execution_count": 40,
   "id": "d97c7f32",
   "metadata": {},
   "outputs": [],
   "source": [
    "inputs_log = np.log(inputs)"
   ]
  },
  {
   "cell_type": "code",
   "execution_count": 41,
   "id": "205708ec",
   "metadata": {},
   "outputs": [
    {
     "data": {
      "text/html": [
       "<div>\n",
       "<style scoped>\n",
       "    .dataframe tbody tr th:only-of-type {\n",
       "        vertical-align: middle;\n",
       "    }\n",
       "\n",
       "    .dataframe tbody tr th {\n",
       "        vertical-align: top;\n",
       "    }\n",
       "\n",
       "    .dataframe thead th {\n",
       "        text-align: right;\n",
       "    }\n",
       "</style>\n",
       "<table border=\"1\" class=\"dataframe\">\n",
       "  <thead>\n",
       "    <tr style=\"text-align: right;\">\n",
       "      <th></th>\n",
       "      <th>fluid_temp</th>\n",
       "      <th>ground_temp</th>\n",
       "      <th>air_umidity</th>\n",
       "      <th>air_temp</th>\n",
       "      <th>gas_umidity</th>\n",
       "      <th>gas_temp</th>\n",
       "      <th>Hour</th>\n",
       "    </tr>\n",
       "  </thead>\n",
       "  <tbody>\n",
       "    <tr>\n",
       "      <th>0</th>\n",
       "      <td>3.496508</td>\n",
       "      <td>3.951244</td>\n",
       "      <td>3.135494</td>\n",
       "      <td>4.127134</td>\n",
       "      <td>4.025352</td>\n",
       "      <td>3.988984</td>\n",
       "      <td>3.806662</td>\n",
       "    </tr>\n",
       "  </tbody>\n",
       "</table>\n",
       "</div>"
      ],
      "text/plain": [
       "   fluid_temp  ground_temp  air_umidity  air_temp  gas_umidity  gas_temp  \\\n",
       "0    3.496508     3.951244     3.135494  4.127134     4.025352  3.988984   \n",
       "\n",
       "       Hour  \n",
       "0  3.806662  "
      ]
     },
     "execution_count": 41,
     "metadata": {},
     "output_type": "execute_result"
    }
   ],
   "source": [
    "inputs_log"
   ]
  },
  {
   "cell_type": "code",
   "execution_count": 42,
   "id": "00e4338f",
   "metadata": {},
   "outputs": [],
   "source": [
    "#predictng on the large dataset \"train dataset\"\n",
    "pred1 = rfr_model.predict(inputs_log)"
   ]
  },
  {
   "cell_type": "code",
   "execution_count": 43,
   "id": "64ba39f9",
   "metadata": {},
   "outputs": [
    {
     "name": "stdout",
     "output_type": "stream",
     "text": [
      "0.00249\n"
     ]
    }
   ],
   "source": [
    "print(round(pred1[0],5))"
   ]
  },
  {
   "cell_type": "code",
   "execution_count": null,
   "id": "14ec15be",
   "metadata": {},
   "outputs": [],
   "source": []
  },
  {
   "cell_type": "code",
   "execution_count": null,
   "id": "30337b65",
   "metadata": {},
   "outputs": [],
   "source": []
  },
  {
   "cell_type": "markdown",
   "id": "0ca6b256",
   "metadata": {},
   "source": [
    "<h1 style=\"font-size:3.5rem;color:maroon;\">2.1.0 MODEL USING MOST SIGNIFICANT FEATURES</h1>"
   ]
  },
  {
   "cell_type": "markdown",
   "id": "db9b7c9b",
   "metadata": {},
   "source": [
    "## Dataset"
   ]
  },
  {
   "cell_type": "code",
   "execution_count": 44,
   "id": "89ab29f4",
   "metadata": {},
   "outputs": [],
   "source": [
    "df = pd.read_csv(\"biogasdf_ready.csv\", parse_dates=['date'])\n",
    "df['Month'] = df['date'].dt.month\n",
    "df['Hour'] = pd.to_datetime(df['hour'], format='%H:%M:%S').dt.hour"
   ]
  },
  {
   "cell_type": "code",
   "execution_count": 45,
   "id": "bf4f8cb3",
   "metadata": {},
   "outputs": [],
   "source": [
    "df_hour = df.groupby('hour').mean().reset_index()"
   ]
  },
  {
   "cell_type": "code",
   "execution_count": 46,
   "id": "5ff6aeaf",
   "metadata": {},
   "outputs": [
    {
     "data": {
      "text/html": [
       "<div>\n",
       "<style scoped>\n",
       "    .dataframe tbody tr th:only-of-type {\n",
       "        vertical-align: middle;\n",
       "    }\n",
       "\n",
       "    .dataframe tbody tr th {\n",
       "        vertical-align: top;\n",
       "    }\n",
       "\n",
       "    .dataframe thead th {\n",
       "        text-align: right;\n",
       "    }\n",
       "</style>\n",
       "<table border=\"1\" class=\"dataframe\">\n",
       "  <thead>\n",
       "    <tr style=\"text-align: right;\">\n",
       "      <th></th>\n",
       "      <th>hour</th>\n",
       "      <th>date</th>\n",
       "      <th>fluid_temp</th>\n",
       "      <th>ground_temp</th>\n",
       "      <th>air_umidity</th>\n",
       "      <th>air_temp</th>\n",
       "      <th>gas_umidity</th>\n",
       "      <th>gas_temp</th>\n",
       "      <th>dm3_gas</th>\n",
       "      <th>bio_id</th>\n",
       "      <th>phase_test</th>\n",
       "      <th>Month</th>\n",
       "      <th>Hour</th>\n",
       "    </tr>\n",
       "  </thead>\n",
       "  <tbody>\n",
       "    <tr>\n",
       "      <th>0</th>\n",
       "      <td>00:00:00</td>\n",
       "      <td>2021-11-08 00:00:00</td>\n",
       "      <td>18.942500</td>\n",
       "      <td>-17.657500</td>\n",
       "      <td>94.35</td>\n",
       "      <td>15.300000</td>\n",
       "      <td>90.0925</td>\n",
       "      <td>14.8275</td>\n",
       "      <td>0.000</td>\n",
       "      <td>1.500000</td>\n",
       "      <td>1.000000</td>\n",
       "      <td>11.000000</td>\n",
       "      <td>0.0</td>\n",
       "    </tr>\n",
       "    <tr>\n",
       "      <th>1</th>\n",
       "      <td>00:00:02</td>\n",
       "      <td>2022-05-14 00:00:00</td>\n",
       "      <td>20.090000</td>\n",
       "      <td>18.905000</td>\n",
       "      <td>95.90</td>\n",
       "      <td>14.500000</td>\n",
       "      <td>0.0000</td>\n",
       "      <td>0.0000</td>\n",
       "      <td>0.000</td>\n",
       "      <td>1.500000</td>\n",
       "      <td>3.000000</td>\n",
       "      <td>5.000000</td>\n",
       "      <td>0.0</td>\n",
       "    </tr>\n",
       "    <tr>\n",
       "      <th>2</th>\n",
       "      <td>00:00:03</td>\n",
       "      <td>2022-01-04 08:00:00</td>\n",
       "      <td>21.563333</td>\n",
       "      <td>21.836667</td>\n",
       "      <td>99.50</td>\n",
       "      <td>15.366667</td>\n",
       "      <td>84.5800</td>\n",
       "      <td>16.4700</td>\n",
       "      <td>0.000</td>\n",
       "      <td>1.333333</td>\n",
       "      <td>0.666667</td>\n",
       "      <td>4.666667</td>\n",
       "      <td>0.0</td>\n",
       "    </tr>\n",
       "    <tr>\n",
       "      <th>3</th>\n",
       "      <td>00:00:08</td>\n",
       "      <td>2022-06-26 00:00:00</td>\n",
       "      <td>17.130000</td>\n",
       "      <td>15.785000</td>\n",
       "      <td>93.90</td>\n",
       "      <td>13.500000</td>\n",
       "      <td>0.0000</td>\n",
       "      <td>0.0000</td>\n",
       "      <td>0.005</td>\n",
       "      <td>1.500000</td>\n",
       "      <td>3.000000</td>\n",
       "      <td>6.000000</td>\n",
       "      <td>0.0</td>\n",
       "    </tr>\n",
       "    <tr>\n",
       "      <th>4</th>\n",
       "      <td>00:00:16</td>\n",
       "      <td>2021-12-21 00:00:00</td>\n",
       "      <td>22.440000</td>\n",
       "      <td>22.120000</td>\n",
       "      <td>91.60</td>\n",
       "      <td>17.400000</td>\n",
       "      <td>0.0000</td>\n",
       "      <td>0.0000</td>\n",
       "      <td>0.000</td>\n",
       "      <td>1.500000</td>\n",
       "      <td>1.000000</td>\n",
       "      <td>12.000000</td>\n",
       "      <td>0.0</td>\n",
       "    </tr>\n",
       "  </tbody>\n",
       "</table>\n",
       "</div>"
      ],
      "text/plain": [
       "       hour                date  fluid_temp  ground_temp  air_umidity  \\\n",
       "0  00:00:00 2021-11-08 00:00:00   18.942500   -17.657500        94.35   \n",
       "1  00:00:02 2022-05-14 00:00:00   20.090000    18.905000        95.90   \n",
       "2  00:00:03 2022-01-04 08:00:00   21.563333    21.836667        99.50   \n",
       "3  00:00:08 2022-06-26 00:00:00   17.130000    15.785000        93.90   \n",
       "4  00:00:16 2021-12-21 00:00:00   22.440000    22.120000        91.60   \n",
       "\n",
       "    air_temp  gas_umidity  gas_temp  dm3_gas    bio_id  phase_test      Month  \\\n",
       "0  15.300000      90.0925   14.8275    0.000  1.500000    1.000000  11.000000   \n",
       "1  14.500000       0.0000    0.0000    0.000  1.500000    3.000000   5.000000   \n",
       "2  15.366667      84.5800   16.4700    0.000  1.333333    0.666667   4.666667   \n",
       "3  13.500000       0.0000    0.0000    0.005  1.500000    3.000000   6.000000   \n",
       "4  17.400000       0.0000    0.0000    0.000  1.500000    1.000000  12.000000   \n",
       "\n",
       "   Hour  \n",
       "0   0.0  \n",
       "1   0.0  \n",
       "2   0.0  \n",
       "3   0.0  \n",
       "4   0.0  "
      ]
     },
     "execution_count": 46,
     "metadata": {},
     "output_type": "execute_result"
    }
   ],
   "source": [
    "df_hour = df_hour.fillna(0)\n",
    "df_hour.head()"
   ]
  },
  {
   "cell_type": "code",
   "execution_count": 47,
   "id": "0fe91ed9",
   "metadata": {},
   "outputs": [],
   "source": [
    "X_2 = df_hour[['fluid_temp', 'air_umidity']]\n",
    "y_2  = df_hour['dm3_gas']"
   ]
  },
  {
   "cell_type": "code",
   "execution_count": 48,
   "id": "08a5e4ba",
   "metadata": {},
   "outputs": [
    {
     "name": "stdout",
     "output_type": "stream",
     "text": [
      "(20559, 2)\n"
     ]
    },
    {
     "data": {
      "text/html": [
       "<div>\n",
       "<style scoped>\n",
       "    .dataframe tbody tr th:only-of-type {\n",
       "        vertical-align: middle;\n",
       "    }\n",
       "\n",
       "    .dataframe tbody tr th {\n",
       "        vertical-align: top;\n",
       "    }\n",
       "\n",
       "    .dataframe thead th {\n",
       "        text-align: right;\n",
       "    }\n",
       "</style>\n",
       "<table border=\"1\" class=\"dataframe\">\n",
       "  <thead>\n",
       "    <tr style=\"text-align: right;\">\n",
       "      <th></th>\n",
       "      <th>fluid_temp</th>\n",
       "      <th>air_umidity</th>\n",
       "    </tr>\n",
       "  </thead>\n",
       "  <tbody>\n",
       "    <tr>\n",
       "      <th>0</th>\n",
       "      <td>18.942500</td>\n",
       "      <td>94.35</td>\n",
       "    </tr>\n",
       "    <tr>\n",
       "      <th>1</th>\n",
       "      <td>20.090000</td>\n",
       "      <td>95.90</td>\n",
       "    </tr>\n",
       "    <tr>\n",
       "      <th>2</th>\n",
       "      <td>21.563333</td>\n",
       "      <td>99.50</td>\n",
       "    </tr>\n",
       "  </tbody>\n",
       "</table>\n",
       "</div>"
      ],
      "text/plain": [
       "   fluid_temp  air_umidity\n",
       "0   18.942500        94.35\n",
       "1   20.090000        95.90\n",
       "2   21.563333        99.50"
      ]
     },
     "execution_count": 48,
     "metadata": {},
     "output_type": "execute_result"
    }
   ],
   "source": [
    "print(X_2.shape)\n",
    "X_2.head(3)"
   ]
  },
  {
   "cell_type": "code",
   "execution_count": 49,
   "id": "9d117b91",
   "metadata": {},
   "outputs": [
    {
     "data": {
      "text/plain": [
       "(20559,)"
      ]
     },
     "execution_count": 49,
     "metadata": {},
     "output_type": "execute_result"
    }
   ],
   "source": [
    "y_2.shape"
   ]
  },
  {
   "cell_type": "code",
   "execution_count": 50,
   "id": "4e343556",
   "metadata": {},
   "outputs": [
    {
     "name": "stderr",
     "output_type": "stream",
     "text": [
      "C:\\Users\\bency\\anaconda3\\Lib\\site-packages\\pandas\\core\\internals\\blocks.py:329: RuntimeWarning: invalid value encountered in log\n",
      "  result = func(self.values, **kwargs)\n"
     ]
    }
   ],
   "source": [
    "X_2_log = np.log(X_2)"
   ]
  },
  {
   "cell_type": "code",
   "execution_count": 51,
   "id": "ddf5439c",
   "metadata": {},
   "outputs": [],
   "source": [
    "X_2_log = X_2_log.fillna(0)"
   ]
  },
  {
   "cell_type": "code",
   "execution_count": 52,
   "id": "569b30ab",
   "metadata": {},
   "outputs": [],
   "source": [
    "X_2_log = X_2_log.replace(-np.inf, 0)"
   ]
  },
  {
   "cell_type": "code",
   "execution_count": 53,
   "id": "05c56201",
   "metadata": {},
   "outputs": [
    {
     "name": "stdout",
     "output_type": "stream",
     "text": [
      "(20559, 2)\n"
     ]
    },
    {
     "data": {
      "text/html": [
       "<div>\n",
       "<style scoped>\n",
       "    .dataframe tbody tr th:only-of-type {\n",
       "        vertical-align: middle;\n",
       "    }\n",
       "\n",
       "    .dataframe tbody tr th {\n",
       "        vertical-align: top;\n",
       "    }\n",
       "\n",
       "    .dataframe thead th {\n",
       "        text-align: right;\n",
       "    }\n",
       "</style>\n",
       "<table border=\"1\" class=\"dataframe\">\n",
       "  <thead>\n",
       "    <tr style=\"text-align: right;\">\n",
       "      <th></th>\n",
       "      <th>fluid_temp</th>\n",
       "      <th>air_umidity</th>\n",
       "    </tr>\n",
       "  </thead>\n",
       "  <tbody>\n",
       "    <tr>\n",
       "      <th>0</th>\n",
       "      <td>2.941408</td>\n",
       "      <td>4.547011</td>\n",
       "    </tr>\n",
       "    <tr>\n",
       "      <th>1</th>\n",
       "      <td>3.000222</td>\n",
       "      <td>4.563306</td>\n",
       "    </tr>\n",
       "    <tr>\n",
       "      <th>2</th>\n",
       "      <td>3.070994</td>\n",
       "      <td>4.600158</td>\n",
       "    </tr>\n",
       "  </tbody>\n",
       "</table>\n",
       "</div>"
      ],
      "text/plain": [
       "   fluid_temp  air_umidity\n",
       "0    2.941408     4.547011\n",
       "1    3.000222     4.563306\n",
       "2    3.070994     4.600158"
      ]
     },
     "execution_count": 53,
     "metadata": {},
     "output_type": "execute_result"
    }
   ],
   "source": [
    "print(X_2_log.shape)\n",
    "X_2_log.head(3)"
   ]
  },
  {
   "cell_type": "code",
   "execution_count": 54,
   "id": "20bfad88",
   "metadata": {},
   "outputs": [
    {
     "data": {
      "text/plain": [
       "((14391, 2), (6168, 2), (14391,), (6168,))"
      ]
     },
     "execution_count": 54,
     "metadata": {},
     "output_type": "execute_result"
    }
   ],
   "source": [
    "X_train_2, X_test_2,y_train_2,  y_test_2 = train_test_split(X_2_log, y_2, test_size=0.3, random_state=42)\n",
    "X_train_2.shape, X_test_2.shape,  y_train_2.shape, y_test_2.shape"
   ]
  },
  {
   "cell_type": "code",
   "execution_count": 55,
   "id": "db65952e",
   "metadata": {},
   "outputs": [
    {
     "name": "stdout",
     "output_type": "stream",
     "text": [
      "RandomForestRegressor: 0.7107043365826982\n",
      "DecisionTreeRegressor: 0.0726267077497258\n",
      "Ridge: 0.010070531789463266\n",
      "Lasso: 0.0\n"
     ]
    }
   ],
   "source": [
    "# iteratng through several models to get the best performing one.\n",
    "\n",
    "models = {\n",
    "    \"RandomForestRegressor\": RandomForestRegressor(),\n",
    "    \"DecisionTreeRegressor\": DecisionTreeRegressor(max_depth=3, random_state=42),\n",
    "    \"Ridge\": Ridge(alpha=1),\n",
    "    \"Lasso\": Lasso(alpha=1)\n",
    "}\n",
    "\n",
    "for name, model in models.items():\n",
    "    model.fit(X_train_2, y_train_2)\n",
    "    print(f\"{name}: {model.score(X_train_2, y_train_2)}\")"
   ]
  },
  {
   "cell_type": "code",
   "execution_count": 56,
   "id": "02ff519a",
   "metadata": {},
   "outputs": [
    {
     "name": "stdout",
     "output_type": "stream",
     "text": [
      "Score : 0.7119678550392885\n",
      "MAE : 0.00041025630538719335\n",
      "MSE : 7.62049860189663e-07\n",
      "R2 : 0.4146009887612486\n"
     ]
    }
   ],
   "source": [
    "rfr2 = RandomForestRegressor()\n",
    "rfr2_model = rfr2.fit(X_train_2, y_train_2)\n",
    "print(f\"Score : {rfr2_model.score(X_train_2, y_train_2)}\")\n",
    "print(f\"MAE : {mean_absolute_error(rfr2_model.predict(X_train_2), y_train_2)}\")\n",
    "print(f\"MSE : {mean_squared_error(rfr2_model.predict(X_train_2), y_train_2)}\")\n",
    "print(f\"R2 : {r2_score(rfr2_model.predict(X_train_2), y_train_2)}\")"
   ]
  },
  {
   "cell_type": "markdown",
   "id": "35fc08d6",
   "metadata": {},
   "source": [
    "### Saving the model"
   ]
  },
  {
   "cell_type": "code",
   "execution_count": 57,
   "id": "24459b5d",
   "metadata": {},
   "outputs": [],
   "source": [
    "import pickle\n",
    "with open('rfc_model3.pkl', 'wb') as f:\n",
    "    pickle.dump(rfr2_model, f)"
   ]
  },
  {
   "cell_type": "code",
   "execution_count": 58,
   "id": "1f8beed6",
   "metadata": {},
   "outputs": [],
   "source": [
    "pred2 = rfr2_model.predict(X_2_log)"
   ]
  },
  {
   "cell_type": "code",
   "execution_count": 59,
   "id": "b6106542",
   "metadata": {},
   "outputs": [],
   "source": [
    "modelled2 = pd.DataFrame({'pred2' : pred2, \n",
    "                        'Hour' : df_hour.Hour,\n",
    "                        'dm3' : y_2}\n",
    "                )"
   ]
  },
  {
   "cell_type": "code",
   "execution_count": 60,
   "id": "ca6a8ba3",
   "metadata": {},
   "outputs": [],
   "source": [
    "modelled2_group = modelled2.groupby('Hour').mean().reset_index()\n",
    "modelled2_group.to_csv(\"modelled2_group.csv\", index=False)"
   ]
  },
  {
   "cell_type": "code",
   "execution_count": 61,
   "id": "86d5c6bb",
   "metadata": {},
   "outputs": [
    {
     "data": {
      "image/png": "[encoded data removed]",
      "text/plain": [
       "<Figure size 640x480 with 1 Axes>"
      ]
     },
     "metadata": {},
     "output_type": "display_data"
    }
   ],
   "source": [
    "# fitting best fit line\n",
    "slope1, intercept1 = np.polyfit(modelled2_group.dm3, modelled2_group.pred2, 1)\n",
    "regression_line1 = slope1 * modelled2_group.dm3 + intercept1\n",
    "\n",
    "\n",
    "plt.scatter(x=modelled2_group.dm3, y = modelled2_group.pred2)\n",
    "plt.plot(modelled2_group.dm3, regression_line1, color='red', label=\"actual Linear Regression Line\")\n",
    "plt.title(\"Predicted vs Actual values\")\n",
    "plt.xlabel(\"Actual dm3 values\")\n",
    "plt.ylabel(\"Predicted dm3 values\")\n",
    "plt.grid()\n",
    "plt.legend()\n",
    "plt.show()"
   ]
  },
  {
   "cell_type": "code",
   "execution_count": 62,
   "id": "8d956eca",
   "metadata": {},
   "outputs": [
    {
     "data": {
      "image/png": "[encoded data removed]",
      "text/plain": [
       "<Figure size 1200x700 with 1 Axes>"
      ]
     },
     "metadata": {},
     "output_type": "display_data"
    }
   ],
   "source": [
    "#Visualization\n",
    "fig, ax = plt.subplots(figsize=(12,7))\n",
    "\n",
    "ax.plot(modelled2_group.Hour, modelled2_group.pred2, label=\"preds\")\n",
    "ax.plot(modelled2_group.Hour, modelled2_group.dm3, label = \"actual\")\n",
    "ax.set_xticks(np.arange(0, 24, step=1))\n",
    "plt.show()"
   ]
  },
  {
   "cell_type": "markdown",
   "id": "4f02d018",
   "metadata": {},
   "source": [
    "## Create Input"
   ]
  },
  {
   "cell_type": "code",
   "execution_count": 63,
   "id": "b8efa3a1",
   "metadata": {},
   "outputs": [
    {
     "name": "stdout",
     "output_type": "stream",
     "text": [
      "Fluid_temperature: 54\n",
      "Air_umidity: 34\n"
     ]
    }
   ],
   "source": [
    "fluid_temp = float(input(\"Fluid_temperature: \"))\n",
    "air_umidity = float(input(\"Air_umidity: \"))"
   ]
  },
  {
   "cell_type": "code",
   "execution_count": 64,
   "id": "4dc5e8c0",
   "metadata": {},
   "outputs": [],
   "source": [
    "input2 = pd.DataFrame({\"fluid_temp\" : [fluid_temp], \"air_umidity\" : [air_umidity]})"
   ]
  },
  {
   "cell_type": "code",
   "execution_count": 65,
   "id": "316b6a16",
   "metadata": {},
   "outputs": [
    {
     "data": {
      "text/html": [
       "<div>\n",
       "<style scoped>\n",
       "    .dataframe tbody tr th:only-of-type {\n",
       "        vertical-align: middle;\n",
       "    }\n",
       "\n",
       "    .dataframe tbody tr th {\n",
       "        vertical-align: top;\n",
       "    }\n",
       "\n",
       "    .dataframe thead th {\n",
       "        text-align: right;\n",
       "    }\n",
       "</style>\n",
       "<table border=\"1\" class=\"dataframe\">\n",
       "  <thead>\n",
       "    <tr style=\"text-align: right;\">\n",
       "      <th></th>\n",
       "      <th>fluid_temp</th>\n",
       "      <th>air_umidity</th>\n",
       "    </tr>\n",
       "  </thead>\n",
       "  <tbody>\n",
       "    <tr>\n",
       "      <th>0</th>\n",
       "      <td>54.0</td>\n",
       "      <td>34.0</td>\n",
       "    </tr>\n",
       "  </tbody>\n",
       "</table>\n",
       "</div>"
      ],
      "text/plain": [
       "   fluid_temp  air_umidity\n",
       "0        54.0         34.0"
      ]
     },
     "execution_count": 65,
     "metadata": {},
     "output_type": "execute_result"
    }
   ],
   "source": [
    "input2"
   ]
  },
  {
   "cell_type": "code",
   "execution_count": 66,
   "id": "b185cd63",
   "metadata": {},
   "outputs": [],
   "source": [
    "input2_log = np.log(input2)"
   ]
  },
  {
   "cell_type": "code",
   "execution_count": 67,
   "id": "391fa5b3",
   "metadata": {},
   "outputs": [
    {
     "data": {
      "text/html": [
       "<div>\n",
       "<style scoped>\n",
       "    .dataframe tbody tr th:only-of-type {\n",
       "        vertical-align: middle;\n",
       "    }\n",
       "\n",
       "    .dataframe tbody tr th {\n",
       "        vertical-align: top;\n",
       "    }\n",
       "\n",
       "    .dataframe thead th {\n",
       "        text-align: right;\n",
       "    }\n",
       "</style>\n",
       "<table border=\"1\" class=\"dataframe\">\n",
       "  <thead>\n",
       "    <tr style=\"text-align: right;\">\n",
       "      <th></th>\n",
       "      <th>fluid_temp</th>\n",
       "      <th>air_umidity</th>\n",
       "    </tr>\n",
       "  </thead>\n",
       "  <tbody>\n",
       "    <tr>\n",
       "      <th>0</th>\n",
       "      <td>3.988984</td>\n",
       "      <td>3.526361</td>\n",
       "    </tr>\n",
       "  </tbody>\n",
       "</table>\n",
       "</div>"
      ],
      "text/plain": [
       "   fluid_temp  air_umidity\n",
       "0    3.988984     3.526361"
      ]
     },
     "execution_count": 67,
     "metadata": {},
     "output_type": "execute_result"
    }
   ],
   "source": [
    "input2_log"
   ]
  },
  {
   "cell_type": "code",
   "execution_count": 68,
   "id": "89d7d1e4",
   "metadata": {},
   "outputs": [],
   "source": [
    "sample2 = rfr2_model.predict(input2_log)"
   ]
  },
  {
   "cell_type": "code",
   "execution_count": 69,
   "id": "f231ae14",
   "metadata": {},
   "outputs": [
    {
     "data": {
      "text/plain": [
       "0.00421"
      ]
     },
     "execution_count": 69,
     "metadata": {},
     "output_type": "execute_result"
    }
   ],
   "source": [
    "round(sample2[0], 5)"
   ]
  },
  {
   "cell_type": "markdown",
   "id": "e304898b",
   "metadata": {},
   "source": [
    "<h1 style=\"font-size:3.5rem;color:maroon;\">3.1.0 MODEL AUTOMATION</h1>"
   ]
  },
  {
   "cell_type": "markdown",
   "id": "adb62c23",
   "metadata": {},
   "source": [
    "## Dataset"
   ]
  },
  {
   "cell_type": "code",
   "execution_count": 70,
   "id": "b0cfd824",
   "metadata": {},
   "outputs": [],
   "source": [
    "df = pd.read_csv(\"biogasdf_ready.csv\", parse_dates=['date'])\n",
    "df['Month'] = df['date'].dt.month\n",
    "df['Hour'] = pd.to_datetime(df['hour'], format='%H:%M:%S').dt.hour"
   ]
  },
  {
   "cell_type": "code",
   "execution_count": 71,
   "id": "445fbc5d",
   "metadata": {},
   "outputs": [],
   "source": [
    "df_hour = df.groupby('hour').mean().reset_index()"
   ]
  },
  {
   "cell_type": "code",
   "execution_count": 72,
   "id": "84bd1706",
   "metadata": {
    "scrolled": true
   },
   "outputs": [
    {
     "data": {
      "text/html": [
       "<div>\n",
       "<style scoped>\n",
       "    .dataframe tbody tr th:only-of-type {\n",
       "        vertical-align: middle;\n",
       "    }\n",
       "\n",
       "    .dataframe tbody tr th {\n",
       "        vertical-align: top;\n",
       "    }\n",
       "\n",
       "    .dataframe thead th {\n",
       "        text-align: right;\n",
       "    }\n",
       "</style>\n",
       "<table border=\"1\" class=\"dataframe\">\n",
       "  <thead>\n",
       "    <tr style=\"text-align: right;\">\n",
       "      <th></th>\n",
       "      <th>hour</th>\n",
       "      <th>date</th>\n",
       "      <th>fluid_temp</th>\n",
       "      <th>ground_temp</th>\n",
       "      <th>air_umidity</th>\n",
       "      <th>air_temp</th>\n",
       "      <th>gas_umidity</th>\n",
       "      <th>gas_temp</th>\n",
       "      <th>dm3_gas</th>\n",
       "      <th>bio_id</th>\n",
       "      <th>phase_test</th>\n",
       "      <th>Month</th>\n",
       "      <th>Hour</th>\n",
       "    </tr>\n",
       "  </thead>\n",
       "  <tbody>\n",
       "    <tr>\n",
       "      <th>0</th>\n",
       "      <td>00:00:00</td>\n",
       "      <td>2021-11-08 00:00:00</td>\n",
       "      <td>18.942500</td>\n",
       "      <td>-17.657500</td>\n",
       "      <td>94.35</td>\n",
       "      <td>15.300000</td>\n",
       "      <td>90.0925</td>\n",
       "      <td>14.8275</td>\n",
       "      <td>0.000</td>\n",
       "      <td>1.500000</td>\n",
       "      <td>1.000000</td>\n",
       "      <td>11.000000</td>\n",
       "      <td>0.0</td>\n",
       "    </tr>\n",
       "    <tr>\n",
       "      <th>1</th>\n",
       "      <td>00:00:02</td>\n",
       "      <td>2022-05-14 00:00:00</td>\n",
       "      <td>20.090000</td>\n",
       "      <td>18.905000</td>\n",
       "      <td>95.90</td>\n",
       "      <td>14.500000</td>\n",
       "      <td>0.0000</td>\n",
       "      <td>0.0000</td>\n",
       "      <td>0.000</td>\n",
       "      <td>1.500000</td>\n",
       "      <td>3.000000</td>\n",
       "      <td>5.000000</td>\n",
       "      <td>0.0</td>\n",
       "    </tr>\n",
       "    <tr>\n",
       "      <th>2</th>\n",
       "      <td>00:00:03</td>\n",
       "      <td>2022-01-04 08:00:00</td>\n",
       "      <td>21.563333</td>\n",
       "      <td>21.836667</td>\n",
       "      <td>99.50</td>\n",
       "      <td>15.366667</td>\n",
       "      <td>84.5800</td>\n",
       "      <td>16.4700</td>\n",
       "      <td>0.000</td>\n",
       "      <td>1.333333</td>\n",
       "      <td>0.666667</td>\n",
       "      <td>4.666667</td>\n",
       "      <td>0.0</td>\n",
       "    </tr>\n",
       "    <tr>\n",
       "      <th>3</th>\n",
       "      <td>00:00:08</td>\n",
       "      <td>2022-06-26 00:00:00</td>\n",
       "      <td>17.130000</td>\n",
       "      <td>15.785000</td>\n",
       "      <td>93.90</td>\n",
       "      <td>13.500000</td>\n",
       "      <td>0.0000</td>\n",
       "      <td>0.0000</td>\n",
       "      <td>0.005</td>\n",
       "      <td>1.500000</td>\n",
       "      <td>3.000000</td>\n",
       "      <td>6.000000</td>\n",
       "      <td>0.0</td>\n",
       "    </tr>\n",
       "    <tr>\n",
       "      <th>4</th>\n",
       "      <td>00:00:16</td>\n",
       "      <td>2021-12-21 00:00:00</td>\n",
       "      <td>22.440000</td>\n",
       "      <td>22.120000</td>\n",
       "      <td>91.60</td>\n",
       "      <td>17.400000</td>\n",
       "      <td>0.0000</td>\n",
       "      <td>0.0000</td>\n",
       "      <td>0.000</td>\n",
       "      <td>1.500000</td>\n",
       "      <td>1.000000</td>\n",
       "      <td>12.000000</td>\n",
       "      <td>0.0</td>\n",
       "    </tr>\n",
       "  </tbody>\n",
       "</table>\n",
       "</div>"
      ],
      "text/plain": [
       "       hour                date  fluid_temp  ground_temp  air_umidity  \\\n",
       "0  00:00:00 2021-11-08 00:00:00   18.942500   -17.657500        94.35   \n",
       "1  00:00:02 2022-05-14 00:00:00   20.090000    18.905000        95.90   \n",
       "2  00:00:03 2022-01-04 08:00:00   21.563333    21.836667        99.50   \n",
       "3  00:00:08 2022-06-26 00:00:00   17.130000    15.785000        93.90   \n",
       "4  00:00:16 2021-12-21 00:00:00   22.440000    22.120000        91.60   \n",
       "\n",
       "    air_temp  gas_umidity  gas_temp  dm3_gas    bio_id  phase_test      Month  \\\n",
       "0  15.300000      90.0925   14.8275    0.000  1.500000    1.000000  11.000000   \n",
       "1  14.500000       0.0000    0.0000    0.000  1.500000    3.000000   5.000000   \n",
       "2  15.366667      84.5800   16.4700    0.000  1.333333    0.666667   4.666667   \n",
       "3  13.500000       0.0000    0.0000    0.005  1.500000    3.000000   6.000000   \n",
       "4  17.400000       0.0000    0.0000    0.000  1.500000    1.000000  12.000000   \n",
       "\n",
       "   Hour  \n",
       "0   0.0  \n",
       "1   0.0  \n",
       "2   0.0  \n",
       "3   0.0  \n",
       "4   0.0  "
      ]
     },
     "execution_count": 72,
     "metadata": {},
     "output_type": "execute_result"
    }
   ],
   "source": [
    "df_hour = df_hour.fillna(0)\n",
    "df_hour.head()"
   ]
  },
  {
   "cell_type": "code",
   "execution_count": 73,
   "id": "59c26cad",
   "metadata": {},
   "outputs": [],
   "source": [
    "three_feat = df_hour[['fluid_temp', 'air_umidity', 'dm3_gas']]\n",
    "three_feat.to_csv(\"three_feat.csv\", index=False)"
   ]
  },
  {
   "cell_type": "code",
   "execution_count": 74,
   "id": "1ed7de5e",
   "metadata": {},
   "outputs": [
    {
     "data": {
      "text/html": [
       "<div>\n",
       "<style scoped>\n",
       "    .dataframe tbody tr th:only-of-type {\n",
       "        vertical-align: middle;\n",
       "    }\n",
       "\n",
       "    .dataframe tbody tr th {\n",
       "        vertical-align: top;\n",
       "    }\n",
       "\n",
       "    .dataframe thead th {\n",
       "        text-align: right;\n",
       "    }\n",
       "</style>\n",
       "<table border=\"1\" class=\"dataframe\">\n",
       "  <thead>\n",
       "    <tr style=\"text-align: right;\">\n",
       "      <th></th>\n",
       "      <th>fluid_temp</th>\n",
       "      <th>air_umidity</th>\n",
       "      <th>dm3_gas</th>\n",
       "    </tr>\n",
       "  </thead>\n",
       "  <tbody>\n",
       "    <tr>\n",
       "      <th>0</th>\n",
       "      <td>18.942500</td>\n",
       "      <td>94.35</td>\n",
       "      <td>0.000</td>\n",
       "    </tr>\n",
       "    <tr>\n",
       "      <th>1</th>\n",
       "      <td>20.090000</td>\n",
       "      <td>95.90</td>\n",
       "      <td>0.000</td>\n",
       "    </tr>\n",
       "    <tr>\n",
       "      <th>2</th>\n",
       "      <td>21.563333</td>\n",
       "      <td>99.50</td>\n",
       "      <td>0.000</td>\n",
       "    </tr>\n",
       "    <tr>\n",
       "      <th>3</th>\n",
       "      <td>17.130000</td>\n",
       "      <td>93.90</td>\n",
       "      <td>0.005</td>\n",
       "    </tr>\n",
       "    <tr>\n",
       "      <th>4</th>\n",
       "      <td>22.440000</td>\n",
       "      <td>91.60</td>\n",
       "      <td>0.000</td>\n",
       "    </tr>\n",
       "  </tbody>\n",
       "</table>\n",
       "</div>"
      ],
      "text/plain": [
       "   fluid_temp  air_umidity  dm3_gas\n",
       "0   18.942500        94.35    0.000\n",
       "1   20.090000        95.90    0.000\n",
       "2   21.563333        99.50    0.000\n",
       "3   17.130000        93.90    0.005\n",
       "4   22.440000        91.60    0.000"
      ]
     },
     "execution_count": 74,
     "metadata": {},
     "output_type": "execute_result"
    }
   ],
   "source": [
    "three_feat.head()"
   ]
  },
  {
   "cell_type": "code",
   "execution_count": 75,
   "id": "306bc4ff",
   "metadata": {},
   "outputs": [],
   "source": [
    "#Train test split\n",
    "\n",
    "X_3  = df_hour[['dm3_gas']]\n",
    "y_3 = df_hour[['fluid_temp', 'air_umidity']]"
   ]
  },
  {
   "cell_type": "code",
   "execution_count": 76,
   "id": "26d5053d",
   "metadata": {},
   "outputs": [
    {
     "data": {
      "text/html": [
       "<div>\n",
       "<style scoped>\n",
       "    .dataframe tbody tr th:only-of-type {\n",
       "        vertical-align: middle;\n",
       "    }\n",
       "\n",
       "    .dataframe tbody tr th {\n",
       "        vertical-align: top;\n",
       "    }\n",
       "\n",
       "    .dataframe thead th {\n",
       "        text-align: right;\n",
       "    }\n",
       "</style>\n",
       "<table border=\"1\" class=\"dataframe\">\n",
       "  <thead>\n",
       "    <tr style=\"text-align: right;\">\n",
       "      <th></th>\n",
       "      <th>fluid_temp</th>\n",
       "      <th>air_umidity</th>\n",
       "    </tr>\n",
       "  </thead>\n",
       "  <tbody>\n",
       "    <tr>\n",
       "      <th>0</th>\n",
       "      <td>18.942500</td>\n",
       "      <td>94.35</td>\n",
       "    </tr>\n",
       "    <tr>\n",
       "      <th>1</th>\n",
       "      <td>20.090000</td>\n",
       "      <td>95.90</td>\n",
       "    </tr>\n",
       "    <tr>\n",
       "      <th>2</th>\n",
       "      <td>21.563333</td>\n",
       "      <td>99.50</td>\n",
       "    </tr>\n",
       "    <tr>\n",
       "      <th>3</th>\n",
       "      <td>17.130000</td>\n",
       "      <td>93.90</td>\n",
       "    </tr>\n",
       "    <tr>\n",
       "      <th>4</th>\n",
       "      <td>22.440000</td>\n",
       "      <td>91.60</td>\n",
       "    </tr>\n",
       "  </tbody>\n",
       "</table>\n",
       "</div>"
      ],
      "text/plain": [
       "   fluid_temp  air_umidity\n",
       "0   18.942500        94.35\n",
       "1   20.090000        95.90\n",
       "2   21.563333        99.50\n",
       "3   17.130000        93.90\n",
       "4   22.440000        91.60"
      ]
     },
     "execution_count": 76,
     "metadata": {},
     "output_type": "execute_result"
    }
   ],
   "source": [
    "y_3.head()"
   ]
  },
  {
   "cell_type": "code",
   "execution_count": 77,
   "id": "6b76f188",
   "metadata": {},
   "outputs": [
    {
     "data": {
      "text/plain": [
       "dm3_gas \n",
       "0.000000    18040\n",
       "0.005000     1756\n",
       "0.002500      376\n",
       "0.003333      149\n",
       "0.010000      117\n",
       "0.001667       51\n",
       "0.002000       30\n",
       "0.006667       13\n",
       "0.004000        9\n",
       "0.001429        7\n",
       "0.001250        6\n",
       "0.007500        2\n",
       "0.001000        1\n",
       "0.001111        1\n",
       "0.003750        1\n",
       "Name: count, dtype: int64"
      ]
     },
     "execution_count": 77,
     "metadata": {},
     "output_type": "execute_result"
    }
   ],
   "source": [
    "X_3.value_counts()"
   ]
  },
  {
   "cell_type": "markdown",
   "id": "d2513bb9",
   "metadata": {},
   "source": [
    "## 3.2.0 Using Random Forest to predict 2-variables"
   ]
  },
  {
   "cell_type": "code",
   "execution_count": 78,
   "id": "5e84989e",
   "metadata": {},
   "outputs": [
    {
     "data": {
      "text/html": [
       "<style>#sk-container-id-1 {color: black;}#sk-container-id-1 pre{padding: 0;}#sk-container-id-1 div.sk-toggleable {background-color: white;}#sk-container-id-1 label.sk-toggleable__label {cursor: pointer;display: block;width: 100%;margin-bottom: 0;padding: 0.3em;box-sizing: border-box;text-align: center;}#sk-container-id-1 label.sk-toggleable__label-arrow:before {content: \"▸\";float: left;margin-right: 0.25em;color: #696969;}#sk-container-id-1 label.sk-toggleable__label-arrow:hover:before {color: black;}#sk-container-id-1 div.sk-estimator:hover label.sk-toggleable__label-arrow:before {color: black;}#sk-container-id-1 div.sk-toggleable__content {max-height: 0;max-width: 0;overflow: hidden;text-align: left;background-color: #f0f8ff;}#sk-container-id-1 div.sk-toggleable__content pre {margin: 0.2em;color: black;border-radius: 0.25em;background-color: #f0f8ff;}#sk-container-id-1 input.sk-toggleable__control:checked~div.sk-toggleable__content {max-height: 200px;max-width: 100%;overflow: auto;}#sk-container-id-1 input.sk-toggleable__control:checked~label.sk-toggleable__label-arrow:before {content: \"▾\";}#sk-container-id-1 div.sk-estimator input.sk-toggleable__control:checked~label.sk-toggleable__label {background-color: #d4ebff;}#sk-container-id-1 div.sk-label input.sk-toggleable__control:checked~label.sk-toggleable__label {background-color: #d4ebff;}#sk-container-id-1 input.sk-hidden--visually {border: 0;clip: rect(1px 1px 1px 1px);clip: rect(1px, 1px, 1px, 1px);height: 1px;margin: -1px;overflow: hidden;padding: 0;position: absolute;width: 1px;}#sk-container-id-1 div.sk-estimator {font-family: monospace;background-color: #f0f8ff;border: 1px dotted black;border-radius: 0.25em;box-sizing: border-box;margin-bottom: 0.5em;}#sk-container-id-1 div.sk-estimator:hover {background-color: #d4ebff;}#sk-container-id-1 div.sk-parallel-item::after {content: \"\";width: 100%;border-bottom: 1px solid gray;flex-grow: 1;}#sk-container-id-1 div.sk-label:hover label.sk-toggleable__label {background-color: #d4ebff;}#sk-container-id-1 div.sk-serial::before {content: \"\";position: absolute;border-left: 1px solid gray;box-sizing: border-box;top: 0;bottom: 0;left: 50%;z-index: 0;}#sk-container-id-1 div.sk-serial {display: flex;flex-direction: column;align-items: center;background-color: white;padding-right: 0.2em;padding-left: 0.2em;position: relative;}#sk-container-id-1 div.sk-item {position: relative;z-index: 1;}#sk-container-id-1 div.sk-parallel {display: flex;align-items: stretch;justify-content: center;background-color: white;position: relative;}#sk-container-id-1 div.sk-item::before, #sk-container-id-1 div.sk-parallel-item::before {content: \"\";position: absolute;border-left: 1px solid gray;box-sizing: border-box;top: 0;bottom: 0;left: 50%;z-index: -1;}#sk-container-id-1 div.sk-parallel-item {display: flex;flex-direction: column;z-index: 1;position: relative;background-color: white;}#sk-container-id-1 div.sk-parallel-item:first-child::after {align-self: flex-end;width: 50%;}#sk-container-id-1 div.sk-parallel-item:last-child::after {align-self: flex-start;width: 50%;}#sk-container-id-1 div.sk-parallel-item:only-child::after {width: 0;}#sk-container-id-1 div.sk-dashed-wrapped {border: 1px dashed gray;margin: 0 0.4em 0.5em 0.4em;box-sizing: border-box;padding-bottom: 0.4em;background-color: white;}#sk-container-id-1 div.sk-label label {font-family: monospace;font-weight: bold;display: inline-block;line-height: 1.2em;}#sk-container-id-1 div.sk-label-container {text-align: center;}#sk-container-id-1 div.sk-container {/* jupyter's `normalize.less` sets `[hidden] { display: none; }` but bootstrap.min.css set `[hidden] { display: none !important; }` so we also need the `!important` here to be able to override the default hidden behavior on the sphinx rendered scikit-learn.org. See: https://github.com/scikit-learn/scikit-learn/issues/21755 */display: inline-block !important;position: relative;}#sk-container-id-1 div.sk-text-repr-fallback {display: none;}</style><div id=\"sk-container-id-1\" class=\"sk-top-container\"><div class=\"sk-text-repr-fallback\"><pre>RandomForestRegressor()</pre><b>In a Jupyter environment, please rerun this cell to show the HTML representation or trust the notebook. <br />On GitHub, the HTML representation is unable to render, please try loading this page with nbviewer.org.</b></div><div class=\"sk-container\" hidden><div class=\"sk-item\"><div class=\"sk-estimator sk-toggleable\"><input class=\"sk-toggleable__control sk-hidden--visually\" id=\"sk-estimator-id-1\" type=\"checkbox\" checked><label for=\"sk-estimator-id-1\" class=\"sk-toggleable__label sk-toggleable__label-arrow\">RandomForestRegressor</label><div class=\"sk-toggleable__content\"><pre>RandomForestRegressor()</pre></div></div></div></div></div>"
      ],
      "text/plain": [
       "RandomForestRegressor()"
      ]
     },
     "execution_count": 78,
     "metadata": {},
     "output_type": "execute_result"
    }
   ],
   "source": [
    "# Split into training and testing sets\n",
    "X_train, X_test, y_train, y_test = train_test_split(X_3, y_3, test_size=0.2, random_state=42)\n",
    "\n",
    "# Train the linear regression model\n",
    "model_r = RandomForestRegressor()\n",
    "model_r.fit(X_train, y_train)\n",
    "\n",
    "# Predict temp and humidity for a given dm3_gas value\n"
   ]
  },
  {
   "cell_type": "code",
   "execution_count": 79,
   "id": "242b61cb",
   "metadata": {
    "scrolled": true
   },
   "outputs": [
    {
     "name": "stdout",
     "output_type": "stream",
     "text": [
      "Predicted temp and humidity: [[22.73457799 83.9938954 ]]\n"
     ]
    },
    {
     "name": "stderr",
     "output_type": "stream",
     "text": [
      "C:\\Users\\bency\\anaconda3\\Lib\\site-packages\\sklearn\\base.py:464: UserWarning: X does not have valid feature names, but RandomForestRegressor was fitted with feature names\n",
      "  warnings.warn(\n"
     ]
    }
   ],
   "source": [
    "dm3_gas_input = 2.0  # Example dm3_gas value\n",
    "predicted_values = model_r.predict([[dm3_gas_input]])\n",
    "print(\"Predicted temp and humidity:\", predicted_values)"
   ]
  },
  {
   "cell_type": "code",
   "execution_count": 80,
   "id": "c3e04c24",
   "metadata": {},
   "outputs": [
    {
     "name": "stderr",
     "output_type": "stream",
     "text": [
      "C:\\Users\\bency\\anaconda3\\Lib\\site-packages\\sklearn\\base.py:464: UserWarning: X does not have valid feature names, but RandomForestRegressor was fitted with feature names\n",
      "  warnings.warn(\n"
     ]
    },
    {
     "name": "stdout",
     "output_type": "stream",
     "text": [
      "Predicted temp and humidity: [[22.73457799 83.9938954 ]]\n"
     ]
    }
   ],
   "source": [
    "dm3_gas_input = 5.0  # Example dm3_gas value\n",
    "predicted_values = model_r.predict([[dm3_gas_input]])\n",
    "print(\"Predicted temp and humidity:\", predicted_values)"
   ]
  },
  {
   "cell_type": "code",
   "execution_count": 81,
   "id": "e831b5b8",
   "metadata": {},
   "outputs": [],
   "source": [
    "import pickle\n",
    "with open('model_r.pkl', 'wb') as f:\n",
    "    pickle.dump(model_r, f)"
   ]
  },
  {
   "cell_type": "code",
   "execution_count": 82,
   "id": "07b76f55",
   "metadata": {
    "scrolled": false
   },
   "outputs": [
    {
     "name": "stdout",
     "output_type": "stream",
     "text": [
      "Predicted temp and humidity: [[22.73457799 83.9938954 ]]\n"
     ]
    },
    {
     "name": "stderr",
     "output_type": "stream",
     "text": [
      "C:\\Users\\bency\\anaconda3\\Lib\\site-packages\\sklearn\\base.py:464: UserWarning: X does not have valid feature names, but RandomForestRegressor was fitted with feature names\n",
      "  warnings.warn(\n"
     ]
    }
   ],
   "source": [
    "predicted_values = model_r.predict([[5]])\n",
    "print(\"Predicted temp and humidity:\", predicted_values)"
   ]
  },
  {
   "cell_type": "markdown",
   "id": "f112b6c7",
   "metadata": {},
   "source": [
    "### Creating a dataframe for output view"
   ]
  },
  {
   "cell_type": "code",
   "execution_count": 83,
   "id": "7cf27779",
   "metadata": {},
   "outputs": [],
   "source": [
    "df = pd.DataFrame(predicted_values, columns=['Fluid_Temp', 'Air_humidity'])"
   ]
  },
  {
   "cell_type": "code",
   "execution_count": 84,
   "id": "1afdfa35",
   "metadata": {},
   "outputs": [
    {
     "data": {
      "text/html": [
       "<div>\n",
       "<style scoped>\n",
       "    .dataframe tbody tr th:only-of-type {\n",
       "        vertical-align: middle;\n",
       "    }\n",
       "\n",
       "    .dataframe tbody tr th {\n",
       "        vertical-align: top;\n",
       "    }\n",
       "\n",
       "    .dataframe thead th {\n",
       "        text-align: right;\n",
       "    }\n",
       "</style>\n",
       "<table border=\"1\" class=\"dataframe\">\n",
       "  <thead>\n",
       "    <tr style=\"text-align: right;\">\n",
       "      <th></th>\n",
       "      <th>Fluid_Temp</th>\n",
       "      <th>Air_humidity</th>\n",
       "    </tr>\n",
       "  </thead>\n",
       "  <tbody>\n",
       "    <tr>\n",
       "      <th>0</th>\n",
       "      <td>22.734578</td>\n",
       "      <td>83.993895</td>\n",
       "    </tr>\n",
       "  </tbody>\n",
       "</table>\n",
       "</div>"
      ],
      "text/plain": [
       "   Fluid_Temp  Air_humidity\n",
       "0   22.734578     83.993895"
      ]
     },
     "execution_count": 84,
     "metadata": {},
     "output_type": "execute_result"
    }
   ],
   "source": [
    "df"
   ]
  },
  {
   "cell_type": "code",
   "execution_count": 85,
   "id": "d57261ce",
   "metadata": {},
   "outputs": [
    {
     "name": "stdout",
     "output_type": "stream",
     "text": [
      "Score : 0.0064485297050903\n",
      "MAE : 9.078672691485684\n",
      "MSE : 209.57188861176826\n",
      "R2 : -155.13822582700692\n"
     ]
    }
   ],
   "source": [
    "print(f\"Score : {model_r.score(X_train, y_train)}\")\n",
    "print(f\"MAE : {mean_absolute_error(model_r.predict(X_train), y_train)}\")\n",
    "print(f\"MSE : {mean_squared_error(model_r.predict(X_train), y_train)}\")\n",
    "print(f\"R2 : {r2_score(model_r.predict(X_train), y_train)}\")"
   ]
  },
  {
   "cell_type": "markdown",
   "id": "946a20fb",
   "metadata": {},
   "source": [
    "## Artiicial Neural Networks"
   ]
  },
  {
   "cell_type": "markdown",
   "id": "8652e059",
   "metadata": {},
   "source": [
    "## Libraries"
   ]
  },
  {
   "cell_type": "code",
   "execution_count": 86,
   "id": "1dae5651",
   "metadata": {},
   "outputs": [],
   "source": [
    "from tensorflow.keras.models import Sequential\n",
    "from tensorflow.keras.layers import Dense"
   ]
  },
  {
   "cell_type": "code",
   "execution_count": 87,
   "id": "c370d327",
   "metadata": {},
   "outputs": [],
   "source": [
    "df = pd.read_csv(\"biogasdf_ready.csv\", parse_dates=['date'])\n",
    "df['Month'] = df['date'].dt.month\n",
    "df['Hour'] = pd.to_datetime(df['hour'], format='%H:%M:%S').dt.hour"
   ]
  },
  {
   "cell_type": "code",
   "execution_count": 88,
   "id": "b35ee29f",
   "metadata": {},
   "outputs": [],
   "source": [
    "df_hour = df.groupby('hour').mean().reset_index()"
   ]
  },
  {
   "cell_type": "code",
   "execution_count": 89,
   "id": "3d2015ee",
   "metadata": {},
   "outputs": [],
   "source": [
    "df_hour.dm3_gas = round(df_hour['dm3_gas']*1000, 2)\n",
    "df_hour = df_hour.fillna(0)"
   ]
  },
  {
   "cell_type": "code",
   "execution_count": null,
   "id": "ebd29084",
   "metadata": {},
   "outputs": [],
   "source": []
  },
  {
   "cell_type": "code",
   "execution_count": 90,
   "id": "6b34a2f1",
   "metadata": {},
   "outputs": [
    {
     "name": "stdout",
     "output_type": "stream",
     "text": [
      "Epoch 1/50\n",
      "405/405 [==============================] - 5s 5ms/step - loss: 2.5291 - val_loss: 2.0438\n",
      "Epoch 2/50\n",
      "405/405 [==============================] - 2s 4ms/step - loss: 2.4353 - val_loss: 2.0297\n",
      "Epoch 3/50\n",
      "405/405 [==============================] - 1s 4ms/step - loss: 2.3947 - val_loss: 2.0267\n",
      "Epoch 4/50\n",
      "405/405 [==============================] - 1s 3ms/step - loss: 2.3622 - val_loss: 1.9838\n",
      "Epoch 5/50\n",
      "405/405 [==============================] - 2s 5ms/step - loss: 2.3529 - val_loss: 2.0042\n",
      "Epoch 6/50\n",
      "405/405 [==============================] - 2s 4ms/step - loss: 2.3469 - val_loss: 1.9898\n",
      "Epoch 7/50\n",
      "405/405 [==============================] - 1s 3ms/step - loss: 2.3340 - val_loss: 1.9755\n",
      "Epoch 8/50\n",
      "405/405 [==============================] - 2s 4ms/step - loss: 2.3298 - val_loss: 1.9660\n",
      "Epoch 9/50\n",
      "405/405 [==============================] - 1s 3ms/step - loss: 2.3223 - val_loss: 1.9634\n",
      "Epoch 10/50\n",
      "405/405 [==============================] - 1s 4ms/step - loss: 2.3136 - val_loss: 2.0072\n",
      "Epoch 11/50\n",
      "405/405 [==============================] - 2s 4ms/step - loss: 2.3059 - val_loss: 1.9829\n",
      "Epoch 12/50\n",
      "405/405 [==============================] - 1s 4ms/step - loss: 2.3068 - val_loss: 1.9986\n",
      "Epoch 13/50\n",
      "405/405 [==============================] - 1s 4ms/step - loss: 2.2980 - val_loss: 2.0072\n",
      "Epoch 14/50\n",
      "405/405 [==============================] - 2s 4ms/step - loss: 2.3017 - val_loss: 2.0037\n",
      "Epoch 15/50\n",
      "405/405 [==============================] - 1s 4ms/step - loss: 2.2961 - val_loss: 1.9920\n",
      "Epoch 16/50\n",
      "405/405 [==============================] - 1s 4ms/step - loss: 2.2904 - val_loss: 1.9748\n",
      "Epoch 17/50\n",
      "405/405 [==============================] - 1s 4ms/step - loss: 2.2958 - val_loss: 1.9745\n",
      "Epoch 18/50\n",
      "405/405 [==============================] - 2s 4ms/step - loss: 2.2932 - val_loss: 1.9415\n",
      "Epoch 19/50\n",
      "405/405 [==============================] - 1s 4ms/step - loss: 2.2860 - val_loss: 2.0045\n",
      "Epoch 20/50\n",
      "405/405 [==============================] - 1s 4ms/step - loss: 2.2778 - val_loss: 1.9630\n",
      "Epoch 21/50\n",
      "405/405 [==============================] - 2s 4ms/step - loss: 2.2741 - val_loss: 1.9777\n",
      "Epoch 22/50\n",
      "405/405 [==============================] - 1s 4ms/step - loss: 2.2742 - val_loss: 1.9616\n",
      "Epoch 23/50\n",
      "405/405 [==============================] - 1s 4ms/step - loss: 2.2717 - val_loss: 1.9694\n",
      "Epoch 24/50\n",
      "405/405 [==============================] - 2s 4ms/step - loss: 2.2755 - val_loss: 1.9981\n",
      "Epoch 25/50\n",
      "405/405 [==============================] - 2s 4ms/step - loss: 2.2639 - val_loss: 1.9707\n",
      "Epoch 26/50\n",
      "405/405 [==============================] - 1s 4ms/step - loss: 2.2624 - val_loss: 2.0245\n",
      "Epoch 27/50\n",
      "405/405 [==============================] - 2s 4ms/step - loss: 2.2583 - val_loss: 1.9518\n",
      "Epoch 28/50\n",
      "405/405 [==============================] - 1s 4ms/step - loss: 2.2564 - val_loss: 2.0080\n",
      "Epoch 29/50\n",
      "405/405 [==============================] - 2s 4ms/step - loss: 2.2507 - val_loss: 2.0070\n",
      "Epoch 30/50\n",
      "405/405 [==============================] - 1s 4ms/step - loss: 2.2492 - val_loss: 1.9495\n",
      "Epoch 31/50\n",
      "405/405 [==============================] - 2s 5ms/step - loss: 2.2480 - val_loss: 2.0395\n",
      "Epoch 32/50\n",
      "405/405 [==============================] - 2s 4ms/step - loss: 2.2483 - val_loss: 2.0344\n",
      "Epoch 33/50\n",
      "405/405 [==============================] - 2s 4ms/step - loss: 2.2446 - val_loss: 1.9609\n",
      "Epoch 34/50\n",
      "405/405 [==============================] - 1s 4ms/step - loss: 2.2372 - val_loss: 2.0323\n",
      "Epoch 35/50\n",
      "405/405 [==============================] - 1s 4ms/step - loss: 2.2357 - val_loss: 1.9667\n",
      "Epoch 36/50\n",
      "405/405 [==============================] - 2s 4ms/step - loss: 2.2289 - val_loss: 1.9669\n",
      "Epoch 37/50\n",
      "405/405 [==============================] - 2s 4ms/step - loss: 2.2283 - val_loss: 1.9769\n",
      "Epoch 38/50\n",
      "405/405 [==============================] - 2s 4ms/step - loss: 2.2320 - val_loss: 1.9683\n",
      "Epoch 39/50\n",
      "405/405 [==============================] - 1s 4ms/step - loss: 2.2216 - val_loss: 1.9673\n",
      "Epoch 40/50\n",
      "405/405 [==============================] - 1s 4ms/step - loss: 2.2236 - val_loss: 1.9845\n",
      "Epoch 41/50\n",
      "405/405 [==============================] - 2s 4ms/step - loss: 2.2279 - val_loss: 2.0307\n",
      "Epoch 42/50\n",
      "405/405 [==============================] - 2s 5ms/step - loss: 2.2196 - val_loss: 2.0005\n",
      "Epoch 43/50\n",
      "405/405 [==============================] - 3s 6ms/step - loss: 2.2145 - val_loss: 1.9559\n",
      "Epoch 44/50\n",
      "405/405 [==============================] - 2s 6ms/step - loss: 2.2148 - val_loss: 1.9798\n",
      "Epoch 45/50\n",
      "405/405 [==============================] - 1s 4ms/step - loss: 2.2207 - val_loss: 1.9790\n",
      "Epoch 46/50\n",
      "405/405 [==============================] - 2s 4ms/step - loss: 2.2044 - val_loss: 1.9576\n",
      "Epoch 47/50\n",
      "405/405 [==============================] - 1s 4ms/step - loss: 2.2143 - val_loss: 1.9884\n",
      "Epoch 48/50\n",
      "405/405 [==============================] - 2s 4ms/step - loss: 2.1995 - val_loss: 2.0029\n",
      "Epoch 49/50\n",
      "405/405 [==============================] - 2s 4ms/step - loss: 2.2020 - val_loss: 1.9806\n",
      "Epoch 50/50\n",
      "405/405 [==============================] - 2s 4ms/step - loss: 2.2003 - val_loss: 1.9905\n",
      "193/193 [==============================] - 1s 3ms/step - loss: 2.2380\n",
      "Mean Squared Error on Test Set: 2.238002061843872\n"
     ]
    }
   ],
   "source": [
    "# Selecting features and target variable\n",
    "X = df_hour[['fluid_temp', 'ground_temp', 'air_umidity', 'air_temp', 'gas_umidity', 'gas_temp', 'Month', 'Hour']]\n",
    "y = df_hour['dm3_gas']\n",
    "\n",
    "# Split the data into training and testing sets\n",
    "X_train, X_test, y_train, y_test = train_test_split(X, y, test_size=0.3, random_state=42)\n",
    "\n",
    "# Standardize the features\n",
    "scaler = StandardScaler()\n",
    "X_train = scaler.fit_transform(X_train)\n",
    "X_test = scaler.transform(X_test)\n",
    "\n",
    "# Define the neural network model\n",
    "model = Sequential([\n",
    "    Dense(64, activation='relu', input_shape=(X_train.shape[1],)),\n",
    "    Dense(64, activation='relu'),\n",
    "    Dense(32, activation='relu'),\n",
    "    Dense(1)  # Single neuron for regression task\n",
    "])\n",
    "\n",
    "# Compile the model\n",
    "model.compile(optimizer='adam', loss='mean_squared_error')\n",
    "\n",
    "# Train the model\n",
    "model.fit(X_train, y_train, epochs=50, batch_size=32, validation_split=0.1)\n",
    "\n",
    "# Evaluate the model on the testing set\n",
    "loss = model.evaluate(X_test, y_test)\n",
    "print('Mean Squared Error on Test Set:', loss)\n"
   ]
  },
  {
   "cell_type": "code",
   "execution_count": 91,
   "id": "00357c15",
   "metadata": {},
   "outputs": [
    {
     "name": "stdout",
     "output_type": "stream",
     "text": [
      "450/450 [==============================] - 1s 2ms/step - loss: 2.1464\n",
      "Mean Squared Error on Test Set: 2.1464173793792725\n"
     ]
    }
   ],
   "source": [
    "loss = model.evaluate(X_train, y_train)\n",
    "print('Mean Squared Error on Test Set:', loss)"
   ]
  },
  {
   "cell_type": "code",
   "execution_count": 92,
   "id": "da7faa0e",
   "metadata": {},
   "outputs": [
    {
     "name": "stdout",
     "output_type": "stream",
     "text": [
      "643/643 [==============================] - 2s 2ms/step\n"
     ]
    }
   ],
   "source": [
    "y_prednn = model.predict(X).flatten()"
   ]
  },
  {
   "cell_type": "code",
   "execution_count": 93,
   "id": "396af854",
   "metadata": {},
   "outputs": [
    {
     "name": "stdout",
     "output_type": "stream",
     "text": [
      "MAE : 34.13095787660712\n",
      "MSE : 1376.9552326233425\n",
      "R2 : -522.3695689235426\n"
     ]
    }
   ],
   "source": [
    "from sklearn.metrics import accuracy_score\n",
    "\n",
    "#print(f\"Score : {accuracy_score(y_train, y_prednn)}\")\n",
    "print(f\"MAE : {mean_absolute_error(y, y_prednn)}\")\n",
    "print(f\"MSE : {mean_squared_error(y, y_prednn)}\")\n",
    "print(f\"R2 : {r2_score(y, y_prednn)}\")"
   ]
  },
  {
   "cell_type": "code",
   "execution_count": 94,
   "id": "6dbab004",
   "metadata": {},
   "outputs": [],
   "source": [
    "modellednn = pd.DataFrame({'pred2' : y_prednn, \n",
    "                        'Hour' : df_hour.Hour,\n",
    "                        'dm3' : y}\n",
    "                )"
   ]
  },
  {
   "cell_type": "code",
   "execution_count": 95,
   "id": "563d9bf1",
   "metadata": {},
   "outputs": [],
   "source": [
    "modellednn_group = modellednn.groupby('Hour').mean().reset_index()\n",
    "modellednn_group.to_csv(\"modellednn_group.csv\", index=False)"
   ]
  },
  {
   "cell_type": "code",
   "execution_count": 96,
   "id": "7e2e6cd6",
   "metadata": {},
   "outputs": [
    {
     "data": {
      "image/png": "[encoded data removed]",
      "text/plain": [
       "<Figure size 1200x700 with 1 Axes>"
      ]
     },
     "metadata": {},
     "output_type": "display_data"
    }
   ],
   "source": [
    "#Visualization\n",
    "fig, ax = plt.subplots(figsize=(12,7))\n",
    "\n",
    "ax.plot(modellednn_group.Hour, modellednn_group.pred2, label=\"preds\")\n",
    "ax.plot(modellednn_group.Hour, modellednn_group.dm3, label = \"actual\")\n",
    "ax.set_xticks(np.arange(0, 24, step=1))\n",
    "plt.legend()\n",
    "plt.show()"
   ]
  },
  {
   "cell_type": "code",
   "execution_count": null,
   "id": "f8fc771f",
   "metadata": {},
   "outputs": [],
   "source": []
  },
  {
   "cell_type": "markdown",
   "id": "fa61701a",
   "metadata": {},
   "source": [
    "## Random Forest vs Neural network preds"
   ]
  },
  {
   "cell_type": "code",
   "execution_count": 97,
   "id": "ce0b5d0e",
   "metadata": {},
   "outputs": [],
   "source": [
    "modelled_group = pd.read_csv(\"modelled_group.csv\")\n",
    "modellednn_group = pd.read_csv(\"modellednn_group.csv\")\n"
   ]
  },
  {
   "cell_type": "code",
   "execution_count": 98,
   "id": "01607b6f",
   "metadata": {},
   "outputs": [],
   "source": [
    "from sklearn.preprocessing import MinMaxScaler\n",
    "mm = MinMaxScaler()\n",
    "modellednn_group['pred2'] = (mm.fit_transform(modellednn_group[['pred2']]))*1000 \n",
    "modelled_group['dm3'] = modelled_group['dm3']*1000 \n",
    "modelled_group['preds'] = modelled_group['preds']*1000"
   ]
  },
  {
   "cell_type": "code",
   "execution_count": 99,
   "id": "8bacfb12",
   "metadata": {},
   "outputs": [
    {
     "data": {
      "image/png": "[encoded data removed]",
      "text/plain": [
       "<Figure size 1000x500 with 1 Axes>"
      ]
     },
     "metadata": {},
     "output_type": "display_data"
    }
   ],
   "source": [
    "#Visualization\n",
    "fig, ax = plt.subplots(figsize=(10,5))\n",
    "\n",
    "ax.plot(modelled_group.Hour, modelled_group.preds, label=\"rfr_preds\")\n",
    "ax.plot(modelled_group.Hour, modelled_group.dm3, label = \"actual\")\n",
    "ax.plot(modellednn_group.Hour, modellednn_group.pred2, label=\"nn_preds\")\n",
    "ax.set_xticks(np.arange(0, 24, step=1))\n",
    "ax.legend()\n",
    "plt.show()"
   ]
  },
  {
   "cell_type": "code",
   "execution_count": null,
   "id": "79efacbe",
   "metadata": {},
   "outputs": [],
   "source": []
  },
  {
   "cell_type": "code",
   "execution_count": null,
   "id": "dabbb13f",
   "metadata": {},
   "outputs": [],
   "source": []
  },
  {
   "cell_type": "code",
   "execution_count": null,
   "id": "c91a6642",
   "metadata": {},
   "outputs": [],
   "source": []
  },
  {
   "cell_type": "markdown",
   "id": "13fc71af",
   "metadata": {},
   "source": [
    "# ANOVA"
   ]
  },
  {
   "cell_type": "code",
   "execution_count": 100,
   "id": "f5570096",
   "metadata": {},
   "outputs": [],
   "source": [
    "df = pd.read_csv(\"biogasdf_ready.csv\", parse_dates=['date'])\n",
    "df['Month'] = df['date'].dt.month\n",
    "df['Hour'] = pd.to_datetime(df['hour'], format='%H:%M:%S').dt.hour"
   ]
  },
  {
   "cell_type": "code",
   "execution_count": 101,
   "id": "c8d0b613",
   "metadata": {},
   "outputs": [],
   "source": [
    "df = df.drop(columns = [\"date\", \"hour\"])"
   ]
  },
  {
   "cell_type": "code",
   "execution_count": 102,
   "id": "ea0417b1",
   "metadata": {},
   "outputs": [
    {
     "data": {
      "text/html": [
       "<div>\n",
       "<style scoped>\n",
       "    .dataframe tbody tr th:only-of-type {\n",
       "        vertical-align: middle;\n",
       "    }\n",
       "\n",
       "    .dataframe tbody tr th {\n",
       "        vertical-align: top;\n",
       "    }\n",
       "\n",
       "    .dataframe thead th {\n",
       "        text-align: right;\n",
       "    }\n",
       "</style>\n",
       "<table border=\"1\" class=\"dataframe\">\n",
       "  <thead>\n",
       "    <tr style=\"text-align: right;\">\n",
       "      <th></th>\n",
       "      <th>fluid_temp</th>\n",
       "      <th>ground_temp</th>\n",
       "      <th>air_umidity</th>\n",
       "      <th>air_temp</th>\n",
       "      <th>gas_umidity</th>\n",
       "      <th>gas_temp</th>\n",
       "      <th>dm3_gas</th>\n",
       "      <th>bio_id</th>\n",
       "      <th>phase_test</th>\n",
       "      <th>Month</th>\n",
       "      <th>Hour</th>\n",
       "    </tr>\n",
       "  </thead>\n",
       "  <tbody>\n",
       "    <tr>\n",
       "      <th>0</th>\n",
       "      <td>14.81</td>\n",
       "      <td>14.69</td>\n",
       "      <td>66.7</td>\n",
       "      <td>18.8</td>\n",
       "      <td>84.50</td>\n",
       "      <td>16.93</td>\n",
       "      <td>0.0</td>\n",
       "      <td>1</td>\n",
       "      <td>0</td>\n",
       "      <td>8</td>\n",
       "      <td>22</td>\n",
       "    </tr>\n",
       "    <tr>\n",
       "      <th>1</th>\n",
       "      <td>14.88</td>\n",
       "      <td>14.69</td>\n",
       "      <td>78.3</td>\n",
       "      <td>18.0</td>\n",
       "      <td>84.45</td>\n",
       "      <td>15.83</td>\n",
       "      <td>0.0</td>\n",
       "      <td>1</td>\n",
       "      <td>0</td>\n",
       "      <td>8</td>\n",
       "      <td>23</td>\n",
       "    </tr>\n",
       "    <tr>\n",
       "      <th>2</th>\n",
       "      <td>14.88</td>\n",
       "      <td>14.69</td>\n",
       "      <td>83.2</td>\n",
       "      <td>17.4</td>\n",
       "      <td>84.35</td>\n",
       "      <td>15.22</td>\n",
       "      <td>0.0</td>\n",
       "      <td>1</td>\n",
       "      <td>0</td>\n",
       "      <td>8</td>\n",
       "      <td>0</td>\n",
       "    </tr>\n",
       "    <tr>\n",
       "      <th>3</th>\n",
       "      <td>14.88</td>\n",
       "      <td>14.69</td>\n",
       "      <td>84.8</td>\n",
       "      <td>16.7</td>\n",
       "      <td>84.15</td>\n",
       "      <td>14.58</td>\n",
       "      <td>0.0</td>\n",
       "      <td>1</td>\n",
       "      <td>0</td>\n",
       "      <td>8</td>\n",
       "      <td>0</td>\n",
       "    </tr>\n",
       "    <tr>\n",
       "      <th>4</th>\n",
       "      <td>14.88</td>\n",
       "      <td>14.69</td>\n",
       "      <td>87.4</td>\n",
       "      <td>16.0</td>\n",
       "      <td>84.10</td>\n",
       "      <td>14.18</td>\n",
       "      <td>0.0</td>\n",
       "      <td>1</td>\n",
       "      <td>0</td>\n",
       "      <td>8</td>\n",
       "      <td>0</td>\n",
       "    </tr>\n",
       "  </tbody>\n",
       "</table>\n",
       "</div>"
      ],
      "text/plain": [
       "   fluid_temp  ground_temp  air_umidity  air_temp  gas_umidity  gas_temp  \\\n",
       "0       14.81        14.69         66.7      18.8        84.50     16.93   \n",
       "1       14.88        14.69         78.3      18.0        84.45     15.83   \n",
       "2       14.88        14.69         83.2      17.4        84.35     15.22   \n",
       "3       14.88        14.69         84.8      16.7        84.15     14.58   \n",
       "4       14.88        14.69         87.4      16.0        84.10     14.18   \n",
       "\n",
       "   dm3_gas  bio_id  phase_test  Month  Hour  \n",
       "0      0.0       1           0      8    22  \n",
       "1      0.0       1           0      8    23  \n",
       "2      0.0       1           0      8     0  \n",
       "3      0.0       1           0      8     0  \n",
       "4      0.0       1           0      8     0  "
      ]
     },
     "execution_count": 102,
     "metadata": {},
     "output_type": "execute_result"
    }
   ],
   "source": [
    "df.head()"
   ]
  },
  {
   "cell_type": "code",
   "execution_count": 103,
   "id": "24b25c7c",
   "metadata": {},
   "outputs": [
    {
     "name": "stdout",
     "output_type": "stream",
     "text": [
      "ANOVA results for 'fluid_temp':\n",
      "F-statistic: 97.25048160407168\n",
      "p-value: 6.452735577661749e-23\n",
      "\n",
      "\n",
      "ANOVA results for 'ground_temp':\n",
      "F-statistic: 64.3438423670589\n",
      "p-value: 1.0705680579605237e-15\n",
      "\n",
      "\n",
      "ANOVA results for 'air_umidity':\n",
      "F-statistic: 136.63628375332712\n",
      "p-value: 1.6124486699916627e-31\n",
      "\n",
      "\n",
      "ANOVA results for 'air_temp':\n",
      "F-statistic: 8.076217270225412\n",
      "p-value: 0.004487058740138282\n",
      "\n",
      "\n",
      "ANOVA results for 'gas_umidity':\n",
      "F-statistic: nan\n",
      "p-value: nan\n",
      "\n",
      "\n",
      "ANOVA results for 'gas_temp':\n",
      "F-statistic: nan\n",
      "p-value: nan\n",
      "\n",
      "\n",
      "ANOVA results for 'bio_id':\n",
      "F-statistic: 752.7906407709883\n",
      "p-value: 2.4148110316074167e-164\n",
      "\n",
      "\n",
      "ANOVA results for 'phase_test':\n",
      "F-statistic: 1558.0180712996014\n",
      "p-value: 0.0\n",
      "\n",
      "\n",
      "ANOVA results for 'Month':\n",
      "F-statistic: 557.3942048220734\n",
      "p-value: 1.7964642849312632e-122\n",
      "\n",
      "\n",
      "ANOVA results for 'Hour':\n",
      "F-statistic: 4.315935956271863\n",
      "p-value: 0.03776278069481702\n",
      "\n",
      "\n"
     ]
    },
    {
     "ename": "NameError",
     "evalue": "name 'anova_df' is not defined",
     "output_type": "error",
     "traceback": [
      "\u001b[1;31m---------------------------------------------------------------------------\u001b[0m",
      "\u001b[1;31mNameError\u001b[0m                                 Traceback (most recent call last)",
      "Cell \u001b[1;32mIn[103], line 32\u001b[0m\n\u001b[0;32m     29\u001b[0m     anova_results[\u001b[38;5;124m'\u001b[39m\u001b[38;5;124mp-value\u001b[39m\u001b[38;5;124m'\u001b[39m]\u001b[38;5;241m.\u001b[39mappend(p_value)\n\u001b[0;32m     31\u001b[0m anova_plain \u001b[38;5;241m=\u001b[39m pd\u001b[38;5;241m.\u001b[39mDataFrame(anova_results)\n\u001b[1;32m---> 32\u001b[0m anova_plain \u001b[38;5;241m=\u001b[39m  anova_df\u001b[38;5;241m.\u001b[39mfillna(\u001b[38;5;241m0\u001b[39m)\n",
      "\u001b[1;31mNameError\u001b[0m: name 'anova_df' is not defined"
     ]
    }
   ],
   "source": [
    "import pandas as pd\n",
    "from scipy.stats import f_oneway\n",
    "\n",
    "# Select the columns you want to analyze (e.g., fluid_temp, ground_temp, air_umidity)\n",
    "selected_columns = ['fluid_temp', 'ground_temp', 'air_umidity', \"air_temp\", \"gas_umidity\", \"gas_temp\", \"bio_id\", \"phase_test\", \"Month\",\"Hour\"]\n",
    "\n",
    "anova_results = {'Column': [], 'F-statistic': [], 'p-value': []}\n",
    "\n",
    "# Perform ANOVA for each selected column\n",
    "for col in selected_columns:\n",
    "    groups = []  # List to store the data for each group\n",
    "    categories = df['dm3_gas'].unique()  # Assuming we want to analyze based on 'dm3_gas' for now\n",
    "\n",
    "    for category in categories:\n",
    "        group_data = df[df['dm3_gas'] == category][col]\n",
    "        groups.append(group_data)\n",
    "\n",
    "    # Perform ANOVA\n",
    "    f_statistic, p_value = f_oneway(*groups)\n",
    "    \n",
    "    #Print the results for each column\n",
    "    print(f\"ANOVA results for '{col}':\")\n",
    "    print(\"F-statistic:\", f_statistic)\n",
    "    print(\"p-value:\", p_value)\n",
    "    print(\"\\n\")\n",
    "\n",
    "    anova_results['Column'].append(col)\n",
    "    anova_results['F-statistic'].append(f_statistic)\n",
    "    anova_results['p-value'].append(p_value)\n",
    "    \n",
    "anova_plain = pd.DataFrame(anova_results)\n",
    "anova_plain =  anova_df.fillna(0)"
   ]
  },
  {
   "cell_type": "code",
   "execution_count": 104,
   "id": "57e5dc2f",
   "metadata": {},
   "outputs": [],
   "source": [
    "anova_plain.to_csv(\"anova_plain.csv\", index=False)"
   ]
  },
  {
   "cell_type": "markdown",
   "id": "dafaa167",
   "metadata": {},
   "source": [
    "### Using hourly grouped values"
   ]
  },
  {
   "cell_type": "code",
   "execution_count": 105,
   "id": "f25e7503",
   "metadata": {},
   "outputs": [],
   "source": [
    "df = pd.read_csv(\"biogasdf_ready.csv\", parse_dates=['date'])\n",
    "df['Month'] = df['date'].dt.month\n",
    "#df['Hour'] = pd.to_datetime(df['hour'], format='%H:%M:%S').dt.hour\n",
    "df_hour = df.groupby('hour').mean().reset_index()"
   ]
  },
  {
   "cell_type": "code",
   "execution_count": 106,
   "id": "f5812f30",
   "metadata": {},
   "outputs": [],
   "source": [
    "df_hour = df_hour.drop(columns = [\"date\", \"hour\"])"
   ]
  },
  {
   "cell_type": "code",
   "execution_count": 107,
   "id": "3e57c08f",
   "metadata": {},
   "outputs": [
    {
     "name": "stdout",
     "output_type": "stream",
     "text": [
      "ANOVA results for 'fluid_temp':\n",
      "F-statistic: 9.620235990117884\n",
      "p-value: 9.670027827669945e-22\n",
      "\n",
      "\n",
      "ANOVA results for 'ground_temp':\n",
      "F-statistic: 9.122320175187872\n",
      "p-value: 2.2602493340110713e-20\n",
      "\n",
      "\n",
      "ANOVA results for 'air_umidity':\n",
      "F-statistic: 8.589242018893147\n",
      "p-value: 6.482801869722251e-19\n",
      "\n",
      "\n",
      "ANOVA results for 'air_temp':\n",
      "F-statistic: 4.535745539675785\n",
      "p-value: 2.9220128498051542e-08\n",
      "\n",
      "\n",
      "ANOVA results for 'gas_umidity':\n",
      "F-statistic: nan\n",
      "p-value: nan\n",
      "\n",
      "\n",
      "ANOVA results for 'gas_temp':\n",
      "F-statistic: nan\n",
      "p-value: nan\n",
      "\n",
      "\n",
      "ANOVA results for 'bio_id':\n",
      "F-statistic: 48.16077373705148\n",
      "p-value: 1.4911457074647116e-132\n",
      "\n",
      "\n",
      "ANOVA results for 'phase_test':\n",
      "F-statistic: 131.77150982658185\n",
      "p-value: 0.0\n",
      "\n",
      "\n",
      "ANOVA results for 'Month':\n",
      "F-statistic: 35.37459581146053\n",
      "p-value: 1.5475459140684477e-95\n",
      "\n",
      "\n"
     ]
    },
    {
     "ename": "NameError",
     "evalue": "name 'anova_df' is not defined",
     "output_type": "error",
     "traceback": [
      "\u001b[1;31m---------------------------------------------------------------------------\u001b[0m",
      "\u001b[1;31mNameError\u001b[0m                                 Traceback (most recent call last)",
      "Cell \u001b[1;32mIn[107], line 32\u001b[0m\n\u001b[0;32m     29\u001b[0m     anova_results[\u001b[38;5;124m'\u001b[39m\u001b[38;5;124mp-value\u001b[39m\u001b[38;5;124m'\u001b[39m]\u001b[38;5;241m.\u001b[39mappend(p_value)\n\u001b[0;32m     31\u001b[0m anova_hour \u001b[38;5;241m=\u001b[39m pd\u001b[38;5;241m.\u001b[39mDataFrame(anova_results)\n\u001b[1;32m---> 32\u001b[0m anova_hour \u001b[38;5;241m=\u001b[39m  anova_df\u001b[38;5;241m.\u001b[39mfillna(\u001b[38;5;241m0\u001b[39m)\n",
      "\u001b[1;31mNameError\u001b[0m: name 'anova_df' is not defined"
     ]
    }
   ],
   "source": [
    "import pandas as pd\n",
    "from scipy.stats import f_oneway\n",
    "\n",
    "# Select the columns you want to analyze (e.g., fluid_temp, ground_temp, air_umidity)\n",
    "selected_columns = ['fluid_temp', 'ground_temp', 'air_umidity', \"air_temp\", \"gas_umidity\", \"gas_temp\", \"bio_id\", \"phase_test\", \"Month\"]\n",
    "\n",
    "anova_results = {'Column': [], 'F-statistic': [], 'p-value': []}\n",
    "\n",
    "\n",
    "# Perform ANOVA for each selected column\n",
    "for col in selected_columns:\n",
    "    groups = []  # List to store the data for each group\n",
    "    categories = df_hour['dm3_gas'].unique()  # Assuming we want to analyze based on 'dm3_gas' for now\n",
    "\n",
    "    for category in categories:\n",
    "        group_data = df_hour[df_hour['dm3_gas'] == category][col]\n",
    "        groups.append(group_data)\n",
    "\n",
    "    # Perform ANOVA\n",
    "    f_statistic, p_value = f_oneway(*groups)\n",
    "    \n",
    "    # Print the results for each column\n",
    "    print(f\"ANOVA results for '{col}':\")\n",
    "    print(\"F-statistic:\", f_statistic)\n",
    "    print(\"p-value:\", p_value)\n",
    "    print(\"\\n\")\n",
    "    anova_results['Column'].append(col)\n",
    "    anova_results['F-statistic'].append(f_statistic)\n",
    "    anova_results['p-value'].append(p_value)\n",
    "    \n",
    "anova_hour = pd.DataFrame(anova_results)\n",
    "anova_hour =  anova_df.fillna(0)"
   ]
  },
  {
   "cell_type": "code",
   "execution_count": 108,
   "id": "0a732199",
   "metadata": {},
   "outputs": [],
   "source": [
    "anova_hour.to_csv(\"anova_hour.csv\", index=False)"
   ]
  },
  {
   "cell_type": "code",
   "execution_count": 109,
   "id": "147a3b5f",
   "metadata": {},
   "outputs": [],
   "source": [
    "anova_hour['p-value'] = round(anova_hour['p-value'],5)\n",
    "anova_hour['F-statistic'] = round(anova_hour['F-statistic'],5)"
   ]
  },
  {
   "cell_type": "code",
   "execution_count": 110,
   "id": "3f58a11e",
   "metadata": {},
   "outputs": [
    {
     "data": {
      "text/html": [
       "<div>\n",
       "<style scoped>\n",
       "    .dataframe tbody tr th:only-of-type {\n",
       "        vertical-align: middle;\n",
       "    }\n",
       "\n",
       "    .dataframe tbody tr th {\n",
       "        vertical-align: top;\n",
       "    }\n",
       "\n",
       "    .dataframe thead th {\n",
       "        text-align: right;\n",
       "    }\n",
       "</style>\n",
       "<table border=\"1\" class=\"dataframe\">\n",
       "  <thead>\n",
       "    <tr style=\"text-align: right;\">\n",
       "      <th></th>\n",
       "      <th>Column</th>\n",
       "      <th>F-statistic</th>\n",
       "      <th>p-value</th>\n",
       "    </tr>\n",
       "  </thead>\n",
       "  <tbody>\n",
       "    <tr>\n",
       "      <th>0</th>\n",
       "      <td>fluid_temp</td>\n",
       "      <td>9.62024</td>\n",
       "      <td>0.0</td>\n",
       "    </tr>\n",
       "    <tr>\n",
       "      <th>1</th>\n",
       "      <td>ground_temp</td>\n",
       "      <td>9.12232</td>\n",
       "      <td>0.0</td>\n",
       "    </tr>\n",
       "    <tr>\n",
       "      <th>2</th>\n",
       "      <td>air_umidity</td>\n",
       "      <td>8.58924</td>\n",
       "      <td>0.0</td>\n",
       "    </tr>\n",
       "    <tr>\n",
       "      <th>3</th>\n",
       "      <td>air_temp</td>\n",
       "      <td>4.53575</td>\n",
       "      <td>0.0</td>\n",
       "    </tr>\n",
       "    <tr>\n",
       "      <th>4</th>\n",
       "      <td>gas_umidity</td>\n",
       "      <td>NaN</td>\n",
       "      <td>NaN</td>\n",
       "    </tr>\n",
       "    <tr>\n",
       "      <th>5</th>\n",
       "      <td>gas_temp</td>\n",
       "      <td>NaN</td>\n",
       "      <td>NaN</td>\n",
       "    </tr>\n",
       "    <tr>\n",
       "      <th>6</th>\n",
       "      <td>bio_id</td>\n",
       "      <td>48.16077</td>\n",
       "      <td>0.0</td>\n",
       "    </tr>\n",
       "    <tr>\n",
       "      <th>7</th>\n",
       "      <td>phase_test</td>\n",
       "      <td>131.77151</td>\n",
       "      <td>0.0</td>\n",
       "    </tr>\n",
       "    <tr>\n",
       "      <th>8</th>\n",
       "      <td>Month</td>\n",
       "      <td>35.37460</td>\n",
       "      <td>0.0</td>\n",
       "    </tr>\n",
       "  </tbody>\n",
       "</table>\n",
       "</div>"
      ],
      "text/plain": [
       "        Column  F-statistic  p-value\n",
       "0   fluid_temp      9.62024      0.0\n",
       "1  ground_temp      9.12232      0.0\n",
       "2  air_umidity      8.58924      0.0\n",
       "3     air_temp      4.53575      0.0\n",
       "4  gas_umidity          NaN      NaN\n",
       "5     gas_temp          NaN      NaN\n",
       "6       bio_id     48.16077      0.0\n",
       "7   phase_test    131.77151      0.0\n",
       "8        Month     35.37460      0.0"
      ]
     },
     "execution_count": 110,
     "metadata": {},
     "output_type": "execute_result"
    }
   ],
   "source": [
    "anova_hour"
   ]
  },
  {
   "cell_type": "code",
   "execution_count": null,
   "id": "1ad128d2",
   "metadata": {},
   "outputs": [],
   "source": []
  },
  {
   "cell_type": "code",
   "execution_count": 111,
   "id": "8eed91ba",
   "metadata": {},
   "outputs": [
    {
     "data": {
      "image/png": "[encoded data removed]",
      "text/plain": [
       "<Figure size 1500x700 with 1 Axes>"
      ]
     },
     "metadata": {},
     "output_type": "display_data"
    }
   ],
   "source": [
    "import matplotlib.pyplot as plt\n",
    "import pandas as pd\n",
    "\n",
    "# Create a figure and axis\n",
    "fig, ax = plt.subplots(figsize=(15, 7))\n",
    "\n",
    "# Define the width of each bar\n",
    "bar_width = 0.15  # Adjust the bar width as needed\n",
    "\n",
    "# Create x-values for the bars for the first set of data\n",
    "x1 = range(len(anova_hour.Column))\n",
    "\n",
    "# Create x-values for each set of bars\n",
    "x2_f = [x + bar_width for x in x1]\n",
    "x2_p = [x + 2 * bar_width for x in x1]\n",
    "\n",
    "# Plot the first set of bars\n",
    "ax.bar(x1, anova_hour[\"F-statistic\"], width=bar_width, label='F-statistic')\n",
    "\n",
    "# Plot the second set of bars\n",
    "ax.bar(x2_p, anova_hour[\"p-value\"], width=bar_width, label='p-values')\n",
    "\n",
    "\n",
    "# Set the x-axis labels to be the dates\n",
    "ax.set_xticks([x + 3 * bar_width for x in x1])\n",
    "ax.set_xticklabels(anova_hour.Column, rotation=45, ha='right')\n",
    "\n",
    "# Add a legend\n",
    "ax.legend()\n",
    "\n",
    "# Set labels and title\n",
    "ax.set_xlabel('Date')\n",
    "ax.set_ylabel('Quantity')\n",
    "ax.set_title('Multiple Products Over Time')\n",
    "\n",
    "# Show the plot\n",
    "plt.tight_layout()\n",
    "plt.show()\n"
   ]
  },
  {
   "cell_type": "code",
   "execution_count": 112,
   "id": "db591579",
   "metadata": {},
   "outputs": [
    {
     "data": {
      "image/png": "[encoded data removed]",
      "text/plain": [
       "<Figure size 1500x700 with 1 Axes>"
      ]
     },
     "metadata": {},
     "output_type": "display_data"
    }
   ],
   "source": [
    "import matplotlib.pyplot as plt\n",
    "import pandas as pd\n",
    "\n",
    "\n",
    "# Create a figure and axis\n",
    "fig, ax = plt.subplots(figsize=(15, 7))\n",
    "\n",
    "# Define the width of each bar\n",
    "bar_width = 0.35  # Adjust the bar width as needed\n",
    "\n",
    "# Create x-values for the bars for the first set of data\n",
    "x1 = range(len(anova_hour))\n",
    "\n",
    "# Plot the first set of bars (F-statistic)\n",
    "ax.barh(x1, anova_hour[\"F-statistic\"], height=bar_width, label='F-statistic')\n",
    "\n",
    "# Plot the second set of bars (p-values)\n",
    "# ax.barh(x1, anova_hour[\"p-value\"], height=bar_width, left=anova_hour[\"F-statistic\"],\n",
    "#         label='p-values', color='orange')\n",
    "\n",
    "# Set the y-axis labels to be the columns\n",
    "ax.set_facecolor('lightgreen')\n",
    "ax.set_yticks(x1)\n",
    "ax.set_yticklabels(anova_hour.Column)\n",
    "\n",
    "# Add a legend\n",
    "ax.legend()\n",
    "\n",
    "# Set labels and title\n",
    "ax.set_ylabel('Variable')\n",
    "ax.set_xlabel('Value')\n",
    "ax.set_title('ANOVA Results: F-statistic and p-values')\n",
    "\n",
    "# Show the plot\n",
    "plt.tight_layout()\n",
    "plt.show()\n"
   ]
  },
  {
   "cell_type": "code",
   "execution_count": 113,
   "id": "46f7360b",
   "metadata": {},
   "outputs": [
    {
     "data": {
      "image/png": "[encoded data removed]",
      "text/plain": [
       "<Figure size 640x480 with 1 Axes>"
      ]
     },
     "metadata": {},
     "output_type": "display_data"
    }
   ],
   "source": [
    "plt.bar(anova_hour[\"Column\"], anova_hour[\"F-statistic\"])\n",
    "plt.xticks(rotation=90)\n",
    "plt.show()"
   ]
  },
  {
   "cell_type": "code",
   "execution_count": 114,
   "id": "c1eaaab8",
   "metadata": {},
   "outputs": [
    {
     "data": {
      "image/png": "[encoded data removed]",
      "text/plain": [
       "<Figure size 640x480 with 1 Axes>"
      ]
     },
     "metadata": {},
     "output_type": "display_data"
    }
   ],
   "source": [
    "plt.bar(anova_hour[\"Column\"], anova_hour[\"p-value\"])\n",
    "plt.xticks(rotation=90)\n",
    "plt.show()"
   ]
  },
  {
   "cell_type": "code",
   "execution_count": null,
   "id": "81f8b78f",
   "metadata": {},
   "outputs": [],
   "source": []
  },
  {
   "cell_type": "markdown",
   "id": "1938a4bb",
   "metadata": {},
   "source": [
    "### Evaluation Metrics"
   ]
  },
  {
   "cell_type": "raw",
   "id": "e0ccbcb3",
   "metadata": {},
   "source": [
    "The Mean Absolute Error (MAE) is a metric used to measure the average absolute differences between the predicted values and the actual values in a dataset.\n",
    "\n",
    "It's a common way to quantify the accuracy of a predictive model, such as our regression model."
   ]
  },
  {
   "cell_type": "code",
   "execution_count": 134,
   "id": "31a0bf6c",
   "metadata": {},
   "outputs": [
    {
     "data": {
      "text/plain": [
       "0.0006121435235512906"
      ]
     },
     "execution_count": 134,
     "metadata": {},
     "output_type": "execute_result"
    }
   ],
   "source": [
    "av_actual_values = modelled['dm3'].mean()\n",
    "av_actual_values"
   ]
  },
  {
   "cell_type": "code",
   "execution_count": 136,
   "id": "423f0138",
   "metadata": {},
   "outputs": [
    {
     "data": {
      "text/plain": [
       "0.0006385863485711789"
      ]
     },
     "execution_count": 136,
     "metadata": {},
     "output_type": "execute_result"
    }
   ],
   "source": [
    "av_pred_values = modelled[\"preds\"].mean()\n",
    "av_pred_values"
   ]
  },
  {
   "cell_type": "markdown",
   "id": "a0c7832b",
   "metadata": {},
   "source": [
    "### To get the Mean Absolute Error\n",
    "\n",
    "MAE = (1/n) * Σ |Predicted Value - Actual Value|\n",
    "\n",
    "\n",
    "Only that in this case,  we have to find the difference between each value."
   ]
  },
  {
   "cell_type": "markdown",
   "id": "b5aca5bf",
   "metadata": {},
   "source": [
    "### After reversing to the original regression values by dividing by 1000"
   ]
  },
  {
   "cell_type": "code",
   "execution_count": 132,
   "id": "db931d1a",
   "metadata": {},
   "outputs": [
    {
     "data": {
      "text/plain": [
       "6.121435235512906e-07"
      ]
     },
     "execution_count": 132,
     "metadata": {},
     "output_type": "execute_result"
    }
   ],
   "source": [
    "# predicted values\n",
    "# getting the average mean\n",
    "av_pred1000 = (modelled['dm3']/1000).mean()\n",
    "av_pred1000 "
   ]
  },
  {
   "cell_type": "code",
   "execution_count": 133,
   "id": "3c0f2f7f",
   "metadata": {},
   "outputs": [
    {
     "data": {
      "text/plain": [
       "6.385863485711789e-07"
      ]
     },
     "execution_count": 133,
     "metadata": {},
     "output_type": "execute_result"
    }
   ],
   "source": [
    "# actual values\n",
    "# getting the average mean\n",
    "\n",
    "av_act1000 = (modelled['preds']/1000).mean()\n",
    "av_act1000"
   ]
  },
  {
   "cell_type": "code",
   "execution_count": null,
   "id": "f3f74713",
   "metadata": {},
   "outputs": [],
   "source": []
  }
 ],
 "metadata": {
  "kernelspec": {
   "display_name": "Python 3 (ipykernel)",
   "language": "python",
   "name": "python3"
  },
  "language_info": {
   "codemirror_mode": {
    "name": "ipython",
    "version": 3
   },
   "file_extension": ".py",
   "mimetype": "text/x-python",
   "name": "python",
   "nbconvert_exporter": "python",
   "pygments_lexer": "ipython3",
   "version": "3.11.4"
  }
 },
 "nbformat": 4,
 "nbformat_minor": 5
}
