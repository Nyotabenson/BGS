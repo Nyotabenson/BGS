{
 "cells": [
  {
   "cell_type": "markdown",
   "id": "610e56c2",
   "metadata": {},
   "source": [
    "### libraries"
   ]
  },
  {
   "cell_type": "code",
   "execution_count": null,
   "id": "1e77dfd8",
   "metadata": {},
   "outputs": [],
   "source": []
  },
  {
   "cell_type": "code",
   "execution_count": 1,
   "id": "e14805e4",
   "metadata": {},
   "outputs": [],
   "source": [
    "import numpy as np\n",
    "import pandas as pd\n",
    "import matplotlib.pyplot as plt\n",
    "from sklearn.model_selection import train_test_split\n",
    "from sklearn.preprocessing import StandardScaler\n",
    "from sklearn.ensemble import RandomForestRegressor\n",
    "\n",
    "#Models\n",
    "from sklearn.ensemble import RandomForestRegressor\n",
    "from sklearn.linear_model import Ridge, Lasso\n",
    "from sklearn.tree import DecisionTreeRegressor\n",
    "\n",
    "#evaluation metrics\n",
    "from sklearn.metrics import mean_absolute_error, mean_squared_error, r2_score"
   ]
  },
  {
   "cell_type": "markdown",
   "id": "39f65a38",
   "metadata": {},
   "source": [
    "### Dataset"
   ]
  },
  {
   "cell_type": "code",
   "execution_count": 787,
   "id": "d59539f9",
   "metadata": {},
   "outputs": [],
   "source": [
    "df = pd.read_csv(\"biogasdf_ready.csv\", parse_dates=['date'])\n",
    "df['Month'] = df['date'].dt.month\n",
    "df['Hour'] = pd.to_datetime(df['hour'], format='%H:%M:%S').dt.hour"
   ]
  },
  {
   "cell_type": "markdown",
   "id": "35f61bcc",
   "metadata": {},
   "source": [
    "#### Aggregating using group function with respect to hour"
   ]
  },
  {
   "cell_type": "code",
   "execution_count": 788,
   "id": "9ae8e419",
   "metadata": {},
   "outputs": [],
   "source": [
    "df_hour = df.groupby('hour').mean().reset_index()"
   ]
  },
  {
   "cell_type": "code",
   "execution_count": 789,
   "id": "a7b00b5c",
   "metadata": {},
   "outputs": [
    {
     "data": {
      "text/html": [
       "<div>\n",
       "<style scoped>\n",
       "    .dataframe tbody tr th:only-of-type {\n",
       "        vertical-align: middle;\n",
       "    }\n",
       "\n",
       "    .dataframe tbody tr th {\n",
       "        vertical-align: top;\n",
       "    }\n",
       "\n",
       "    .dataframe thead th {\n",
       "        text-align: right;\n",
       "    }\n",
       "</style>\n",
       "<table border=\"1\" class=\"dataframe\">\n",
       "  <thead>\n",
       "    <tr style=\"text-align: right;\">\n",
       "      <th></th>\n",
       "      <th>hour</th>\n",
       "      <th>date</th>\n",
       "      <th>fluid_temp</th>\n",
       "      <th>ground_temp</th>\n",
       "      <th>air_umidity</th>\n",
       "      <th>air_temp</th>\n",
       "      <th>gas_umidity</th>\n",
       "      <th>gas_temp</th>\n",
       "      <th>dm3_gas</th>\n",
       "      <th>bio_id</th>\n",
       "      <th>phase_test</th>\n",
       "      <th>Month</th>\n",
       "      <th>Hour</th>\n",
       "    </tr>\n",
       "  </thead>\n",
       "  <tbody>\n",
       "    <tr>\n",
       "      <th>0</th>\n",
       "      <td>00:00:00</td>\n",
       "      <td>2021-11-08 00:00:00</td>\n",
       "      <td>18.942500</td>\n",
       "      <td>-17.657500</td>\n",
       "      <td>94.35</td>\n",
       "      <td>15.300000</td>\n",
       "      <td>90.0925</td>\n",
       "      <td>14.8275</td>\n",
       "      <td>0.000</td>\n",
       "      <td>1.500000</td>\n",
       "      <td>1.000000</td>\n",
       "      <td>11.000000</td>\n",
       "      <td>0.0</td>\n",
       "    </tr>\n",
       "    <tr>\n",
       "      <th>1</th>\n",
       "      <td>00:00:02</td>\n",
       "      <td>2022-05-14 00:00:00</td>\n",
       "      <td>20.090000</td>\n",
       "      <td>18.905000</td>\n",
       "      <td>95.90</td>\n",
       "      <td>14.500000</td>\n",
       "      <td>5.0000</td>\n",
       "      <td>5.0000</td>\n",
       "      <td>0.000</td>\n",
       "      <td>1.500000</td>\n",
       "      <td>3.000000</td>\n",
       "      <td>5.000000</td>\n",
       "      <td>0.0</td>\n",
       "    </tr>\n",
       "    <tr>\n",
       "      <th>2</th>\n",
       "      <td>00:00:03</td>\n",
       "      <td>2022-01-04 08:00:00</td>\n",
       "      <td>21.563333</td>\n",
       "      <td>21.836667</td>\n",
       "      <td>99.50</td>\n",
       "      <td>15.366667</td>\n",
       "      <td>84.5800</td>\n",
       "      <td>16.4700</td>\n",
       "      <td>0.000</td>\n",
       "      <td>1.333333</td>\n",
       "      <td>0.666667</td>\n",
       "      <td>4.666667</td>\n",
       "      <td>0.0</td>\n",
       "    </tr>\n",
       "    <tr>\n",
       "      <th>3</th>\n",
       "      <td>00:00:08</td>\n",
       "      <td>2022-06-26 00:00:00</td>\n",
       "      <td>17.130000</td>\n",
       "      <td>15.785000</td>\n",
       "      <td>93.90</td>\n",
       "      <td>13.500000</td>\n",
       "      <td>5.0000</td>\n",
       "      <td>5.0000</td>\n",
       "      <td>0.005</td>\n",
       "      <td>1.500000</td>\n",
       "      <td>3.000000</td>\n",
       "      <td>6.000000</td>\n",
       "      <td>0.0</td>\n",
       "    </tr>\n",
       "    <tr>\n",
       "      <th>4</th>\n",
       "      <td>00:00:16</td>\n",
       "      <td>2021-12-21 00:00:00</td>\n",
       "      <td>22.440000</td>\n",
       "      <td>22.120000</td>\n",
       "      <td>91.60</td>\n",
       "      <td>17.400000</td>\n",
       "      <td>5.0000</td>\n",
       "      <td>5.0000</td>\n",
       "      <td>0.000</td>\n",
       "      <td>1.500000</td>\n",
       "      <td>1.000000</td>\n",
       "      <td>12.000000</td>\n",
       "      <td>0.0</td>\n",
       "    </tr>\n",
       "  </tbody>\n",
       "</table>\n",
       "</div>"
      ],
      "text/plain": [
       "       hour                date  fluid_temp  ground_temp  air_umidity  \\\n",
       "0  00:00:00 2021-11-08 00:00:00   18.942500   -17.657500        94.35   \n",
       "1  00:00:02 2022-05-14 00:00:00   20.090000    18.905000        95.90   \n",
       "2  00:00:03 2022-01-04 08:00:00   21.563333    21.836667        99.50   \n",
       "3  00:00:08 2022-06-26 00:00:00   17.130000    15.785000        93.90   \n",
       "4  00:00:16 2021-12-21 00:00:00   22.440000    22.120000        91.60   \n",
       "\n",
       "    air_temp  gas_umidity  gas_temp  dm3_gas    bio_id  phase_test      Month  \\\n",
       "0  15.300000      90.0925   14.8275    0.000  1.500000    1.000000  11.000000   \n",
       "1  14.500000       5.0000    5.0000    0.000  1.500000    3.000000   5.000000   \n",
       "2  15.366667      84.5800   16.4700    0.000  1.333333    0.666667   4.666667   \n",
       "3  13.500000       5.0000    5.0000    0.005  1.500000    3.000000   6.000000   \n",
       "4  17.400000       5.0000    5.0000    0.000  1.500000    1.000000  12.000000   \n",
       "\n",
       "   Hour  \n",
       "0   0.0  \n",
       "1   0.0  \n",
       "2   0.0  \n",
       "3   0.0  \n",
       "4   0.0  "
      ]
     },
     "execution_count": 789,
     "metadata": {},
     "output_type": "execute_result"
    }
   ],
   "source": [
    "df_hour = df_hour.fillna(5)\n",
    "df_hour.head()"
   ]
  },
  {
   "cell_type": "code",
   "execution_count": 840,
   "id": "469a1c38",
   "metadata": {},
   "outputs": [
    {
     "name": "stdout",
     "output_type": "stream",
     "text": [
      " fluid_temp  Minimum Value : -53.0,  Maximum Value: 24.215 change_value: 151.215\n",
      " ground_temp  Minimum Value : -54.405,  Maximum Value: 23.97 change_value: 150.97\n",
      " air_umidity  Minimum Value : 13.9,  Maximum Value: 99.90000000000002 change_value: 99.90000000000002\n",
      " air_temp  Minimum Value : 1.3,  Maximum Value: 52.6 change_value: 52.6\n",
      " gas_umidity  Minimum Value : 5.0,  Maximum Value: 110.49 change_value: 78.77\n",
      " gas_temp  Minimum Value : -12.17,  Maximum Value: 120.79 change_value: 133.41\n"
     ]
    }
   ],
   "source": [
    "# Lets get the range of the each features\n",
    "columns = [\"fluid_temp\", \"ground_temp\", \"air_umidity\", \"air_temp\", \"gas_umidity\", \"gas_temp\"]\n",
    "for col in columns:\n",
    "    print(f\" {col}  Minimum Value : {df_hour[col].min()},  Maximum Value: {df_hour[col].max()} change_value: {df_hour[col].max()-df[col].min()}\")"
   ]
  },
  {
   "cell_type": "code",
   "execution_count": 790,
   "id": "480a0260",
   "metadata": {
    "scrolled": false
   },
   "outputs": [
    {
     "data": {
      "text/plain": [
       "dm3_gas\n",
       "0.00     18040\n",
       "5.00      1756\n",
       "2.50       376\n",
       "3.33       149\n",
       "10.00      117\n",
       "1.67        51\n",
       "2.00        30\n",
       "6.67        13\n",
       "4.00         9\n",
       "1.43         7\n",
       "1.25         6\n",
       "7.50         2\n",
       "3.75         1\n",
       "1.11         1\n",
       "1.00         1\n",
       "Name: count, dtype: int64"
      ]
     },
     "execution_count": 790,
     "metadata": {},
     "output_type": "execute_result"
    }
   ],
   "source": [
    "df_hour.dm3_gas = round(df_hour['dm3_gas']*1000, 2)\n",
    "df_hour.dm3_gas.value_counts()"
   ]
  },
  {
   "cell_type": "markdown",
   "id": "b3e0991b",
   "metadata": {},
   "source": [
    "#### Extracting variables values that cobntribute to maximum gas production"
   ]
  },
  {
   "cell_type": "code",
   "execution_count": 792,
   "id": "11339227",
   "metadata": {},
   "outputs": [],
   "source": [
    "df_hour_max = df_hour[df_hour.dm3_gas==10]"
   ]
  },
  {
   "cell_type": "code",
   "execution_count": 804,
   "id": "2ab24a20",
   "metadata": {},
   "outputs": [
    {
     "data": {
      "text/html": [
       "<div>\n",
       "<style scoped>\n",
       "    .dataframe tbody tr th:only-of-type {\n",
       "        vertical-align: middle;\n",
       "    }\n",
       "\n",
       "    .dataframe tbody tr th {\n",
       "        vertical-align: top;\n",
       "    }\n",
       "\n",
       "    .dataframe thead th {\n",
       "        text-align: right;\n",
       "    }\n",
       "</style>\n",
       "<table border=\"1\" class=\"dataframe\">\n",
       "  <thead>\n",
       "    <tr style=\"text-align: right;\">\n",
       "      <th></th>\n",
       "      <th>hour</th>\n",
       "      <th>date</th>\n",
       "      <th>fluid_temp</th>\n",
       "      <th>ground_temp</th>\n",
       "      <th>air_umidity</th>\n",
       "      <th>air_temp</th>\n",
       "      <th>gas_umidity</th>\n",
       "      <th>gas_temp</th>\n",
       "      <th>dm3_gas</th>\n",
       "      <th>bio_id</th>\n",
       "      <th>phase_test</th>\n",
       "      <th>Month</th>\n",
       "      <th>Hour</th>\n",
       "    </tr>\n",
       "  </thead>\n",
       "  <tbody>\n",
       "    <tr>\n",
       "      <th>982</th>\n",
       "      <td>01:10:26</td>\n",
       "      <td>2022-03-20</td>\n",
       "      <td>23.375</td>\n",
       "      <td>23.220</td>\n",
       "      <td>96.1</td>\n",
       "      <td>17.7</td>\n",
       "      <td>87.48</td>\n",
       "      <td>17.03</td>\n",
       "      <td>10.0</td>\n",
       "      <td>1.5</td>\n",
       "      <td>2.0</td>\n",
       "      <td>3.0</td>\n",
       "      <td>1.0</td>\n",
       "    </tr>\n",
       "    <tr>\n",
       "      <th>1237</th>\n",
       "      <td>01:27:58</td>\n",
       "      <td>2022-03-06</td>\n",
       "      <td>23.845</td>\n",
       "      <td>23.565</td>\n",
       "      <td>96.6</td>\n",
       "      <td>22.9</td>\n",
       "      <td>86.91</td>\n",
       "      <td>21.96</td>\n",
       "      <td>10.0</td>\n",
       "      <td>1.5</td>\n",
       "      <td>2.0</td>\n",
       "      <td>3.0</td>\n",
       "      <td>1.0</td>\n",
       "    </tr>\n",
       "    <tr>\n",
       "      <th>1529</th>\n",
       "      <td>01:48:14</td>\n",
       "      <td>2022-03-19</td>\n",
       "      <td>23.340</td>\n",
       "      <td>23.250</td>\n",
       "      <td>97.6</td>\n",
       "      <td>21.0</td>\n",
       "      <td>86.40</td>\n",
       "      <td>19.99</td>\n",
       "      <td>10.0</td>\n",
       "      <td>1.5</td>\n",
       "      <td>2.0</td>\n",
       "      <td>3.0</td>\n",
       "      <td>1.0</td>\n",
       "    </tr>\n",
       "    <tr>\n",
       "      <th>1848</th>\n",
       "      <td>02:10:28</td>\n",
       "      <td>2022-03-20</td>\n",
       "      <td>23.345</td>\n",
       "      <td>23.220</td>\n",
       "      <td>96.7</td>\n",
       "      <td>18.0</td>\n",
       "      <td>88.60</td>\n",
       "      <td>17.38</td>\n",
       "      <td>10.0</td>\n",
       "      <td>1.5</td>\n",
       "      <td>2.0</td>\n",
       "      <td>3.0</td>\n",
       "      <td>2.0</td>\n",
       "    </tr>\n",
       "    <tr>\n",
       "      <th>3292</th>\n",
       "      <td>03:53:27</td>\n",
       "      <td>2022-03-16</td>\n",
       "      <td>23.660</td>\n",
       "      <td>23.500</td>\n",
       "      <td>98.5</td>\n",
       "      <td>18.9</td>\n",
       "      <td>86.53</td>\n",
       "      <td>18.04</td>\n",
       "      <td>10.0</td>\n",
       "      <td>1.5</td>\n",
       "      <td>2.0</td>\n",
       "      <td>3.0</td>\n",
       "      <td>3.0</td>\n",
       "    </tr>\n",
       "    <tr>\n",
       "      <th>3688</th>\n",
       "      <td>04:22:20</td>\n",
       "      <td>2022-03-09</td>\n",
       "      <td>24.065</td>\n",
       "      <td>23.785</td>\n",
       "      <td>97.2</td>\n",
       "      <td>20.7</td>\n",
       "      <td>86.54</td>\n",
       "      <td>19.65</td>\n",
       "      <td>10.0</td>\n",
       "      <td>1.5</td>\n",
       "      <td>2.0</td>\n",
       "      <td>3.0</td>\n",
       "      <td>4.0</td>\n",
       "    </tr>\n",
       "    <tr>\n",
       "      <th>4066</th>\n",
       "      <td>04:48:13</td>\n",
       "      <td>2022-03-19</td>\n",
       "      <td>23.340</td>\n",
       "      <td>23.250</td>\n",
       "      <td>99.0</td>\n",
       "      <td>21.0</td>\n",
       "      <td>86.89</td>\n",
       "      <td>20.15</td>\n",
       "      <td>10.0</td>\n",
       "      <td>1.5</td>\n",
       "      <td>2.0</td>\n",
       "      <td>3.0</td>\n",
       "      <td>4.0</td>\n",
       "    </tr>\n",
       "    <tr>\n",
       "      <th>4071</th>\n",
       "      <td>04:48:36</td>\n",
       "      <td>2022-03-19</td>\n",
       "      <td>23.340</td>\n",
       "      <td>23.250</td>\n",
       "      <td>99.0</td>\n",
       "      <td>21.0</td>\n",
       "      <td>86.89</td>\n",
       "      <td>20.15</td>\n",
       "      <td>10.0</td>\n",
       "      <td>1.5</td>\n",
       "      <td>2.0</td>\n",
       "      <td>3.0</td>\n",
       "      <td>4.0</td>\n",
       "    </tr>\n",
       "    <tr>\n",
       "      <th>4148</th>\n",
       "      <td>04:53:30</td>\n",
       "      <td>2022-03-16</td>\n",
       "      <td>23.660</td>\n",
       "      <td>23.500</td>\n",
       "      <td>99.2</td>\n",
       "      <td>18.9</td>\n",
       "      <td>86.61</td>\n",
       "      <td>18.15</td>\n",
       "      <td>10.0</td>\n",
       "      <td>1.5</td>\n",
       "      <td>2.0</td>\n",
       "      <td>3.0</td>\n",
       "      <td>4.0</td>\n",
       "    </tr>\n",
       "    <tr>\n",
       "      <th>4388</th>\n",
       "      <td>05:10:34</td>\n",
       "      <td>2022-03-20</td>\n",
       "      <td>23.345</td>\n",
       "      <td>23.185</td>\n",
       "      <td>97.1</td>\n",
       "      <td>17.5</td>\n",
       "      <td>89.68</td>\n",
       "      <td>16.52</td>\n",
       "      <td>10.0</td>\n",
       "      <td>1.5</td>\n",
       "      <td>2.0</td>\n",
       "      <td>3.0</td>\n",
       "      <td>5.0</td>\n",
       "    </tr>\n",
       "  </tbody>\n",
       "</table>\n",
       "</div>"
      ],
      "text/plain": [
       "          hour       date  fluid_temp  ground_temp  air_umidity  air_temp  \\\n",
       "982   01:10:26 2022-03-20      23.375       23.220         96.1      17.7   \n",
       "1237  01:27:58 2022-03-06      23.845       23.565         96.6      22.9   \n",
       "1529  01:48:14 2022-03-19      23.340       23.250         97.6      21.0   \n",
       "1848  02:10:28 2022-03-20      23.345       23.220         96.7      18.0   \n",
       "3292  03:53:27 2022-03-16      23.660       23.500         98.5      18.9   \n",
       "3688  04:22:20 2022-03-09      24.065       23.785         97.2      20.7   \n",
       "4066  04:48:13 2022-03-19      23.340       23.250         99.0      21.0   \n",
       "4071  04:48:36 2022-03-19      23.340       23.250         99.0      21.0   \n",
       "4148  04:53:30 2022-03-16      23.660       23.500         99.2      18.9   \n",
       "4388  05:10:34 2022-03-20      23.345       23.185         97.1      17.5   \n",
       "\n",
       "      gas_umidity  gas_temp  dm3_gas  bio_id  phase_test  Month  Hour  \n",
       "982         87.48     17.03     10.0     1.5         2.0    3.0   1.0  \n",
       "1237        86.91     21.96     10.0     1.5         2.0    3.0   1.0  \n",
       "1529        86.40     19.99     10.0     1.5         2.0    3.0   1.0  \n",
       "1848        88.60     17.38     10.0     1.5         2.0    3.0   2.0  \n",
       "3292        86.53     18.04     10.0     1.5         2.0    3.0   3.0  \n",
       "3688        86.54     19.65     10.0     1.5         2.0    3.0   4.0  \n",
       "4066        86.89     20.15     10.0     1.5         2.0    3.0   4.0  \n",
       "4071        86.89     20.15     10.0     1.5         2.0    3.0   4.0  \n",
       "4148        86.61     18.15     10.0     1.5         2.0    3.0   4.0  \n",
       "4388        89.68     16.52     10.0     1.5         2.0    3.0   5.0  "
      ]
     },
     "execution_count": 804,
     "metadata": {},
     "output_type": "execute_result"
    }
   ],
   "source": [
    "df_hour_max.head(10)"
   ]
  },
  {
   "cell_type": "code",
   "execution_count": 801,
   "id": "b34b8359",
   "metadata": {},
   "outputs": [
    {
     "name": "stdout",
     "output_type": "stream",
     "text": [
      "hour\n",
      "117 distinct values\n",
      "date\n",
      "33 distinct values\n",
      "fluid_temp\n",
      "47 distinct values\n",
      "ground_temp\n",
      "46 distinct values\n",
      "air_umidity\n",
      "88 distinct values\n",
      "air_temp\n",
      "79 distinct values\n",
      "gas_umidity\n",
      "91 distinct values\n",
      "gas_temp\n",
      "90 distinct values\n",
      "dm3_gas\n",
      "1 distinct values\n",
      "bio_id\n",
      "2 distinct values\n",
      "phase_test\n",
      "4 distinct values\n",
      "Month\n",
      "6 distinct values\n",
      "Hour\n",
      "23 distinct values\n"
     ]
    }
   ],
   "source": [
    "for col in df_hour_max.columns:\n",
    "    print(col)\n",
    "    print(f\"{(df_hour_max[col].nunique())} distinct values\")"
   ]
  },
  {
   "cell_type": "code",
   "execution_count": 806,
   "id": "05e8a266",
   "metadata": {},
   "outputs": [
    {
     "name": "stdout",
     "output_type": "stream",
     "text": [
      "hour\n",
      "23:49:46\n",
      "01:10:26\n",
      "date\n",
      "2022-05-07 00:00:00\n",
      "2021-05-03 00:00:00\n",
      "fluid_temp\n",
      "24.155\n",
      "14.38\n",
      "ground_temp\n",
      "23.97\n",
      "15.12\n",
      "air_umidity\n",
      "99.9\n",
      "46.7\n",
      "air_temp\n",
      "37.6\n",
      "9.5\n",
      "gas_umidity\n",
      "91.87\n",
      "5.0\n",
      "gas_temp\n",
      "49.45\n",
      "5.0\n",
      "dm3_gas\n",
      "10.0\n",
      "10.0\n",
      "bio_id\n",
      "1.5\n",
      "1.0\n",
      "phase_test\n",
      "3.0\n",
      "0.0\n",
      "Month\n",
      "12.0\n",
      "1.0\n",
      "Hour\n",
      "23.0\n",
      "1.0\n"
     ]
    }
   ],
   "source": [
    "for col in df_hour_max.columns:\n",
    "    print(col)\n",
    "    print(df_hour_max[col].max())\n",
    "    print(df_hour_max[col].min())"
   ]
  },
  {
   "cell_type": "code",
   "execution_count": 807,
   "id": "f2edae8d",
   "metadata": {},
   "outputs": [
    {
     "name": "stdout",
     "output_type": "stream",
     "text": [
      "hour\n",
      "23:49:46\n",
      "01:10:26\n",
      "date\n",
      "2022-05-07 00:00:00\n",
      "2021-05-03 00:00:00\n",
      "fluid_temp\n",
      "24.155\n",
      "14.38\n",
      "ground_temp\n",
      "23.97\n",
      "15.12\n",
      "air_umidity\n",
      "99.9\n",
      "46.7\n",
      "air_temp\n",
      "37.6\n",
      "9.5\n",
      "gas_umidity\n",
      "91.87\n",
      "5.0\n",
      "gas_temp\n",
      "49.45\n",
      "5.0\n",
      "dm3_gas\n",
      "10.0\n",
      "10.0\n",
      "bio_id\n",
      "1.5\n",
      "1.0\n",
      "phase_test\n",
      "3.0\n",
      "0.0\n",
      "Month\n",
      "12.0\n",
      "1.0\n",
      "Hour\n",
      "23.0\n",
      "1.0\n"
     ]
    }
   ],
   "source": [
    "for col in df_hour.columns:\n",
    "    print(col)\n",
    "    print(df_hour_max[col].max())\n",
    "    print(df_hour_max[col].min())"
   ]
  },
  {
   "cell_type": "markdown",
   "id": "23318025",
   "metadata": {},
   "source": [
    "## ******************************* MODEL 1 *************************"
   ]
  },
  {
   "cell_type": "code",
   "execution_count": 93,
   "id": "5f30c25a",
   "metadata": {},
   "outputs": [],
   "source": [
    "df = pd.read_csv(\"biogasdf_ready.csv\", parse_dates=['date'])\n",
    "df['Month'] = df['date'].dt.month\n",
    "df['Hour']= pd.to_datetime(df['hour'], format='%H:%M:%S').dt.hour"
   ]
  },
  {
   "cell_type": "code",
   "execution_count": 94,
   "id": "88b629e5",
   "metadata": {},
   "outputs": [],
   "source": [
    "df_hour = df.groupby('hour').mean().reset_index()"
   ]
  },
  {
   "cell_type": "code",
   "execution_count": 95,
   "id": "d22ad0e2",
   "metadata": {},
   "outputs": [],
   "source": [
    "df_hour = df_hour.drop(columns = [\"date\", \"hour\", 'bio_id', \"phase_test\", \"Month\"], axis=1)"
   ]
  },
  {
   "cell_type": "code",
   "execution_count": 96,
   "id": "11f871cb",
   "metadata": {},
   "outputs": [],
   "source": [
    "# imputing the null values using the mean of each variable to avoid -inf after logging the values \"np.log\"\n",
    "for col in df_hour.columns:\n",
    "    df_hour = df_hour.fillna(df_hour[col].mean())"
   ]
  },
  {
   "cell_type": "code",
   "execution_count": 97,
   "id": "ec7e9a26",
   "metadata": {},
   "outputs": [
    {
     "data": {
      "text/plain": [
       "fluid_temp     0\n",
       "ground_temp    0\n",
       "air_umidity    0\n",
       "air_temp       0\n",
       "gas_umidity    0\n",
       "gas_temp       0\n",
       "dm3_gas        0\n",
       "Hour           0\n",
       "dtype: int64"
      ]
     },
     "execution_count": 97,
     "metadata": {},
     "output_type": "execute_result"
    }
   ],
   "source": [
    "df_hour.isna().sum()"
   ]
  },
  {
   "cell_type": "code",
   "execution_count": 98,
   "id": "1f69a563",
   "metadata": {},
   "outputs": [
    {
     "data": {
      "text/plain": [
       "Index(['fluid_temp', 'ground_temp', 'air_umidity', 'air_temp', 'gas_umidity',\n",
       "       'gas_temp', 'dm3_gas', 'Hour'],\n",
       "      dtype='object')"
      ]
     },
     "execution_count": 98,
     "metadata": {},
     "output_type": "execute_result"
    }
   ],
   "source": [
    "df_hour.columns"
   ]
  },
  {
   "cell_type": "code",
   "execution_count": 99,
   "id": "6b71f609",
   "metadata": {},
   "outputs": [],
   "source": [
    "# get the positive values to avoid \"-inf\"\n",
    "\n",
    "df_hour_pos  = df_hour.loc[df_hour['fluid_temp'] > 0]\n",
    "df_hour_pos  = df_hour_pos.loc[df_hour_pos['ground_temp'] > 0]\n",
    "df_hour_pos  = df_hour_pos.loc[df_hour_pos['gas_temp'] > 0]"
   ]
  },
  {
   "cell_type": "code",
   "execution_count": 100,
   "id": "292326ba",
   "metadata": {
    "scrolled": true
   },
   "outputs": [
    {
     "data": {
      "text/plain": [
       "fluid_temp     0\n",
       "ground_temp    0\n",
       "air_umidity    0\n",
       "air_temp       0\n",
       "gas_umidity    0\n",
       "gas_temp       0\n",
       "dm3_gas        0\n",
       "Hour           0\n",
       "dtype: int64"
      ]
     },
     "execution_count": 100,
     "metadata": {},
     "output_type": "execute_result"
    }
   ],
   "source": [
    "# check for negative values\n",
    "(df_hour_pos<0).sum()"
   ]
  },
  {
   "cell_type": "code",
   "execution_count": 101,
   "id": "b276c44e",
   "metadata": {},
   "outputs": [],
   "source": [
    "X =df_hour_pos.drop(columns = ['dm3_gas'], axis=1)\n",
    "\n",
    "y = df_hour_pos['dm3_gas']"
   ]
  },
  {
   "cell_type": "code",
   "execution_count": 102,
   "id": "8ddfe706",
   "metadata": {},
   "outputs": [
    {
     "name": "stdout",
     "output_type": "stream",
     "text": [
      "<class 'pandas.core.frame.DataFrame'>\n",
      "RangeIndex: 20559 entries, 0 to 20558\n",
      "Data columns (total 8 columns):\n",
      " #   Column       Non-Null Count  Dtype  \n",
      "---  ------       --------------  -----  \n",
      " 0   fluid_temp   20559 non-null  float64\n",
      " 1   ground_temp  20559 non-null  float64\n",
      " 2   air_umidity  20559 non-null  float64\n",
      " 3   air_temp     20559 non-null  float64\n",
      " 4   gas_umidity  20559 non-null  float64\n",
      " 5   gas_temp     20559 non-null  float64\n",
      " 6   dm3_gas      20559 non-null  float64\n",
      " 7   Hour         20559 non-null  float64\n",
      "dtypes: float64(8)\n",
      "memory usage: 1.3 MB\n"
     ]
    }
   ],
   "source": [
    "df_hour.info()"
   ]
  },
  {
   "cell_type": "code",
   "execution_count": 103,
   "id": "d268ef1b",
   "metadata": {},
   "outputs": [
    {
     "name": "stdout",
     "output_type": "stream",
     "text": [
      "(19056, 7)\n",
      "fluid_temp     0\n",
      "ground_temp    0\n",
      "air_umidity    0\n",
      "air_temp       0\n",
      "gas_umidity    0\n",
      "gas_temp       0\n",
      "Hour           0\n",
      "dtype: int64\n"
     ]
    }
   ],
   "source": [
    "print(X.shape)\n",
    "print(X.isna().sum())"
   ]
  },
  {
   "cell_type": "code",
   "execution_count": 104,
   "id": "dd88f48c",
   "metadata": {},
   "outputs": [
    {
     "data": {
      "text/plain": [
       "((15244, 7), (3812, 7), (15244,), (3812,))"
      ]
     },
     "execution_count": 104,
     "metadata": {},
     "output_type": "execute_result"
    }
   ],
   "source": [
    "X_train, X_test,y_train,  y_test = train_test_split(X, y, test_size=0.2, random_state=42)\n",
    "X_train.shape, X_test.shape,  y_train.shape, y_test.shape"
   ]
  },
  {
   "cell_type": "code",
   "execution_count": 105,
   "id": "df5e55c5",
   "metadata": {},
   "outputs": [
    {
     "data": {
      "text/plain": [
       "fluid_temp     0\n",
       "ground_temp    0\n",
       "air_umidity    0\n",
       "air_temp       0\n",
       "gas_umidity    0\n",
       "gas_temp       0\n",
       "Hour           0\n",
       "dtype: int64"
      ]
     },
     "execution_count": 105,
     "metadata": {},
     "output_type": "execute_result"
    }
   ],
   "source": [
    "X_train.isna().sum()"
   ]
  },
  {
   "cell_type": "code",
   "execution_count": 106,
   "id": "b9a7b122",
   "metadata": {
    "scrolled": true
   },
   "outputs": [
    {
     "name": "stderr",
     "output_type": "stream",
     "text": [
      "C:\\Users\\bency\\anaconda3\\Lib\\site-packages\\pandas\\core\\internals\\blocks.py:329: RuntimeWarning: divide by zero encountered in log\n",
      "  result = func(self.values, **kwargs)\n"
     ]
    }
   ],
   "source": [
    "X_train_log = np.log(X_train)\n",
    "X_test_log = np.log(X_test)"
   ]
  },
  {
   "cell_type": "code",
   "execution_count": 107,
   "id": "005923d2",
   "metadata": {
    "scrolled": true
   },
   "outputs": [
    {
     "data": {
      "text/plain": [
       "fluid_temp     0\n",
       "ground_temp    0\n",
       "air_umidity    0\n",
       "air_temp       0\n",
       "gas_umidity    0\n",
       "gas_temp       0\n",
       "Hour           0\n",
       "dtype: int64"
      ]
     },
     "execution_count": 107,
     "metadata": {},
     "output_type": "execute_result"
    }
   ],
   "source": [
    "X_train_log.isna().sum()"
   ]
  },
  {
   "cell_type": "code",
   "execution_count": 108,
   "id": "dc6f600c",
   "metadata": {},
   "outputs": [],
   "source": [
    "X_train_log = X_train_log.replace(-np.inf, 0)\n",
    "X_test_log = X_test_log.replace(-np.inf, 0)"
   ]
  },
  {
   "cell_type": "code",
   "execution_count": 109,
   "id": "f074155a",
   "metadata": {
    "scrolled": false
   },
   "outputs": [
    {
     "data": {
      "text/html": [
       "<div>\n",
       "<style scoped>\n",
       "    .dataframe tbody tr th:only-of-type {\n",
       "        vertical-align: middle;\n",
       "    }\n",
       "\n",
       "    .dataframe tbody tr th {\n",
       "        vertical-align: top;\n",
       "    }\n",
       "\n",
       "    .dataframe thead th {\n",
       "        text-align: right;\n",
       "    }\n",
       "</style>\n",
       "<table border=\"1\" class=\"dataframe\">\n",
       "  <thead>\n",
       "    <tr style=\"text-align: right;\">\n",
       "      <th></th>\n",
       "      <th>fluid_temp</th>\n",
       "      <th>ground_temp</th>\n",
       "      <th>air_umidity</th>\n",
       "      <th>air_temp</th>\n",
       "      <th>gas_umidity</th>\n",
       "      <th>gas_temp</th>\n",
       "      <th>Hour</th>\n",
       "    </tr>\n",
       "  </thead>\n",
       "  <tbody>\n",
       "    <tr>\n",
       "      <th>2934</th>\n",
       "      <td>3.096708</td>\n",
       "      <td>3.086943</td>\n",
       "      <td>4.503137</td>\n",
       "      <td>3.063391</td>\n",
       "      <td>2.878393</td>\n",
       "      <td>2.878393</td>\n",
       "      <td>1.098612</td>\n",
       "    </tr>\n",
       "    <tr>\n",
       "      <th>17141</th>\n",
       "      <td>3.016515</td>\n",
       "      <td>2.969217</td>\n",
       "      <td>4.557030</td>\n",
       "      <td>2.875446</td>\n",
       "      <td>4.391482</td>\n",
       "      <td>2.803360</td>\n",
       "      <td>2.995732</td>\n",
       "    </tr>\n",
       "    <tr>\n",
       "      <th>5100</th>\n",
       "      <td>2.818398</td>\n",
       "      <td>2.740840</td>\n",
       "      <td>4.598146</td>\n",
       "      <td>2.484907</td>\n",
       "      <td>4.137723</td>\n",
       "      <td>2.824351</td>\n",
       "      <td>1.791759</td>\n",
       "    </tr>\n",
       "    <tr>\n",
       "      <th>5311</th>\n",
       "      <td>3.014227</td>\n",
       "      <td>2.992143</td>\n",
       "      <td>4.567468</td>\n",
       "      <td>2.701361</td>\n",
       "      <td>4.403421</td>\n",
       "      <td>2.498563</td>\n",
       "      <td>1.791759</td>\n",
       "    </tr>\n",
       "    <tr>\n",
       "      <th>1287</th>\n",
       "      <td>3.100993</td>\n",
       "      <td>3.089678</td>\n",
       "      <td>4.592085</td>\n",
       "      <td>2.873565</td>\n",
       "      <td>2.878393</td>\n",
       "      <td>2.878393</td>\n",
       "      <td>0.000000</td>\n",
       "    </tr>\n",
       "  </tbody>\n",
       "</table>\n",
       "</div>"
      ],
      "text/plain": [
       "       fluid_temp  ground_temp  air_umidity  air_temp  gas_umidity  gas_temp  \\\n",
       "2934     3.096708     3.086943     4.503137  3.063391     2.878393  2.878393   \n",
       "17141    3.016515     2.969217     4.557030  2.875446     4.391482  2.803360   \n",
       "5100     2.818398     2.740840     4.598146  2.484907     4.137723  2.824351   \n",
       "5311     3.014227     2.992143     4.567468  2.701361     4.403421  2.498563   \n",
       "1287     3.100993     3.089678     4.592085  2.873565     2.878393  2.878393   \n",
       "\n",
       "           Hour  \n",
       "2934   1.098612  \n",
       "17141  2.995732  \n",
       "5100   1.791759  \n",
       "5311   1.791759  \n",
       "1287   0.000000  "
      ]
     },
     "execution_count": 109,
     "metadata": {},
     "output_type": "execute_result"
    }
   ],
   "source": [
    "X_train_log.sample(5)"
   ]
  },
  {
   "cell_type": "markdown",
   "id": "57539576",
   "metadata": {},
   "source": [
    "### Models"
   ]
  },
  {
   "cell_type": "code",
   "execution_count": 110,
   "id": "af1732b5",
   "metadata": {},
   "outputs": [
    {
     "name": "stdout",
     "output_type": "stream",
     "text": [
      "RandomForestRegressor: 0.8009319129991339\n",
      "DecisionTreeRegressor: 0.08162123816927891\n",
      "Ridge: 0.03785150052809072\n",
      "Lasso: 0.0\n"
     ]
    }
   ],
   "source": [
    "# iteratng through several models to get the best performing one.\n",
    "\n",
    "models = {\n",
    "    \"RandomForestRegressor\": RandomForestRegressor(),\n",
    "    \"DecisionTreeRegressor\": DecisionTreeRegressor(max_depth=3, random_state=42),\n",
    "    \"Ridge\": Ridge(alpha=1),\n",
    "    \"Lasso\": Lasso(alpha=1)\n",
    "}\n",
    "\n",
    "for name, model in models.items():\n",
    "    model.fit(X_train_log, y_train)\n",
    "    print(f\"{name}: {model.score(X_train_log, y_train)}\")"
   ]
  },
  {
   "cell_type": "code",
   "execution_count": 111,
   "id": "f61111cd",
   "metadata": {},
   "outputs": [
    {
     "name": "stdout",
     "output_type": "stream",
     "text": [
      "0.0003753702761439411\n"
     ]
    }
   ],
   "source": [
    "rfr = RandomForestRegressor()\n",
    "rfr_model = rfr.fit(X_train_log, y_train)\n",
    "print(mean_absolute_error(rfr_model.predict(X_train_log), y_train))"
   ]
  },
  {
   "cell_type": "markdown",
   "id": "b39470c9",
   "metadata": {},
   "source": [
    "#### Save the model"
   ]
  },
  {
   "cell_type": "code",
   "execution_count": 112,
   "id": "ad6aef42",
   "metadata": {},
   "outputs": [],
   "source": [
    "import pickle\n",
    "with open('rfc_model2.pkl', 'wb') as f:\n",
    "    pickle.dump(rfr_model, f)"
   ]
  },
  {
   "cell_type": "code",
   "execution_count": 113,
   "id": "fdab5949",
   "metadata": {},
   "outputs": [
    {
     "data": {
      "text/plain": [
       "0.7999624798001775"
      ]
     },
     "execution_count": 113,
     "metadata": {},
     "output_type": "execute_result"
    }
   ],
   "source": [
    "rfr_model.score(X_train_log, y_train)"
   ]
  },
  {
   "cell_type": "code",
   "execution_count": 902,
   "id": "3b36f42b",
   "metadata": {},
   "outputs": [],
   "source": [
    "#predictng on the large dataset \"train dataset\"\n",
    "preds = rfr_model.predict(X_train_log)"
   ]
  },
  {
   "cell_type": "code",
   "execution_count": 903,
   "id": "91b00f50",
   "metadata": {},
   "outputs": [],
   "source": [
    "modelled = pd.DataFrame({'preds' : preds, \n",
    "                        'Hour' : X_train.Hour,\n",
    "                        'dm3' : y_train}\n",
    "                )"
   ]
  },
  {
   "cell_type": "code",
   "execution_count": 904,
   "id": "bd6b6388",
   "metadata": {},
   "outputs": [],
   "source": [
    "modelled_group = modelled.groupby('Hour').mean().reset_index()\n",
    "modelled_group.to_csv(\"modelled_group.csv\", index=False)"
   ]
  },
  {
   "cell_type": "code",
   "execution_count": 905,
   "id": "7555fdbb",
   "metadata": {},
   "outputs": [
    {
     "data": {
      "image/png": "[encoded data removed]",
      "text/plain": [
       "<Figure size 640x480 with 1 Axes>"
      ]
     },
     "metadata": {},
     "output_type": "display_data"
    }
   ],
   "source": [
    "# fitting best fit line\n",
    "slope1, intercept1 = np.polyfit(modelled_group.dm3, modelled_group.preds, 1)\n",
    "regression_line1 = slope1 * modelled_group.dm3 + intercept1\n",
    "\n",
    "\n",
    "plt.scatter(x=modelled_group.dm3, y = modelled_group.preds)\n",
    "plt.plot(modelled_group.dm3, regression_line1, color='red', label=\"actual Linear Regression Line\")\n",
    "plt.title(\"Predicted vs Actual values\")\n",
    "plt.xlabel(\"Actual dm3 values\")\n",
    "plt.ylabel(\"Predicted dm3 values\")\n",
    "plt.grid()\n",
    "plt.legend()\n",
    "plt.show()"
   ]
  },
  {
   "cell_type": "code",
   "execution_count": 906,
   "id": "cf78aa67",
   "metadata": {},
   "outputs": [
    {
     "data": {
      "image/png": "[encoded data removed]",
      "text/plain": [
       "<Figure size 1200x700 with 1 Axes>"
      ]
     },
     "metadata": {},
     "output_type": "display_data"
    }
   ],
   "source": [
    "#Visualization\n",
    "fig, ax = plt.subplots(figsize=(12,7))\n",
    "\n",
    "ax.plot(modelled_group.Hour, modelled_group.preds, label=\"preds\")\n",
    "ax.plot(modelled_group.Hour, modelled_group.dm3, label = \"actual\")\n",
    "ax.set_xticks(np.arange(0, 24, step=1))\n",
    "plt.show()"
   ]
  },
  {
   "cell_type": "code",
   "execution_count": 907,
   "id": "0450c853",
   "metadata": {},
   "outputs": [
    {
     "name": "stdout",
     "output_type": "stream",
     "text": [
      "bio id: \n"
     ]
    },
    {
     "ename": "ValueError",
     "evalue": "could not convert string to float: ''",
     "output_type": "error",
     "traceback": [
      "\u001b[1;31m---------------------------------------------------------------------------\u001b[0m",
      "\u001b[1;31mValueError\u001b[0m                                Traceback (most recent call last)",
      "Cell \u001b[1;32mIn[907], line 2\u001b[0m\n\u001b[0;32m      1\u001b[0m \u001b[38;5;66;03m# Key-in the inputs\u001b[39;00m\n\u001b[1;32m----> 2\u001b[0m bio_id \u001b[38;5;241m=\u001b[39m \u001b[38;5;28mfloat\u001b[39m(\u001b[38;5;28minput\u001b[39m(\u001b[38;5;124m\"\u001b[39m\u001b[38;5;124mbio id: \u001b[39m\u001b[38;5;124m\"\u001b[39m))\n\u001b[0;32m      3\u001b[0m phase_test \u001b[38;5;241m=\u001b[39m \u001b[38;5;28mfloat\u001b[39m(\u001b[38;5;28minput\u001b[39m(\u001b[38;5;124m\"\u001b[39m\u001b[38;5;124mphase test: \u001b[39m\u001b[38;5;124m\"\u001b[39m))\n\u001b[0;32m      4\u001b[0m Month \u001b[38;5;241m=\u001b[39m \u001b[38;5;28mfloat\u001b[39m(\u001b[38;5;28minput\u001b[39m(\u001b[38;5;124m\"\u001b[39m\u001b[38;5;124mMonth: \u001b[39m\u001b[38;5;124m\"\u001b[39m))\n",
      "\u001b[1;31mValueError\u001b[0m: could not convert string to float: ''"
     ]
    }
   ],
   "source": [
    "# Key-in the inputs\n",
    "# bio_id = float(input(\"bio id: \"))\n",
    "# phase_test = float(input(\"phase test: \"))\n",
    "# Month = float(input(\"Month: \"))\n",
    "Hour = float(input(\"hour: \"))\n",
    "gas_temp = float(input(\"Gas Temperatures: \"))\n",
    "air_umidity = float(input(\"air humidity\"))\n",
    "gas_umidity = float(input(\"gas humidity\"))\n",
    "air_temp = float(input(\"gair_temp\"))\n",
    "ground_temp = float(input(\"gground_temp\"))\n",
    "fluid_temp = float(input(\"fluid_temp\"))"
   ]
  },
  {
   "cell_type": "code",
   "execution_count": 908,
   "id": "9b268693",
   "metadata": {},
   "outputs": [],
   "source": [
    "inputs = pd.DataFrame({ \"fluid_temp\" : [fluid_temp], \"ground_temp\" : [ground_temp], \"air_umidity\":[air_umidity],  \"air_temp\"  : [air_temp],'gas_umidity' : [gas_umidity],  'gas_temp' : [gas_temp], \"Hour\" : [Hour], })"
   ]
  },
  {
   "cell_type": "code",
   "execution_count": 909,
   "id": "d0edc4b6",
   "metadata": {},
   "outputs": [
    {
     "data": {
      "text/html": [
       "<div>\n",
       "<style scoped>\n",
       "    .dataframe tbody tr th:only-of-type {\n",
       "        vertical-align: middle;\n",
       "    }\n",
       "\n",
       "    .dataframe tbody tr th {\n",
       "        vertical-align: top;\n",
       "    }\n",
       "\n",
       "    .dataframe thead th {\n",
       "        text-align: right;\n",
       "    }\n",
       "</style>\n",
       "<table border=\"1\" class=\"dataframe\">\n",
       "  <thead>\n",
       "    <tr style=\"text-align: right;\">\n",
       "      <th></th>\n",
       "      <th>fluid_temp</th>\n",
       "      <th>ground_temp</th>\n",
       "      <th>air_umidity</th>\n",
       "      <th>air_temp</th>\n",
       "      <th>gas_umidity</th>\n",
       "      <th>gas_temp</th>\n",
       "      <th>bio_id</th>\n",
       "      <th>phase_test</th>\n",
       "      <th>Month</th>\n",
       "      <th>Hour</th>\n",
       "    </tr>\n",
       "  </thead>\n",
       "  <tbody>\n",
       "    <tr>\n",
       "      <th>0</th>\n",
       "      <td>67.0</td>\n",
       "      <td>72.0</td>\n",
       "      <td>43.0</td>\n",
       "      <td>65.0</td>\n",
       "      <td>39.0</td>\n",
       "      <td>45.0</td>\n",
       "      <td>1.0</td>\n",
       "      <td>3.0</td>\n",
       "      <td>8.0</td>\n",
       "      <td>7.0</td>\n",
       "    </tr>\n",
       "  </tbody>\n",
       "</table>\n",
       "</div>"
      ],
      "text/plain": [
       "   fluid_temp  ground_temp  air_umidity  air_temp  gas_umidity  gas_temp  \\\n",
       "0        67.0         72.0         43.0      65.0         39.0      45.0   \n",
       "\n",
       "   bio_id  phase_test  Month  Hour  \n",
       "0     1.0         3.0    8.0   7.0  "
      ]
     },
     "execution_count": 909,
     "metadata": {},
     "output_type": "execute_result"
    }
   ],
   "source": [
    "inputs"
   ]
  },
  {
   "cell_type": "code",
   "execution_count": 910,
   "id": "d97c7f32",
   "metadata": {},
   "outputs": [],
   "source": [
    "inputs_log = np.log(inputs)"
   ]
  },
  {
   "cell_type": "code",
   "execution_count": 911,
   "id": "205708ec",
   "metadata": {},
   "outputs": [
    {
     "data": {
      "text/html": [
       "<div>\n",
       "<style scoped>\n",
       "    .dataframe tbody tr th:only-of-type {\n",
       "        vertical-align: middle;\n",
       "    }\n",
       "\n",
       "    .dataframe tbody tr th {\n",
       "        vertical-align: top;\n",
       "    }\n",
       "\n",
       "    .dataframe thead th {\n",
       "        text-align: right;\n",
       "    }\n",
       "</style>\n",
       "<table border=\"1\" class=\"dataframe\">\n",
       "  <thead>\n",
       "    <tr style=\"text-align: right;\">\n",
       "      <th></th>\n",
       "      <th>fluid_temp</th>\n",
       "      <th>ground_temp</th>\n",
       "      <th>air_umidity</th>\n",
       "      <th>air_temp</th>\n",
       "      <th>gas_umidity</th>\n",
       "      <th>gas_temp</th>\n",
       "      <th>bio_id</th>\n",
       "      <th>phase_test</th>\n",
       "      <th>Month</th>\n",
       "      <th>Hour</th>\n",
       "    </tr>\n",
       "  </thead>\n",
       "  <tbody>\n",
       "    <tr>\n",
       "      <th>0</th>\n",
       "      <td>4.204693</td>\n",
       "      <td>4.276666</td>\n",
       "      <td>3.7612</td>\n",
       "      <td>4.174387</td>\n",
       "      <td>3.663562</td>\n",
       "      <td>3.806662</td>\n",
       "      <td>0.0</td>\n",
       "      <td>1.098612</td>\n",
       "      <td>2.079442</td>\n",
       "      <td>1.94591</td>\n",
       "    </tr>\n",
       "  </tbody>\n",
       "</table>\n",
       "</div>"
      ],
      "text/plain": [
       "   fluid_temp  ground_temp  air_umidity  air_temp  gas_umidity  gas_temp  \\\n",
       "0    4.204693     4.276666       3.7612  4.174387     3.663562  3.806662   \n",
       "\n",
       "   bio_id  phase_test     Month     Hour  \n",
       "0     0.0    1.098612  2.079442  1.94591  "
      ]
     },
     "execution_count": 911,
     "metadata": {},
     "output_type": "execute_result"
    }
   ],
   "source": [
    "inputs_log"
   ]
  },
  {
   "cell_type": "code",
   "execution_count": 912,
   "id": "00e4338f",
   "metadata": {},
   "outputs": [],
   "source": [
    "#predictng on the large dataset \"train dataset\"\n",
    "pred1 = rfr_model.predict(inputs_log)"
   ]
  },
  {
   "cell_type": "code",
   "execution_count": 913,
   "id": "64ba39f9",
   "metadata": {},
   "outputs": [
    {
     "name": "stdout",
     "output_type": "stream",
     "text": [
      "0.00272\n"
     ]
    }
   ],
   "source": [
    "print(round(pred1[0],5))"
   ]
  },
  {
   "cell_type": "code",
   "execution_count": null,
   "id": "14ec15be",
   "metadata": {},
   "outputs": [],
   "source": []
  },
  {
   "cell_type": "code",
   "execution_count": null,
   "id": "30337b65",
   "metadata": {},
   "outputs": [],
   "source": []
  },
  {
   "cell_type": "markdown",
   "id": "0ca6b256",
   "metadata": {},
   "source": [
    "## Model 2"
   ]
  },
  {
   "cell_type": "code",
   "execution_count": 914,
   "id": "89ab29f4",
   "metadata": {},
   "outputs": [],
   "source": [
    "df = pd.read_csv(\"biogasdf_ready.csv\", parse_dates=['date'])\n",
    "df['Month'] = df['date'].dt.month\n",
    "df['Hour'] = pd.to_datetime(df['hour'], format='%H:%M:%S').dt.hour"
   ]
  },
  {
   "cell_type": "code",
   "execution_count": 915,
   "id": "bf4f8cb3",
   "metadata": {},
   "outputs": [],
   "source": [
    "df_hour = df.groupby('hour').mean().reset_index()"
   ]
  },
  {
   "cell_type": "code",
   "execution_count": 916,
   "id": "5ff6aeaf",
   "metadata": {},
   "outputs": [
    {
     "data": {
      "text/html": [
       "<div>\n",
       "<style scoped>\n",
       "    .dataframe tbody tr th:only-of-type {\n",
       "        vertical-align: middle;\n",
       "    }\n",
       "\n",
       "    .dataframe tbody tr th {\n",
       "        vertical-align: top;\n",
       "    }\n",
       "\n",
       "    .dataframe thead th {\n",
       "        text-align: right;\n",
       "    }\n",
       "</style>\n",
       "<table border=\"1\" class=\"dataframe\">\n",
       "  <thead>\n",
       "    <tr style=\"text-align: right;\">\n",
       "      <th></th>\n",
       "      <th>hour</th>\n",
       "      <th>date</th>\n",
       "      <th>fluid_temp</th>\n",
       "      <th>ground_temp</th>\n",
       "      <th>air_umidity</th>\n",
       "      <th>air_temp</th>\n",
       "      <th>gas_umidity</th>\n",
       "      <th>gas_temp</th>\n",
       "      <th>dm3_gas</th>\n",
       "      <th>bio_id</th>\n",
       "      <th>phase_test</th>\n",
       "      <th>Month</th>\n",
       "      <th>Hour</th>\n",
       "    </tr>\n",
       "  </thead>\n",
       "  <tbody>\n",
       "    <tr>\n",
       "      <th>0</th>\n",
       "      <td>00:00:00</td>\n",
       "      <td>2021-11-08 00:00:00</td>\n",
       "      <td>18.942500</td>\n",
       "      <td>-17.657500</td>\n",
       "      <td>94.35</td>\n",
       "      <td>15.300000</td>\n",
       "      <td>90.0925</td>\n",
       "      <td>14.8275</td>\n",
       "      <td>0.000</td>\n",
       "      <td>1.500000</td>\n",
       "      <td>1.000000</td>\n",
       "      <td>11.000000</td>\n",
       "      <td>0.0</td>\n",
       "    </tr>\n",
       "    <tr>\n",
       "      <th>1</th>\n",
       "      <td>00:00:02</td>\n",
       "      <td>2022-05-14 00:00:00</td>\n",
       "      <td>20.090000</td>\n",
       "      <td>18.905000</td>\n",
       "      <td>95.90</td>\n",
       "      <td>14.500000</td>\n",
       "      <td>0.0000</td>\n",
       "      <td>0.0000</td>\n",
       "      <td>0.000</td>\n",
       "      <td>1.500000</td>\n",
       "      <td>3.000000</td>\n",
       "      <td>5.000000</td>\n",
       "      <td>0.0</td>\n",
       "    </tr>\n",
       "    <tr>\n",
       "      <th>2</th>\n",
       "      <td>00:00:03</td>\n",
       "      <td>2022-01-04 08:00:00</td>\n",
       "      <td>21.563333</td>\n",
       "      <td>21.836667</td>\n",
       "      <td>99.50</td>\n",
       "      <td>15.366667</td>\n",
       "      <td>84.5800</td>\n",
       "      <td>16.4700</td>\n",
       "      <td>0.000</td>\n",
       "      <td>1.333333</td>\n",
       "      <td>0.666667</td>\n",
       "      <td>4.666667</td>\n",
       "      <td>0.0</td>\n",
       "    </tr>\n",
       "    <tr>\n",
       "      <th>3</th>\n",
       "      <td>00:00:08</td>\n",
       "      <td>2022-06-26 00:00:00</td>\n",
       "      <td>17.130000</td>\n",
       "      <td>15.785000</td>\n",
       "      <td>93.90</td>\n",
       "      <td>13.500000</td>\n",
       "      <td>0.0000</td>\n",
       "      <td>0.0000</td>\n",
       "      <td>0.005</td>\n",
       "      <td>1.500000</td>\n",
       "      <td>3.000000</td>\n",
       "      <td>6.000000</td>\n",
       "      <td>0.0</td>\n",
       "    </tr>\n",
       "    <tr>\n",
       "      <th>4</th>\n",
       "      <td>00:00:16</td>\n",
       "      <td>2021-12-21 00:00:00</td>\n",
       "      <td>22.440000</td>\n",
       "      <td>22.120000</td>\n",
       "      <td>91.60</td>\n",
       "      <td>17.400000</td>\n",
       "      <td>0.0000</td>\n",
       "      <td>0.0000</td>\n",
       "      <td>0.000</td>\n",
       "      <td>1.500000</td>\n",
       "      <td>1.000000</td>\n",
       "      <td>12.000000</td>\n",
       "      <td>0.0</td>\n",
       "    </tr>\n",
       "  </tbody>\n",
       "</table>\n",
       "</div>"
      ],
      "text/plain": [
       "       hour                date  fluid_temp  ground_temp  air_umidity  \\\n",
       "0  00:00:00 2021-11-08 00:00:00   18.942500   -17.657500        94.35   \n",
       "1  00:00:02 2022-05-14 00:00:00   20.090000    18.905000        95.90   \n",
       "2  00:00:03 2022-01-04 08:00:00   21.563333    21.836667        99.50   \n",
       "3  00:00:08 2022-06-26 00:00:00   17.130000    15.785000        93.90   \n",
       "4  00:00:16 2021-12-21 00:00:00   22.440000    22.120000        91.60   \n",
       "\n",
       "    air_temp  gas_umidity  gas_temp  dm3_gas    bio_id  phase_test      Month  \\\n",
       "0  15.300000      90.0925   14.8275    0.000  1.500000    1.000000  11.000000   \n",
       "1  14.500000       0.0000    0.0000    0.000  1.500000    3.000000   5.000000   \n",
       "2  15.366667      84.5800   16.4700    0.000  1.333333    0.666667   4.666667   \n",
       "3  13.500000       0.0000    0.0000    0.005  1.500000    3.000000   6.000000   \n",
       "4  17.400000       0.0000    0.0000    0.000  1.500000    1.000000  12.000000   \n",
       "\n",
       "   Hour  \n",
       "0   0.0  \n",
       "1   0.0  \n",
       "2   0.0  \n",
       "3   0.0  \n",
       "4   0.0  "
      ]
     },
     "execution_count": 916,
     "metadata": {},
     "output_type": "execute_result"
    }
   ],
   "source": [
    "df_hour = df_hour.fillna(0)\n",
    "df_hour.head()"
   ]
  },
  {
   "cell_type": "code",
   "execution_count": 917,
   "id": "0fe91ed9",
   "metadata": {},
   "outputs": [],
   "source": [
    "X_2 = df_hour[['fluid_temp', 'air_umidity']]\n",
    "y_2  = df_hour['dm3_gas']"
   ]
  },
  {
   "cell_type": "code",
   "execution_count": 918,
   "id": "08a5e4ba",
   "metadata": {},
   "outputs": [
    {
     "name": "stdout",
     "output_type": "stream",
     "text": [
      "(20559, 2)\n"
     ]
    },
    {
     "data": {
      "text/html": [
       "<div>\n",
       "<style scoped>\n",
       "    .dataframe tbody tr th:only-of-type {\n",
       "        vertical-align: middle;\n",
       "    }\n",
       "\n",
       "    .dataframe tbody tr th {\n",
       "        vertical-align: top;\n",
       "    }\n",
       "\n",
       "    .dataframe thead th {\n",
       "        text-align: right;\n",
       "    }\n",
       "</style>\n",
       "<table border=\"1\" class=\"dataframe\">\n",
       "  <thead>\n",
       "    <tr style=\"text-align: right;\">\n",
       "      <th></th>\n",
       "      <th>fluid_temp</th>\n",
       "      <th>air_umidity</th>\n",
       "    </tr>\n",
       "  </thead>\n",
       "  <tbody>\n",
       "    <tr>\n",
       "      <th>0</th>\n",
       "      <td>18.942500</td>\n",
       "      <td>94.35</td>\n",
       "    </tr>\n",
       "    <tr>\n",
       "      <th>1</th>\n",
       "      <td>20.090000</td>\n",
       "      <td>95.90</td>\n",
       "    </tr>\n",
       "    <tr>\n",
       "      <th>2</th>\n",
       "      <td>21.563333</td>\n",
       "      <td>99.50</td>\n",
       "    </tr>\n",
       "  </tbody>\n",
       "</table>\n",
       "</div>"
      ],
      "text/plain": [
       "   fluid_temp  air_umidity\n",
       "0   18.942500        94.35\n",
       "1   20.090000        95.90\n",
       "2   21.563333        99.50"
      ]
     },
     "execution_count": 918,
     "metadata": {},
     "output_type": "execute_result"
    }
   ],
   "source": [
    "print(X_2.shape)\n",
    "X_2.head(3)"
   ]
  },
  {
   "cell_type": "code",
   "execution_count": 919,
   "id": "9d117b91",
   "metadata": {},
   "outputs": [
    {
     "data": {
      "text/plain": [
       "(20559,)"
      ]
     },
     "execution_count": 919,
     "metadata": {},
     "output_type": "execute_result"
    }
   ],
   "source": [
    "y_2.shape"
   ]
  },
  {
   "cell_type": "code",
   "execution_count": 920,
   "id": "4e343556",
   "metadata": {},
   "outputs": [
    {
     "name": "stderr",
     "output_type": "stream",
     "text": [
      "C:\\Users\\bency\\anaconda3\\Lib\\site-packages\\pandas\\core\\internals\\blocks.py:329: RuntimeWarning: invalid value encountered in log\n",
      "  result = func(self.values, **kwargs)\n"
     ]
    }
   ],
   "source": [
    "X_2_log = np.log(X_2)"
   ]
  },
  {
   "cell_type": "code",
   "execution_count": 921,
   "id": "ddf5439c",
   "metadata": {},
   "outputs": [],
   "source": [
    "X_2_log = X_2_log.fillna(0)"
   ]
  },
  {
   "cell_type": "code",
   "execution_count": 922,
   "id": "569b30ab",
   "metadata": {},
   "outputs": [],
   "source": [
    "X_2_log = X_2_log.replace(-np.inf, 0)"
   ]
  },
  {
   "cell_type": "code",
   "execution_count": 923,
   "id": "05c56201",
   "metadata": {},
   "outputs": [
    {
     "name": "stdout",
     "output_type": "stream",
     "text": [
      "(20559, 2)\n"
     ]
    },
    {
     "data": {
      "text/html": [
       "<div>\n",
       "<style scoped>\n",
       "    .dataframe tbody tr th:only-of-type {\n",
       "        vertical-align: middle;\n",
       "    }\n",
       "\n",
       "    .dataframe tbody tr th {\n",
       "        vertical-align: top;\n",
       "    }\n",
       "\n",
       "    .dataframe thead th {\n",
       "        text-align: right;\n",
       "    }\n",
       "</style>\n",
       "<table border=\"1\" class=\"dataframe\">\n",
       "  <thead>\n",
       "    <tr style=\"text-align: right;\">\n",
       "      <th></th>\n",
       "      <th>fluid_temp</th>\n",
       "      <th>air_umidity</th>\n",
       "    </tr>\n",
       "  </thead>\n",
       "  <tbody>\n",
       "    <tr>\n",
       "      <th>0</th>\n",
       "      <td>2.941408</td>\n",
       "      <td>4.547011</td>\n",
       "    </tr>\n",
       "    <tr>\n",
       "      <th>1</th>\n",
       "      <td>3.000222</td>\n",
       "      <td>4.563306</td>\n",
       "    </tr>\n",
       "    <tr>\n",
       "      <th>2</th>\n",
       "      <td>3.070994</td>\n",
       "      <td>4.600158</td>\n",
       "    </tr>\n",
       "  </tbody>\n",
       "</table>\n",
       "</div>"
      ],
      "text/plain": [
       "   fluid_temp  air_umidity\n",
       "0    2.941408     4.547011\n",
       "1    3.000222     4.563306\n",
       "2    3.070994     4.600158"
      ]
     },
     "execution_count": 923,
     "metadata": {},
     "output_type": "execute_result"
    }
   ],
   "source": [
    "print(X_2_log.shape)\n",
    "X_2_log.head(3)"
   ]
  },
  {
   "cell_type": "code",
   "execution_count": 924,
   "id": "20bfad88",
   "metadata": {},
   "outputs": [
    {
     "data": {
      "text/plain": [
       "((14391, 2), (6168, 2), (14391,), (6168,))"
      ]
     },
     "execution_count": 924,
     "metadata": {},
     "output_type": "execute_result"
    }
   ],
   "source": [
    "X_train_2, X_test_2,y_train_2,  y_test_2 = train_test_split(X_2_log, y_2, test_size=0.3, random_state=42)\n",
    "X_train_2.shape, X_test_2.shape,  y_train_2.shape, y_test_2.shape"
   ]
  },
  {
   "cell_type": "code",
   "execution_count": 926,
   "id": "db65952e",
   "metadata": {},
   "outputs": [
    {
     "name": "stdout",
     "output_type": "stream",
     "text": [
      "RandomForestRegressor: 0.712448147172261\n",
      "DecisionTreeRegressor: 0.0726267077497258\n",
      "Ridge: 0.010070531789463266\n",
      "Lasso: 0.0\n"
     ]
    }
   ],
   "source": [
    "# iteratng through several models to get the best performing one.\n",
    "\n",
    "models = {\n",
    "    \"RandomForestRegressor\": RandomForestRegressor(),\n",
    "    \"DecisionTreeRegressor\": DecisionTreeRegressor(max_depth=3, random_state=42),\n",
    "    \"Ridge\": Ridge(alpha=1),\n",
    "    \"Lasso\": Lasso(alpha=1)\n",
    "}\n",
    "\n",
    "for name, model in models.items():\n",
    "    model.fit(X_train_2, y_train_2)\n",
    "    print(f\"{name}: {model.score(X_train_2, y_train_2)}\")"
   ]
  },
  {
   "cell_type": "code",
   "execution_count": 927,
   "id": "02ff519a",
   "metadata": {},
   "outputs": [
    {
     "name": "stdout",
     "output_type": "stream",
     "text": [
      "0.00040942104099811856\n"
     ]
    }
   ],
   "source": [
    "rfr = RandomForestRegressor()\n",
    "rfr_model = rfr.fit(X_train_2, y_train_2)\n",
    "print(mean_absolute_error(rfr_model.predict(X_train_2), y_train_2))"
   ]
  },
  {
   "cell_type": "markdown",
   "id": "35fc08d6",
   "metadata": {},
   "source": [
    "#### Saving the model"
   ]
  },
  {
   "cell_type": "code",
   "execution_count": 928,
   "id": "24459b5d",
   "metadata": {},
   "outputs": [],
   "source": [
    "import pickle\n",
    "with open('rfc_model3.pkl', 'wb') as f:\n",
    "    pickle.dump(rfr_model, f)"
   ]
  },
  {
   "cell_type": "code",
   "execution_count": 929,
   "id": "1f8beed6",
   "metadata": {},
   "outputs": [],
   "source": [
    "pred2 = rfr_model.predict(X_2_log)"
   ]
  },
  {
   "cell_type": "code",
   "execution_count": 930,
   "id": "b6106542",
   "metadata": {},
   "outputs": [],
   "source": [
    "modelled2 = pd.DataFrame({'pred2' : pred2, \n",
    "                        'Hour' : df_hour.Hour,\n",
    "                        'dm3' : y_2}\n",
    "                )"
   ]
  },
  {
   "cell_type": "code",
   "execution_count": 931,
   "id": "ca6a8ba3",
   "metadata": {},
   "outputs": [],
   "source": [
    "modelled2_group = modelled2.groupby('Hour').mean().reset_index()\n",
    "modelled2_group.to_csv(\"modelled2_group.csv\", index=False)"
   ]
  },
  {
   "cell_type": "code",
   "execution_count": 932,
   "id": "86d5c6bb",
   "metadata": {},
   "outputs": [
    {
     "data": {
      "image/png": "[encoded data removed]",
      "text/plain": [
       "<Figure size 640x480 with 1 Axes>"
      ]
     },
     "metadata": {},
     "output_type": "display_data"
    }
   ],
   "source": [
    "# fitting best fit line\n",
    "slope1, intercept1 = np.polyfit(modelled2_group.dm3, modelled2_group.pred2, 1)\n",
    "regression_line1 = slope1 * modelled2_group.dm3 + intercept1\n",
    "\n",
    "\n",
    "plt.scatter(x=modelled2_group.dm3, y = modelled2_group.pred2)\n",
    "plt.plot(modelled2_group.dm3, regression_line1, color='red', label=\"actual Linear Regression Line\")\n",
    "plt.title(\"Predicted vs Actual values\")\n",
    "plt.xlabel(\"Actual dm3 values\")\n",
    "plt.ylabel(\"Predicted dm3 values\")\n",
    "plt.grid()\n",
    "plt.legend()\n",
    "plt.show()"
   ]
  },
  {
   "cell_type": "code",
   "execution_count": 933,
   "id": "8d956eca",
   "metadata": {},
   "outputs": [
    {
     "data": {
      "image/png": "[encoded data removed]",
      "text/plain": [
       "<Figure size 1200x700 with 1 Axes>"
      ]
     },
     "metadata": {},
     "output_type": "display_data"
    }
   ],
   "source": [
    "#Visualization\n",
    "fig, ax = plt.subplots(figsize=(12,7))\n",
    "\n",
    "ax.plot(modelled2_group.Hour, modelled2_group.pred2, label=\"preds\")\n",
    "ax.plot(modelled2_group.Hour, modelled2_group.dm3, label = \"actual\")\n",
    "ax.set_xticks(np.arange(0, 24, step=1))\n",
    "plt.show()"
   ]
  },
  {
   "cell_type": "code",
   "execution_count": 934,
   "id": "b8efa3a1",
   "metadata": {},
   "outputs": [
    {
     "name": "stdout",
     "output_type": "stream",
     "text": [
      "Fluid_temperature: \n"
     ]
    },
    {
     "ename": "ValueError",
     "evalue": "could not convert string to float: ''",
     "output_type": "error",
     "traceback": [
      "\u001b[1;31m---------------------------------------------------------------------------\u001b[0m",
      "\u001b[1;31mValueError\u001b[0m                                Traceback (most recent call last)",
      "Cell \u001b[1;32mIn[934], line 1\u001b[0m\n\u001b[1;32m----> 1\u001b[0m fluid_temp \u001b[38;5;241m=\u001b[39m \u001b[38;5;28mfloat\u001b[39m(\u001b[38;5;28minput\u001b[39m(\u001b[38;5;124m\"\u001b[39m\u001b[38;5;124mFluid_temperature: \u001b[39m\u001b[38;5;124m\"\u001b[39m))\n\u001b[0;32m      2\u001b[0m air_umidity \u001b[38;5;241m=\u001b[39m \u001b[38;5;28mfloat\u001b[39m(\u001b[38;5;28minput\u001b[39m(\u001b[38;5;124m\"\u001b[39m\u001b[38;5;124mAir_umidity: \u001b[39m\u001b[38;5;124m\"\u001b[39m))\n",
      "\u001b[1;31mValueError\u001b[0m: could not convert string to float: ''"
     ]
    }
   ],
   "source": [
    "fluid_temp = float(input(\"Fluid_temperature: \"))\n",
    "air_umidity = float(input(\"Air_umidity: \"))"
   ]
  },
  {
   "cell_type": "code",
   "execution_count": 935,
   "id": "4dc5e8c0",
   "metadata": {},
   "outputs": [],
   "source": [
    "input2 = pd.DataFrame({\"fluid_temp\" : [fluid_temp], \"air_umidity\" : [air_umidity]})"
   ]
  },
  {
   "cell_type": "code",
   "execution_count": 936,
   "id": "316b6a16",
   "metadata": {},
   "outputs": [
    {
     "data": {
      "text/html": [
       "<div>\n",
       "<style scoped>\n",
       "    .dataframe tbody tr th:only-of-type {\n",
       "        vertical-align: middle;\n",
       "    }\n",
       "\n",
       "    .dataframe tbody tr th {\n",
       "        vertical-align: top;\n",
       "    }\n",
       "\n",
       "    .dataframe thead th {\n",
       "        text-align: right;\n",
       "    }\n",
       "</style>\n",
       "<table border=\"1\" class=\"dataframe\">\n",
       "  <thead>\n",
       "    <tr style=\"text-align: right;\">\n",
       "      <th></th>\n",
       "      <th>fluid_temp</th>\n",
       "      <th>air_umidity</th>\n",
       "    </tr>\n",
       "  </thead>\n",
       "  <tbody>\n",
       "    <tr>\n",
       "      <th>0</th>\n",
       "      <td>67.0</td>\n",
       "      <td>43.0</td>\n",
       "    </tr>\n",
       "  </tbody>\n",
       "</table>\n",
       "</div>"
      ],
      "text/plain": [
       "   fluid_temp  air_umidity\n",
       "0        67.0         43.0"
      ]
     },
     "execution_count": 936,
     "metadata": {},
     "output_type": "execute_result"
    }
   ],
   "source": [
    "input2"
   ]
  },
  {
   "cell_type": "code",
   "execution_count": 937,
   "id": "b185cd63",
   "metadata": {},
   "outputs": [],
   "source": [
    "input2_log = np.log(input2)"
   ]
  },
  {
   "cell_type": "code",
   "execution_count": 938,
   "id": "391fa5b3",
   "metadata": {},
   "outputs": [
    {
     "data": {
      "text/html": [
       "<div>\n",
       "<style scoped>\n",
       "    .dataframe tbody tr th:only-of-type {\n",
       "        vertical-align: middle;\n",
       "    }\n",
       "\n",
       "    .dataframe tbody tr th {\n",
       "        vertical-align: top;\n",
       "    }\n",
       "\n",
       "    .dataframe thead th {\n",
       "        text-align: right;\n",
       "    }\n",
       "</style>\n",
       "<table border=\"1\" class=\"dataframe\">\n",
       "  <thead>\n",
       "    <tr style=\"text-align: right;\">\n",
       "      <th></th>\n",
       "      <th>fluid_temp</th>\n",
       "      <th>air_umidity</th>\n",
       "    </tr>\n",
       "  </thead>\n",
       "  <tbody>\n",
       "    <tr>\n",
       "      <th>0</th>\n",
       "      <td>4.204693</td>\n",
       "      <td>3.7612</td>\n",
       "    </tr>\n",
       "  </tbody>\n",
       "</table>\n",
       "</div>"
      ],
      "text/plain": [
       "   fluid_temp  air_umidity\n",
       "0    4.204693       3.7612"
      ]
     },
     "execution_count": 938,
     "metadata": {},
     "output_type": "execute_result"
    }
   ],
   "source": [
    "input2_log"
   ]
  },
  {
   "cell_type": "code",
   "execution_count": 939,
   "id": "89d7d1e4",
   "metadata": {},
   "outputs": [],
   "source": [
    "sample2 = rfr_model.predict(input2_log)"
   ]
  },
  {
   "cell_type": "code",
   "execution_count": 940,
   "id": "f231ae14",
   "metadata": {},
   "outputs": [
    {
     "data": {
      "text/plain": [
       "0.00415"
      ]
     },
     "execution_count": 940,
     "metadata": {},
     "output_type": "execute_result"
    }
   ],
   "source": [
    "round(sample2[0], 5)"
   ]
  },
  {
   "cell_type": "code",
   "execution_count": null,
   "id": "6c10b73f",
   "metadata": {},
   "outputs": [],
   "source": [
    "*********      RIDGE              *******************************"
   ]
  },
  {
   "cell_type": "code",
   "execution_count": 850,
   "id": "6f75d2df",
   "metadata": {},
   "outputs": [],
   "source": [
    "from sklearn.linear_model import Ridge, Lasso"
   ]
  },
  {
   "cell_type": "code",
   "execution_count": 851,
   "id": "8f6363ec",
   "metadata": {},
   "outputs": [],
   "source": [
    "ridge = Ridge(alpha=1)\n",
    "lasso = Lasso(alpha=1)"
   ]
  },
  {
   "cell_type": "code",
   "execution_count": 855,
   "id": "156ce78a",
   "metadata": {},
   "outputs": [],
   "source": [
    "ridge = ridge.fit(X_train_2, y_train_2)\n",
    "lasso = lasso.fit(X_train_2, y_train_2)"
   ]
  },
  {
   "cell_type": "code",
   "execution_count": 856,
   "id": "ed9c8d7c",
   "metadata": {},
   "outputs": [],
   "source": [
    "y_pred_ridge = ridge.predict(X_test_2)\n",
    "y_pred_lasso = lasso.predict(X_test_2)"
   ]
  },
  {
   "cell_type": "code",
   "execution_count": 854,
   "id": "f4eaf0b6",
   "metadata": {},
   "outputs": [
    {
     "name": "stdout",
     "output_type": "stream",
     "text": [
      "Mean Squared Error (Ridge): 2.5741383567172064e-06\n",
      "Mean Squared Error (Lasso): 2.5967866012543833e-06\n"
     ]
    }
   ],
   "source": [
    "mse_ridge = mean_squared_error(y_test_2, y_pred_ridge)\n",
    "mse_lasso = mean_squared_error(y_test_2, y_pred_lasso)\n",
    "print(\"Mean Squared Error (Ridge):\", mse_ridge)\n",
    "print(\"Mean Squared Error (Lasso):\", mse_lasso)"
   ]
  },
  {
   "cell_type": "code",
   "execution_count": null,
   "id": "f52adccd",
   "metadata": {},
   "outputs": [],
   "source": []
  },
  {
   "cell_type": "markdown",
   "id": "e304898b",
   "metadata": {},
   "source": [
    "## Model 3"
   ]
  },
  {
   "cell_type": "code",
   "execution_count": 59,
   "id": "b0cfd824",
   "metadata": {},
   "outputs": [],
   "source": [
    "df = pd.read_csv(\"biogasdf_ready.csv\", parse_dates=['date'])\n",
    "df['Month'] = df['date'].dt.month\n",
    "df['Hour'] = pd.to_datetime(df['hour'], format='%H:%M:%S').dt.hour"
   ]
  },
  {
   "cell_type": "code",
   "execution_count": 60,
   "id": "445fbc5d",
   "metadata": {},
   "outputs": [],
   "source": [
    "df_hour = df.groupby('hour').mean().reset_index()"
   ]
  },
  {
   "cell_type": "code",
   "execution_count": 61,
   "id": "84bd1706",
   "metadata": {
    "scrolled": true
   },
   "outputs": [
    {
     "data": {
      "text/html": [
       "<div>\n",
       "<style scoped>\n",
       "    .dataframe tbody tr th:only-of-type {\n",
       "        vertical-align: middle;\n",
       "    }\n",
       "\n",
       "    .dataframe tbody tr th {\n",
       "        vertical-align: top;\n",
       "    }\n",
       "\n",
       "    .dataframe thead th {\n",
       "        text-align: right;\n",
       "    }\n",
       "</style>\n",
       "<table border=\"1\" class=\"dataframe\">\n",
       "  <thead>\n",
       "    <tr style=\"text-align: right;\">\n",
       "      <th></th>\n",
       "      <th>hour</th>\n",
       "      <th>date</th>\n",
       "      <th>fluid_temp</th>\n",
       "      <th>ground_temp</th>\n",
       "      <th>air_umidity</th>\n",
       "      <th>air_temp</th>\n",
       "      <th>gas_umidity</th>\n",
       "      <th>gas_temp</th>\n",
       "      <th>dm3_gas</th>\n",
       "      <th>bio_id</th>\n",
       "      <th>phase_test</th>\n",
       "      <th>Month</th>\n",
       "      <th>Hour</th>\n",
       "    </tr>\n",
       "  </thead>\n",
       "  <tbody>\n",
       "    <tr>\n",
       "      <th>0</th>\n",
       "      <td>00:00:00</td>\n",
       "      <td>2021-11-08 00:00:00</td>\n",
       "      <td>18.942500</td>\n",
       "      <td>-17.657500</td>\n",
       "      <td>94.35</td>\n",
       "      <td>15.300000</td>\n",
       "      <td>90.0925</td>\n",
       "      <td>14.8275</td>\n",
       "      <td>0.000</td>\n",
       "      <td>1.500000</td>\n",
       "      <td>1.000000</td>\n",
       "      <td>11.000000</td>\n",
       "      <td>0.0</td>\n",
       "    </tr>\n",
       "    <tr>\n",
       "      <th>1</th>\n",
       "      <td>00:00:02</td>\n",
       "      <td>2022-05-14 00:00:00</td>\n",
       "      <td>20.090000</td>\n",
       "      <td>18.905000</td>\n",
       "      <td>95.90</td>\n",
       "      <td>14.500000</td>\n",
       "      <td>0.0000</td>\n",
       "      <td>0.0000</td>\n",
       "      <td>0.000</td>\n",
       "      <td>1.500000</td>\n",
       "      <td>3.000000</td>\n",
       "      <td>5.000000</td>\n",
       "      <td>0.0</td>\n",
       "    </tr>\n",
       "    <tr>\n",
       "      <th>2</th>\n",
       "      <td>00:00:03</td>\n",
       "      <td>2022-01-04 08:00:00</td>\n",
       "      <td>21.563333</td>\n",
       "      <td>21.836667</td>\n",
       "      <td>99.50</td>\n",
       "      <td>15.366667</td>\n",
       "      <td>84.5800</td>\n",
       "      <td>16.4700</td>\n",
       "      <td>0.000</td>\n",
       "      <td>1.333333</td>\n",
       "      <td>0.666667</td>\n",
       "      <td>4.666667</td>\n",
       "      <td>0.0</td>\n",
       "    </tr>\n",
       "    <tr>\n",
       "      <th>3</th>\n",
       "      <td>00:00:08</td>\n",
       "      <td>2022-06-26 00:00:00</td>\n",
       "      <td>17.130000</td>\n",
       "      <td>15.785000</td>\n",
       "      <td>93.90</td>\n",
       "      <td>13.500000</td>\n",
       "      <td>0.0000</td>\n",
       "      <td>0.0000</td>\n",
       "      <td>0.005</td>\n",
       "      <td>1.500000</td>\n",
       "      <td>3.000000</td>\n",
       "      <td>6.000000</td>\n",
       "      <td>0.0</td>\n",
       "    </tr>\n",
       "    <tr>\n",
       "      <th>4</th>\n",
       "      <td>00:00:16</td>\n",
       "      <td>2021-12-21 00:00:00</td>\n",
       "      <td>22.440000</td>\n",
       "      <td>22.120000</td>\n",
       "      <td>91.60</td>\n",
       "      <td>17.400000</td>\n",
       "      <td>0.0000</td>\n",
       "      <td>0.0000</td>\n",
       "      <td>0.000</td>\n",
       "      <td>1.500000</td>\n",
       "      <td>1.000000</td>\n",
       "      <td>12.000000</td>\n",
       "      <td>0.0</td>\n",
       "    </tr>\n",
       "  </tbody>\n",
       "</table>\n",
       "</div>"
      ],
      "text/plain": [
       "       hour                date  fluid_temp  ground_temp  air_umidity  \\\n",
       "0  00:00:00 2021-11-08 00:00:00   18.942500   -17.657500        94.35   \n",
       "1  00:00:02 2022-05-14 00:00:00   20.090000    18.905000        95.90   \n",
       "2  00:00:03 2022-01-04 08:00:00   21.563333    21.836667        99.50   \n",
       "3  00:00:08 2022-06-26 00:00:00   17.130000    15.785000        93.90   \n",
       "4  00:00:16 2021-12-21 00:00:00   22.440000    22.120000        91.60   \n",
       "\n",
       "    air_temp  gas_umidity  gas_temp  dm3_gas    bio_id  phase_test      Month  \\\n",
       "0  15.300000      90.0925   14.8275    0.000  1.500000    1.000000  11.000000   \n",
       "1  14.500000       0.0000    0.0000    0.000  1.500000    3.000000   5.000000   \n",
       "2  15.366667      84.5800   16.4700    0.000  1.333333    0.666667   4.666667   \n",
       "3  13.500000       0.0000    0.0000    0.005  1.500000    3.000000   6.000000   \n",
       "4  17.400000       0.0000    0.0000    0.000  1.500000    1.000000  12.000000   \n",
       "\n",
       "   Hour  \n",
       "0   0.0  \n",
       "1   0.0  \n",
       "2   0.0  \n",
       "3   0.0  \n",
       "4   0.0  "
      ]
     },
     "execution_count": 61,
     "metadata": {},
     "output_type": "execute_result"
    }
   ],
   "source": [
    "df_hour = df_hour.fillna(0)\n",
    "df_hour.head()"
   ]
  },
  {
   "cell_type": "code",
   "execution_count": 92,
   "id": "59c26cad",
   "metadata": {},
   "outputs": [],
   "source": [
    "three_feat = df_hour[['fluid_temp', 'air_umidity', 'dm3_gas']]\n",
    "three_feat.to_csv(\"three_feat.csv\", index=False)"
   ]
  },
  {
   "cell_type": "code",
   "execution_count": 91,
   "id": "1ed7de5e",
   "metadata": {},
   "outputs": [
    {
     "data": {
      "text/html": [
       "<div>\n",
       "<style scoped>\n",
       "    .dataframe tbody tr th:only-of-type {\n",
       "        vertical-align: middle;\n",
       "    }\n",
       "\n",
       "    .dataframe tbody tr th {\n",
       "        vertical-align: top;\n",
       "    }\n",
       "\n",
       "    .dataframe thead th {\n",
       "        text-align: right;\n",
       "    }\n",
       "</style>\n",
       "<table border=\"1\" class=\"dataframe\">\n",
       "  <thead>\n",
       "    <tr style=\"text-align: right;\">\n",
       "      <th></th>\n",
       "      <th>fluid_temp</th>\n",
       "      <th>air_umidity</th>\n",
       "      <th>dm3_gas</th>\n",
       "    </tr>\n",
       "  </thead>\n",
       "  <tbody>\n",
       "    <tr>\n",
       "      <th>0</th>\n",
       "      <td>18.942500</td>\n",
       "      <td>94.35</td>\n",
       "      <td>0.000</td>\n",
       "    </tr>\n",
       "    <tr>\n",
       "      <th>1</th>\n",
       "      <td>20.090000</td>\n",
       "      <td>95.90</td>\n",
       "      <td>0.000</td>\n",
       "    </tr>\n",
       "    <tr>\n",
       "      <th>2</th>\n",
       "      <td>21.563333</td>\n",
       "      <td>99.50</td>\n",
       "      <td>0.000</td>\n",
       "    </tr>\n",
       "    <tr>\n",
       "      <th>3</th>\n",
       "      <td>17.130000</td>\n",
       "      <td>93.90</td>\n",
       "      <td>0.005</td>\n",
       "    </tr>\n",
       "    <tr>\n",
       "      <th>4</th>\n",
       "      <td>22.440000</td>\n",
       "      <td>91.60</td>\n",
       "      <td>0.000</td>\n",
       "    </tr>\n",
       "  </tbody>\n",
       "</table>\n",
       "</div>"
      ],
      "text/plain": [
       "   fluid_temp  air_umidity  dm3_gas\n",
       "0   18.942500        94.35    0.000\n",
       "1   20.090000        95.90    0.000\n",
       "2   21.563333        99.50    0.000\n",
       "3   17.130000        93.90    0.005\n",
       "4   22.440000        91.60    0.000"
      ]
     },
     "execution_count": 91,
     "metadata": {},
     "output_type": "execute_result"
    }
   ],
   "source": [
    "three_feat.head()"
   ]
  },
  {
   "cell_type": "code",
   "execution_count": 62,
   "id": "306bc4ff",
   "metadata": {},
   "outputs": [],
   "source": [
    "\n",
    "y_3 = df_hour[['fluid_temp', 'air_umidity']]\n",
    "X_3  = df_hour[['dm3_gas']]"
   ]
  },
  {
   "cell_type": "code",
   "execution_count": 63,
   "id": "26d5053d",
   "metadata": {},
   "outputs": [
    {
     "data": {
      "text/html": [
       "<div>\n",
       "<style scoped>\n",
       "    .dataframe tbody tr th:only-of-type {\n",
       "        vertical-align: middle;\n",
       "    }\n",
       "\n",
       "    .dataframe tbody tr th {\n",
       "        vertical-align: top;\n",
       "    }\n",
       "\n",
       "    .dataframe thead th {\n",
       "        text-align: right;\n",
       "    }\n",
       "</style>\n",
       "<table border=\"1\" class=\"dataframe\">\n",
       "  <thead>\n",
       "    <tr style=\"text-align: right;\">\n",
       "      <th></th>\n",
       "      <th>fluid_temp</th>\n",
       "      <th>air_umidity</th>\n",
       "    </tr>\n",
       "  </thead>\n",
       "  <tbody>\n",
       "    <tr>\n",
       "      <th>0</th>\n",
       "      <td>18.942500</td>\n",
       "      <td>94.35</td>\n",
       "    </tr>\n",
       "    <tr>\n",
       "      <th>1</th>\n",
       "      <td>20.090000</td>\n",
       "      <td>95.90</td>\n",
       "    </tr>\n",
       "    <tr>\n",
       "      <th>2</th>\n",
       "      <td>21.563333</td>\n",
       "      <td>99.50</td>\n",
       "    </tr>\n",
       "    <tr>\n",
       "      <th>3</th>\n",
       "      <td>17.130000</td>\n",
       "      <td>93.90</td>\n",
       "    </tr>\n",
       "    <tr>\n",
       "      <th>4</th>\n",
       "      <td>22.440000</td>\n",
       "      <td>91.60</td>\n",
       "    </tr>\n",
       "    <tr>\n",
       "      <th>...</th>\n",
       "      <td>...</td>\n",
       "      <td>...</td>\n",
       "    </tr>\n",
       "    <tr>\n",
       "      <th>20554</th>\n",
       "      <td>14.940000</td>\n",
       "      <td>93.60</td>\n",
       "    </tr>\n",
       "    <tr>\n",
       "      <th>20555</th>\n",
       "      <td>14.940000</td>\n",
       "      <td>94.00</td>\n",
       "    </tr>\n",
       "    <tr>\n",
       "      <th>20556</th>\n",
       "      <td>15.000000</td>\n",
       "      <td>94.50</td>\n",
       "    </tr>\n",
       "    <tr>\n",
       "      <th>20557</th>\n",
       "      <td>19.440000</td>\n",
       "      <td>93.40</td>\n",
       "    </tr>\n",
       "    <tr>\n",
       "      <th>20558</th>\n",
       "      <td>15.440000</td>\n",
       "      <td>93.50</td>\n",
       "    </tr>\n",
       "  </tbody>\n",
       "</table>\n",
       "<p>20559 rows × 2 columns</p>\n",
       "</div>"
      ],
      "text/plain": [
       "       fluid_temp  air_umidity\n",
       "0       18.942500        94.35\n",
       "1       20.090000        95.90\n",
       "2       21.563333        99.50\n",
       "3       17.130000        93.90\n",
       "4       22.440000        91.60\n",
       "...           ...          ...\n",
       "20554   14.940000        93.60\n",
       "20555   14.940000        94.00\n",
       "20556   15.000000        94.50\n",
       "20557   19.440000        93.40\n",
       "20558   15.440000        93.50\n",
       "\n",
       "[20559 rows x 2 columns]"
      ]
     },
     "execution_count": 63,
     "metadata": {},
     "output_type": "execute_result"
    }
   ],
   "source": [
    "y_3"
   ]
  },
  {
   "cell_type": "code",
   "execution_count": 64,
   "id": "6b76f188",
   "metadata": {},
   "outputs": [
    {
     "data": {
      "text/plain": [
       "dm3_gas \n",
       "0.000000    18040\n",
       "0.005000     1756\n",
       "0.002500      376\n",
       "0.003333      149\n",
       "0.010000      117\n",
       "0.001667       51\n",
       "0.002000       30\n",
       "0.006667       13\n",
       "0.004000        9\n",
       "0.001429        7\n",
       "0.001250        6\n",
       "0.007500        2\n",
       "0.001000        1\n",
       "0.001111        1\n",
       "0.003750        1\n",
       "Name: count, dtype: int64"
      ]
     },
     "execution_count": 64,
     "metadata": {},
     "output_type": "execute_result"
    }
   ],
   "source": [
    "X_3.value_counts()"
   ]
  },
  {
   "cell_type": "markdown",
   "id": "d2513bb9",
   "metadata": {},
   "source": [
    "### Using Random Forest to predict 2-variables"
   ]
  },
  {
   "cell_type": "markdown",
   "id": "29598e7d",
   "metadata": {},
   "source": [
    "#### RandomForest for reverse item"
   ]
  },
  {
   "cell_type": "code",
   "execution_count": 86,
   "id": "5e84989e",
   "metadata": {},
   "outputs": [
    {
     "data": {
      "text/html": [
       "<style>#sk-container-id-1 {color: black;}#sk-container-id-1 pre{padding: 0;}#sk-container-id-1 div.sk-toggleable {background-color: white;}#sk-container-id-1 label.sk-toggleable__label {cursor: pointer;display: block;width: 100%;margin-bottom: 0;padding: 0.3em;box-sizing: border-box;text-align: center;}#sk-container-id-1 label.sk-toggleable__label-arrow:before {content: \"▸\";float: left;margin-right: 0.25em;color: #696969;}#sk-container-id-1 label.sk-toggleable__label-arrow:hover:before {color: black;}#sk-container-id-1 div.sk-estimator:hover label.sk-toggleable__label-arrow:before {color: black;}#sk-container-id-1 div.sk-toggleable__content {max-height: 0;max-width: 0;overflow: hidden;text-align: left;background-color: #f0f8ff;}#sk-container-id-1 div.sk-toggleable__content pre {margin: 0.2em;color: black;border-radius: 0.25em;background-color: #f0f8ff;}#sk-container-id-1 input.sk-toggleable__control:checked~div.sk-toggleable__content {max-height: 200px;max-width: 100%;overflow: auto;}#sk-container-id-1 input.sk-toggleable__control:checked~label.sk-toggleable__label-arrow:before {content: \"▾\";}#sk-container-id-1 div.sk-estimator input.sk-toggleable__control:checked~label.sk-toggleable__label {background-color: #d4ebff;}#sk-container-id-1 div.sk-label input.sk-toggleable__control:checked~label.sk-toggleable__label {background-color: #d4ebff;}#sk-container-id-1 input.sk-hidden--visually {border: 0;clip: rect(1px 1px 1px 1px);clip: rect(1px, 1px, 1px, 1px);height: 1px;margin: -1px;overflow: hidden;padding: 0;position: absolute;width: 1px;}#sk-container-id-1 div.sk-estimator {font-family: monospace;background-color: #f0f8ff;border: 1px dotted black;border-radius: 0.25em;box-sizing: border-box;margin-bottom: 0.5em;}#sk-container-id-1 div.sk-estimator:hover {background-color: #d4ebff;}#sk-container-id-1 div.sk-parallel-item::after {content: \"\";width: 100%;border-bottom: 1px solid gray;flex-grow: 1;}#sk-container-id-1 div.sk-label:hover label.sk-toggleable__label {background-color: #d4ebff;}#sk-container-id-1 div.sk-serial::before {content: \"\";position: absolute;border-left: 1px solid gray;box-sizing: border-box;top: 0;bottom: 0;left: 50%;z-index: 0;}#sk-container-id-1 div.sk-serial {display: flex;flex-direction: column;align-items: center;background-color: white;padding-right: 0.2em;padding-left: 0.2em;position: relative;}#sk-container-id-1 div.sk-item {position: relative;z-index: 1;}#sk-container-id-1 div.sk-parallel {display: flex;align-items: stretch;justify-content: center;background-color: white;position: relative;}#sk-container-id-1 div.sk-item::before, #sk-container-id-1 div.sk-parallel-item::before {content: \"\";position: absolute;border-left: 1px solid gray;box-sizing: border-box;top: 0;bottom: 0;left: 50%;z-index: -1;}#sk-container-id-1 div.sk-parallel-item {display: flex;flex-direction: column;z-index: 1;position: relative;background-color: white;}#sk-container-id-1 div.sk-parallel-item:first-child::after {align-self: flex-end;width: 50%;}#sk-container-id-1 div.sk-parallel-item:last-child::after {align-self: flex-start;width: 50%;}#sk-container-id-1 div.sk-parallel-item:only-child::after {width: 0;}#sk-container-id-1 div.sk-dashed-wrapped {border: 1px dashed gray;margin: 0 0.4em 0.5em 0.4em;box-sizing: border-box;padding-bottom: 0.4em;background-color: white;}#sk-container-id-1 div.sk-label label {font-family: monospace;font-weight: bold;display: inline-block;line-height: 1.2em;}#sk-container-id-1 div.sk-label-container {text-align: center;}#sk-container-id-1 div.sk-container {/* jupyter's `normalize.less` sets `[hidden] { display: none; }` but bootstrap.min.css set `[hidden] { display: none !important; }` so we also need the `!important` here to be able to override the default hidden behavior on the sphinx rendered scikit-learn.org. See: https://github.com/scikit-learn/scikit-learn/issues/21755 */display: inline-block !important;position: relative;}#sk-container-id-1 div.sk-text-repr-fallback {display: none;}</style><div id=\"sk-container-id-1\" class=\"sk-top-container\"><div class=\"sk-text-repr-fallback\"><pre>RandomForestRegressor()</pre><b>In a Jupyter environment, please rerun this cell to show the HTML representation or trust the notebook. <br />On GitHub, the HTML representation is unable to render, please try loading this page with nbviewer.org.</b></div><div class=\"sk-container\" hidden><div class=\"sk-item\"><div class=\"sk-estimator sk-toggleable\"><input class=\"sk-toggleable__control sk-hidden--visually\" id=\"sk-estimator-id-1\" type=\"checkbox\" checked><label for=\"sk-estimator-id-1\" class=\"sk-toggleable__label sk-toggleable__label-arrow\">RandomForestRegressor</label><div class=\"sk-toggleable__content\"><pre>RandomForestRegressor()</pre></div></div></div></div></div>"
      ],
      "text/plain": [
       "RandomForestRegressor()"
      ]
     },
     "execution_count": 86,
     "metadata": {},
     "output_type": "execute_result"
    }
   ],
   "source": [
    "# Split into training and testing sets\n",
    "X_train, X_test, y_train, y_test = train_test_split(X_3, y_3, test_size=0.2, random_state=42)\n",
    "\n",
    "# Train the linear regression model\n",
    "model_r = RandomForestRegressor()\n",
    "model_r.fit(X_train, y_train)\n",
    "\n",
    "# Predict temp and humidity for a given dm3_gas value\n"
   ]
  },
  {
   "cell_type": "code",
   "execution_count": 89,
   "id": "242b61cb",
   "metadata": {},
   "outputs": [
    {
     "name": "stdout",
     "output_type": "stream",
     "text": [
      "Predicted temp and humidity: [[22.72660724 84.22445111]]\n"
     ]
    },
    {
     "name": "stderr",
     "output_type": "stream",
     "text": [
      "C:\\Users\\bency\\anaconda3\\Lib\\site-packages\\sklearn\\base.py:464: UserWarning: X does not have valid feature names, but RandomForestRegressor was fitted with feature names\n",
      "  warnings.warn(\n"
     ]
    }
   ],
   "source": [
    "dm3_gas_input = 2.0  # Example dm3_gas value\n",
    "predicted_values = model_r.predict([[dm3_gas_input]])\n",
    "print(\"Predicted temp and humidity:\", predicted_values)"
   ]
  },
  {
   "cell_type": "code",
   "execution_count": 79,
   "id": "e831b5b8",
   "metadata": {},
   "outputs": [],
   "source": [
    "import pickle\n",
    "with open('model_r.pkl', 'wb') as f:\n",
    "    pickle.dump(model_r, f)"
   ]
  },
  {
   "cell_type": "code",
   "execution_count": 83,
   "id": "07b76f55",
   "metadata": {
    "scrolled": true
   },
   "outputs": [
    {
     "name": "stdout",
     "output_type": "stream",
     "text": [
      "Predicted temp and humidity: [[22.69044116 84.35820277]]\n"
     ]
    },
    {
     "name": "stderr",
     "output_type": "stream",
     "text": [
      "C:\\Users\\bency\\anaconda3\\Lib\\site-packages\\sklearn\\base.py:464: UserWarning: X does not have valid feature names, but RandomForestRegressor was fitted with feature names\n",
      "  warnings.warn(\n"
     ]
    }
   ],
   "source": [
    "predicted_values = model_r.predict([[5]])\n",
    "print(\"Predicted temp and humidity:\", predicted_values)"
   ]
  },
  {
   "cell_type": "code",
   "execution_count": 84,
   "id": "7cf27779",
   "metadata": {},
   "outputs": [],
   "source": [
    "df = pd.DataFrame(predicted_values, columns=['Fluid_Temp', 'Air_humidity'])"
   ]
  },
  {
   "cell_type": "code",
   "execution_count": 85,
   "id": "1afdfa35",
   "metadata": {},
   "outputs": [
    {
     "data": {
      "text/html": [
       "<div>\n",
       "<style scoped>\n",
       "    .dataframe tbody tr th:only-of-type {\n",
       "        vertical-align: middle;\n",
       "    }\n",
       "\n",
       "    .dataframe tbody tr th {\n",
       "        vertical-align: top;\n",
       "    }\n",
       "\n",
       "    .dataframe thead th {\n",
       "        text-align: right;\n",
       "    }\n",
       "</style>\n",
       "<table border=\"1\" class=\"dataframe\">\n",
       "  <thead>\n",
       "    <tr style=\"text-align: right;\">\n",
       "      <th></th>\n",
       "      <th>Fluid_Temp</th>\n",
       "      <th>Air_humidity</th>\n",
       "    </tr>\n",
       "  </thead>\n",
       "  <tbody>\n",
       "    <tr>\n",
       "      <th>0</th>\n",
       "      <td>22.690441</td>\n",
       "      <td>84.358203</td>\n",
       "    </tr>\n",
       "  </tbody>\n",
       "</table>\n",
       "</div>"
      ],
      "text/plain": [
       "   Fluid_Temp  Air_humidity\n",
       "0   22.690441     84.358203"
      ]
     },
     "execution_count": 85,
     "metadata": {},
     "output_type": "execute_result"
    }
   ],
   "source": [
    "df"
   ]
  },
  {
   "cell_type": "code",
   "execution_count": 36,
   "id": "d57261ce",
   "metadata": {},
   "outputs": [
    {
     "data": {
      "text/plain": [
       "0.00644538425123764"
      ]
     },
     "execution_count": 36,
     "metadata": {},
     "output_type": "execute_result"
    }
   ],
   "source": [
    "model_r.score(X_train, y_train)"
   ]
  },
  {
   "cell_type": "markdown",
   "id": "946a20fb",
   "metadata": {},
   "source": [
    "## Artiicial Neural Networks"
   ]
  },
  {
   "cell_type": "code",
   "execution_count": null,
   "id": "118f3d90",
   "metadata": {},
   "outputs": [],
   "source": []
  },
  {
   "cell_type": "code",
   "execution_count": null,
   "id": "c370d327",
   "metadata": {},
   "outputs": [],
   "source": [
    "df = pd.read_csv(\"biogasdf_ready.csv\", parse_dates=['date'])\n",
    "df['Month'] = df['date'].dt.month\n",
    "df['Hour'] = pd.to_datetime(df['hour'], format='%H:%M:%S').dt.hour"
   ]
  },
  {
   "cell_type": "code",
   "execution_count": null,
   "id": "b35ee29f",
   "metadata": {},
   "outputs": [],
   "source": [
    "df_hour = df.groupby('hour').mean().reset_index()"
   ]
  },
  {
   "cell_type": "code",
   "execution_count": 38,
   "id": "6b34a2f1",
   "metadata": {},
   "outputs": [
    {
     "name": "stdout",
     "output_type": "stream",
     "text": [
      "Epoch 1/50\n",
      "463/463 [==============================] - 3s 3ms/step - loss: 0.0019 - val_loss: 2.4817e-04\n",
      "Epoch 2/50\n",
      "463/463 [==============================] - 1s 2ms/step - loss: 1.6805e-04 - val_loss: 1.1985e-04\n",
      "Epoch 3/50\n",
      "463/463 [==============================] - 1s 3ms/step - loss: 9.6468e-05 - val_loss: 7.5559e-05\n",
      "Epoch 4/50\n",
      "463/463 [==============================] - 1s 2ms/step - loss: 6.8681e-05 - val_loss: 7.3697e-05\n",
      "Epoch 5/50\n",
      "463/463 [==============================] - 1s 3ms/step - loss: 5.2967e-05 - val_loss: 6.0519e-05\n",
      "Epoch 6/50\n",
      "463/463 [==============================] - 1s 2ms/step - loss: 4.6711e-05 - val_loss: 3.8216e-05\n",
      "Epoch 7/50\n",
      "463/463 [==============================] - 1s 3ms/step - loss: 4.1325e-05 - val_loss: 4.4496e-05\n",
      "Epoch 8/50\n",
      "463/463 [==============================] - 1s 3ms/step - loss: 5.7059e-05 - val_loss: 2.7890e-05\n",
      "Epoch 9/50\n",
      "463/463 [==============================] - 1s 3ms/step - loss: 2.7608e-05 - val_loss: 2.2081e-05\n",
      "Epoch 10/50\n",
      "463/463 [==============================] - 1s 3ms/step - loss: 2.8090e-05 - val_loss: 2.1248e-05\n",
      "Epoch 11/50\n",
      "463/463 [==============================] - 1s 3ms/step - loss: 2.0569e-05 - val_loss: 2.5179e-05\n",
      "Epoch 12/50\n",
      "463/463 [==============================] - 1s 3ms/step - loss: 2.7173e-05 - val_loss: 1.5563e-05\n",
      "Epoch 13/50\n",
      "463/463 [==============================] - 1s 3ms/step - loss: 1.7105e-05 - val_loss: 1.2155e-05\n",
      "Epoch 14/50\n",
      "463/463 [==============================] - 1s 3ms/step - loss: 2.0701e-05 - val_loss: 9.0508e-06\n",
      "Epoch 15/50\n",
      "463/463 [==============================] - 1s 3ms/step - loss: 9.0877e-06 - val_loss: 8.8489e-06\n",
      "Epoch 16/50\n",
      "463/463 [==============================] - 1s 3ms/step - loss: 9.1691e-06 - val_loss: 8.9596e-06\n",
      "Epoch 17/50\n",
      "463/463 [==============================] - 1s 3ms/step - loss: 1.0233e-05 - val_loss: 5.5934e-06\n",
      "Epoch 18/50\n",
      "463/463 [==============================] - 1s 3ms/step - loss: 7.3983e-06 - val_loss: 7.5064e-06\n",
      "Epoch 19/50\n",
      "463/463 [==============================] - 1s 3ms/step - loss: 7.5496e-06 - val_loss: 1.0116e-05\n",
      "Epoch 20/50\n",
      "463/463 [==============================] - 1s 3ms/step - loss: 6.1240e-06 - val_loss: 4.0073e-06\n",
      "Epoch 21/50\n",
      "463/463 [==============================] - 2s 4ms/step - loss: 5.3198e-06 - val_loss: 6.8968e-06\n",
      "Epoch 22/50\n",
      "463/463 [==============================] - 1s 3ms/step - loss: 4.8381e-06 - val_loss: 4.5664e-06\n",
      "Epoch 23/50\n",
      "463/463 [==============================] - 1s 3ms/step - loss: 5.0703e-06 - val_loss: 4.0842e-06\n",
      "Epoch 24/50\n",
      "463/463 [==============================] - 1s 3ms/step - loss: 3.6444e-06 - val_loss: 3.0723e-06\n",
      "Epoch 25/50\n",
      "463/463 [==============================] - 1s 3ms/step - loss: 3.6765e-06 - val_loss: 2.5484e-06\n",
      "Epoch 26/50\n",
      "463/463 [==============================] - 1s 3ms/step - loss: 3.0315e-06 - val_loss: 3.1356e-06\n",
      "Epoch 27/50\n",
      "463/463 [==============================] - 1s 3ms/step - loss: 2.9577e-06 - val_loss: 2.4883e-06\n",
      "Epoch 28/50\n",
      "463/463 [==============================] - 1s 3ms/step - loss: 2.9165e-06 - val_loss: 2.3380e-06\n",
      "Epoch 29/50\n",
      "463/463 [==============================] - 1s 3ms/step - loss: 2.7253e-06 - val_loss: 3.5203e-06\n",
      "Epoch 30/50\n",
      "463/463 [==============================] - 1s 3ms/step - loss: 2.6692e-06 - val_loss: 2.5568e-06\n",
      "Epoch 31/50\n",
      "463/463 [==============================] - 1s 3ms/step - loss: 2.5901e-06 - val_loss: 2.4131e-06\n",
      "Epoch 32/50\n",
      "463/463 [==============================] - 1s 3ms/step - loss: 2.5277e-06 - val_loss: 2.2914e-06\n",
      "Epoch 33/50\n",
      "463/463 [==============================] - 1s 3ms/step - loss: 2.5742e-06 - val_loss: 2.5241e-06\n",
      "Epoch 34/50\n",
      "463/463 [==============================] - 1s 3ms/step - loss: 2.4777e-06 - val_loss: 2.1903e-06\n",
      "Epoch 35/50\n",
      "463/463 [==============================] - 1s 3ms/step - loss: 2.4708e-06 - val_loss: 2.0680e-06\n",
      "Epoch 36/50\n",
      "463/463 [==============================] - 1s 3ms/step - loss: 2.4723e-06 - val_loss: 2.0483e-06\n",
      "Epoch 37/50\n",
      "463/463 [==============================] - 1s 3ms/step - loss: 2.4809e-06 - val_loss: 1.9753e-06\n",
      "Epoch 38/50\n",
      "463/463 [==============================] - 1s 3ms/step - loss: 2.4722e-06 - val_loss: 2.1324e-06\n",
      "Epoch 39/50\n",
      "463/463 [==============================] - 1s 3ms/step - loss: 2.4480e-06 - val_loss: 1.9989e-06\n",
      "Epoch 40/50\n",
      "463/463 [==============================] - 1s 3ms/step - loss: 2.4665e-06 - val_loss: 2.2560e-06\n",
      "Epoch 41/50\n",
      "463/463 [==============================] - 1s 3ms/step - loss: 2.4520e-06 - val_loss: 2.0739e-06\n",
      "Epoch 42/50\n",
      "463/463 [==============================] - 1s 3ms/step - loss: 2.3995e-06 - val_loss: 1.9945e-06\n",
      "Epoch 43/50\n",
      "463/463 [==============================] - 1s 3ms/step - loss: 2.4171e-06 - val_loss: 2.0333e-06\n",
      "Epoch 44/50\n",
      "463/463 [==============================] - 1s 3ms/step - loss: 2.4426e-06 - val_loss: 2.0173e-06\n",
      "Epoch 45/50\n",
      "463/463 [==============================] - 1s 3ms/step - loss: 2.4004e-06 - val_loss: 2.1581e-06\n",
      "Epoch 46/50\n",
      "463/463 [==============================] - 1s 3ms/step - loss: 2.4177e-06 - val_loss: 1.9762e-06\n",
      "Epoch 47/50\n",
      "463/463 [==============================] - 1s 3ms/step - loss: 2.3806e-06 - val_loss: 1.9954e-06\n",
      "Epoch 48/50\n",
      "463/463 [==============================] - 1s 3ms/step - loss: 2.4585e-06 - val_loss: 2.0055e-06\n",
      "Epoch 49/50\n",
      "463/463 [==============================] - 1s 3ms/step - loss: 2.4305e-06 - val_loss: 2.2003e-06\n",
      "Epoch 50/50\n",
      "463/463 [==============================] - 1s 3ms/step - loss: 2.3870e-06 - val_loss: 2.2246e-06\n",
      "129/129 [==============================] - 0s 3ms/step - loss: 2.5297e-06\n",
      "Mean Squared Error on Test Set: 2.5296772037108894e-06\n"
     ]
    }
   ],
   "source": [
    "import numpy as np\n",
    "import pandas as pd\n",
    "from sklearn.model_selection import train_test_split\n",
    "from sklearn.preprocessing import StandardScaler\n",
    "from tensorflow.keras.models import Sequential\n",
    "from tensorflow.keras.layers import Dense\n",
    "\n",
    "# Assume df is your DataFrame with the relevant columns\n",
    "\n",
    "# Select features and target variable\n",
    "X = df_hour[['fluid_temp', 'ground_temp', 'air_umidity', 'air_temp', 'gas_umidity', 'gas_temp', 'Month', 'Hour']]\n",
    "y = df_hour['dm3_gas']\n",
    "\n",
    "# Split the data into training and testing sets\n",
    "X_train, X_test, y_train, y_test = train_test_split(X, y, test_size=0.2, random_state=42)\n",
    "\n",
    "# Standardize the features\n",
    "scaler = StandardScaler()\n",
    "X_train = scaler.fit_transform(X_train)\n",
    "X_test = scaler.transform(X_test)\n",
    "\n",
    "# Define the neural network model\n",
    "model = Sequential([\n",
    "    Dense(64, activation='relu', input_shape=(X_train.shape[1],)),\n",
    "    Dense(32, activation='relu'),\n",
    "    Dense(1)  # Single neuron for regression task\n",
    "])\n",
    "\n",
    "# Compile the model\n",
    "model.compile(optimizer='adam', loss='mean_squared_error')\n",
    "\n",
    "# Train the model\n",
    "model.fit(X_train, y_train, epochs=50, batch_size=32, validation_split=0.1)\n",
    "\n",
    "# Evaluate the model on the testing set\n",
    "loss = model.evaluate(X_test, y_test)\n",
    "print('Mean Squared Error on Test Set:', loss)\n"
   ]
  },
  {
   "cell_type": "code",
   "execution_count": 40,
   "id": "00357c15",
   "metadata": {},
   "outputs": [
    {
     "name": "stdout",
     "output_type": "stream",
     "text": [
      "514/514 [==============================] - 1s 2ms/step - loss: 2.4264e-06\n",
      "Mean Squared Error on Test Set: 2.4264268176921178e-06\n"
     ]
    }
   ],
   "source": [
    "loss = model.evaluate(X_train, y_train)\n",
    "print('Mean Squared Error on Test Set:', loss)"
   ]
  },
  {
   "cell_type": "code",
   "execution_count": 56,
   "id": "da7faa0e",
   "metadata": {},
   "outputs": [
    {
     "name": "stdout",
     "output_type": "stream",
     "text": [
      "643/643 [==============================] - 1s 2ms/step\n"
     ]
    }
   ],
   "source": [
    "y_prednn = model.predict(X)"
   ]
  },
  {
   "cell_type": "code",
   "execution_count": null,
   "id": "396af854",
   "metadata": {},
   "outputs": [],
   "source": []
  },
  {
   "cell_type": "code",
   "execution_count": null,
   "id": "6dbab004",
   "metadata": {},
   "outputs": [],
   "source": []
  },
  {
   "cell_type": "code",
   "execution_count": null,
   "id": "563d9bf1",
   "metadata": {},
   "outputs": [],
   "source": []
  },
  {
   "cell_type": "markdown",
   "id": "13fc71af",
   "metadata": {},
   "source": [
    "# ANOVA"
   ]
  },
  {
   "cell_type": "code",
   "execution_count": 841,
   "id": "f5570096",
   "metadata": {},
   "outputs": [],
   "source": [
    "df = pd.read_csv(\"biogasdf_ready.csv\", parse_dates=['date'])\n",
    "df['Month'] = df['date'].dt.month\n",
    "df['Hour'] = pd.to_datetime(df['hour'], format='%H:%M:%S').dt.hour"
   ]
  },
  {
   "cell_type": "code",
   "execution_count": 842,
   "id": "c8d0b613",
   "metadata": {},
   "outputs": [],
   "source": [
    "df = df.drop(columns = [\"date\", \"hour\"])"
   ]
  },
  {
   "cell_type": "code",
   "execution_count": 843,
   "id": "ea0417b1",
   "metadata": {},
   "outputs": [
    {
     "data": {
      "text/html": [
       "<div>\n",
       "<style scoped>\n",
       "    .dataframe tbody tr th:only-of-type {\n",
       "        vertical-align: middle;\n",
       "    }\n",
       "\n",
       "    .dataframe tbody tr th {\n",
       "        vertical-align: top;\n",
       "    }\n",
       "\n",
       "    .dataframe thead th {\n",
       "        text-align: right;\n",
       "    }\n",
       "</style>\n",
       "<table border=\"1\" class=\"dataframe\">\n",
       "  <thead>\n",
       "    <tr style=\"text-align: right;\">\n",
       "      <th></th>\n",
       "      <th>fluid_temp</th>\n",
       "      <th>ground_temp</th>\n",
       "      <th>air_umidity</th>\n",
       "      <th>air_temp</th>\n",
       "      <th>gas_umidity</th>\n",
       "      <th>gas_temp</th>\n",
       "      <th>dm3_gas</th>\n",
       "      <th>bio_id</th>\n",
       "      <th>phase_test</th>\n",
       "      <th>Month</th>\n",
       "      <th>Hour</th>\n",
       "    </tr>\n",
       "  </thead>\n",
       "  <tbody>\n",
       "    <tr>\n",
       "      <th>0</th>\n",
       "      <td>14.81</td>\n",
       "      <td>14.69</td>\n",
       "      <td>66.7</td>\n",
       "      <td>18.8</td>\n",
       "      <td>84.50</td>\n",
       "      <td>16.93</td>\n",
       "      <td>0.0</td>\n",
       "      <td>1</td>\n",
       "      <td>0</td>\n",
       "      <td>8</td>\n",
       "      <td>22</td>\n",
       "    </tr>\n",
       "    <tr>\n",
       "      <th>1</th>\n",
       "      <td>14.88</td>\n",
       "      <td>14.69</td>\n",
       "      <td>78.3</td>\n",
       "      <td>18.0</td>\n",
       "      <td>84.45</td>\n",
       "      <td>15.83</td>\n",
       "      <td>0.0</td>\n",
       "      <td>1</td>\n",
       "      <td>0</td>\n",
       "      <td>8</td>\n",
       "      <td>23</td>\n",
       "    </tr>\n",
       "    <tr>\n",
       "      <th>2</th>\n",
       "      <td>14.88</td>\n",
       "      <td>14.69</td>\n",
       "      <td>83.2</td>\n",
       "      <td>17.4</td>\n",
       "      <td>84.35</td>\n",
       "      <td>15.22</td>\n",
       "      <td>0.0</td>\n",
       "      <td>1</td>\n",
       "      <td>0</td>\n",
       "      <td>8</td>\n",
       "      <td>0</td>\n",
       "    </tr>\n",
       "    <tr>\n",
       "      <th>3</th>\n",
       "      <td>14.88</td>\n",
       "      <td>14.69</td>\n",
       "      <td>84.8</td>\n",
       "      <td>16.7</td>\n",
       "      <td>84.15</td>\n",
       "      <td>14.58</td>\n",
       "      <td>0.0</td>\n",
       "      <td>1</td>\n",
       "      <td>0</td>\n",
       "      <td>8</td>\n",
       "      <td>0</td>\n",
       "    </tr>\n",
       "    <tr>\n",
       "      <th>4</th>\n",
       "      <td>14.88</td>\n",
       "      <td>14.69</td>\n",
       "      <td>87.4</td>\n",
       "      <td>16.0</td>\n",
       "      <td>84.10</td>\n",
       "      <td>14.18</td>\n",
       "      <td>0.0</td>\n",
       "      <td>1</td>\n",
       "      <td>0</td>\n",
       "      <td>8</td>\n",
       "      <td>0</td>\n",
       "    </tr>\n",
       "  </tbody>\n",
       "</table>\n",
       "</div>"
      ],
      "text/plain": [
       "   fluid_temp  ground_temp  air_umidity  air_temp  gas_umidity  gas_temp  \\\n",
       "0       14.81        14.69         66.7      18.8        84.50     16.93   \n",
       "1       14.88        14.69         78.3      18.0        84.45     15.83   \n",
       "2       14.88        14.69         83.2      17.4        84.35     15.22   \n",
       "3       14.88        14.69         84.8      16.7        84.15     14.58   \n",
       "4       14.88        14.69         87.4      16.0        84.10     14.18   \n",
       "\n",
       "   dm3_gas  bio_id  phase_test  Month  Hour  \n",
       "0      0.0       1           0      8    22  \n",
       "1      0.0       1           0      8    23  \n",
       "2      0.0       1           0      8     0  \n",
       "3      0.0       1           0      8     0  \n",
       "4      0.0       1           0      8     0  "
      ]
     },
     "execution_count": 843,
     "metadata": {},
     "output_type": "execute_result"
    }
   ],
   "source": [
    "df.head()"
   ]
  },
  {
   "cell_type": "code",
   "execution_count": 849,
   "id": "24b25c7c",
   "metadata": {},
   "outputs": [
    {
     "name": "stdout",
     "output_type": "stream",
     "text": [
      "ANOVA results for 'fluid_temp':\n",
      "F-statistic: 97.25048160407168\n",
      "p-value: 6.452735577661749e-23\n",
      "\n",
      "\n",
      "ANOVA results for 'ground_temp':\n",
      "F-statistic: 64.3438423670589\n",
      "p-value: 1.0705680579605237e-15\n",
      "\n",
      "\n",
      "ANOVA results for 'air_umidity':\n",
      "F-statistic: 136.63628375332712\n",
      "p-value: 1.6124486699916627e-31\n",
      "\n",
      "\n",
      "ANOVA results for 'air_temp':\n",
      "F-statistic: 8.076217270225412\n",
      "p-value: 0.004487058740138282\n",
      "\n",
      "\n",
      "ANOVA results for 'gas_umidity':\n",
      "F-statistic: nan\n",
      "p-value: nan\n",
      "\n",
      "\n",
      "ANOVA results for 'gas_temp':\n",
      "F-statistic: nan\n",
      "p-value: nan\n",
      "\n",
      "\n",
      "ANOVA results for 'bio_id':\n",
      "F-statistic: 752.7906407709883\n",
      "p-value: 2.4148110316074167e-164\n",
      "\n",
      "\n",
      "ANOVA results for 'phase_test':\n",
      "F-statistic: 1558.0180712996014\n",
      "p-value: 0.0\n",
      "\n",
      "\n",
      "ANOVA results for 'Month':\n",
      "F-statistic: 557.3942048220734\n",
      "p-value: 1.7964642849312632e-122\n",
      "\n",
      "\n"
     ]
    },
    {
     "ename": "KeyError",
     "evalue": "'Hour'",
     "output_type": "error",
     "traceback": [
      "\u001b[1;31m---------------------------------------------------------------------------\u001b[0m",
      "\u001b[1;31mKeyError\u001b[0m                                  Traceback (most recent call last)",
      "File \u001b[1;32m~\\anaconda3\\Lib\\site-packages\\pandas\\core\\indexes\\base.py:3653\u001b[0m, in \u001b[0;36mIndex.get_loc\u001b[1;34m(self, key)\u001b[0m\n\u001b[0;32m   3652\u001b[0m \u001b[38;5;28;01mtry\u001b[39;00m:\n\u001b[1;32m-> 3653\u001b[0m     \u001b[38;5;28;01mreturn\u001b[39;00m \u001b[38;5;28mself\u001b[39m\u001b[38;5;241m.\u001b[39m_engine\u001b[38;5;241m.\u001b[39mget_loc(casted_key)\n\u001b[0;32m   3654\u001b[0m \u001b[38;5;28;01mexcept\u001b[39;00m \u001b[38;5;167;01mKeyError\u001b[39;00m \u001b[38;5;28;01mas\u001b[39;00m err:\n",
      "File \u001b[1;32m~\\anaconda3\\Lib\\site-packages\\pandas\\_libs\\index.pyx:147\u001b[0m, in \u001b[0;36mpandas._libs.index.IndexEngine.get_loc\u001b[1;34m()\u001b[0m\n",
      "File \u001b[1;32m~\\anaconda3\\Lib\\site-packages\\pandas\\_libs\\index.pyx:176\u001b[0m, in \u001b[0;36mpandas._libs.index.IndexEngine.get_loc\u001b[1;34m()\u001b[0m\n",
      "File \u001b[1;32mpandas\\_libs\\hashtable_class_helper.pxi:7080\u001b[0m, in \u001b[0;36mpandas._libs.hashtable.PyObjectHashTable.get_item\u001b[1;34m()\u001b[0m\n",
      "File \u001b[1;32mpandas\\_libs\\hashtable_class_helper.pxi:7088\u001b[0m, in \u001b[0;36mpandas._libs.hashtable.PyObjectHashTable.get_item\u001b[1;34m()\u001b[0m\n",
      "\u001b[1;31mKeyError\u001b[0m: 'Hour'",
      "\nThe above exception was the direct cause of the following exception:\n",
      "\u001b[1;31mKeyError\u001b[0m                                  Traceback (most recent call last)",
      "Cell \u001b[1;32mIn[849], line 15\u001b[0m\n\u001b[0;32m     12\u001b[0m categories \u001b[38;5;241m=\u001b[39m df[\u001b[38;5;124m'\u001b[39m\u001b[38;5;124mdm3_gas\u001b[39m\u001b[38;5;124m'\u001b[39m]\u001b[38;5;241m.\u001b[39munique()  \u001b[38;5;66;03m# Assuming we want to analyze based on 'dm3_gas' for now\u001b[39;00m\n\u001b[0;32m     14\u001b[0m \u001b[38;5;28;01mfor\u001b[39;00m category \u001b[38;5;129;01min\u001b[39;00m categories:\n\u001b[1;32m---> 15\u001b[0m     group_data \u001b[38;5;241m=\u001b[39m df[df[\u001b[38;5;124m'\u001b[39m\u001b[38;5;124mdm3_gas\u001b[39m\u001b[38;5;124m'\u001b[39m] \u001b[38;5;241m==\u001b[39m category][col]\n\u001b[0;32m     16\u001b[0m     groups\u001b[38;5;241m.\u001b[39mappend(group_data)\n\u001b[0;32m     18\u001b[0m \u001b[38;5;66;03m# Perform ANOVA\u001b[39;00m\n",
      "File \u001b[1;32m~\\anaconda3\\Lib\\site-packages\\pandas\\core\\frame.py:3761\u001b[0m, in \u001b[0;36mDataFrame.__getitem__\u001b[1;34m(self, key)\u001b[0m\n\u001b[0;32m   3759\u001b[0m \u001b[38;5;28;01mif\u001b[39;00m \u001b[38;5;28mself\u001b[39m\u001b[38;5;241m.\u001b[39mcolumns\u001b[38;5;241m.\u001b[39mnlevels \u001b[38;5;241m>\u001b[39m \u001b[38;5;241m1\u001b[39m:\n\u001b[0;32m   3760\u001b[0m     \u001b[38;5;28;01mreturn\u001b[39;00m \u001b[38;5;28mself\u001b[39m\u001b[38;5;241m.\u001b[39m_getitem_multilevel(key)\n\u001b[1;32m-> 3761\u001b[0m indexer \u001b[38;5;241m=\u001b[39m \u001b[38;5;28mself\u001b[39m\u001b[38;5;241m.\u001b[39mcolumns\u001b[38;5;241m.\u001b[39mget_loc(key)\n\u001b[0;32m   3762\u001b[0m \u001b[38;5;28;01mif\u001b[39;00m is_integer(indexer):\n\u001b[0;32m   3763\u001b[0m     indexer \u001b[38;5;241m=\u001b[39m [indexer]\n",
      "File \u001b[1;32m~\\anaconda3\\Lib\\site-packages\\pandas\\core\\indexes\\base.py:3655\u001b[0m, in \u001b[0;36mIndex.get_loc\u001b[1;34m(self, key)\u001b[0m\n\u001b[0;32m   3653\u001b[0m     \u001b[38;5;28;01mreturn\u001b[39;00m \u001b[38;5;28mself\u001b[39m\u001b[38;5;241m.\u001b[39m_engine\u001b[38;5;241m.\u001b[39mget_loc(casted_key)\n\u001b[0;32m   3654\u001b[0m \u001b[38;5;28;01mexcept\u001b[39;00m \u001b[38;5;167;01mKeyError\u001b[39;00m \u001b[38;5;28;01mas\u001b[39;00m err:\n\u001b[1;32m-> 3655\u001b[0m     \u001b[38;5;28;01mraise\u001b[39;00m \u001b[38;5;167;01mKeyError\u001b[39;00m(key) \u001b[38;5;28;01mfrom\u001b[39;00m \u001b[38;5;21;01merr\u001b[39;00m\n\u001b[0;32m   3656\u001b[0m \u001b[38;5;28;01mexcept\u001b[39;00m \u001b[38;5;167;01mTypeError\u001b[39;00m:\n\u001b[0;32m   3657\u001b[0m     \u001b[38;5;66;03m# If we have a listlike key, _check_indexing_error will raise\u001b[39;00m\n\u001b[0;32m   3658\u001b[0m     \u001b[38;5;66;03m#  InvalidIndexError. Otherwise we fall through and re-raise\u001b[39;00m\n\u001b[0;32m   3659\u001b[0m     \u001b[38;5;66;03m#  the TypeError.\u001b[39;00m\n\u001b[0;32m   3660\u001b[0m     \u001b[38;5;28mself\u001b[39m\u001b[38;5;241m.\u001b[39m_check_indexing_error(key)\n",
      "\u001b[1;31mKeyError\u001b[0m: 'Hour'"
     ]
    }
   ],
   "source": [
    "import pandas as pd\n",
    "from scipy.stats import f_oneway\n",
    "\n",
    "# Select the columns you want to analyze (e.g., fluid_temp, ground_temp, air_umidity)\n",
    "selected_columns = ['fluid_temp', 'ground_temp', 'air_umidity', \"air_temp\", \"gas_umidity\", \"gas_temp\", \"bio_id\", \"phase_test\", \"Month\",\"Hour\"]\n",
    "\n",
    "anova_results = {'Column': [], 'F-statistic': [], 'p-value': []}\n",
    "\n",
    "# Perform ANOVA for each selected column\n",
    "for col in selected_columns:\n",
    "    groups = []  # List to store the data for each group\n",
    "    categories = df['dm3_gas'].unique()  # Assuming we want to analyze based on 'dm3_gas' for now\n",
    "\n",
    "    for category in categories:\n",
    "        group_data = df[df['dm3_gas'] == category][col]\n",
    "        groups.append(group_data)\n",
    "\n",
    "    # Perform ANOVA\n",
    "    f_statistic, p_value = f_oneway(*groups)\n",
    "    \n",
    "    #Print the results for each column\n",
    "    print(f\"ANOVA results for '{col}':\")\n",
    "    print(\"F-statistic:\", f_statistic)\n",
    "    print(\"p-value:\", p_value)\n",
    "    print(\"\\n\")\n",
    "\n",
    "    anova_results['Column'].append(col)\n",
    "    anova_results['F-statistic'].append(f_statistic)\n",
    "    anova_results['p-value'].append(p_value)\n",
    "    \n",
    "anova_plain = pd.DataFrame(anova_results)\n",
    "anova_plain =  anova_df.fillna(0)"
   ]
  },
  {
   "cell_type": "code",
   "execution_count": 845,
   "id": "57e5dc2f",
   "metadata": {},
   "outputs": [],
   "source": [
    "anova_plain.to_csv(\"anova_plain.csv\", index=False)"
   ]
  },
  {
   "cell_type": "markdown",
   "id": "dafaa167",
   "metadata": {},
   "source": [
    "### Using hourly grouped values"
   ]
  },
  {
   "cell_type": "code",
   "execution_count": 115,
   "id": "f25e7503",
   "metadata": {},
   "outputs": [],
   "source": [
    "df = pd.read_csv(\"biogasdf_ready.csv\", parse_dates=['date'])\n",
    "df['Month'] = df['date'].dt.month\n",
    "#df['Hour'] = pd.to_datetime(df['hour'], format='%H:%M:%S').dt.hour\n",
    "df_hour = df.groupby('hour').mean().reset_index()"
   ]
  },
  {
   "cell_type": "code",
   "execution_count": 116,
   "id": "f5812f30",
   "metadata": {},
   "outputs": [],
   "source": [
    "df_hour = df_hour.drop(columns = [\"date\", \"hour\"])"
   ]
  },
  {
   "cell_type": "code",
   "execution_count": 117,
   "id": "3e57c08f",
   "metadata": {},
   "outputs": [
    {
     "name": "stdout",
     "output_type": "stream",
     "text": [
      "ANOVA results for 'fluid_temp':\n",
      "F-statistic: 9.620235990117884\n",
      "p-value: 9.670027827669945e-22\n",
      "\n",
      "\n",
      "ANOVA results for 'ground_temp':\n",
      "F-statistic: 9.122320175187872\n",
      "p-value: 2.2602493340110713e-20\n",
      "\n",
      "\n",
      "ANOVA results for 'air_umidity':\n",
      "F-statistic: 8.589242018893147\n",
      "p-value: 6.482801869722251e-19\n",
      "\n",
      "\n",
      "ANOVA results for 'air_temp':\n",
      "F-statistic: 4.535745539675785\n",
      "p-value: 2.9220128498051542e-08\n",
      "\n",
      "\n",
      "ANOVA results for 'gas_umidity':\n",
      "F-statistic: nan\n",
      "p-value: nan\n",
      "\n",
      "\n",
      "ANOVA results for 'gas_temp':\n",
      "F-statistic: nan\n",
      "p-value: nan\n",
      "\n",
      "\n",
      "ANOVA results for 'bio_id':\n",
      "F-statistic: 48.16077373705148\n",
      "p-value: 1.4911457074647116e-132\n",
      "\n",
      "\n",
      "ANOVA results for 'phase_test':\n",
      "F-statistic: 131.77150982658185\n",
      "p-value: 0.0\n",
      "\n",
      "\n",
      "ANOVA results for 'Month':\n",
      "F-statistic: 35.37459581146053\n",
      "p-value: 1.5475459140684477e-95\n",
      "\n",
      "\n"
     ]
    },
    {
     "ename": "NameError",
     "evalue": "name 'anova_df' is not defined",
     "output_type": "error",
     "traceback": [
      "\u001b[1;31m---------------------------------------------------------------------------\u001b[0m",
      "\u001b[1;31mNameError\u001b[0m                                 Traceback (most recent call last)",
      "Cell \u001b[1;32mIn[117], line 32\u001b[0m\n\u001b[0;32m     29\u001b[0m     anova_results[\u001b[38;5;124m'\u001b[39m\u001b[38;5;124mp-value\u001b[39m\u001b[38;5;124m'\u001b[39m]\u001b[38;5;241m.\u001b[39mappend(p_value)\n\u001b[0;32m     31\u001b[0m anova_hour \u001b[38;5;241m=\u001b[39m pd\u001b[38;5;241m.\u001b[39mDataFrame(anova_results)\n\u001b[1;32m---> 32\u001b[0m anova_hour \u001b[38;5;241m=\u001b[39m  anova_df\u001b[38;5;241m.\u001b[39mfillna(\u001b[38;5;241m0\u001b[39m)\n",
      "\u001b[1;31mNameError\u001b[0m: name 'anova_df' is not defined"
     ]
    }
   ],
   "source": [
    "import pandas as pd\n",
    "from scipy.stats import f_oneway\n",
    "\n",
    "# Select the columns you want to analyze (e.g., fluid_temp, ground_temp, air_umidity)\n",
    "selected_columns = ['fluid_temp', 'ground_temp', 'air_umidity', \"air_temp\", \"gas_umidity\", \"gas_temp\", \"bio_id\", \"phase_test\", \"Month\"]\n",
    "\n",
    "anova_results = {'Column': [], 'F-statistic': [], 'p-value': []}\n",
    "\n",
    "\n",
    "# Perform ANOVA for each selected column\n",
    "for col in selected_columns:\n",
    "    groups = []  # List to store the data for each group\n",
    "    categories = df_hour['dm3_gas'].unique()  # Assuming we want to analyze based on 'dm3_gas' for now\n",
    "\n",
    "    for category in categories:\n",
    "        group_data = df_hour[df_hour['dm3_gas'] == category][col]\n",
    "        groups.append(group_data)\n",
    "\n",
    "    # Perform ANOVA\n",
    "    f_statistic, p_value = f_oneway(*groups)\n",
    "    \n",
    "    # Print the results for each column\n",
    "    print(f\"ANOVA results for '{col}':\")\n",
    "    print(\"F-statistic:\", f_statistic)\n",
    "    print(\"p-value:\", p_value)\n",
    "    print(\"\\n\")\n",
    "    anova_results['Column'].append(col)\n",
    "    anova_results['F-statistic'].append(f_statistic)\n",
    "    anova_results['p-value'].append(p_value)\n",
    "    \n",
    "anova_hour = pd.DataFrame(anova_results)\n",
    "anova_hour =  anova_df.fillna(0)"
   ]
  },
  {
   "cell_type": "code",
   "execution_count": 118,
   "id": "0a732199",
   "metadata": {},
   "outputs": [],
   "source": [
    "anova_hour.to_csv(\"anova_hour.csv\", index=False)"
   ]
  },
  {
   "cell_type": "code",
   "execution_count": 119,
   "id": "147a3b5f",
   "metadata": {},
   "outputs": [],
   "source": [
    "anova_hour['p-value'] = round(anova_hour['p-value'],5)\n",
    "anova_hour['F-statistic'] = round(anova_hour['F-statistic'],5)"
   ]
  },
  {
   "cell_type": "code",
   "execution_count": 120,
   "id": "3f58a11e",
   "metadata": {},
   "outputs": [
    {
     "data": {
      "text/html": [
       "<div>\n",
       "<style scoped>\n",
       "    .dataframe tbody tr th:only-of-type {\n",
       "        vertical-align: middle;\n",
       "    }\n",
       "\n",
       "    .dataframe tbody tr th {\n",
       "        vertical-align: top;\n",
       "    }\n",
       "\n",
       "    .dataframe thead th {\n",
       "        text-align: right;\n",
       "    }\n",
       "</style>\n",
       "<table border=\"1\" class=\"dataframe\">\n",
       "  <thead>\n",
       "    <tr style=\"text-align: right;\">\n",
       "      <th></th>\n",
       "      <th>Column</th>\n",
       "      <th>F-statistic</th>\n",
       "      <th>p-value</th>\n",
       "    </tr>\n",
       "  </thead>\n",
       "  <tbody>\n",
       "    <tr>\n",
       "      <th>0</th>\n",
       "      <td>fluid_temp</td>\n",
       "      <td>9.62024</td>\n",
       "      <td>0.0</td>\n",
       "    </tr>\n",
       "    <tr>\n",
       "      <th>1</th>\n",
       "      <td>ground_temp</td>\n",
       "      <td>9.12232</td>\n",
       "      <td>0.0</td>\n",
       "    </tr>\n",
       "    <tr>\n",
       "      <th>2</th>\n",
       "      <td>air_umidity</td>\n",
       "      <td>8.58924</td>\n",
       "      <td>0.0</td>\n",
       "    </tr>\n",
       "    <tr>\n",
       "      <th>3</th>\n",
       "      <td>air_temp</td>\n",
       "      <td>4.53575</td>\n",
       "      <td>0.0</td>\n",
       "    </tr>\n",
       "    <tr>\n",
       "      <th>4</th>\n",
       "      <td>gas_umidity</td>\n",
       "      <td>NaN</td>\n",
       "      <td>NaN</td>\n",
       "    </tr>\n",
       "    <tr>\n",
       "      <th>5</th>\n",
       "      <td>gas_temp</td>\n",
       "      <td>NaN</td>\n",
       "      <td>NaN</td>\n",
       "    </tr>\n",
       "    <tr>\n",
       "      <th>6</th>\n",
       "      <td>bio_id</td>\n",
       "      <td>48.16077</td>\n",
       "      <td>0.0</td>\n",
       "    </tr>\n",
       "    <tr>\n",
       "      <th>7</th>\n",
       "      <td>phase_test</td>\n",
       "      <td>131.77151</td>\n",
       "      <td>0.0</td>\n",
       "    </tr>\n",
       "    <tr>\n",
       "      <th>8</th>\n",
       "      <td>Month</td>\n",
       "      <td>35.37460</td>\n",
       "      <td>0.0</td>\n",
       "    </tr>\n",
       "  </tbody>\n",
       "</table>\n",
       "</div>"
      ],
      "text/plain": [
       "        Column  F-statistic  p-value\n",
       "0   fluid_temp      9.62024      0.0\n",
       "1  ground_temp      9.12232      0.0\n",
       "2  air_umidity      8.58924      0.0\n",
       "3     air_temp      4.53575      0.0\n",
       "4  gas_umidity          NaN      NaN\n",
       "5     gas_temp          NaN      NaN\n",
       "6       bio_id     48.16077      0.0\n",
       "7   phase_test    131.77151      0.0\n",
       "8        Month     35.37460      0.0"
      ]
     },
     "execution_count": 120,
     "metadata": {},
     "output_type": "execute_result"
    }
   ],
   "source": [
    "anova_hour"
   ]
  },
  {
   "cell_type": "code",
   "execution_count": null,
   "id": "1ad128d2",
   "metadata": {},
   "outputs": [],
   "source": []
  },
  {
   "cell_type": "code",
   "execution_count": 127,
   "id": "8eed91ba",
   "metadata": {},
   "outputs": [
    {
     "data": {
      "image/png": "[encoded data removed]",
      "text/plain": [
       "<Figure size 1500x700 with 1 Axes>"
      ]
     },
     "metadata": {},
     "output_type": "display_data"
    }
   ],
   "source": [
    "import matplotlib.pyplot as plt\n",
    "import pandas as pd\n",
    "\n",
    "# Create a figure and axis\n",
    "fig, ax = plt.subplots(figsize=(15, 7))\n",
    "\n",
    "# Define the width of each bar\n",
    "bar_width = 0.15  # Adjust the bar width as needed\n",
    "\n",
    "# Create x-values for the bars for the first set of data\n",
    "x1 = range(len(anova_hour.Column))\n",
    "\n",
    "# Create x-values for each set of bars\n",
    "x2_f = [x + bar_width for x in x1]\n",
    "x2_p = [x + 2 * bar_width for x in x1]\n",
    "\n",
    "# Plot the first set of bars\n",
    "ax.bar(x1, anova_hour[\"F-statistic\"], width=bar_width, label='F-statistic')\n",
    "\n",
    "# Plot the second set of bars\n",
    "ax.bar(x2_p, anova_hour[\"p-value\"], width=bar_width, label='p-values')\n",
    "\n",
    "\n",
    "# Set the x-axis labels to be the dates\n",
    "ax.set_xticks([x + 3 * bar_width for x in x1])\n",
    "ax.set_xticklabels(anova_hour.Column, rotation=45, ha='right')\n",
    "\n",
    "# Add a legend\n",
    "ax.legend()\n",
    "\n",
    "# Set labels and title\n",
    "ax.set_xlabel('Date')\n",
    "ax.set_ylabel('Quantity')\n",
    "ax.set_title('Multiple Products Over Time')\n",
    "\n",
    "# Show the plot\n",
    "plt.tight_layout()\n",
    "plt.show()\n"
   ]
  },
  {
   "cell_type": "code",
   "execution_count": 131,
   "id": "db591579",
   "metadata": {},
   "outputs": [
    {
     "data": {
      "image/png": "[encoded data removed]",
      "text/plain": [
       "<Figure size 1500x700 with 1 Axes>"
      ]
     },
     "metadata": {},
     "output_type": "display_data"
    }
   ],
   "source": [
    "import matplotlib.pyplot as plt\n",
    "import pandas as pd\n",
    "\n",
    "\n",
    "# Create a figure and axis\n",
    "fig, ax = plt.subplots(figsize=(15, 7))\n",
    "\n",
    "# Define the width of each bar\n",
    "bar_width = 0.35  # Adjust the bar width as needed\n",
    "\n",
    "# Create x-values for the bars for the first set of data\n",
    "x1 = range(len(anova_hour))\n",
    "\n",
    "# Plot the first set of bars (F-statistic)\n",
    "ax.barh(x1, anova_hour[\"F-statistic\"], height=bar_width, label='F-statistic')\n",
    "\n",
    "# Plot the second set of bars (p-values)\n",
    "# ax.barh(x1, anova_hour[\"p-value\"], height=bar_width, left=anova_hour[\"F-statistic\"],\n",
    "#         label='p-values', color='orange')\n",
    "\n",
    "# Set the y-axis labels to be the columns\n",
    "ax.set_facecolor('lightgreen')\n",
    "ax.set_yticks(x1)\n",
    "ax.set_yticklabels(anova_hour.Column)\n",
    "\n",
    "# Add a legend\n",
    "ax.legend()\n",
    "\n",
    "# Set labels and title\n",
    "ax.set_ylabel('Variable')\n",
    "ax.set_xlabel('Value')\n",
    "ax.set_title('ANOVA Results: F-statistic and p-values')\n",
    "\n",
    "# Show the plot\n",
    "plt.tight_layout()\n",
    "plt.show()\n"
   ]
  },
  {
   "cell_type": "code",
   "execution_count": 132,
   "id": "46f7360b",
   "metadata": {},
   "outputs": [
    {
     "data": {
      "image/png": "[encoded data removed]",
      "text/plain": [
       "<Figure size 640x480 with 1 Axes>"
      ]
     },
     "metadata": {},
     "output_type": "display_data"
    }
   ],
   "source": [
    "plt.bar(anova_hour[\"Column\"], anova_hour[\"F-statistic\"])\n",
    "plt.xticks(rotation=90)\n",
    "plt.show()"
   ]
  },
  {
   "cell_type": "code",
   "execution_count": 133,
   "id": "c1eaaab8",
   "metadata": {},
   "outputs": [
    {
     "data": {
      "image/png": "[encoded data removed]",
      "text/plain": [
       "<Figure size 640x480 with 1 Axes>"
      ]
     },
     "metadata": {},
     "output_type": "display_data"
    }
   ],
   "source": [
    "plt.bar(anova_hour[\"Column\"], anova_hour[\"p-value\"])\n",
    "plt.xticks(rotation=90)\n",
    "plt.show()"
   ]
  },
  {
   "cell_type": "code",
   "execution_count": null,
   "id": "81f8b78f",
   "metadata": {},
   "outputs": [],
   "source": []
  }
 ],
 "metadata": {
  "kernelspec": {
   "display_name": "Python 3 (ipykernel)",
   "language": "python",
   "name": "python3"
  },
  "language_info": {
   "codemirror_mode": {
    "name": "ipython",
    "version": 3
   },
   "file_extension": ".py",
   "mimetype": "text/x-python",
   "name": "python",
   "nbconvert_exporter": "python",
   "pygments_lexer": "ipython3",
   "version": "3.11.4"
  }
 },
 "nbformat": 4,
 "nbformat_minor": 5
}
